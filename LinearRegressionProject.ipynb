{
  "nbformat": 4,
  "nbformat_minor": 0,
  "metadata": {
    "colab": {
      "name": "LinearRegressionProject.ipynb",
      "provenance": []
    },
    "kernelspec": {
      "name": "python3",
      "display_name": "Python 3"
    },
    "language_info": {
      "name": "python"
    },
    "widgets": {
      "application/vnd.jupyter.widget-state+json": {
        "051f31efeb864d61893c9a3eaa3429ad": {
          "model_module": "@jupyter-widgets/controls",
          "model_name": "VBoxModel",
          "model_module_version": "1.5.0",
          "state": {
            "_dom_classes": [
              "widget-interact"
            ],
            "_model_module": "@jupyter-widgets/controls",
            "_model_module_version": "1.5.0",
            "_model_name": "VBoxModel",
            "_view_count": null,
            "_view_module": "@jupyter-widgets/controls",
            "_view_module_version": "1.5.0",
            "_view_name": "VBoxView",
            "box_style": "",
            "children": [
              "IPY_MODEL_813089ce858e4e63851e26e464180e80",
              "IPY_MODEL_28a05ef412fb44c39a7cdb604fd86e34",
              "IPY_MODEL_be30b5a992a14197a2fcd39c76048f25",
              "IPY_MODEL_43ad6fac90064bea973e09459df9d9ce",
              "IPY_MODEL_fc49b9adb47a488c985651be47c0932b"
            ],
            "layout": "IPY_MODEL_507ee9c5103e4f4d8139b8667fda9d57"
          }
        },
        "813089ce858e4e63851e26e464180e80": {
          "model_module": "@jupyter-widgets/controls",
          "model_name": "IntSliderModel",
          "model_module_version": "1.5.0",
          "state": {
            "_dom_classes": [],
            "_model_module": "@jupyter-widgets/controls",
            "_model_module_version": "1.5.0",
            "_model_name": "IntSliderModel",
            "_view_count": null,
            "_view_module": "@jupyter-widgets/controls",
            "_view_module_version": "1.5.0",
            "_view_name": "IntSliderView",
            "continuous_update": true,
            "description": "area",
            "description_tooltip": null,
            "disabled": false,
            "layout": "IPY_MODEL_e6725ebe0c8547a2ae75cf60a50ec7af",
            "max": 101,
            "min": 30,
            "orientation": "horizontal",
            "readout": true,
            "readout_format": "d",
            "step": 1,
            "style": "IPY_MODEL_58f17bf9d9f1414c973846f03d00a0d3",
            "value": 53
          }
        },
        "28a05ef412fb44c39a7cdb604fd86e34": {
          "model_module": "@jupyter-widgets/controls",
          "model_name": "FloatSliderModel",
          "model_module_version": "1.5.0",
          "state": {
            "_dom_classes": [],
            "_model_module": "@jupyter-widgets/controls",
            "_model_module_version": "1.5.0",
            "_model_name": "FloatSliderModel",
            "_view_count": null,
            "_view_module": "@jupyter-widgets/controls",
            "_view_module_version": "1.5.0",
            "_view_name": "FloatSliderView",
            "continuous_update": true,
            "description": "lat",
            "description_tooltip": null,
            "disabled": false,
            "layout": "IPY_MODEL_1204c59bc7f145ea934b11cb6e244a66",
            "max": -34.5361079,
            "min": -34.8173937,
            "orientation": "horizontal",
            "readout": true,
            "readout_format": ".2f",
            "step": 0.01,
            "style": "IPY_MODEL_bd0edff8869346acac7f0e706f889db5",
            "value": -34.66739
          }
        },
        "be30b5a992a14197a2fcd39c76048f25": {
          "model_module": "@jupyter-widgets/controls",
          "model_name": "FloatSliderModel",
          "model_module_version": "1.5.0",
          "state": {
            "_dom_classes": [],
            "_model_module": "@jupyter-widgets/controls",
            "_model_module_version": "1.5.0",
            "_model_name": "FloatSliderModel",
            "_view_count": null,
            "_view_module": "@jupyter-widgets/controls",
            "_view_module_version": "1.5.0",
            "_view_name": "FloatSliderView",
            "continuous_update": true,
            "description": "lon",
            "description_tooltip": null,
            "disabled": false,
            "layout": "IPY_MODEL_b1afa9c2df154b6b84efaa2e1a05992c",
            "max": -58.344687,
            "min": -58.5439579,
            "orientation": "horizontal",
            "readout": true,
            "readout_format": ".2f",
            "step": 0.01,
            "style": "IPY_MODEL_867ca05fe9124a3c981fcb9a093915a4",
            "value": -58.37396
          }
        },
        "43ad6fac90064bea973e09459df9d9ce": {
          "model_module": "@jupyter-widgets/controls",
          "model_name": "DropdownModel",
          "model_module_version": "1.5.0",
          "state": {
            "_dom_classes": [],
            "_model_module": "@jupyter-widgets/controls",
            "_model_module_version": "1.5.0",
            "_model_name": "DropdownModel",
            "_options_labels": [
              "",
              "Abasto",
              "Agronomía",
              "Almagro",
              "Balvanera",
              "Barracas",
              "Barrio Norte",
              "Belgrano",
              "Boca",
              "Boedo",
              "Caballito",
              "Catalinas",
              "Centro / Microcentro",
              "Chacarita",
              "Coghlan",
              "Colegiales",
              "Congreso",
              "Constitución",
              "Flores",
              "Floresta",
              "Las Cañitas",
              "Liniers",
              "Mataderos",
              "Monserrat",
              "Monte Castro",
              "Nuñez",
              "Once",
              "Palermo",
              "Parque Avellaneda",
              "Parque Centenario",
              "Parque Chacabuco",
              "Parque Chas",
              "Parque Patricios",
              "Paternal",
              "Pompeya",
              "Puerto Madero",
              "Recoleta",
              "Retiro",
              "Saavedra",
              "San Cristobal",
              "San Nicolás",
              "San Telmo",
              "Tribunales",
              "Velez Sarsfield",
              "Versalles",
              "Villa Crespo",
              "Villa Devoto",
              "Villa General Mitre",
              "Villa Lugano",
              "Villa Luro",
              "Villa Ortuzar",
              "Villa Pueyrredón",
              "Villa Real",
              "Villa Santa Rita",
              "Villa Soldati",
              "Villa Urquiza",
              "Villa del Parque"
            ],
            "_view_count": null,
            "_view_module": "@jupyter-widgets/controls",
            "_view_module_version": "1.5.0",
            "_view_name": "DropdownView",
            "description": "neighborhood",
            "description_tooltip": null,
            "disabled": false,
            "index": 0,
            "layout": "IPY_MODEL_1535e6c3bb8d4006841915b74a360a08",
            "style": "IPY_MODEL_c39fab1706a94445b7f50f8dcf2b985d"
          }
        },
        "fc49b9adb47a488c985651be47c0932b": {
          "model_module": "@jupyter-widgets/output",
          "model_name": "OutputModel",
          "model_module_version": "1.0.0",
          "state": {
            "_dom_classes": [],
            "_model_module": "@jupyter-widgets/output",
            "_model_module_version": "1.0.0",
            "_model_name": "OutputModel",
            "_view_count": null,
            "_view_module": "@jupyter-widgets/output",
            "_view_module_version": "1.0.0",
            "_view_name": "OutputView",
            "layout": "IPY_MODEL_fcc52a275b854005bcdc083331444a45",
            "msg_id": "",
            "outputs": [
              {
                "output_type": "display_data",
                "data": {
                  "text/plain": "'Predicted apartment price: $[109642.48780885]'",
                  "application/vnd.google.colaboratory.intrinsic+json": {
                    "type": "string"
                  }
                },
                "metadata": {}
              }
            ]
          }
        },
        "507ee9c5103e4f4d8139b8667fda9d57": {
          "model_module": "@jupyter-widgets/base",
          "model_name": "LayoutModel",
          "model_module_version": "1.2.0",
          "state": {
            "_model_module": "@jupyter-widgets/base",
            "_model_module_version": "1.2.0",
            "_model_name": "LayoutModel",
            "_view_count": null,
            "_view_module": "@jupyter-widgets/base",
            "_view_module_version": "1.2.0",
            "_view_name": "LayoutView",
            "align_content": null,
            "align_items": null,
            "align_self": null,
            "border": null,
            "bottom": null,
            "display": null,
            "flex": null,
            "flex_flow": null,
            "grid_area": null,
            "grid_auto_columns": null,
            "grid_auto_flow": null,
            "grid_auto_rows": null,
            "grid_column": null,
            "grid_gap": null,
            "grid_row": null,
            "grid_template_areas": null,
            "grid_template_columns": null,
            "grid_template_rows": null,
            "height": null,
            "justify_content": null,
            "justify_items": null,
            "left": null,
            "margin": null,
            "max_height": null,
            "max_width": null,
            "min_height": null,
            "min_width": null,
            "object_fit": null,
            "object_position": null,
            "order": null,
            "overflow": null,
            "overflow_x": null,
            "overflow_y": null,
            "padding": null,
            "right": null,
            "top": null,
            "visibility": null,
            "width": null
          }
        },
        "e6725ebe0c8547a2ae75cf60a50ec7af": {
          "model_module": "@jupyter-widgets/base",
          "model_name": "LayoutModel",
          "model_module_version": "1.2.0",
          "state": {
            "_model_module": "@jupyter-widgets/base",
            "_model_module_version": "1.2.0",
            "_model_name": "LayoutModel",
            "_view_count": null,
            "_view_module": "@jupyter-widgets/base",
            "_view_module_version": "1.2.0",
            "_view_name": "LayoutView",
            "align_content": null,
            "align_items": null,
            "align_self": null,
            "border": null,
            "bottom": null,
            "display": null,
            "flex": null,
            "flex_flow": null,
            "grid_area": null,
            "grid_auto_columns": null,
            "grid_auto_flow": null,
            "grid_auto_rows": null,
            "grid_column": null,
            "grid_gap": null,
            "grid_row": null,
            "grid_template_areas": null,
            "grid_template_columns": null,
            "grid_template_rows": null,
            "height": null,
            "justify_content": null,
            "justify_items": null,
            "left": null,
            "margin": null,
            "max_height": null,
            "max_width": null,
            "min_height": null,
            "min_width": null,
            "object_fit": null,
            "object_position": null,
            "order": null,
            "overflow": null,
            "overflow_x": null,
            "overflow_y": null,
            "padding": null,
            "right": null,
            "top": null,
            "visibility": null,
            "width": null
          }
        },
        "58f17bf9d9f1414c973846f03d00a0d3": {
          "model_module": "@jupyter-widgets/controls",
          "model_name": "SliderStyleModel",
          "model_module_version": "1.5.0",
          "state": {
            "_model_module": "@jupyter-widgets/controls",
            "_model_module_version": "1.5.0",
            "_model_name": "SliderStyleModel",
            "_view_count": null,
            "_view_module": "@jupyter-widgets/base",
            "_view_module_version": "1.2.0",
            "_view_name": "StyleView",
            "description_width": "",
            "handle_color": null
          }
        },
        "1204c59bc7f145ea934b11cb6e244a66": {
          "model_module": "@jupyter-widgets/base",
          "model_name": "LayoutModel",
          "model_module_version": "1.2.0",
          "state": {
            "_model_module": "@jupyter-widgets/base",
            "_model_module_version": "1.2.0",
            "_model_name": "LayoutModel",
            "_view_count": null,
            "_view_module": "@jupyter-widgets/base",
            "_view_module_version": "1.2.0",
            "_view_name": "LayoutView",
            "align_content": null,
            "align_items": null,
            "align_self": null,
            "border": null,
            "bottom": null,
            "display": null,
            "flex": null,
            "flex_flow": null,
            "grid_area": null,
            "grid_auto_columns": null,
            "grid_auto_flow": null,
            "grid_auto_rows": null,
            "grid_column": null,
            "grid_gap": null,
            "grid_row": null,
            "grid_template_areas": null,
            "grid_template_columns": null,
            "grid_template_rows": null,
            "height": null,
            "justify_content": null,
            "justify_items": null,
            "left": null,
            "margin": null,
            "max_height": null,
            "max_width": null,
            "min_height": null,
            "min_width": null,
            "object_fit": null,
            "object_position": null,
            "order": null,
            "overflow": null,
            "overflow_x": null,
            "overflow_y": null,
            "padding": null,
            "right": null,
            "top": null,
            "visibility": null,
            "width": null
          }
        },
        "bd0edff8869346acac7f0e706f889db5": {
          "model_module": "@jupyter-widgets/controls",
          "model_name": "SliderStyleModel",
          "model_module_version": "1.5.0",
          "state": {
            "_model_module": "@jupyter-widgets/controls",
            "_model_module_version": "1.5.0",
            "_model_name": "SliderStyleModel",
            "_view_count": null,
            "_view_module": "@jupyter-widgets/base",
            "_view_module_version": "1.2.0",
            "_view_name": "StyleView",
            "description_width": "",
            "handle_color": null
          }
        },
        "b1afa9c2df154b6b84efaa2e1a05992c": {
          "model_module": "@jupyter-widgets/base",
          "model_name": "LayoutModel",
          "model_module_version": "1.2.0",
          "state": {
            "_model_module": "@jupyter-widgets/base",
            "_model_module_version": "1.2.0",
            "_model_name": "LayoutModel",
            "_view_count": null,
            "_view_module": "@jupyter-widgets/base",
            "_view_module_version": "1.2.0",
            "_view_name": "LayoutView",
            "align_content": null,
            "align_items": null,
            "align_self": null,
            "border": null,
            "bottom": null,
            "display": null,
            "flex": null,
            "flex_flow": null,
            "grid_area": null,
            "grid_auto_columns": null,
            "grid_auto_flow": null,
            "grid_auto_rows": null,
            "grid_column": null,
            "grid_gap": null,
            "grid_row": null,
            "grid_template_areas": null,
            "grid_template_columns": null,
            "grid_template_rows": null,
            "height": null,
            "justify_content": null,
            "justify_items": null,
            "left": null,
            "margin": null,
            "max_height": null,
            "max_width": null,
            "min_height": null,
            "min_width": null,
            "object_fit": null,
            "object_position": null,
            "order": null,
            "overflow": null,
            "overflow_x": null,
            "overflow_y": null,
            "padding": null,
            "right": null,
            "top": null,
            "visibility": null,
            "width": null
          }
        },
        "867ca05fe9124a3c981fcb9a093915a4": {
          "model_module": "@jupyter-widgets/controls",
          "model_name": "SliderStyleModel",
          "model_module_version": "1.5.0",
          "state": {
            "_model_module": "@jupyter-widgets/controls",
            "_model_module_version": "1.5.0",
            "_model_name": "SliderStyleModel",
            "_view_count": null,
            "_view_module": "@jupyter-widgets/base",
            "_view_module_version": "1.2.0",
            "_view_name": "StyleView",
            "description_width": "",
            "handle_color": null
          }
        },
        "1535e6c3bb8d4006841915b74a360a08": {
          "model_module": "@jupyter-widgets/base",
          "model_name": "LayoutModel",
          "model_module_version": "1.2.0",
          "state": {
            "_model_module": "@jupyter-widgets/base",
            "_model_module_version": "1.2.0",
            "_model_name": "LayoutModel",
            "_view_count": null,
            "_view_module": "@jupyter-widgets/base",
            "_view_module_version": "1.2.0",
            "_view_name": "LayoutView",
            "align_content": null,
            "align_items": null,
            "align_self": null,
            "border": null,
            "bottom": null,
            "display": null,
            "flex": null,
            "flex_flow": null,
            "grid_area": null,
            "grid_auto_columns": null,
            "grid_auto_flow": null,
            "grid_auto_rows": null,
            "grid_column": null,
            "grid_gap": null,
            "grid_row": null,
            "grid_template_areas": null,
            "grid_template_columns": null,
            "grid_template_rows": null,
            "height": null,
            "justify_content": null,
            "justify_items": null,
            "left": null,
            "margin": null,
            "max_height": null,
            "max_width": null,
            "min_height": null,
            "min_width": null,
            "object_fit": null,
            "object_position": null,
            "order": null,
            "overflow": null,
            "overflow_x": null,
            "overflow_y": null,
            "padding": null,
            "right": null,
            "top": null,
            "visibility": null,
            "width": null
          }
        },
        "c39fab1706a94445b7f50f8dcf2b985d": {
          "model_module": "@jupyter-widgets/controls",
          "model_name": "DescriptionStyleModel",
          "model_module_version": "1.5.0",
          "state": {
            "_model_module": "@jupyter-widgets/controls",
            "_model_module_version": "1.5.0",
            "_model_name": "DescriptionStyleModel",
            "_view_count": null,
            "_view_module": "@jupyter-widgets/base",
            "_view_module_version": "1.2.0",
            "_view_name": "StyleView",
            "description_width": ""
          }
        },
        "fcc52a275b854005bcdc083331444a45": {
          "model_module": "@jupyter-widgets/base",
          "model_name": "LayoutModel",
          "model_module_version": "1.2.0",
          "state": {
            "_model_module": "@jupyter-widgets/base",
            "_model_module_version": "1.2.0",
            "_model_name": "LayoutModel",
            "_view_count": null,
            "_view_module": "@jupyter-widgets/base",
            "_view_module_version": "1.2.0",
            "_view_name": "LayoutView",
            "align_content": null,
            "align_items": null,
            "align_self": null,
            "border": null,
            "bottom": null,
            "display": null,
            "flex": null,
            "flex_flow": null,
            "grid_area": null,
            "grid_auto_columns": null,
            "grid_auto_flow": null,
            "grid_auto_rows": null,
            "grid_column": null,
            "grid_gap": null,
            "grid_row": null,
            "grid_template_areas": null,
            "grid_template_columns": null,
            "grid_template_rows": null,
            "height": null,
            "justify_content": null,
            "justify_items": null,
            "left": null,
            "margin": null,
            "max_height": null,
            "max_width": null,
            "min_height": null,
            "min_width": null,
            "object_fit": null,
            "object_position": null,
            "order": null,
            "overflow": null,
            "overflow_x": null,
            "overflow_y": null,
            "padding": null,
            "right": null,
            "top": null,
            "visibility": null,
            "width": null
          }
        }
      }
    }
  },
  "cells": [
    {
      "cell_type": "code",
      "execution_count": 58,
      "metadata": {
        "id": "ah5Y98GSp7Md"
      },
      "outputs": [],
      "source": [
        "import numpy as np\n",
        "import pandas as pd\n",
        "import matplotlib.pyplot as plt\n",
        "import plotly.express as px\n",
        "import plotly.graph_objects as go\n",
        "from sklearn.impute import SimpleImputer\n",
        "from sklearn.linear_model import LinearRegression\n",
        "from sklearn.metrics import mean_absolute_error\n",
        "from sklearn.pipeline import Pipeline, make_pipeline\n",
        "from sklearn.utils.validation import check_is_fitted"
      ]
    },
    {
      "cell_type": "markdown",
      "source": [
        "<font size=\"+3\"><strong>Predicting Price with Size</strong></font>"
      ],
      "metadata": {
        "id": "Mtr9kRH76rtQ"
      }
    },
    {
      "cell_type": "markdown",
      "source": [
        "## Prepare Data"
      ],
      "metadata": {
        "id": "6_LAALC89UTn"
      }
    },
    {
      "cell_type": "markdown",
      "source": [
        "Write a function named wrangle that takes a file path as an argument and returns a DataFrame."
      ],
      "metadata": {
        "id": "Ksg3E2Qa6_8V"
      }
    },
    {
      "cell_type": "markdown",
      "source": [
        "Use your wrangle function to create a DataFrame df from the CSV file data/buenos-aires-real-estate-1.csv."
      ],
      "metadata": {
        "id": "Zqz8OVFK7IQ9"
      }
    },
    {
      "cell_type": "markdown",
      "source": [
        "Add to your `wrangle` function so that the DataFrame it returns only includes apartments in Buenos Aires (`\"Capital Federal\"`) that cost less than $400,000 USD."
      ],
      "metadata": {
        "id": "K6BtzY9c7MzO"
      }
    },
    {
      "cell_type": "markdown",
      "source": [
        "Add to your wrangle function so that is removes observations that are outliers in the `\"surface_covered_in_m2\"` column. Specifically, all observations should fall between the `0.1` and `0.9` quantiles for `\"surface_covered_in_m2\"`."
      ],
      "metadata": {
        "id": "fHepbrFk7MFn"
      }
    },
    {
      "cell_type": "code",
      "source": [
        "def wrangle(path):\n",
        "    df = pd.read_excel(path)\n",
        "    mask_ba = df[\"place_with_parent_names\"].str.contains(\"Capital Federal\")\n",
        "    mask_apt = df[\"property_type\"] == \"apartment\"\n",
        "    mask_price = df[\"price_aprox_usd\"] < 400_000\n",
        "    df = df[mask_ba & mask_apt & mask_price]\n",
        "\n",
        "    # Subset data: Remove outliers for \"surface_covered_in_m2\"\n",
        "    low, high = df[\"surface_covered_in_m2\"].quantile([0.1, 0.9])\n",
        "    mask_area = df[\"surface_covered_in_m2\"].between(low, high)\n",
        "    df = df[mask_area]\n",
        "    return df"
      ],
      "metadata": {
        "id": "5slmNa-oqG8a"
      },
      "execution_count": 59,
      "outputs": []
    },
    {
      "cell_type": "code",
      "source": [
        "df = wrangle(\"/content/buenos-aires-real-estate-1.xlsx\")\n",
        "print(\"df shape:\", df.shape)\n",
        "df.head()"
      ],
      "metadata": {
        "colab": {
          "base_uri": "https://localhost:8080/",
          "height": 392
        },
        "id": "lZs19e0LqV1C",
        "outputId": "fd2c650f-f43c-424e-b0d6-cada0595525c"
      },
      "execution_count": 60,
      "outputs": [
        {
          "output_type": "stream",
          "name": "stdout",
          "text": [
            "df shape: (1343, 17)\n"
          ]
        },
        {
          "output_type": "execute_result",
          "data": {
            "text/plain": [
              "    Unnamed: 0 operation property_type  \\\n",
              "4            5      sell     apartment   \n",
              "9           10      sell     apartment   \n",
              "29          30      sell     apartment   \n",
              "40          41      sell     apartment   \n",
              "41          42      sell     apartment   \n",
              "\n",
              "                     place_with_parent_names                        lat-lon  \\\n",
              "4      |Argentina|Capital Federal|Chacarita|  -34.5846508988,-58.4546932614   \n",
              "9     |Argentina|Capital Federal|Villa Luro|         -34.6389789,-58.500115   \n",
              "29     |Argentina|Capital Federal|Caballito|          -34.615847,-58.459957   \n",
              "40  |Argentina|Capital Federal|Constitución|        -34.6252219,-58.3823825   \n",
              "41          |Argentina|Capital Federal|Once|        -34.6106102,-58.4125107   \n",
              "\n",
              "       price currency  price_aprox_local_currency  price_aprox_usd  \\\n",
              "4   129000.0      USD                   1955949.6         129000.0   \n",
              "9    87000.0      USD                   1319128.8          87000.0   \n",
              "29  118000.0      USD                   1789163.2         118000.0   \n",
              "40   57000.0      USD                    864256.8          57000.0   \n",
              "41   90000.0      USD                   1364616.0          90000.0   \n",
              "\n",
              "    surface_total_in_m2  surface_covered_in_m2  price_usd_per_m2  \\\n",
              "4                  76.0                   70.0       1697.368421   \n",
              "9                  48.0                   42.0       1812.500000   \n",
              "29                  NaN                   54.0               NaN   \n",
              "40                 42.0                   42.0       1357.142857   \n",
              "41                 57.0                   50.0       1578.947368   \n",
              "\n",
              "    price_per_m2  floor  rooms  expenses  \\\n",
              "4    1842.857143    NaN    NaN       NaN   \n",
              "9    2071.428571    NaN    NaN       NaN   \n",
              "29   2185.185185    NaN    2.0       NaN   \n",
              "40   1357.142857    5.0    2.0     364.0   \n",
              "41   1800.000000    NaN    3.0     450.0   \n",
              "\n",
              "                                        properati_url  \n",
              "4   http://chacarita.properati.com.ar/10qlv_venta_...  \n",
              "9   http://villa-luro.properati.com.ar/12m82_venta...  \n",
              "29  http://caballito.properati.com.ar/11wqh_venta_...  \n",
              "40  http://constitucion.properati.com.ar/k2f0_vent...  \n",
              "41  http://once.properati.com.ar/suwa_venta_depart...  "
            ],
            "text/html": [
              "\n",
              "  <div id=\"df-d1f49943-32bd-49b8-b2be-3111690d469f\">\n",
              "    <div class=\"colab-df-container\">\n",
              "      <div>\n",
              "<style scoped>\n",
              "    .dataframe tbody tr th:only-of-type {\n",
              "        vertical-align: middle;\n",
              "    }\n",
              "\n",
              "    .dataframe tbody tr th {\n",
              "        vertical-align: top;\n",
              "    }\n",
              "\n",
              "    .dataframe thead th {\n",
              "        text-align: right;\n",
              "    }\n",
              "</style>\n",
              "<table border=\"1\" class=\"dataframe\">\n",
              "  <thead>\n",
              "    <tr style=\"text-align: right;\">\n",
              "      <th></th>\n",
              "      <th>Unnamed: 0</th>\n",
              "      <th>operation</th>\n",
              "      <th>property_type</th>\n",
              "      <th>place_with_parent_names</th>\n",
              "      <th>lat-lon</th>\n",
              "      <th>price</th>\n",
              "      <th>currency</th>\n",
              "      <th>price_aprox_local_currency</th>\n",
              "      <th>price_aprox_usd</th>\n",
              "      <th>surface_total_in_m2</th>\n",
              "      <th>surface_covered_in_m2</th>\n",
              "      <th>price_usd_per_m2</th>\n",
              "      <th>price_per_m2</th>\n",
              "      <th>floor</th>\n",
              "      <th>rooms</th>\n",
              "      <th>expenses</th>\n",
              "      <th>properati_url</th>\n",
              "    </tr>\n",
              "  </thead>\n",
              "  <tbody>\n",
              "    <tr>\n",
              "      <th>4</th>\n",
              "      <td>5</td>\n",
              "      <td>sell</td>\n",
              "      <td>apartment</td>\n",
              "      <td>|Argentina|Capital Federal|Chacarita|</td>\n",
              "      <td>-34.5846508988,-58.4546932614</td>\n",
              "      <td>129000.0</td>\n",
              "      <td>USD</td>\n",
              "      <td>1955949.6</td>\n",
              "      <td>129000.0</td>\n",
              "      <td>76.0</td>\n",
              "      <td>70.0</td>\n",
              "      <td>1697.368421</td>\n",
              "      <td>1842.857143</td>\n",
              "      <td>NaN</td>\n",
              "      <td>NaN</td>\n",
              "      <td>NaN</td>\n",
              "      <td>http://chacarita.properati.com.ar/10qlv_venta_...</td>\n",
              "    </tr>\n",
              "    <tr>\n",
              "      <th>9</th>\n",
              "      <td>10</td>\n",
              "      <td>sell</td>\n",
              "      <td>apartment</td>\n",
              "      <td>|Argentina|Capital Federal|Villa Luro|</td>\n",
              "      <td>-34.6389789,-58.500115</td>\n",
              "      <td>87000.0</td>\n",
              "      <td>USD</td>\n",
              "      <td>1319128.8</td>\n",
              "      <td>87000.0</td>\n",
              "      <td>48.0</td>\n",
              "      <td>42.0</td>\n",
              "      <td>1812.500000</td>\n",
              "      <td>2071.428571</td>\n",
              "      <td>NaN</td>\n",
              "      <td>NaN</td>\n",
              "      <td>NaN</td>\n",
              "      <td>http://villa-luro.properati.com.ar/12m82_venta...</td>\n",
              "    </tr>\n",
              "    <tr>\n",
              "      <th>29</th>\n",
              "      <td>30</td>\n",
              "      <td>sell</td>\n",
              "      <td>apartment</td>\n",
              "      <td>|Argentina|Capital Federal|Caballito|</td>\n",
              "      <td>-34.615847,-58.459957</td>\n",
              "      <td>118000.0</td>\n",
              "      <td>USD</td>\n",
              "      <td>1789163.2</td>\n",
              "      <td>118000.0</td>\n",
              "      <td>NaN</td>\n",
              "      <td>54.0</td>\n",
              "      <td>NaN</td>\n",
              "      <td>2185.185185</td>\n",
              "      <td>NaN</td>\n",
              "      <td>2.0</td>\n",
              "      <td>NaN</td>\n",
              "      <td>http://caballito.properati.com.ar/11wqh_venta_...</td>\n",
              "    </tr>\n",
              "    <tr>\n",
              "      <th>40</th>\n",
              "      <td>41</td>\n",
              "      <td>sell</td>\n",
              "      <td>apartment</td>\n",
              "      <td>|Argentina|Capital Federal|Constitución|</td>\n",
              "      <td>-34.6252219,-58.3823825</td>\n",
              "      <td>57000.0</td>\n",
              "      <td>USD</td>\n",
              "      <td>864256.8</td>\n",
              "      <td>57000.0</td>\n",
              "      <td>42.0</td>\n",
              "      <td>42.0</td>\n",
              "      <td>1357.142857</td>\n",
              "      <td>1357.142857</td>\n",
              "      <td>5.0</td>\n",
              "      <td>2.0</td>\n",
              "      <td>364.0</td>\n",
              "      <td>http://constitucion.properati.com.ar/k2f0_vent...</td>\n",
              "    </tr>\n",
              "    <tr>\n",
              "      <th>41</th>\n",
              "      <td>42</td>\n",
              "      <td>sell</td>\n",
              "      <td>apartment</td>\n",
              "      <td>|Argentina|Capital Federal|Once|</td>\n",
              "      <td>-34.6106102,-58.4125107</td>\n",
              "      <td>90000.0</td>\n",
              "      <td>USD</td>\n",
              "      <td>1364616.0</td>\n",
              "      <td>90000.0</td>\n",
              "      <td>57.0</td>\n",
              "      <td>50.0</td>\n",
              "      <td>1578.947368</td>\n",
              "      <td>1800.000000</td>\n",
              "      <td>NaN</td>\n",
              "      <td>3.0</td>\n",
              "      <td>450.0</td>\n",
              "      <td>http://once.properati.com.ar/suwa_venta_depart...</td>\n",
              "    </tr>\n",
              "  </tbody>\n",
              "</table>\n",
              "</div>\n",
              "      <button class=\"colab-df-convert\" onclick=\"convertToInteractive('df-d1f49943-32bd-49b8-b2be-3111690d469f')\"\n",
              "              title=\"Convert this dataframe to an interactive table.\"\n",
              "              style=\"display:none;\">\n",
              "        \n",
              "  <svg xmlns=\"http://www.w3.org/2000/svg\" height=\"24px\"viewBox=\"0 0 24 24\"\n",
              "       width=\"24px\">\n",
              "    <path d=\"M0 0h24v24H0V0z\" fill=\"none\"/>\n",
              "    <path d=\"M18.56 5.44l.94 2.06.94-2.06 2.06-.94-2.06-.94-.94-2.06-.94 2.06-2.06.94zm-11 1L8.5 8.5l.94-2.06 2.06-.94-2.06-.94L8.5 2.5l-.94 2.06-2.06.94zm10 10l.94 2.06.94-2.06 2.06-.94-2.06-.94-.94-2.06-.94 2.06-2.06.94z\"/><path d=\"M17.41 7.96l-1.37-1.37c-.4-.4-.92-.59-1.43-.59-.52 0-1.04.2-1.43.59L10.3 9.45l-7.72 7.72c-.78.78-.78 2.05 0 2.83L4 21.41c.39.39.9.59 1.41.59.51 0 1.02-.2 1.41-.59l7.78-7.78 2.81-2.81c.8-.78.8-2.07 0-2.86zM5.41 20L4 18.59l7.72-7.72 1.47 1.35L5.41 20z\"/>\n",
              "  </svg>\n",
              "      </button>\n",
              "      \n",
              "  <style>\n",
              "    .colab-df-container {\n",
              "      display:flex;\n",
              "      flex-wrap:wrap;\n",
              "      gap: 12px;\n",
              "    }\n",
              "\n",
              "    .colab-df-convert {\n",
              "      background-color: #E8F0FE;\n",
              "      border: none;\n",
              "      border-radius: 50%;\n",
              "      cursor: pointer;\n",
              "      display: none;\n",
              "      fill: #1967D2;\n",
              "      height: 32px;\n",
              "      padding: 0 0 0 0;\n",
              "      width: 32px;\n",
              "    }\n",
              "\n",
              "    .colab-df-convert:hover {\n",
              "      background-color: #E2EBFA;\n",
              "      box-shadow: 0px 1px 2px rgba(60, 64, 67, 0.3), 0px 1px 3px 1px rgba(60, 64, 67, 0.15);\n",
              "      fill: #174EA6;\n",
              "    }\n",
              "\n",
              "    [theme=dark] .colab-df-convert {\n",
              "      background-color: #3B4455;\n",
              "      fill: #D2E3FC;\n",
              "    }\n",
              "\n",
              "    [theme=dark] .colab-df-convert:hover {\n",
              "      background-color: #434B5C;\n",
              "      box-shadow: 0px 1px 3px 1px rgba(0, 0, 0, 0.15);\n",
              "      filter: drop-shadow(0px 1px 2px rgba(0, 0, 0, 0.3));\n",
              "      fill: #FFFFFF;\n",
              "    }\n",
              "  </style>\n",
              "\n",
              "      <script>\n",
              "        const buttonEl =\n",
              "          document.querySelector('#df-d1f49943-32bd-49b8-b2be-3111690d469f button.colab-df-convert');\n",
              "        buttonEl.style.display =\n",
              "          google.colab.kernel.accessAllowed ? 'block' : 'none';\n",
              "\n",
              "        async function convertToInteractive(key) {\n",
              "          const element = document.querySelector('#df-d1f49943-32bd-49b8-b2be-3111690d469f');\n",
              "          const dataTable =\n",
              "            await google.colab.kernel.invokeFunction('convertToInteractive',\n",
              "                                                     [key], {});\n",
              "          if (!dataTable) return;\n",
              "\n",
              "          const docLinkHtml = 'Like what you see? Visit the ' +\n",
              "            '<a target=\"_blank\" href=https://colab.research.google.com/notebooks/data_table.ipynb>data table notebook</a>'\n",
              "            + ' to learn more about interactive tables.';\n",
              "          element.innerHTML = '';\n",
              "          dataTable['output_type'] = 'display_data';\n",
              "          await google.colab.output.renderOutput(dataTable, element);\n",
              "          const docLink = document.createElement('div');\n",
              "          docLink.innerHTML = docLinkHtml;\n",
              "          element.appendChild(docLink);\n",
              "        }\n",
              "      </script>\n",
              "    </div>\n",
              "  </div>\n",
              "  "
            ]
          },
          "metadata": {},
          "execution_count": 60
        }
      ]
    },
    {
      "cell_type": "code",
      "source": [
        "df.pop('Unnamed: 0')"
      ],
      "metadata": {
        "colab": {
          "base_uri": "https://localhost:8080/"
        },
        "id": "ka7jVSHXqfdd",
        "outputId": "e995f670-1055-425c-cbed-d4b9d38689f3"
      },
      "execution_count": 61,
      "outputs": [
        {
          "output_type": "execute_result",
          "data": {
            "text/plain": [
              "4          5\n",
              "9         10\n",
              "29        30\n",
              "40        41\n",
              "41        42\n",
              "        ... \n",
              "8589    8590\n",
              "8590    8591\n",
              "8593    8594\n",
              "8601    8602\n",
              "8604    8605\n",
              "Name: Unnamed: 0, Length: 1343, dtype: int64"
            ]
          },
          "metadata": {},
          "execution_count": 61
        }
      ]
    },
    {
      "cell_type": "markdown",
      "source": [
        "Create a scatter plot that shows price (`\"price_aprox_usd\"`) vs area (`\"surface_covered_in_m2\"`) in our dataset. Make sure to label your x-axis `\"Area [sq meters]\"` and your y-axis `\"Price [USD]\"`."
      ],
      "metadata": {
        "id": "3WhsJyVw8WhR"
      }
    },
    {
      "cell_type": "code",
      "source": [
        "plt.scatter(df[\"surface_covered_in_m2\"], df[\"price_aprox_usd\"], color=\"r\")\n",
        "plt.xlabel(\"Area [sq meters]\")\n",
        "plt.ylabel(\"Price [USD]\")\n",
        "plt.title(\"Property Area vs Price in US Dollars\");"
      ],
      "metadata": {
        "colab": {
          "base_uri": "https://localhost:8080/",
          "height": 295
        },
        "id": "Rg_lcTcqqyxl",
        "outputId": "a3b0bd52-4291-44f2-da0f-561da96be9b4"
      },
      "execution_count": 62,
      "outputs": [
        {
          "output_type": "display_data",
          "data": {
            "text/plain": [
              "<Figure size 432x288 with 1 Axes>"
            ],
            "image/png": "[encoded data removed]"
          },
          "metadata": {
            "needs_background": "light"
          }
        }
      ]
    },
    {
      "cell_type": "markdown",
      "source": [
        "Create the feature matrix named `X_train`, which you'll use to train your model. It should contain one feature only: `[\"surface_covered_in_m2\"]`. Remember that your feature matrix should always be two-dimensional. "
      ],
      "metadata": {
        "id": "BVdEEy3H8sFR"
      }
    },
    {
      "cell_type": "code",
      "source": [
        "features = [\"surface_covered_in_m2\"]\n",
        "X_train = df[features]\n",
        "X_train.shape"
      ],
      "metadata": {
        "colab": {
          "base_uri": "https://localhost:8080/"
        },
        "id": "obFa5dlUq85t",
        "outputId": "55ad10c1-f459-42d8-c465-c29e4745a3a7"
      },
      "execution_count": 65,
      "outputs": [
        {
          "output_type": "execute_result",
          "data": {
            "text/plain": [
              "(1343, 1)"
            ]
          },
          "metadata": {},
          "execution_count": 65
        }
      ]
    },
    {
      "cell_type": "markdown",
      "source": [
        "Create the target vector named `y_train`, which you'll use to train your model. Your target should be `\"price_aprox_usd\"`. Remember that, in most cases, your target vector should be one-dimensional."
      ],
      "metadata": {
        "id": "yiAmKWf_89Jn"
      }
    },
    {
      "cell_type": "code",
      "source": [
        "target = \"price_aprox_usd\"\n",
        "y_train = df[target]\n",
        "y_train.shape"
      ],
      "metadata": {
        "colab": {
          "base_uri": "https://localhost:8080/"
        },
        "id": "thmZdALyrNU1",
        "outputId": "8e217d2c-8a41-42b1-d4b3-7098b93e4552"
      },
      "execution_count": 66,
      "outputs": [
        {
          "output_type": "execute_result",
          "data": {
            "text/plain": [
              "(1343,)"
            ]
          },
          "metadata": {},
          "execution_count": 66
        }
      ]
    },
    {
      "cell_type": "markdown",
      "source": [
        "# Build Model"
      ],
      "metadata": {
        "id": "X8FNjYrS9hDf"
      }
    },
    {
      "cell_type": "markdown",
      "source": [
        "## Baseline"
      ],
      "metadata": {
        "id": "FGt-4yrF9se3"
      }
    },
    {
      "cell_type": "markdown",
      "source": [
        "Calculate the mean of your target vector `y_train` and assign it to the variable `y_mean`"
      ],
      "metadata": {
        "id": "LkU0mWMh9ymv"
      }
    },
    {
      "cell_type": "code",
      "source": [
        "y_mean = y_train.mean()"
      ],
      "metadata": {
        "id": "nJ7QXXrDt4YL"
      },
      "execution_count": 67,
      "outputs": []
    },
    {
      "cell_type": "markdown",
      "source": [
        "Create a list named `y_pred_baseline` that contains the value of `y_mean` repeated so that it's the same length at `y`."
      ],
      "metadata": {
        "id": "-_-RfqmE9953"
      }
    },
    {
      "cell_type": "code",
      "source": [
        "y_pred_baseline = []\n",
        "for i in range(len(y_train)):\n",
        "    y_pred_baseline.append(y_mean)"
      ],
      "metadata": {
        "id": "9gJ235ukrPqy"
      },
      "execution_count": 68,
      "outputs": []
    },
    {
      "cell_type": "markdown",
      "source": [
        "Add a line to the plot below that shows the relationship between the observations `X_train` and our dumb model's predictions `y_pred_baseline`. Be sure that the line color is orange, and that it has the label `\"Baseline Model\"`"
      ],
      "metadata": {
        "id": "5iqG1Nd2-Lpv"
      }
    },
    {
      "cell_type": "code",
      "source": [
        "plt.scatter(X_train, y_train)\n",
        "plt.xlabel(\"Area [sq meters]\")\n",
        "plt.ylabel(\"Price [USD]\")\n",
        "plt.title(\"Buenos Aires: Price vs. Area\")\n",
        "plt.plot(X_train, y_pred_baseline, color='orange')\n",
        "plt.legend(\"Baseline Model\");"
      ],
      "metadata": {
        "colab": {
          "base_uri": "https://localhost:8080/",
          "height": 0
        },
        "id": "hC37OVSDt7hw",
        "outputId": "151e0088-cd8d-4745-af57-ad60cfcc52ab"
      },
      "execution_count": 69,
      "outputs": [
        {
          "output_type": "display_data",
          "data": {
            "text/plain": [
              "<Figure size 432x288 with 1 Axes>"
            ],
            "image/png": "[encoded data removed]"
          },
          "metadata": {
            "needs_background": "light"
          }
        }
      ]
    },
    {
      "cell_type": "markdown",
      "source": [
        "Calculate the baseline mean absolute error for your predictions in `y_pred_baseline` as compared to the true targets in `y`"
      ],
      "metadata": {
        "id": "pUextwPxAARq"
      }
    },
    {
      "cell_type": "code",
      "source": [
        "\n",
        "mae_baseline = mean_absolute_error(y_pred_baseline, y_train)\n",
        "\n",
        "print(\"Mean apt price\", round(y_mean, 2))\n",
        "print(\"Baseline MAE:\", round(mae_baseline, 2))"
      ],
      "metadata": {
        "colab": {
          "base_uri": "https://localhost:8080/"
        },
        "id": "Tj3ZipJ3AA_g",
        "outputId": "1e31e5fa-1ff9-40ff-89c2-1e50a879ca13"
      },
      "execution_count": 70,
      "outputs": [
        {
          "output_type": "stream",
          "name": "stdout",
          "text": [
            "Mean apt price 135527.84\n",
            "Baseline MAE: 45199.46\n"
          ]
        }
      ]
    },
    {
      "cell_type": "markdown",
      "source": [
        "Instantiate a [`LinearRegression`](https://scikit-learn.org/stable/modules/generated/sklearn.linear_model.LinearRegression.html) model named `model`."
      ],
      "metadata": {
        "id": "4ttlZ5pHAUxA"
      }
    },
    {
      "cell_type": "code",
      "source": [
        "\n",
        "model = LinearRegression()"
      ],
      "metadata": {
        "id": "JsoESbmqrlqN"
      },
      "execution_count": 71,
      "outputs": []
    },
    {
      "cell_type": "markdown",
      "source": [
        "Fit your model to the data, `X_train` and `y_train`."
      ],
      "metadata": {
        "id": "Ko2Pk5swAb0w"
      }
    },
    {
      "cell_type": "code",
      "source": [
        "model.fit(X_train, y_train)"
      ],
      "metadata": {
        "colab": {
          "base_uri": "https://localhost:8080/"
        },
        "id": "nFpJTsNWrngU",
        "outputId": "006d3ee6-215b-4cb8-d93c-c78867c8acb2"
      },
      "execution_count": 72,
      "outputs": [
        {
          "output_type": "execute_result",
          "data": {
            "text/plain": [
              "LinearRegression()"
            ]
          },
          "metadata": {},
          "execution_count": 72
        }
      ]
    },
    {
      "cell_type": "markdown",
      "source": [
        " Using your model's [`predict`](https://scikit-learn.org/stable/modules/generated/sklearn.linear_model.LinearRegression.html#sklearn.linear_model.LinearRegression.predict) method, create a list of predictions for the observations in your feature matrix `X_train`. Name this array `y_pred_training`. "
      ],
      "metadata": {
        "id": "46jyEZRpAny5"
      }
    },
    {
      "cell_type": "code",
      "source": [
        "y_pred_training = model.predict(X_train)\n",
        "y_pred_training[:5]"
      ],
      "metadata": {
        "colab": {
          "base_uri": "https://localhost:8080/"
        },
        "id": "yQEgHD2UsKmk",
        "outputId": "d4a7e0be-c82f-42e7-f959-38fec3cb46b7"
      },
      "execution_count": 73,
      "outputs": [
        {
          "output_type": "execute_result",
          "data": {
            "text/plain": [
              "array([169151.87330223, 106064.44707446, 133101.91545779, 106064.44707446,\n",
              "       124089.42599668])"
            ]
          },
          "metadata": {},
          "execution_count": 73
        }
      ]
    },
    {
      "cell_type": "markdown",
      "source": [
        " Calculate your training mean absolute error for your predictions in `y_pred_training` as compared to the true targets in `y_train`."
      ],
      "metadata": {
        "id": "kZfe5nAVAxMn"
      }
    },
    {
      "cell_type": "code",
      "source": [
        "mae_training = mean_absolute_error(y_pred_training, y_train)\n",
        "print(\"Training MAE:\", round(mae_training, 2))"
      ],
      "metadata": {
        "colab": {
          "base_uri": "https://localhost:8080/"
        },
        "id": "9BVCeNwpz-cv",
        "outputId": "3c4056d8-ffd0-40b3-bc2b-b441143b00db"
      },
      "execution_count": 74,
      "outputs": [
        {
          "output_type": "stream",
          "name": "stdout",
          "text": [
            "Training MAE: 31248.26\n"
          ]
        }
      ]
    },
    {
      "cell_type": "markdown",
      "source": [
        "Good news: Our model beat the baseline"
      ],
      "metadata": {
        "id": "5NmrKtr-A2BH"
      }
    },
    {
      "cell_type": "markdown",
      "source": [
        " Extract the intercept from your model, and assign it to the variable `intercept`."
      ],
      "metadata": {
        "id": "TJybMwdtBOfA"
      }
    },
    {
      "cell_type": "code",
      "source": [
        "intercept = model.intercept_\n",
        "print(\"Model Intercept:\", intercept)\n",
        "assert any([isinstance(intercept, int), isinstance(intercept, float)])"
      ],
      "metadata": {
        "colab": {
          "base_uri": "https://localhost:8080/"
        },
        "id": "ogngS9oFA0gF",
        "outputId": "b9c5d3f2-cc51-4b49-8832-bb8c7a520945"
      },
      "execution_count": 75,
      "outputs": [
        {
          "output_type": "stream",
          "name": "stdout",
          "text": [
            "Model Intercept: 11433.307732797926\n"
          ]
        }
      ]
    },
    {
      "cell_type": "markdown",
      "source": [
        "Extract the coefficient associated `\"surface_covered_in_m2\"` in your model, and assign it to the variable `coefficient`."
      ],
      "metadata": {
        "id": "vMH8k76IBg7p"
      }
    },
    {
      "cell_type": "code",
      "source": [
        "coefficient = model.coef_[0]\n",
        "print('Model coefficient for \"surface_covered_in_m2\":', coefficient)\n",
        "assert any([isinstance(coefficient, int), isinstance(coefficient, float)])"
      ],
      "metadata": {
        "colab": {
          "base_uri": "https://localhost:8080/"
        },
        "id": "-he2bMNJBYqb",
        "outputId": "7f32a8d4-63c9-4e00-cefc-7c67e69d5efc"
      },
      "execution_count": 76,
      "outputs": [
        {
          "output_type": "stream",
          "name": "stdout",
          "text": [
            "Model coefficient for \"surface_covered_in_m2\": 2253.1223652775843\n"
          ]
        }
      ]
    },
    {
      "cell_type": "markdown",
      "source": [
        "Add a line to the plot below that shows the relationship between the observations in `X_train` and your model's predictions `y_pred_training`. Be sure that the line color is red, and that it has the label `\"Linear Model\"`."
      ],
      "metadata": {
        "id": "CILNZLB1CpZR"
      }
    },
    {
      "cell_type": "code",
      "source": [
        "plt.scatter(X_train, y_train)\n",
        "plt.xlabel(\"surface covered [sq meters]\")\n",
        "plt.ylabel(\"price [usd]\")\n",
        "plt.plot(X_train, y_pred_training, color='red')\n",
        "plt.legend(\"Linear Model\");\n"
      ],
      "metadata": {
        "colab": {
          "base_uri": "https://localhost:8080/",
          "height": 0
        },
        "id": "iRYpwyNqBnPx",
        "outputId": "214a8fa7-4277-44d1-f16f-928c23897c14"
      },
      "execution_count": 77,
      "outputs": [
        {
          "output_type": "display_data",
          "data": {
            "text/plain": [
              "<Figure size 432x288 with 1 Axes>"
            ],
            "image/png": "[encoded data removed]"
          },
          "metadata": {
            "needs_background": "light"
          }
        }
      ]
    },
    {
      "cell_type": "markdown",
      "source": [
        "<font size=\"+3\"><strong>Predicting Price with Location</strong></font>"
      ],
      "metadata": {
        "id": "I4vWoXzPBydG"
      }
    },
    {
      "cell_type": "markdown",
      "source": [
        "Add to the `wrangle` function below so that, in the DataFrame it returns, the `\"lat-lon\"` column is replaced by separate `\"lat\"` and `\"lon\"` columns."
      ],
      "metadata": {
        "id": "AmBp54WbCQbR"
      }
    },
    {
      "cell_type": "code",
      "source": [
        "def wrangle(filepath):\n",
        "    # Read CSV file\n",
        "    df = pd.read_excel(filepath)\n",
        "\n",
        "    # Subset data: Apartments in \"Capital Federal\", less than 400,000\n",
        "    mask_ba = df[\"place_with_parent_names\"].str.contains(\"Capital Federal\")\n",
        "    mask_apt = df[\"property_type\"] == \"apartment\"\n",
        "    mask_price = df[\"price_aprox_usd\"] < 400_000\n",
        "    df = df[mask_ba & mask_apt & mask_price]\n",
        "\n",
        "    # Subset data: Remove outliers for \"surface_covered_in_m2\"\n",
        "    low, high = df[\"surface_covered_in_m2\"].quantile([0.1, 0.9])\n",
        "    mask_area = df[\"surface_covered_in_m2\"].between(low, high)\n",
        "    df = df[mask_area]\n",
        "\n",
        "    df[[\"lat\", \"lon\"]] = df[\"lat-lon\"].str.split(\",\", expand=True)\n",
        "    df.pop(\"lat-lon\")\n",
        "    df['lat'] = df['lat'].astype(float)\n",
        "    df['lon'] = df['lon'].astype(float)\n",
        "\n",
        " \n",
        "    return df"
      ],
      "metadata": {
        "id": "hXPw3R3LC7J6"
      },
      "execution_count": 78,
      "outputs": []
    },
    {
      "cell_type": "markdown",
      "source": [
        "Use your `wrangle` function to create a DataFrame `frame1` from the Excel file `data/buenos-aires-real-estate-1.xlsx`."
      ],
      "metadata": {
        "id": "WQ7-e5DUDXNI"
      }
    },
    {
      "cell_type": "code",
      "source": [
        "frame1 = wrangle(\"/content/buenos-aires-real-estate-1.xlsx\")\n",
        "print(frame1.info())\n",
        "frame1.head()"
      ],
      "metadata": {
        "colab": {
          "base_uri": "https://localhost:8080/",
          "height": 0
        },
        "id": "90IXQZU6DX4W",
        "outputId": "5dd29273-fb0d-4db3-8677-7ea3dfc44cb5"
      },
      "execution_count": 79,
      "outputs": [
        {
          "output_type": "stream",
          "name": "stdout",
          "text": [
            "<class 'pandas.core.frame.DataFrame'>\n",
            "Int64Index: 1343 entries, 4 to 8604\n",
            "Data columns (total 18 columns):\n",
            " #   Column                      Non-Null Count  Dtype  \n",
            "---  ------                      --------------  -----  \n",
            " 0   Unnamed: 0                  1343 non-null   int64  \n",
            " 1   operation                   1343 non-null   object \n",
            " 2   property_type               1343 non-null   object \n",
            " 3   place_with_parent_names     1343 non-null   object \n",
            " 4   price                       1343 non-null   float64\n",
            " 5   currency                    1343 non-null   object \n",
            " 6   price_aprox_local_currency  1343 non-null   float64\n",
            " 7   price_aprox_usd             1343 non-null   float64\n",
            " 8   surface_total_in_m2         965 non-null    float64\n",
            " 9   surface_covered_in_m2       1343 non-null   float64\n",
            " 10  price_usd_per_m2            927 non-null    float64\n",
            " 11  price_per_m2                1343 non-null   float64\n",
            " 12  floor                       379 non-null    float64\n",
            " 13  rooms                       1078 non-null   float64\n",
            " 14  expenses                    349 non-null    float64\n",
            " 15  properati_url               1343 non-null   object \n",
            " 16  lat                         1300 non-null   float64\n",
            " 17  lon                         1300 non-null   float64\n",
            "dtypes: float64(12), int64(1), object(5)\n",
            "memory usage: 199.4+ KB\n",
            "None\n"
          ]
        },
        {
          "output_type": "execute_result",
          "data": {
            "text/plain": [
              "    Unnamed: 0 operation property_type  \\\n",
              "4            5      sell     apartment   \n",
              "9           10      sell     apartment   \n",
              "29          30      sell     apartment   \n",
              "40          41      sell     apartment   \n",
              "41          42      sell     apartment   \n",
              "\n",
              "                     place_with_parent_names     price currency  \\\n",
              "4      |Argentina|Capital Federal|Chacarita|  129000.0      USD   \n",
              "9     |Argentina|Capital Federal|Villa Luro|   87000.0      USD   \n",
              "29     |Argentina|Capital Federal|Caballito|  118000.0      USD   \n",
              "40  |Argentina|Capital Federal|Constitución|   57000.0      USD   \n",
              "41          |Argentina|Capital Federal|Once|   90000.0      USD   \n",
              "\n",
              "    price_aprox_local_currency  price_aprox_usd  surface_total_in_m2  \\\n",
              "4                    1955949.6         129000.0                 76.0   \n",
              "9                    1319128.8          87000.0                 48.0   \n",
              "29                   1789163.2         118000.0                  NaN   \n",
              "40                    864256.8          57000.0                 42.0   \n",
              "41                   1364616.0          90000.0                 57.0   \n",
              "\n",
              "    surface_covered_in_m2  price_usd_per_m2  price_per_m2  floor  rooms  \\\n",
              "4                    70.0       1697.368421   1842.857143    NaN    NaN   \n",
              "9                    42.0       1812.500000   2071.428571    NaN    NaN   \n",
              "29                   54.0               NaN   2185.185185    NaN    2.0   \n",
              "40                   42.0       1357.142857   1357.142857    5.0    2.0   \n",
              "41                   50.0       1578.947368   1800.000000    NaN    3.0   \n",
              "\n",
              "    expenses                                      properati_url        lat  \\\n",
              "4        NaN  http://chacarita.properati.com.ar/10qlv_venta_... -34.584651   \n",
              "9        NaN  http://villa-luro.properati.com.ar/12m82_venta... -34.638979   \n",
              "29       NaN  http://caballito.properati.com.ar/11wqh_venta_... -34.615847   \n",
              "40     364.0  http://constitucion.properati.com.ar/k2f0_vent... -34.625222   \n",
              "41     450.0  http://once.properati.com.ar/suwa_venta_depart... -34.610610   \n",
              "\n",
              "          lon  \n",
              "4  -58.454693  \n",
              "9  -58.500115  \n",
              "29 -58.459957  \n",
              "40 -58.382382  \n",
              "41 -58.412511  "
            ],
            "text/html": [
              "\n",
              "  <div id=\"df-3dc3abb8-7b90-4861-af4e-319d6a040eec\">\n",
              "    <div class=\"colab-df-container\">\n",
              "      <div>\n",
              "<style scoped>\n",
              "    .dataframe tbody tr th:only-of-type {\n",
              "        vertical-align: middle;\n",
              "    }\n",
              "\n",
              "    .dataframe tbody tr th {\n",
              "        vertical-align: top;\n",
              "    }\n",
              "\n",
              "    .dataframe thead th {\n",
              "        text-align: right;\n",
              "    }\n",
              "</style>\n",
              "<table border=\"1\" class=\"dataframe\">\n",
              "  <thead>\n",
              "    <tr style=\"text-align: right;\">\n",
              "      <th></th>\n",
              "      <th>Unnamed: 0</th>\n",
              "      <th>operation</th>\n",
              "      <th>property_type</th>\n",
              "      <th>place_with_parent_names</th>\n",
              "      <th>price</th>\n",
              "      <th>currency</th>\n",
              "      <th>price_aprox_local_currency</th>\n",
              "      <th>price_aprox_usd</th>\n",
              "      <th>surface_total_in_m2</th>\n",
              "      <th>surface_covered_in_m2</th>\n",
              "      <th>price_usd_per_m2</th>\n",
              "      <th>price_per_m2</th>\n",
              "      <th>floor</th>\n",
              "      <th>rooms</th>\n",
              "      <th>expenses</th>\n",
              "      <th>properati_url</th>\n",
              "      <th>lat</th>\n",
              "      <th>lon</th>\n",
              "    </tr>\n",
              "  </thead>\n",
              "  <tbody>\n",
              "    <tr>\n",
              "      <th>4</th>\n",
              "      <td>5</td>\n",
              "      <td>sell</td>\n",
              "      <td>apartment</td>\n",
              "      <td>|Argentina|Capital Federal|Chacarita|</td>\n",
              "      <td>129000.0</td>\n",
              "      <td>USD</td>\n",
              "      <td>1955949.6</td>\n",
              "      <td>129000.0</td>\n",
              "      <td>76.0</td>\n",
              "      <td>70.0</td>\n",
              "      <td>1697.368421</td>\n",
              "      <td>1842.857143</td>\n",
              "      <td>NaN</td>\n",
              "      <td>NaN</td>\n",
              "      <td>NaN</td>\n",
              "      <td>http://chacarita.properati.com.ar/10qlv_venta_...</td>\n",
              "      <td>-34.584651</td>\n",
              "      <td>-58.454693</td>\n",
              "    </tr>\n",
              "    <tr>\n",
              "      <th>9</th>\n",
              "      <td>10</td>\n",
              "      <td>sell</td>\n",
              "      <td>apartment</td>\n",
              "      <td>|Argentina|Capital Federal|Villa Luro|</td>\n",
              "      <td>87000.0</td>\n",
              "      <td>USD</td>\n",
              "      <td>1319128.8</td>\n",
              "      <td>87000.0</td>\n",
              "      <td>48.0</td>\n",
              "      <td>42.0</td>\n",
              "      <td>1812.500000</td>\n",
              "      <td>2071.428571</td>\n",
              "      <td>NaN</td>\n",
              "      <td>NaN</td>\n",
              "      <td>NaN</td>\n",
              "      <td>http://villa-luro.properati.com.ar/12m82_venta...</td>\n",
              "      <td>-34.638979</td>\n",
              "      <td>-58.500115</td>\n",
              "    </tr>\n",
              "    <tr>\n",
              "      <th>29</th>\n",
              "      <td>30</td>\n",
              "      <td>sell</td>\n",
              "      <td>apartment</td>\n",
              "      <td>|Argentina|Capital Federal|Caballito|</td>\n",
              "      <td>118000.0</td>\n",
              "      <td>USD</td>\n",
              "      <td>1789163.2</td>\n",
              "      <td>118000.0</td>\n",
              "      <td>NaN</td>\n",
              "      <td>54.0</td>\n",
              "      <td>NaN</td>\n",
              "      <td>2185.185185</td>\n",
              "      <td>NaN</td>\n",
              "      <td>2.0</td>\n",
              "      <td>NaN</td>\n",
              "      <td>http://caballito.properati.com.ar/11wqh_venta_...</td>\n",
              "      <td>-34.615847</td>\n",
              "      <td>-58.459957</td>\n",
              "    </tr>\n",
              "    <tr>\n",
              "      <th>40</th>\n",
              "      <td>41</td>\n",
              "      <td>sell</td>\n",
              "      <td>apartment</td>\n",
              "      <td>|Argentina|Capital Federal|Constitución|</td>\n",
              "      <td>57000.0</td>\n",
              "      <td>USD</td>\n",
              "      <td>864256.8</td>\n",
              "      <td>57000.0</td>\n",
              "      <td>42.0</td>\n",
              "      <td>42.0</td>\n",
              "      <td>1357.142857</td>\n",
              "      <td>1357.142857</td>\n",
              "      <td>5.0</td>\n",
              "      <td>2.0</td>\n",
              "      <td>364.0</td>\n",
              "      <td>http://constitucion.properati.com.ar/k2f0_vent...</td>\n",
              "      <td>-34.625222</td>\n",
              "      <td>-58.382382</td>\n",
              "    </tr>\n",
              "    <tr>\n",
              "      <th>41</th>\n",
              "      <td>42</td>\n",
              "      <td>sell</td>\n",
              "      <td>apartment</td>\n",
              "      <td>|Argentina|Capital Federal|Once|</td>\n",
              "      <td>90000.0</td>\n",
              "      <td>USD</td>\n",
              "      <td>1364616.0</td>\n",
              "      <td>90000.0</td>\n",
              "      <td>57.0</td>\n",
              "      <td>50.0</td>\n",
              "      <td>1578.947368</td>\n",
              "      <td>1800.000000</td>\n",
              "      <td>NaN</td>\n",
              "      <td>3.0</td>\n",
              "      <td>450.0</td>\n",
              "      <td>http://once.properati.com.ar/suwa_venta_depart...</td>\n",
              "      <td>-34.610610</td>\n",
              "      <td>-58.412511</td>\n",
              "    </tr>\n",
              "  </tbody>\n",
              "</table>\n",
              "</div>\n",
              "      <button class=\"colab-df-convert\" onclick=\"convertToInteractive('df-3dc3abb8-7b90-4861-af4e-319d6a040eec')\"\n",
              "              title=\"Convert this dataframe to an interactive table.\"\n",
              "              style=\"display:none;\">\n",
              "        \n",
              "  <svg xmlns=\"http://www.w3.org/2000/svg\" height=\"24px\"viewBox=\"0 0 24 24\"\n",
              "       width=\"24px\">\n",
              "    <path d=\"M0 0h24v24H0V0z\" fill=\"none\"/>\n",
              "    <path d=\"M18.56 5.44l.94 2.06.94-2.06 2.06-.94-2.06-.94-.94-2.06-.94 2.06-2.06.94zm-11 1L8.5 8.5l.94-2.06 2.06-.94-2.06-.94L8.5 2.5l-.94 2.06-2.06.94zm10 10l.94 2.06.94-2.06 2.06-.94-2.06-.94-.94-2.06-.94 2.06-2.06.94z\"/><path d=\"M17.41 7.96l-1.37-1.37c-.4-.4-.92-.59-1.43-.59-.52 0-1.04.2-1.43.59L10.3 9.45l-7.72 7.72c-.78.78-.78 2.05 0 2.83L4 21.41c.39.39.9.59 1.41.59.51 0 1.02-.2 1.41-.59l7.78-7.78 2.81-2.81c.8-.78.8-2.07 0-2.86zM5.41 20L4 18.59l7.72-7.72 1.47 1.35L5.41 20z\"/>\n",
              "  </svg>\n",
              "      </button>\n",
              "      \n",
              "  <style>\n",
              "    .colab-df-container {\n",
              "      display:flex;\n",
              "      flex-wrap:wrap;\n",
              "      gap: 12px;\n",
              "    }\n",
              "\n",
              "    .colab-df-convert {\n",
              "      background-color: #E8F0FE;\n",
              "      border: none;\n",
              "      border-radius: 50%;\n",
              "      cursor: pointer;\n",
              "      display: none;\n",
              "      fill: #1967D2;\n",
              "      height: 32px;\n",
              "      padding: 0 0 0 0;\n",
              "      width: 32px;\n",
              "    }\n",
              "\n",
              "    .colab-df-convert:hover {\n",
              "      background-color: #E2EBFA;\n",
              "      box-shadow: 0px 1px 2px rgba(60, 64, 67, 0.3), 0px 1px 3px 1px rgba(60, 64, 67, 0.15);\n",
              "      fill: #174EA6;\n",
              "    }\n",
              "\n",
              "    [theme=dark] .colab-df-convert {\n",
              "      background-color: #3B4455;\n",
              "      fill: #D2E3FC;\n",
              "    }\n",
              "\n",
              "    [theme=dark] .colab-df-convert:hover {\n",
              "      background-color: #434B5C;\n",
              "      box-shadow: 0px 1px 3px 1px rgba(0, 0, 0, 0.15);\n",
              "      filter: drop-shadow(0px 1px 2px rgba(0, 0, 0, 0.3));\n",
              "      fill: #FFFFFF;\n",
              "    }\n",
              "  </style>\n",
              "\n",
              "      <script>\n",
              "        const buttonEl =\n",
              "          document.querySelector('#df-3dc3abb8-7b90-4861-af4e-319d6a040eec button.colab-df-convert');\n",
              "        buttonEl.style.display =\n",
              "          google.colab.kernel.accessAllowed ? 'block' : 'none';\n",
              "\n",
              "        async function convertToInteractive(key) {\n",
              "          const element = document.querySelector('#df-3dc3abb8-7b90-4861-af4e-319d6a040eec');\n",
              "          const dataTable =\n",
              "            await google.colab.kernel.invokeFunction('convertToInteractive',\n",
              "                                                     [key], {});\n",
              "          if (!dataTable) return;\n",
              "\n",
              "          const docLinkHtml = 'Like what you see? Visit the ' +\n",
              "            '<a target=\"_blank\" href=https://colab.research.google.com/notebooks/data_table.ipynb>data table notebook</a>'\n",
              "            + ' to learn more about interactive tables.';\n",
              "          element.innerHTML = '';\n",
              "          dataTable['output_type'] = 'display_data';\n",
              "          await google.colab.output.renderOutput(dataTable, element);\n",
              "          const docLink = document.createElement('div');\n",
              "          docLink.innerHTML = docLinkHtml;\n",
              "          element.appendChild(docLink);\n",
              "        }\n",
              "      </script>\n",
              "    </div>\n",
              "  </div>\n",
              "  "
            ]
          },
          "metadata": {},
          "execution_count": 79
        }
      ]
    },
    {
      "cell_type": "markdown",
      "source": [
        "Use your `wrangle` function to create a DataFrame `frame2` from the Excel file `data/buenos-aires-real-estate-2.xlsx`."
      ],
      "metadata": {
        "id": "QCn3zpi6DgOS"
      }
    },
    {
      "cell_type": "code",
      "source": [
        "frame2 = wrangle(\"/content/buenos-aires-real-estate-2.xlsx\")\n",
        "print(frame2.info())\n",
        "frame1.head()"
      ],
      "metadata": {
        "colab": {
          "base_uri": "https://localhost:8080/",
          "height": 0
        },
        "id": "J4K32o_SDmHw",
        "outputId": "b1c6240c-ea6a-4cf1-cdbc-252a2e92dfe8"
      },
      "execution_count": 80,
      "outputs": [
        {
          "output_type": "stream",
          "name": "stdout",
          "text": [
            "<class 'pandas.core.frame.DataFrame'>\n",
            "Int64Index: 1315 entries, 2 to 8585\n",
            "Data columns (total 18 columns):\n",
            " #   Column                      Non-Null Count  Dtype  \n",
            "---  ------                      --------------  -----  \n",
            " 0   Unnamed: 0                  1315 non-null   int64  \n",
            " 1   operation                   1315 non-null   object \n",
            " 2   property_type               1315 non-null   object \n",
            " 3   place_with_parent_names     1315 non-null   object \n",
            " 4   price                       1315 non-null   float64\n",
            " 5   currency                    1315 non-null   object \n",
            " 6   price_aprox_local_currency  1315 non-null   float64\n",
            " 7   price_aprox_usd             1315 non-null   float64\n",
            " 8   surface_total_in_m2         933 non-null    float64\n",
            " 9   surface_covered_in_m2       1315 non-null   float64\n",
            " 10  price_usd_per_m2            891 non-null    float64\n",
            " 11  price_per_m2                1315 non-null   float64\n",
            " 12  floor                       390 non-null    float64\n",
            " 13  rooms                       1059 non-null   float64\n",
            " 14  expenses                    339 non-null    float64\n",
            " 15  properati_url               1315 non-null   object \n",
            " 16  lat                         1261 non-null   float64\n",
            " 17  lon                         1261 non-null   float64\n",
            "dtypes: float64(12), int64(1), object(5)\n",
            "memory usage: 195.2+ KB\n",
            "None\n"
          ]
        },
        {
          "output_type": "execute_result",
          "data": {
            "text/plain": [
              "    Unnamed: 0 operation property_type  \\\n",
              "4            5      sell     apartment   \n",
              "9           10      sell     apartment   \n",
              "29          30      sell     apartment   \n",
              "40          41      sell     apartment   \n",
              "41          42      sell     apartment   \n",
              "\n",
              "                     place_with_parent_names     price currency  \\\n",
              "4      |Argentina|Capital Federal|Chacarita|  129000.0      USD   \n",
              "9     |Argentina|Capital Federal|Villa Luro|   87000.0      USD   \n",
              "29     |Argentina|Capital Federal|Caballito|  118000.0      USD   \n",
              "40  |Argentina|Capital Federal|Constitución|   57000.0      USD   \n",
              "41          |Argentina|Capital Federal|Once|   90000.0      USD   \n",
              "\n",
              "    price_aprox_local_currency  price_aprox_usd  surface_total_in_m2  \\\n",
              "4                    1955949.6         129000.0                 76.0   \n",
              "9                    1319128.8          87000.0                 48.0   \n",
              "29                   1789163.2         118000.0                  NaN   \n",
              "40                    864256.8          57000.0                 42.0   \n",
              "41                   1364616.0          90000.0                 57.0   \n",
              "\n",
              "    surface_covered_in_m2  price_usd_per_m2  price_per_m2  floor  rooms  \\\n",
              "4                    70.0       1697.368421   1842.857143    NaN    NaN   \n",
              "9                    42.0       1812.500000   2071.428571    NaN    NaN   \n",
              "29                   54.0               NaN   2185.185185    NaN    2.0   \n",
              "40                   42.0       1357.142857   1357.142857    5.0    2.0   \n",
              "41                   50.0       1578.947368   1800.000000    NaN    3.0   \n",
              "\n",
              "    expenses                                      properati_url        lat  \\\n",
              "4        NaN  http://chacarita.properati.com.ar/10qlv_venta_... -34.584651   \n",
              "9        NaN  http://villa-luro.properati.com.ar/12m82_venta... -34.638979   \n",
              "29       NaN  http://caballito.properati.com.ar/11wqh_venta_... -34.615847   \n",
              "40     364.0  http://constitucion.properati.com.ar/k2f0_vent... -34.625222   \n",
              "41     450.0  http://once.properati.com.ar/suwa_venta_depart... -34.610610   \n",
              "\n",
              "          lon  \n",
              "4  -58.454693  \n",
              "9  -58.500115  \n",
              "29 -58.459957  \n",
              "40 -58.382382  \n",
              "41 -58.412511  "
            ],
            "text/html": [
              "\n",
              "  <div id=\"df-08ee1e6f-6ef4-4201-923a-675659a401e6\">\n",
              "    <div class=\"colab-df-container\">\n",
              "      <div>\n",
              "<style scoped>\n",
              "    .dataframe tbody tr th:only-of-type {\n",
              "        vertical-align: middle;\n",
              "    }\n",
              "\n",
              "    .dataframe tbody tr th {\n",
              "        vertical-align: top;\n",
              "    }\n",
              "\n",
              "    .dataframe thead th {\n",
              "        text-align: right;\n",
              "    }\n",
              "</style>\n",
              "<table border=\"1\" class=\"dataframe\">\n",
              "  <thead>\n",
              "    <tr style=\"text-align: right;\">\n",
              "      <th></th>\n",
              "      <th>Unnamed: 0</th>\n",
              "      <th>operation</th>\n",
              "      <th>property_type</th>\n",
              "      <th>place_with_parent_names</th>\n",
              "      <th>price</th>\n",
              "      <th>currency</th>\n",
              "      <th>price_aprox_local_currency</th>\n",
              "      <th>price_aprox_usd</th>\n",
              "      <th>surface_total_in_m2</th>\n",
              "      <th>surface_covered_in_m2</th>\n",
              "      <th>price_usd_per_m2</th>\n",
              "      <th>price_per_m2</th>\n",
              "      <th>floor</th>\n",
              "      <th>rooms</th>\n",
              "      <th>expenses</th>\n",
              "      <th>properati_url</th>\n",
              "      <th>lat</th>\n",
              "      <th>lon</th>\n",
              "    </tr>\n",
              "  </thead>\n",
              "  <tbody>\n",
              "    <tr>\n",
              "      <th>4</th>\n",
              "      <td>5</td>\n",
              "      <td>sell</td>\n",
              "      <td>apartment</td>\n",
              "      <td>|Argentina|Capital Federal|Chacarita|</td>\n",
              "      <td>129000.0</td>\n",
              "      <td>USD</td>\n",
              "      <td>1955949.6</td>\n",
              "      <td>129000.0</td>\n",
              "      <td>76.0</td>\n",
              "      <td>70.0</td>\n",
              "      <td>1697.368421</td>\n",
              "      <td>1842.857143</td>\n",
              "      <td>NaN</td>\n",
              "      <td>NaN</td>\n",
              "      <td>NaN</td>\n",
              "      <td>http://chacarita.properati.com.ar/10qlv_venta_...</td>\n",
              "      <td>-34.584651</td>\n",
              "      <td>-58.454693</td>\n",
              "    </tr>\n",
              "    <tr>\n",
              "      <th>9</th>\n",
              "      <td>10</td>\n",
              "      <td>sell</td>\n",
              "      <td>apartment</td>\n",
              "      <td>|Argentina|Capital Federal|Villa Luro|</td>\n",
              "      <td>87000.0</td>\n",
              "      <td>USD</td>\n",
              "      <td>1319128.8</td>\n",
              "      <td>87000.0</td>\n",
              "      <td>48.0</td>\n",
              "      <td>42.0</td>\n",
              "      <td>1812.500000</td>\n",
              "      <td>2071.428571</td>\n",
              "      <td>NaN</td>\n",
              "      <td>NaN</td>\n",
              "      <td>NaN</td>\n",
              "      <td>http://villa-luro.properati.com.ar/12m82_venta...</td>\n",
              "      <td>-34.638979</td>\n",
              "      <td>-58.500115</td>\n",
              "    </tr>\n",
              "    <tr>\n",
              "      <th>29</th>\n",
              "      <td>30</td>\n",
              "      <td>sell</td>\n",
              "      <td>apartment</td>\n",
              "      <td>|Argentina|Capital Federal|Caballito|</td>\n",
              "      <td>118000.0</td>\n",
              "      <td>USD</td>\n",
              "      <td>1789163.2</td>\n",
              "      <td>118000.0</td>\n",
              "      <td>NaN</td>\n",
              "      <td>54.0</td>\n",
              "      <td>NaN</td>\n",
              "      <td>2185.185185</td>\n",
              "      <td>NaN</td>\n",
              "      <td>2.0</td>\n",
              "      <td>NaN</td>\n",
              "      <td>http://caballito.properati.com.ar/11wqh_venta_...</td>\n",
              "      <td>-34.615847</td>\n",
              "      <td>-58.459957</td>\n",
              "    </tr>\n",
              "    <tr>\n",
              "      <th>40</th>\n",
              "      <td>41</td>\n",
              "      <td>sell</td>\n",
              "      <td>apartment</td>\n",
              "      <td>|Argentina|Capital Federal|Constitución|</td>\n",
              "      <td>57000.0</td>\n",
              "      <td>USD</td>\n",
              "      <td>864256.8</td>\n",
              "      <td>57000.0</td>\n",
              "      <td>42.0</td>\n",
              "      <td>42.0</td>\n",
              "      <td>1357.142857</td>\n",
              "      <td>1357.142857</td>\n",
              "      <td>5.0</td>\n",
              "      <td>2.0</td>\n",
              "      <td>364.0</td>\n",
              "      <td>http://constitucion.properati.com.ar/k2f0_vent...</td>\n",
              "      <td>-34.625222</td>\n",
              "      <td>-58.382382</td>\n",
              "    </tr>\n",
              "    <tr>\n",
              "      <th>41</th>\n",
              "      <td>42</td>\n",
              "      <td>sell</td>\n",
              "      <td>apartment</td>\n",
              "      <td>|Argentina|Capital Federal|Once|</td>\n",
              "      <td>90000.0</td>\n",
              "      <td>USD</td>\n",
              "      <td>1364616.0</td>\n",
              "      <td>90000.0</td>\n",
              "      <td>57.0</td>\n",
              "      <td>50.0</td>\n",
              "      <td>1578.947368</td>\n",
              "      <td>1800.000000</td>\n",
              "      <td>NaN</td>\n",
              "      <td>3.0</td>\n",
              "      <td>450.0</td>\n",
              "      <td>http://once.properati.com.ar/suwa_venta_depart...</td>\n",
              "      <td>-34.610610</td>\n",
              "      <td>-58.412511</td>\n",
              "    </tr>\n",
              "  </tbody>\n",
              "</table>\n",
              "</div>\n",
              "      <button class=\"colab-df-convert\" onclick=\"convertToInteractive('df-08ee1e6f-6ef4-4201-923a-675659a401e6')\"\n",
              "              title=\"Convert this dataframe to an interactive table.\"\n",
              "              style=\"display:none;\">\n",
              "        \n",
              "  <svg xmlns=\"http://www.w3.org/2000/svg\" height=\"24px\"viewBox=\"0 0 24 24\"\n",
              "       width=\"24px\">\n",
              "    <path d=\"M0 0h24v24H0V0z\" fill=\"none\"/>\n",
              "    <path d=\"M18.56 5.44l.94 2.06.94-2.06 2.06-.94-2.06-.94-.94-2.06-.94 2.06-2.06.94zm-11 1L8.5 8.5l.94-2.06 2.06-.94-2.06-.94L8.5 2.5l-.94 2.06-2.06.94zm10 10l.94 2.06.94-2.06 2.06-.94-2.06-.94-.94-2.06-.94 2.06-2.06.94z\"/><path d=\"M17.41 7.96l-1.37-1.37c-.4-.4-.92-.59-1.43-.59-.52 0-1.04.2-1.43.59L10.3 9.45l-7.72 7.72c-.78.78-.78 2.05 0 2.83L4 21.41c.39.39.9.59 1.41.59.51 0 1.02-.2 1.41-.59l7.78-7.78 2.81-2.81c.8-.78.8-2.07 0-2.86zM5.41 20L4 18.59l7.72-7.72 1.47 1.35L5.41 20z\"/>\n",
              "  </svg>\n",
              "      </button>\n",
              "      \n",
              "  <style>\n",
              "    .colab-df-container {\n",
              "      display:flex;\n",
              "      flex-wrap:wrap;\n",
              "      gap: 12px;\n",
              "    }\n",
              "\n",
              "    .colab-df-convert {\n",
              "      background-color: #E8F0FE;\n",
              "      border: none;\n",
              "      border-radius: 50%;\n",
              "      cursor: pointer;\n",
              "      display: none;\n",
              "      fill: #1967D2;\n",
              "      height: 32px;\n",
              "      padding: 0 0 0 0;\n",
              "      width: 32px;\n",
              "    }\n",
              "\n",
              "    .colab-df-convert:hover {\n",
              "      background-color: #E2EBFA;\n",
              "      box-shadow: 0px 1px 2px rgba(60, 64, 67, 0.3), 0px 1px 3px 1px rgba(60, 64, 67, 0.15);\n",
              "      fill: #174EA6;\n",
              "    }\n",
              "\n",
              "    [theme=dark] .colab-df-convert {\n",
              "      background-color: #3B4455;\n",
              "      fill: #D2E3FC;\n",
              "    }\n",
              "\n",
              "    [theme=dark] .colab-df-convert:hover {\n",
              "      background-color: #434B5C;\n",
              "      box-shadow: 0px 1px 3px 1px rgba(0, 0, 0, 0.15);\n",
              "      filter: drop-shadow(0px 1px 2px rgba(0, 0, 0, 0.3));\n",
              "      fill: #FFFFFF;\n",
              "    }\n",
              "  </style>\n",
              "\n",
              "      <script>\n",
              "        const buttonEl =\n",
              "          document.querySelector('#df-08ee1e6f-6ef4-4201-923a-675659a401e6 button.colab-df-convert');\n",
              "        buttonEl.style.display =\n",
              "          google.colab.kernel.accessAllowed ? 'block' : 'none';\n",
              "\n",
              "        async function convertToInteractive(key) {\n",
              "          const element = document.querySelector('#df-08ee1e6f-6ef4-4201-923a-675659a401e6');\n",
              "          const dataTable =\n",
              "            await google.colab.kernel.invokeFunction('convertToInteractive',\n",
              "                                                     [key], {});\n",
              "          if (!dataTable) return;\n",
              "\n",
              "          const docLinkHtml = 'Like what you see? Visit the ' +\n",
              "            '<a target=\"_blank\" href=https://colab.research.google.com/notebooks/data_table.ipynb>data table notebook</a>'\n",
              "            + ' to learn more about interactive tables.';\n",
              "          element.innerHTML = '';\n",
              "          dataTable['output_type'] = 'display_data';\n",
              "          await google.colab.output.renderOutput(dataTable, element);\n",
              "          const docLink = document.createElement('div');\n",
              "          docLink.innerHTML = docLinkHtml;\n",
              "          element.appendChild(docLink);\n",
              "        }\n",
              "      </script>\n",
              "    </div>\n",
              "  </div>\n",
              "  "
            ]
          },
          "metadata": {},
          "execution_count": 80
        }
      ]
    },
    {
      "cell_type": "markdown",
      "source": [
        "Use [`pd.concat`](https://pandas.pydata.org/docs/reference/api/pandas.concat.html) to concatenate `frame1` and `frame2` into a new DataFrame `df`. Make sure you set the `ignore_index` argument to `True`."
      ],
      "metadata": {
        "id": "Ucg3vg_vDznP"
      }
    },
    {
      "cell_type": "code",
      "source": [
        "df = pd.concat([frame1, frame2], ignore_index = True)\n",
        "print(df.info())\n",
        "df.head()"
      ],
      "metadata": {
        "colab": {
          "base_uri": "https://localhost:8080/",
          "height": 0
        },
        "id": "Xq_8Mc0WD0Kx",
        "outputId": "fe2f263a-1cdd-48d1-e669-0579200f9942"
      },
      "execution_count": 81,
      "outputs": [
        {
          "output_type": "stream",
          "name": "stdout",
          "text": [
            "<class 'pandas.core.frame.DataFrame'>\n",
            "RangeIndex: 2658 entries, 0 to 2657\n",
            "Data columns (total 18 columns):\n",
            " #   Column                      Non-Null Count  Dtype  \n",
            "---  ------                      --------------  -----  \n",
            " 0   Unnamed: 0                  2658 non-null   int64  \n",
            " 1   operation                   2658 non-null   object \n",
            " 2   property_type               2658 non-null   object \n",
            " 3   place_with_parent_names     2658 non-null   object \n",
            " 4   price                       2658 non-null   float64\n",
            " 5   currency                    2658 non-null   object \n",
            " 6   price_aprox_local_currency  2658 non-null   float64\n",
            " 7   price_aprox_usd             2658 non-null   float64\n",
            " 8   surface_total_in_m2         1898 non-null   float64\n",
            " 9   surface_covered_in_m2       2658 non-null   float64\n",
            " 10  price_usd_per_m2            1818 non-null   float64\n",
            " 11  price_per_m2                2658 non-null   float64\n",
            " 12  floor                       769 non-null    float64\n",
            " 13  rooms                       2137 non-null   float64\n",
            " 14  expenses                    688 non-null    float64\n",
            " 15  properati_url               2658 non-null   object \n",
            " 16  lat                         2561 non-null   float64\n",
            " 17  lon                         2561 non-null   float64\n",
            "dtypes: float64(12), int64(1), object(5)\n",
            "memory usage: 373.9+ KB\n",
            "None\n"
          ]
        },
        {
          "output_type": "execute_result",
          "data": {
            "text/plain": [
              "   Unnamed: 0 operation property_type  \\\n",
              "0           5      sell     apartment   \n",
              "1          10      sell     apartment   \n",
              "2          30      sell     apartment   \n",
              "3          41      sell     apartment   \n",
              "4          42      sell     apartment   \n",
              "\n",
              "                    place_with_parent_names     price currency  \\\n",
              "0     |Argentina|Capital Federal|Chacarita|  129000.0      USD   \n",
              "1    |Argentina|Capital Federal|Villa Luro|   87000.0      USD   \n",
              "2     |Argentina|Capital Federal|Caballito|  118000.0      USD   \n",
              "3  |Argentina|Capital Federal|Constitución|   57000.0      USD   \n",
              "4          |Argentina|Capital Federal|Once|   90000.0      USD   \n",
              "\n",
              "   price_aprox_local_currency  price_aprox_usd  surface_total_in_m2  \\\n",
              "0                   1955949.6         129000.0                 76.0   \n",
              "1                   1319128.8          87000.0                 48.0   \n",
              "2                   1789163.2         118000.0                  NaN   \n",
              "3                    864256.8          57000.0                 42.0   \n",
              "4                   1364616.0          90000.0                 57.0   \n",
              "\n",
              "   surface_covered_in_m2  price_usd_per_m2  price_per_m2  floor  rooms  \\\n",
              "0                   70.0       1697.368421   1842.857143    NaN    NaN   \n",
              "1                   42.0       1812.500000   2071.428571    NaN    NaN   \n",
              "2                   54.0               NaN   2185.185185    NaN    2.0   \n",
              "3                   42.0       1357.142857   1357.142857    5.0    2.0   \n",
              "4                   50.0       1578.947368   1800.000000    NaN    3.0   \n",
              "\n",
              "   expenses                                      properati_url        lat  \\\n",
              "0       NaN  http://chacarita.properati.com.ar/10qlv_venta_... -34.584651   \n",
              "1       NaN  http://villa-luro.properati.com.ar/12m82_venta... -34.638979   \n",
              "2       NaN  http://caballito.properati.com.ar/11wqh_venta_... -34.615847   \n",
              "3     364.0  http://constitucion.properati.com.ar/k2f0_vent... -34.625222   \n",
              "4     450.0  http://once.properati.com.ar/suwa_venta_depart... -34.610610   \n",
              "\n",
              "         lon  \n",
              "0 -58.454693  \n",
              "1 -58.500115  \n",
              "2 -58.459957  \n",
              "3 -58.382382  \n",
              "4 -58.412511  "
            ],
            "text/html": [
              "\n",
              "  <div id=\"df-acfd889a-0448-4113-8821-5560e2f07105\">\n",
              "    <div class=\"colab-df-container\">\n",
              "      <div>\n",
              "<style scoped>\n",
              "    .dataframe tbody tr th:only-of-type {\n",
              "        vertical-align: middle;\n",
              "    }\n",
              "\n",
              "    .dataframe tbody tr th {\n",
              "        vertical-align: top;\n",
              "    }\n",
              "\n",
              "    .dataframe thead th {\n",
              "        text-align: right;\n",
              "    }\n",
              "</style>\n",
              "<table border=\"1\" class=\"dataframe\">\n",
              "  <thead>\n",
              "    <tr style=\"text-align: right;\">\n",
              "      <th></th>\n",
              "      <th>Unnamed: 0</th>\n",
              "      <th>operation</th>\n",
              "      <th>property_type</th>\n",
              "      <th>place_with_parent_names</th>\n",
              "      <th>price</th>\n",
              "      <th>currency</th>\n",
              "      <th>price_aprox_local_currency</th>\n",
              "      <th>price_aprox_usd</th>\n",
              "      <th>surface_total_in_m2</th>\n",
              "      <th>surface_covered_in_m2</th>\n",
              "      <th>price_usd_per_m2</th>\n",
              "      <th>price_per_m2</th>\n",
              "      <th>floor</th>\n",
              "      <th>rooms</th>\n",
              "      <th>expenses</th>\n",
              "      <th>properati_url</th>\n",
              "      <th>lat</th>\n",
              "      <th>lon</th>\n",
              "    </tr>\n",
              "  </thead>\n",
              "  <tbody>\n",
              "    <tr>\n",
              "      <th>0</th>\n",
              "      <td>5</td>\n",
              "      <td>sell</td>\n",
              "      <td>apartment</td>\n",
              "      <td>|Argentina|Capital Federal|Chacarita|</td>\n",
              "      <td>129000.0</td>\n",
              "      <td>USD</td>\n",
              "      <td>1955949.6</td>\n",
              "      <td>129000.0</td>\n",
              "      <td>76.0</td>\n",
              "      <td>70.0</td>\n",
              "      <td>1697.368421</td>\n",
              "      <td>1842.857143</td>\n",
              "      <td>NaN</td>\n",
              "      <td>NaN</td>\n",
              "      <td>NaN</td>\n",
              "      <td>http://chacarita.properati.com.ar/10qlv_venta_...</td>\n",
              "      <td>-34.584651</td>\n",
              "      <td>-58.454693</td>\n",
              "    </tr>\n",
              "    <tr>\n",
              "      <th>1</th>\n",
              "      <td>10</td>\n",
              "      <td>sell</td>\n",
              "      <td>apartment</td>\n",
              "      <td>|Argentina|Capital Federal|Villa Luro|</td>\n",
              "      <td>87000.0</td>\n",
              "      <td>USD</td>\n",
              "      <td>1319128.8</td>\n",
              "      <td>87000.0</td>\n",
              "      <td>48.0</td>\n",
              "      <td>42.0</td>\n",
              "      <td>1812.500000</td>\n",
              "      <td>2071.428571</td>\n",
              "      <td>NaN</td>\n",
              "      <td>NaN</td>\n",
              "      <td>NaN</td>\n",
              "      <td>http://villa-luro.properati.com.ar/12m82_venta...</td>\n",
              "      <td>-34.638979</td>\n",
              "      <td>-58.500115</td>\n",
              "    </tr>\n",
              "    <tr>\n",
              "      <th>2</th>\n",
              "      <td>30</td>\n",
              "      <td>sell</td>\n",
              "      <td>apartment</td>\n",
              "      <td>|Argentina|Capital Federal|Caballito|</td>\n",
              "      <td>118000.0</td>\n",
              "      <td>USD</td>\n",
              "      <td>1789163.2</td>\n",
              "      <td>118000.0</td>\n",
              "      <td>NaN</td>\n",
              "      <td>54.0</td>\n",
              "      <td>NaN</td>\n",
              "      <td>2185.185185</td>\n",
              "      <td>NaN</td>\n",
              "      <td>2.0</td>\n",
              "      <td>NaN</td>\n",
              "      <td>http://caballito.properati.com.ar/11wqh_venta_...</td>\n",
              "      <td>-34.615847</td>\n",
              "      <td>-58.459957</td>\n",
              "    </tr>\n",
              "    <tr>\n",
              "      <th>3</th>\n",
              "      <td>41</td>\n",
              "      <td>sell</td>\n",
              "      <td>apartment</td>\n",
              "      <td>|Argentina|Capital Federal|Constitución|</td>\n",
              "      <td>57000.0</td>\n",
              "      <td>USD</td>\n",
              "      <td>864256.8</td>\n",
              "      <td>57000.0</td>\n",
              "      <td>42.0</td>\n",
              "      <td>42.0</td>\n",
              "      <td>1357.142857</td>\n",
              "      <td>1357.142857</td>\n",
              "      <td>5.0</td>\n",
              "      <td>2.0</td>\n",
              "      <td>364.0</td>\n",
              "      <td>http://constitucion.properati.com.ar/k2f0_vent...</td>\n",
              "      <td>-34.625222</td>\n",
              "      <td>-58.382382</td>\n",
              "    </tr>\n",
              "    <tr>\n",
              "      <th>4</th>\n",
              "      <td>42</td>\n",
              "      <td>sell</td>\n",
              "      <td>apartment</td>\n",
              "      <td>|Argentina|Capital Federal|Once|</td>\n",
              "      <td>90000.0</td>\n",
              "      <td>USD</td>\n",
              "      <td>1364616.0</td>\n",
              "      <td>90000.0</td>\n",
              "      <td>57.0</td>\n",
              "      <td>50.0</td>\n",
              "      <td>1578.947368</td>\n",
              "      <td>1800.000000</td>\n",
              "      <td>NaN</td>\n",
              "      <td>3.0</td>\n",
              "      <td>450.0</td>\n",
              "      <td>http://once.properati.com.ar/suwa_venta_depart...</td>\n",
              "      <td>-34.610610</td>\n",
              "      <td>-58.412511</td>\n",
              "    </tr>\n",
              "  </tbody>\n",
              "</table>\n",
              "</div>\n",
              "      <button class=\"colab-df-convert\" onclick=\"convertToInteractive('df-acfd889a-0448-4113-8821-5560e2f07105')\"\n",
              "              title=\"Convert this dataframe to an interactive table.\"\n",
              "              style=\"display:none;\">\n",
              "        \n",
              "  <svg xmlns=\"http://www.w3.org/2000/svg\" height=\"24px\"viewBox=\"0 0 24 24\"\n",
              "       width=\"24px\">\n",
              "    <path d=\"M0 0h24v24H0V0z\" fill=\"none\"/>\n",
              "    <path d=\"M18.56 5.44l.94 2.06.94-2.06 2.06-.94-2.06-.94-.94-2.06-.94 2.06-2.06.94zm-11 1L8.5 8.5l.94-2.06 2.06-.94-2.06-.94L8.5 2.5l-.94 2.06-2.06.94zm10 10l.94 2.06.94-2.06 2.06-.94-2.06-.94-.94-2.06-.94 2.06-2.06.94z\"/><path d=\"M17.41 7.96l-1.37-1.37c-.4-.4-.92-.59-1.43-.59-.52 0-1.04.2-1.43.59L10.3 9.45l-7.72 7.72c-.78.78-.78 2.05 0 2.83L4 21.41c.39.39.9.59 1.41.59.51 0 1.02-.2 1.41-.59l7.78-7.78 2.81-2.81c.8-.78.8-2.07 0-2.86zM5.41 20L4 18.59l7.72-7.72 1.47 1.35L5.41 20z\"/>\n",
              "  </svg>\n",
              "      </button>\n",
              "      \n",
              "  <style>\n",
              "    .colab-df-container {\n",
              "      display:flex;\n",
              "      flex-wrap:wrap;\n",
              "      gap: 12px;\n",
              "    }\n",
              "\n",
              "    .colab-df-convert {\n",
              "      background-color: #E8F0FE;\n",
              "      border: none;\n",
              "      border-radius: 50%;\n",
              "      cursor: pointer;\n",
              "      display: none;\n",
              "      fill: #1967D2;\n",
              "      height: 32px;\n",
              "      padding: 0 0 0 0;\n",
              "      width: 32px;\n",
              "    }\n",
              "\n",
              "    .colab-df-convert:hover {\n",
              "      background-color: #E2EBFA;\n",
              "      box-shadow: 0px 1px 2px rgba(60, 64, 67, 0.3), 0px 1px 3px 1px rgba(60, 64, 67, 0.15);\n",
              "      fill: #174EA6;\n",
              "    }\n",
              "\n",
              "    [theme=dark] .colab-df-convert {\n",
              "      background-color: #3B4455;\n",
              "      fill: #D2E3FC;\n",
              "    }\n",
              "\n",
              "    [theme=dark] .colab-df-convert:hover {\n",
              "      background-color: #434B5C;\n",
              "      box-shadow: 0px 1px 3px 1px rgba(0, 0, 0, 0.15);\n",
              "      filter: drop-shadow(0px 1px 2px rgba(0, 0, 0, 0.3));\n",
              "      fill: #FFFFFF;\n",
              "    }\n",
              "  </style>\n",
              "\n",
              "      <script>\n",
              "        const buttonEl =\n",
              "          document.querySelector('#df-acfd889a-0448-4113-8821-5560e2f07105 button.colab-df-convert');\n",
              "        buttonEl.style.display =\n",
              "          google.colab.kernel.accessAllowed ? 'block' : 'none';\n",
              "\n",
              "        async function convertToInteractive(key) {\n",
              "          const element = document.querySelector('#df-acfd889a-0448-4113-8821-5560e2f07105');\n",
              "          const dataTable =\n",
              "            await google.colab.kernel.invokeFunction('convertToInteractive',\n",
              "                                                     [key], {});\n",
              "          if (!dataTable) return;\n",
              "\n",
              "          const docLinkHtml = 'Like what you see? Visit the ' +\n",
              "            '<a target=\"_blank\" href=https://colab.research.google.com/notebooks/data_table.ipynb>data table notebook</a>'\n",
              "            + ' to learn more about interactive tables.';\n",
              "          element.innerHTML = '';\n",
              "          dataTable['output_type'] = 'display_data';\n",
              "          await google.colab.output.renderOutput(dataTable, element);\n",
              "          const docLink = document.createElement('div');\n",
              "          docLink.innerHTML = docLinkHtml;\n",
              "          element.appendChild(docLink);\n",
              "        }\n",
              "      </script>\n",
              "    </div>\n",
              "  </div>\n",
              "  "
            ]
          },
          "metadata": {},
          "execution_count": 81
        }
      ]
    },
    {
      "cell_type": "markdown",
      "source": [
        "## Explore"
      ],
      "metadata": {
        "id": "CRVKvxohD-sc"
      }
    },
    {
      "cell_type": "markdown",
      "source": [
        "In this lesson, we're building a multiple linear regression model that predicts price based on two features, `\"lon\"` and `\"lat\"`. This means that our data visualizations now have to communicate three pieces of information: Longitude, latitude, and price. How can we represent these three attributes on a two-dimensional screen?\n",
        "\n",
        "One option is to incorporate color into our scatter plot. For example, in the Mapbox scatter plot below, the location of each point represents latitude and longitude, and color represents price."
      ],
      "metadata": {
        "id": "WhxETT8LEKp3"
      }
    },
    {
      "cell_type": "code",
      "source": [
        "\n",
        "\n",
        "fig = px.scatter_mapbox(\n",
        "    df,  # Our DataFrame\n",
        "    lat=\"lat\",\n",
        "    lon=\"lon\",\n",
        "    width=600,  # Width of map\n",
        "    height=600,  # Height of map\n",
        "    color=\"price\",\n",
        "    hover_data=[\"price_aprox_usd\"],  # Display price when hovering mouse over house\n",
        ")\n",
        "\n",
        "fig.update_layout(mapbox_style=\"open-street-map\")\n",
        "\n",
        "fig.show()"
      ],
      "metadata": {
        "colab": {
          "base_uri": "https://localhost:8080/",
          "height": 0
        },
        "id": "hHrK9XxwD_aj",
        "outputId": "7048829d-89e1-47a1-bbc7-6b8aa0b14c42"
      },
      "execution_count": 82,
      "outputs": [
        {
          "output_type": "display_data",
          "data": {
            "text/html": [
              "<html>\n",
              "<head><meta charset=\"utf-8\" /></head>\n",
              "<body>\n",
              "    <div>            <script src=\"https://cdnjs.cloudflare.com/ajax/libs/mathjax/2.7.5/MathJax.js?config=TeX-AMS-MML_SVG\"></script><script type=\"text/javascript\">if (window.MathJax) {MathJax.Hub.Config({SVG: {font: \"STIX-Web\"}});}</script>                <script type=\"text/javascript\">window.PlotlyConfig = {MathJaxConfig: 'local'};</script>\n",
              "        <script src=\"https://cdn.plot.ly/plotly-2.8.3.min.js\"></script>                <div id=\"16336ff2-a10a-4cfc-bcbe-35c7c791ff84\" class=\"plotly-graph-div\" style=\"height:600px; width:600px;\"></div>            <script type=\"text/javascript\">                                    window.PLOTLYENV=window.PLOTLYENV || {};                                    if (document.getElementById(\"16336ff2-a10a-4cfc-bcbe-35c7c791ff84\")) {                    Plotly.newPlot(                        \"16336ff2-a10a-4cfc-bcbe-35c7c791ff84\",                        [{\"customdata\":[[129000.0],[87000.0],[118000.0],[57000.0],[90000.0],[138000.0],[114000.0],[82000.0],[166000.0],[136500.0],[75000.0],[68000.0],[80000.0],[125000.0],[120000.0],[145000.0],[95000.0],[155000.0],[300000.0],[95000.0],[82000.0],[129000.0],[280000.0],[125151.86],[103144.44],[118885.0],[190000.0],[157000.0],[119000.0],[290000.0],[149000.0],[199000.0],[74400.0],[130000.0],[140000.0],[179869.0],[89000.0],[80000.0],[40711.36],[84000.0],[110000.0],[115000.0],[137500.0],[88000.0],[115000.0],[83000.0],[107000.0],[129500.0],[160000.0],[97000.0],[84000.0],[85000.0],[90000.0],[27279.0],[230000.0],[64900.0],[90000.0],[142200.0],[140000.0],[114000.0],[122000.0],[99969.74],[80000.0],[120000.0],[112000.0],[85000.0],[150000.0],[86500.0],[92400.0],[110000.0],[122000.0],[271000.0],[170000.0],[235000.0],[165000.0],[170000.0],[84000.0],[90000.0],[140000.0],[99000.0],[95000.0],[155000.0],[147000.0],[156000.0],[79000.0],[110000.0],[158000.0],[249000.0],[146000.0],[158000.0],[92000.0],[92000.0],[99000.0],[250000.0],[112000.0],[120000.0],[189000.0],[95000.0],[116000.0],[85000.0],[71500.0],[37983.0],[110000.0],[120000.0],[90000.0],[85000.0],[95000.0],[105000.0],[58000.0],[108432.25],[250000.0],[265000.0],[79000.0],[81360.0],[108000.0],[128260.0],[136000.0],[210000.0],[130730.17],[166000.0],[156000.0],[165000.0],[76095.39],[184000.0],[133000.0],[94635.0],[184150.0],[179500.0],[64000.0],[280000.0],[106000.0],[99000.0],[105500.0],[165000.0],[120000.0],[93000.0],[149000.0],[185000.0],[57000.0],[122000.0],[181000.0],[330000.0],[150000.0],[130000.0],[115000.0],[83850.0],[195514.05],[107000.0],[189000.0],[139500.0],[92000.0],[128000.0],[230000.0],[226000.0],[107000.0],[134000.0],[97000.0],[370000.0],[82393.28],[66605.0],[110000.0],[100000.0],[52000.0],[213000.0],[215315.1],[245000.0],[124900.0],[150000.0],[122000.0],[120000.0],[84800.0],[189900.0],[128000.0],[95164.0],[125000.0],[122000.0],[60000.0],[255000.0],[99538.0],[230000.0],[110000.0],[80000.0],[133000.0],[89500.0],[175000.0],[94300.0],[162233.79],[114998.09],[199500.0],[94000.0],[125900.0],[178000.0],[152000.0],[98000.0],[125000.0],[158000.0],[150277.0],[91814.31],[195000.0],[72000.0],[84062.58],[64900.0],[131000.0],[137000.0],[138000.0],[111530.32],[159500.0],[175000.0],[309000.0],[95000.0],[73000.0],[87000.0],[73000.0],[105485.0],[382015.0],[95700.0],[174000.0],[120000.0],[120000.0],[67000.0],[122000.0],[92082.74],[83000.0],[130000.0],[139000.0],[120000.0],[111000.0],[95000.0],[221700.0],[205000.0],[90000.0],[220000.0],[125000.0],[99000.0],[132000.0],[197900.0],[78000.0],[114000.0],[100000.0],[108600.0],[157000.0],[360877.62],[60000.0],[97000.0],[136000.0],[240000.0],[142000.0],[310000.0],[103018.0],[107000.0],[101613.98],[135000.0],[119000.0],[220000.0],[185000.0],[170000.0],[227473.79],[85000.0],[150000.0],[130000.0],[175000.0],[180000.0],[331000.0],[92000.0],[93900.0],[140000.0],[78800.0],[95000.0],[155000.0],[68000.0],[145000.0],[98000.0],[94500.0],[67600.0],[195000.0],[77000.0],[298000.0],[85000.0],[109000.0],[133000.0],[72000.0],[93327.01],[63000.0],[87000.0],[64651.88],[195000.0],[260000.0],[169500.0],[129000.0],[119000.0],[88000.0],[100306.0],[97000.0],[86000.0],[90000.0],[112677.0],[145000.0],[150000.0],[210000.0],[100000.0],[76000.0],[95568.0],[175000.0],[94000.0],[195000.0],[145000.0],[159000.0],[120000.0],[350000.0],[84500.0],[115000.0],[73800.0],[130000.0],[110000.0],[132000.0],[169000.0],[189000.0],[78000.0],[138000.0],[90000.0],[62000.0],[157000.0],[138000.0],[84000.0],[88000.0],[140000.0],[198000.0],[61770.0],[92000.0],[104310.53],[157000.0],[91606.0],[85000.0],[145000.0],[120000.0],[275000.0],[75000.0],[99500.0],[53000.0],[65000.0],[210000.0],[160000.0],[85900.0],[103000.0],[137000.0],[135000.0],[119900.0],[193000.0],[102337.45],[139000.0],[290000.0],[158000.0],[140000.0],[95800.0],[233284.66],[200000.0],[75000.0],[145000.0],[295000.0],[79500.0],[123000.0],[91500.0],[135000.0],[83000.0],[180000.0],[85000.0],[380000.0],[180000.0],[137000.0],[107500.0],[143000.0],[118000.0],[176000.0],[78397.32],[230500.0],[158000.0],[165000.0],[138000.0],[152000.0],[165000.0],[78000.0],[153000.0],[105000.0],[170000.0],[140000.0],[69458.0],[110000.0],[84000.0],[105100.0],[103981.68],[160000.0],[105000.0],[73800.0],[248000.0],[133000.0],[88000.0],[112419.0],[137000.0],[200000.0],[160000.0],[174250.0],[105700.0],[268000.0],[135000.0],[84280.0],[92304.0],[220000.0],[90000.0],[265000.0],[189302.0],[314181.23],[240000.0],[102732.06],[152638.0],[78000.0],[70000.0],[205000.0],[102000.0],[145000.0],[95000.0],[73000.0],[95000.0],[90000.0],[107720.0],[105000.0],[149900.0],[299000.0],[129900.0],[222500.0],[98000.0],[109500.0],[270000.0],[99000.0],[98900.0],[88549.51],[148000.0],[174000.0],[70000.0],[149500.0],[99000.0],[94000.0],[98720.12],[83840.0],[165000.0],[125000.0],[289000.0],[119000.0],[85000.0],[142000.0],[117000.0],[78000.0],[52000.0],[92000.0],[150000.0],[135000.0],[115000.0],[115000.0],[140000.0],[105500.0],[85000.0],[99000.0],[114000.0],[79000.0],[39461.74],[115000.0],[112000.0],[91000.0],[125000.0],[138000.0],[150000.0],[157000.0],[85000.0],[80000.0],[127000.0],[74000.0],[85800.0],[202616.0],[80000.0],[279900.0],[165700.0],[146076.0],[82000.0],[154500.0],[135000.0],[170000.0],[95000.0],[95000.0],[90000.0],[240000.0],[75000.0],[255000.0],[82000.0],[127000.0],[340000.0],[124999.0],[138000.0],[160000.0],[71900.0],[115000.0],[89000.0],[90000.0],[70000.0],[210000.0],[190000.0],[140000.0],[119000.0],[187000.0],[125000.0],[75000.0],[220000.0],[150000.0],[146000.0],[55000.0],[99500.0],[123000.0],[112000.0],[195000.0],[78000.0],[72000.0],[182042.34],[187000.0],[131216.0],[130000.0],[79000.0],[105000.0],[108223.82],[205000.0],[195000.0],[80896.57],[65900.0],[66458.0],[239000.0],[95000.0],[281170.0],[93000.0],[104400.0],[96298.22],[130000.0],[95000.0],[158000.0],[290000.0],[185000.0],[130000.0],[120000.0],[85000.0],[87000.0],[88517.0],[125000.0],[145000.0],[72000.0],[152000.0],[219235.0],[158000.0],[98000.0],[148000.0],[75000.0],[199000.0],[88498.0],[99800.0],[94000.0],[87000.0],[78000.0],[88500.0],[230000.0],[87000.0],[145000.0],[119000.0],[169000.0],[67500.0],[91781.43],[80000.0],[75000.0],[81000.0],[105000.0],[130000.0],[95000.0],[183000.0],[125000.0],[162000.0],[96000.0],[109000.0],[122000.0],[120000.0],[126800.0],[89000.0],[97000.0],[190729.0],[95000.0],[118000.0],[98000.0],[130000.0],[130000.0],[177000.0],[225000.0],[245000.0],[94000.0],[152000.0],[196000.0],[142000.0],[120000.0],[141780.0],[185000.0],[105000.0],[100924.45],[279000.0],[104999.0],[76000.0],[115000.0],[90000.0],[125000.0],[84448.12],[155000.0],[130000.0],[143000.0],[89035.0],[153979.85],[70000.0],[249900.0],[124267.0],[115079.0],[120000.0],[236132.0],[92800.0],[84000.0],[160000.0],[110000.0],[98000.0],[83500.0],[130000.0],[110760.0],[145000.0],[84000.0],[133000.0],[147000.0],[93653.0],[70000.0],[115000.0],[285000.0],[150000.0],[96000.0],[205000.0],[92107.0],[142000.0],[78800.0],[210000.0],[98500.0],[85000.0],[69000.0],[90000.0],[117000.0],[170000.0],[154112.0],[86000.0],[175000.0],[95000.0],[95000.0],[190000.0],[165000.0],[85000.0],[95000.0],[98000.0],[260000.0],[215100.0],[88000.0],[90000.0],[118000.0],[154000.0],[233200.0],[245000.0],[191134.0],[114000.0],[205095.0],[123000.0],[208000.0],[190000.0],[220000.0],[140000.0],[66458.0],[199000.0],[97000.0],[88000.0],[160000.0],[279000.0],[165000.0],[99000.0],[85000.0],[120029.46],[100000.0],[280000.0],[130000.0],[73600.0],[325000.0],[79400.0],[85000.0],[330000.0],[125000.0],[119000.0],[71899.0],[88060.0],[70000.0],[85000.0],[95000.0],[285000.0],[135000.0],[112781.45],[72900.0],[230000.0],[124000.0],[130000.0],[96189.0],[190000.0],[86000.0],[135000.0],[81500.0],[110940.0],[111359.0],[140000.0],[125000.0],[84000.0],[127000.0],[79500.0],[90000.0],[105000.0],[134827.61],[98000.0],[130000.0],[220000.0],[86400.0],[90000.0],[99000.0],[220000.0],[87000.0],[82000.0],[105000.0],[226063.0],[108000.0],[83000.0],[67000.0],[75500.0],[90000.0],[120000.0],[115000.0],[91500.0],[132000.0],[145000.0],[130000.0],[114000.0],[59815.05],[220000.0],[94900.0],[189000.0],[170000.0],[125000.0],[107000.0],[203000.0],[75000.0],[70000.0],[100000.0],[80000.0],[395000.0],[85000.0],[90000.0],[71359.98],[99300.0],[129000.0],[122000.0],[98000.0],[245000.0],[215000.0],[135000.0],[97000.0],[155000.0],[181721.32],[135000.0],[65000.0],[92500.0],[149000.0],[225000.0],[109000.0],[105300.0],[125000.0],[135500.0],[95000.0],[94000.0],[82000.0],[95300.1],[150000.0],[176000.0],[70000.0],[108000.0],[185000.0],[191000.0],[179000.0],[90000.0],[180000.0],[129000.0],[145000.0],[88000.0],[276500.0],[94905.48],[183300.0],[78100.0],[146000.0],[125000.0],[76184.0],[80000.0],[84500.0],[93000.0],[93975.0],[127000.0],[105925.77],[125000.0],[104000.0],[118000.0],[148847.0],[144000.0],[149000.0],[73000.0],[75000.0],[135000.0],[146000.0],[110000.0],[78476.25],[101808.0],[105000.0],[137000.0],[80000.0],[90123.38],[165000.0],[127000.0],[100200.0],[115000.0],[120000.0],[270000.0],[75000.0],[88657.38],[69000.0],[85000.0],[165000.0],[99800.0],[135000.0],[184000.0],[84000.0],[159000.0],[95000.0],[60000.0],[110000.0],[75000.0],[99000.0],[115000.0],[230000.0],[84500.0],[92000.0],[75600.0],[109000.0],[205000.0],[93500.0],[159900.0],[154500.0],[118000.0],[197000.0],[80000.0],[177000.0],[83000.0],[85000.0],[131500.0],[130000.0],[95000.0],[118000.0],[148000.0],[116479.68],[138000.0],[74900.0],[150000.0],[155000.0],[136000.0],[175000.0],[190000.0],[68000.0],[120000.0],[85000.0],[92000.0],[110000.0],[138500.0],[74676.0],[62000.0],[135000.0],[82000.0],[235000.0],[240000.0],[190000.0],[149500.0],[73000.0],[96000.0],[165000.0],[160000.0],[91200.0],[89000.0],[93000.0],[110000.0],[79000.0],[140000.0],[84900.0],[390000.0],[145000.0],[89000.0],[85000.0],[185000.0],[135000.0],[99900.0],[272000.0],[275000.0],[170000.0],[144693.05],[159500.0],[149000.0],[80000.0],[74500.0],[125000.0],[183000.0],[169500.0],[132000.0],[65000.0],[47972.65],[89000.0],[112000.0],[309000.0],[76661.01],[180000.0],[175000.0],[114000.0],[109472.0],[129000.0],[115000.0],[115000.0],[75000.0],[130000.0],[145000.0],[185000.0],[122000.0],[120000.0],[250000.0],[85330.88],[260000.0],[175000.0],[176000.0],[87000.0],[320000.0],[120000.0],[93000.0],[241900.0],[240000.0],[90000.0],[143000.0],[138000.0],[115000.0],[158356.0],[150000.0],[190000.0],[350000.0],[75000.0],[159000.0],[175000.0],[119000.0],[210000.0],[79800.0],[176000.0],[97500.0],[75000.0],[85000.0],[160000.0],[185000.0],[92200.0],[165000.0],[167000.0],[151800.0],[149900.0],[155000.0],[85000.0],[81900.0],[240000.0],[80000.0],[105000.0],[85000.0],[102500.0],[115000.0],[148000.0],[359950.0],[85000.0],[95000.0],[151000.0],[74000.0],[300000.0],[65000.0],[185000.0],[250000.0],[239000.0],[180000.0],[92000.0],[148000.0],[150000.0],[72000.0],[128000.0],[136000.0],[120000.0],[220000.0],[166000.0],[330000.0],[92500.0],[112000.0],[180000.0],[102921.0],[135000.0],[99306.0],[190000.0],[340000.0],[86900.0],[92000.0],[145000.0],[120637.7],[125000.0],[149000.0],[173000.0],[156000.0],[110207.0],[143000.0],[125000.0],[93392.78],[145000.0],[165000.0],[60000.0],[145000.0],[168500.0],[139500.0],[155000.0],[120000.0],[70000.0],[70000.0],[93000.0],[115400.0],[195000.0],[95000.0],[175000.0],[320000.0],[214073.0],[138000.0],[77500.0],[189500.0],[148000.0],[193000.0],[130000.0],[165000.0],[138159.0],[157000.0],[105000.0],[352000.0],[75000.0],[85000.0],[94700.0],[300000.0],[123200.0],[220000.0],[145000.0],[155000.0],[85000.0],[69000.0],[102167.0],[85000.0],[102000.0],[158000.0],[135000.0],[95000.0],[135000.0],[90000.0],[84500.0],[89000.0],[63000.0],[185000.0],[260000.0],[75050.0],[95000.0],[115000.0],[79500.0],[233284.66],[185000.0],[119000.0],[124000.0],[109506.33],[150000.0],[150000.0],[110000.0],[195000.0],[166793.0],[95000.0],[165000.0],[153000.0],[169900.0],[78900.0],[89900.0],[121000.0],[125000.0],[290000.0],[175000.0],[268000.0],[84900.0],[123400.0],[108868.17],[260000.0],[71000.0],[180000.0],[84500.0],[90000.0],[160000.0],[180000.0],[74800.0],[103587.07],[270000.0],[72000.0],[73000.0],[300000.0],[140000.0],[115000.0],[210000.0],[115000.0],[105000.0],[90000.0],[175000.0],[150000.0],[70000.0],[105000.0],[232000.0],[200000.0],[92625.0],[131000.0],[245000.0],[235000.0],[123000.0],[98000.0],[178000.0],[92000.0],[120000.0],[100000.0],[165000.0],[208000.0],[146000.0],[162911.22],[113360.0],[115000.0],[105000.0],[158000.0],[97000.0],[89500.0],[210000.0],[179375.0],[165000.0],[172000.0],[88000.0],[216500.0],[89000.0],[188000.0],[395000.0],[106000.0],[220000.0],[130000.0],[179500.0],[239000.0],[122907.6],[319000.0],[265000.0],[125000.0],[140000.0],[115000.0],[197000.0],[150000.0],[200000.0],[82500.0],[80000.0],[58000.0],[82988.04],[179000.0],[145000.0],[165000.0],[193000.0],[117500.0],[193500.0],[112000.0],[88986.22],[110760.0],[73900.0],[144900.0],[155000.0],[162000.0],[195000.0],[105000.0],[95000.0],[82500.0],[80000.0],[143000.0],[110000.0],[139000.0],[96500.0],[150000.0],[80000.0],[125000.0],[108000.0],[164900.0],[150000.0],[149000.0],[68000.0],[330000.0],[135000.0],[110000.0],[149000.0],[149000.0],[179500.0],[63500.0],[120000.0],[80000.0],[105000.0],[240000.0],[85000.0],[60000.0],[112000.0],[90000.0],[176900.0],[112677.0],[72000.0],[130000.0],[125000.0],[69000.0],[138000.0],[93000.0],[99000.0],[225000.0],[123000.0],[265000.0],[134000.0],[150000.0],[59000.0],[165000.0],[145000.0],[87000.0],[55000.0],[169000.0],[135000.0],[137000.0],[65000.0],[89000.0],[141300.0],[125000.0],[106250.0],[126000.0],[97500.0],[120000.0],[71361.0],[115000.0],[82000.0],[155000.0],[170000.0],[110000.0],[190000.0],[178000.0],[235000.0],[85000.0],[130000.0],[90000.0],[120000.0],[105000.0],[90000.0],[120000.0],[126446.0],[79447.0],[36173.26],[224000.0],[144693.05],[140000.0],[75000.0],[134000.0],[164000.0],[147000.0],[175000.0],[155000.0],[89000.0],[168000.0],[85000.0],[156000.0],[149000.0],[59000.0],[138000.0],[185000.0],[59640.0],[100000.0],[73600.0],[205095.0],[215000.0],[77000.0],[168000.0],[160000.0],[315000.0],[95000.0],[115000.0],[100000.0],[170000.0],[215000.0],[120000.0],[310000.0],[158000.0],[175000.0],[200000.0],[117620.0],[210000.0],[140000.0],[147733.0],[149500.0],[95100.0],[170000.0],[350000.0],[98000.0],[195000.0],[129500.0],[75000.0],[185000.0],[99000.0],[249000.0],[230000.0],[105000.0],[125000.0],[104000.0],[90000.0],[84500.0],[125000.0],[210000.0],[245000.0],[171900.0],[78000.0],[63000.0],[135000.0],[143100.0],[73536.95],[119000.0],[62000.0],[125000.0],[78000.0],[215000.0],[341550.0],[91156.62],[105000.0],[89681.0],[99000.0],[72000.0],[116000.0],[87000.0],[80000.0],[90000.0],[145000.0],[130000.0],[149000.0],[124000.0],[80000.0],[140000.0],[78000.0],[159000.0],[91617.01],[125000.0],[99120.0],[158000.0],[75500.0],[250000.0],[108000.0],[80000.0],[133000.0],[156000.0],[122000.0],[80000.0],[85000.0],[90000.0],[109000.0],[87000.0],[112000.0],[183000.0],[126000.0],[210000.0],[103000.0],[210000.0],[95000.0],[165000.0],[110000.0],[96483.95],[120000.0],[270000.0],[120000.0],[151006.93],[105000.0],[67000.0],[115000.0],[115000.0],[195000.0],[97800.0],[249000.0],[105000.0],[165000.0],[149000.0],[160000.0],[145000.0],[115000.0],[84000.0],[85000.0],[120000.0],[200000.0],[68000.0],[84000.0],[144500.0],[200000.0],[114000.0],[58000.0],[135000.0],[155000.0],[77900.0],[92000.0],[99000.0],[80000.0],[180000.0],[78000.0],[125000.0],[142000.0],[120000.0],[94900.0],[146000.0],[143000.0],[59200.0],[73536.95],[115000.0],[306990.45],[73000.0],[192000.0],[90000.0],[179000.0],[189500.0],[78000.0],[111810.57],[102000.0],[105000.0],[100000.0],[110000.0],[120000.0],[310000.0],[149900.0],[151000.0],[96000.0],[110000.0],[139000.0],[140000.0],[75000.0],[189000.0],[259000.0],[91200.0],[95000.0],[83336.62],[119636.0],[95000.0],[110000.0],[119930.0],[98000.0],[155000.0],[118110.0],[105000.0],[123000.0],[90000.0],[240000.0],[64000.0],[295000.0],[78500.0],[129500.0],[82000.0],[197000.0],[174900.0],[280000.0],[84000.0],[94000.0],[115100.0],[88000.0],[109000.0],[158000.0],[84000.0],[121739.47],[120000.0],[95000.0],[81000.0],[110000.0],[138000.0],[109800.0],[77000.0],[113452.5],[105000.0],[91800.0],[110000.0],[62744.16],[67000.0],[235000.0],[200044.26],[85000.0],[128000.0],[139900.0],[85000.0],[200000.0],[146000.0],[149000.0],[101443.0],[330000.0],[115000.0],[108576.0],[43000.0],[126000.0],[185000.0],[196500.0],[300000.0],[73190.0],[62000.0],[170000.0],[117000.0],[81000.0],[80000.0],[144900.0],[110000.0],[232726.0],[179500.0],[115000.0],[153000.0],[190000.0],[65000.0],[83500.0],[318000.0],[99000.0],[85900.0],[108633.0],[90000.0],[182000.0],[99000.0],[210000.0],[88000.0],[69058.04],[79000.0],[181622.66],[65000.0],[84000.0],[139000.0],[159000.0],[140000.0],[250000.0],[95000.0],[182000.0],[180000.0],[158000.0],[78800.0],[90000.0],[109000.0],[120000.0],[124830.64],[159622.74],[154500.0],[105000.0],[109000.0],[91574.0],[82000.0],[117000.0],[235000.0],[65000.0],[135000.0],[70000.0],[132883.09],[82000.0],[139000.0],[118000.0],[87000.0],[99000.0],[130000.0],[139000.0],[167000.0],[71000.0],[86900.0],[255500.0],[183500.0],[94900.0],[68000.0],[90000.0],[105000.0],[190000.0],[84900.0],[89000.0],[82000.0],[80600.0],[97000.0],[80000.0],[75000.0],[92669.32],[128000.0],[214000.0],[71500.0],[99500.0],[143000.0],[101000.0],[210000.0],[146000.0],[233200.0],[112700.0],[160000.0],[95000.0],[259000.0],[93583.0],[89000.0],[54297.9],[124267.0],[85000.0],[140000.0],[210000.0],[168781.0],[115000.0],[125000.0],[165000.0],[85000.0],[360000.0],[62000.0],[173080.0],[142000.0],[132000.0],[165344.69],[217500.0],[107192.0],[62636.0],[70000.0],[175000.0],[72000.0],[170000.0],[100000.0],[340000.0],[98000.0],[85118.97],[365000.0],[105000.0],[165000.0],[106000.0],[84000.0],[90000.0],[85000.0],[75000.0],[85000.0],[225000.0],[153000.0],[101750.0],[71194.0],[95000.0],[135000.0],[123000.0],[70000.0],[90000.0],[222700.0],[93425.0],[85000.0],[121163.0],[57000.0],[64000.0],[156400.0],[99900.0],[270000.0],[125000.0],[149000.0],[115000.0],[118110.0],[120000.0],[290000.0],[193853.0],[122000.0],[249000.0],[105000.0],[176900.0],[129000.0],[79900.0],[97000.0],[109500.0],[240000.0],[74000.0],[135200.0],[108047.3],[137000.0],[76000.0],[100000.0],[95694.72],[111000.0],[149000.0],[204000.0],[70000.0],[164000.0],[255000.0],[81480.0],[220000.0],[55000.0],[55000.0],[90000.0],[125000.0],[110000.0],[112000.0],[90000.0],[195000.0],[98000.0],[154500.0],[92000.0],[150000.0],[73900.0],[93000.0],[170000.0],[129000.0],[152000.0],[70000.0],[140000.0],[255000.0],[145000.0],[75572.85],[189000.0],[200000.0],[271000.0],[250000.0],[127000.0],[60000.0],[92000.0],[116533.0],[94000.0],[125000.0],[266761.37],[70000.0],[125000.0],[113360.0],[155000.0],[169000.0],[125000.0],[94830.0],[147000.0],[105302.0],[142500.0],[375000.0],[70000.0],[206000.0],[92000.0],[26770.84],[78900.0],[175000.0],[110000.0],[209000.0],[79700.0],[145000.0],[72800.0],[136000.0],[82500.0],[79581.17],[182000.0],[64766.58],[108000.0],[185000.0],[183500.0],[150000.0],[237000.0],[107000.0],[129000.0],[135000.0],[125000.0],[99000.0],[96000.0],[130000.0],[175000.0],[126900.0],[89900.0],[159500.0],[139500.0],[260000.0],[260000.0],[82000.0],[109500.0],[132000.0],[198000.0],[155000.0],[249000.0],[135000.0],[112320.0],[93600.0],[149000.0],[135000.0],[70000.0],[150000.0],[194100.0],[119000.0],[70000.0],[98000.0],[79900.0],[120000.0],[82400.0],[203000.0],[112700.0],[85000.0],[207700.0],[125000.0],[130730.17],[210000.0],[105500.0],[153000.0],[155000.0],[65000.0],[84500.0],[209990.0],[300000.0],[235000.0],[275000.0],[225000.0],[156000.0],[118000.0],[85000.0],[82211.96],[85000.0],[74500.0],[180000.0],[99975.0],[165000.0],[93468.0],[75000.0],[100000.0],[170000.0],[95000.0],[50000.0],[83160.0],[165000.0],[280000.0],[110000.0],[99000.0],[80000.0],[125000.0],[105000.0],[84000.0],[180000.0],[187000.0],[85000.0],[90000.0],[110000.0],[135000.0],[145000.0],[248000.0],[92000.0],[89500.0],[160000.0],[123000.0],[105000.0],[104000.0],[155000.0],[158000.0],[97000.0],[98000.0],[58000.0],[107000.0],[78000.0],[64000.0],[125000.0],[85000.0],[191134.0],[112000.0],[177000.0],[120000.0],[140000.0],[126360.0],[85500.0],[88000.0],[88500.0],[58904.0],[170000.0],[115000.0],[75000.0],[69500.0],[139000.0],[98000.0],[130000.0],[148000.0],[74000.0],[129000.0],[78000.0],[130000.0],[135000.0],[115000.0],[125000.0],[132000.0],[369500.0],[155000.0],[77000.0],[69000.0],[269000.0],[159000.0],[71400.0],[120000.0],[162000.0],[105000.0],[297638.0],[75000.0],[120000.0],[170000.0],[169000.0],[115000.0],[240000.0],[110000.0],[85000.0],[128000.0],[138000.0],[74714.23],[95000.0],[65000.0],[165000.0],[158000.0],[112000.0],[70000.0],[145000.0],[65000.0],[219596.0],[205000.0],[74000.0],[81000.0],[235000.0],[380000.0],[91000.0],[156000.0],[147000.0],[129000.0],[117800.0],[179000.0],[235705.0],[115000.0],[85000.0],[135000.0],[108000.0],[149000.0],[158000.0],[85000.0],[99000.0],[130000.0],[120000.0],[82000.0],[112000.0],[116996.0],[115000.0],[112000.0],[59500.0],[145000.0],[85000.0],[135000.0],[158500.0],[169000.0],[160000.0],[73800.0],[92000.0],[135000.0],[224000.0],[95000.0],[99000.0],[98000.0],[330000.0],[164959.0],[75000.0],[190000.0],[135000.0],[121500.0],[159900.0],[139900.0],[105000.0],[73000.0],[200000.0],[65000.0],[125000.0],[99923.7],[103000.0],[99360.0],[144000.0],[137400.0],[145000.0],[82000.0],[215000.0],[105000.0],[85500.0],[90000.0],[189000.0],[115000.0],[72000.0],[87500.0],[330000.0],[290000.0],[170000.0],[135000.0],[106020.54],[88986.22],[115000.0],[95000.0],[185000.0],[67000.0],[93000.0],[150000.0],[82000.0],[139000.0],[118974.0],[225000.0],[290000.0],[129000.0],[89500.0],[122000.0],[89000.0],[125000.0],[98577.0],[133000.0],[99000.0],[110000.0],[102500.0],[118000.0],[142067.0],[125000.0],[130000.0],[79416.75],[189000.0],[313000.0],[174900.0],[145000.0],[109990.0],[179000.0],[125000.0],[166394.0],[91500.0],[133000.0],[170000.0],[57900.0],[79000.0],[215000.0],[198000.0],[170000.0],[139000.0],[170000.0],[100000.0],[72000.0],[117600.0],[126000.0],[150000.0],[93500.0],[252000.0],[85500.0],[69920.0],[98000.0],[101244.0],[176282.37],[97000.0],[180000.0],[87000.0],[89000.0],[259000.0],[145745.36],[232000.0],[130000.0],[149000.0],[180000.0],[82000.0],[99875.0],[85000.0],[95000.0],[134000.0],[99000.0],[178000.0],[225390.0],[115000.0],[69670.0],[75000.0],[110000.0],[165000.0],[180000.0],[148000.0],[368000.0],[102458.0],[230000.0],[88000.0],[100000.0],[144000.0],[78500.0],[173350.0],[165000.0],[122000.0],[149000.0],[120000.0],[145000.0],[76000.0],[83000.0],[112400.0],[200000.0],[106630.0],[125000.0],[139500.0],[190000.0],[73000.0],[130000.0],[120000.0],[61000.0],[109489.0],[240000.0],[205200.0],[290000.0],[110000.0],[140000.0],[111400.0],[159000.0],[129500.0],[105042.68],[90500.0],[114000.0],[101185.0],[66600.0],[196500.0],[169000.0],[98000.0],[105000.0],[106000.0],[180000.0],[92000.0],[92000.0],[259000.0],[265000.0],[138000.0],[70000.0],[250000.0],[231495.0],[105625.0],[266761.37],[89412.0],[80107.33],[178000.0],[84622.02],[96471.0],[99500.0],[68000.0],[99000.0],[170000.0],[150000.0],[165000.0],[81500.0],[120000.0],[105000.0],[210000.0],[60000.0],[260000.0],[184300.0],[100000.0],[154000.0],[135000.0],[162000.0],[135000.0],[195000.0],[79500.0],[248000.0],[65000.0],[69000.0],[40842.9],[180000.0],[120000.0],[114500.0],[100000.0],[165000.0],[168000.0],[85000.0],[149000.0],[110000.0],[120000.0],[290000.0],[120000.0],[74000.0],[112465.96],[168000.0],[180000.0],[140000.0],[165800.0],[75000.0],[250000.0],[159000.0],[135000.0],[93000.0],[117000.0],[89000.0],[94000.0],[92860.0],[290000.0],[138000.0],[116996.0],[140000.0],[64500.0],[260000.0],[119000.0],[137000.0],[129000.0],[158000.0],[96000.0],[89500.0],[105000.0],[153700.0],[206675.0],[78000.0],[89000.0],[180000.0],[117000.0],[125017.42],[108000.0],[134000.0],[225000.0],[214000.0],[175000.0],[110000.0],[110000.0],[68000.0],[166000.0],[158000.0],[245000.0],[140000.0],[67138.0],[80000.0],[165000.0],[172000.0],[118400.0],[125000.0],[132000.0],[84500.0],[148000.0],[78000.0],[64940.87],[113000.0],[48537.94],[165000.0],[73000.0],[98000.0],[70000.0],[58000.0],[89900.0],[249000.0],[106454.95],[142654.19],[89000.0],[155000.0],[135000.0],[85000.0],[210000.0],[84313.0],[76000.0],[295000.0],[90000.0],[99000.0],[98000.0],[83790.43],[79000.0],[90600.0],[86200.0],[75900.0],[133000.0],[250000.0],[105000.0],[96135.0],[108962.0],[145000.0],[119900.0],[172000.0],[130000.0],[205000.0],[233000.0],[115000.0],[72500.0],[75000.0],[149000.0],[220000.0],[120000.0],[105000.0],[98400.0],[144000.0],[107000.0],[213850.0],[109700.0],[150000.0],[67500.0],[73000.0],[285000.0],[120000.0],[85000.0],[220000.0],[267000.0],[72000.0],[179000.0],[175000.0],[115000.0],[79000.0],[220000.0],[155000.0],[99445.0],[365000.0],[136000.0],[135000.0],[87000.0],[110000.0],[338900.0],[115000.0],[112781.45],[205000.0],[76000.0],[180000.0],[87600.0],[85000.0],[144196.0],[155000.0],[79000.0],[98000.0],[398414.95],[115000.0],[125000.0],[62000.0],[255500.0],[330000.0],[138000.0],[249000.0],[95000.0],[58333.0],[125000.0],[127400.0],[135935.0],[168000.0],[101000.0],[270000.0],[60000.0],[165000.0],[131867.98],[290701.49],[171593.0],[119800.0],[136900.0],[123000.0],[166300.0],[82000.0],[67000.0],[160000.0],[118000.0],[75000.0],[148000.0],[225000.0],[126737.96],[94000.0],[135000.0],[83500.0],[125000.0],[127000.0],[175000.0],[100000.0],[42900.0],[320000.0],[150000.0],[68000.0],[112000.0],[169000.0],[117000.0],[105000.0],[99696.0],[175000.0],[180000.0],[155000.0],[152000.0],[254000.0],[330000.0],[94923.0],[115000.0],[237000.0],[239000.0],[175000.0],[92000.0],[120000.0],[230000.0],[103000.0],[118000.0],[99108.03],[197000.0],[84000.0],[240000.0],[112000.0],[320000.0],[176000.0],[118000.0],[123000.0],[79395.0],[295000.0],[89000.0],[94000.0],[115000.0],[170000.0],[73800.0],[104816.96],[115000.0],[175000.0],[89900.0],[80000.0],[139000.0],[340000.0],[108000.0],[95000.0],[290000.0],[71500.0],[116929.0],[95000.0],[98000.0],[93000.0],[100000.0],[128500.0],[95000.0],[140000.0],[91189.0],[285000.0],[78000.0],[365000.0],[93000.0],[195000.0],[145000.0],[62481.09],[165000.0],[181000.0],[79500.0],[150000.0],[89500.0],[75635.0],[156991.96],[74000.0],[185000.0],[140000.0],[78000.0],[105000.0],[149500.0],[164000.0],[130000.0],[105000.0],[120000.0],[81900.0],[105000.0],[117000.0],[260000.0],[138000.0],[78000.0],[115000.0],[136000.0],[95000.0],[210000.0],[157350.0],[85000.0],[111742.49],[86000.0],[185000.0],[170000.0],[75806.0],[114000.0],[110000.0],[115000.0],[60000.0],[80000.0],[100000.0],[58000.0],[330000.0],[160000.0],[205000.0],[105000.0],[61415.0],[107000.0],[47543.0],[155000.0],[129000.0],[175000.0],[205000.0],[148000.0],[24992.43],[90000.0],[119000.0],[119000.0],[85000.0],[136000.0],[55000.0],[170000.0],[142785.73],[170000.0],[165000.0],[107000.0],[125000.0],[84000.0],[123000.0],[75180.0],[150000.0],[90000.0],[155000.0],[120000.0],[145000.0],[109900.0],[59031.0],[83000.0],[100693.21],[70000.0],[155000.0],[149900.0],[125000.0],[90000.0],[125000.0],[249000.0],[164000.0],[112992.12],[259000.0],[95000.0],[85000.0],[188500.0],[98000.0],[215000.0],[109000.0],[86000.0],[110000.0],[128000.0],[129000.0],[89000.0],[85000.0],[94000.0],[45000.0],[84500.0],[180000.0],[118000.0],[121515.0],[91179.37],[105000.0],[238036.0],[103000.0],[100000.0],[285000.0],[94800.0],[155000.0],[101510.0],[105000.0],[145000.0],[110000.0],[220000.0],[106000.0],[160000.0],[72000.0],[158000.0],[105000.0],[100800.0],[140000.0],[138000.0],[56900.0],[85000.0],[110000.0],[93000.0],[205000.0],[165000.0],[95000.0],[92000.0],[62300.0],[210000.0],[85000.0],[300000.0],[69458.0],[84000.0],[97000.0],[120000.0],[135000.0],[105000.0],[180000.0],[120000.0],[77500.0],[280000.0],[105000.0],[99000.0],[89600.0],[84000.0],[92000.0],[158000.0],[73000.0],[92000.0],[78500.0],[120000.0],[156000.0],[179000.0],[95000.0],[150000.0],[195000.0],[95000.0],[115000.0],[106000.0],[205000.0],[109000.0],[235000.0],[87611.0],[120000.0],[114803.0],[160000.0],[90450.0],[330000.0],[225208.0],[135000.0],[75000.0],[82000.0],[158000.0],[99000.0],[173359.0],[126024.0],[97000.0],[130000.0],[128000.0],[98000.0],[145000.0],[115000.0],[250000.0],[93975.0],[75000.0],[148975.0],[76000.0],[131400.0],[100000.0],[155000.0],[225000.0],[65000.0],[115000.0],[164566.71],[125400.0],[152800.0],[220000.0],[75000.0],[79900.0],[89000.0],[179000.0],[125000.0],[121246.2],[99029.7],[245000.0],[210000.0],[72379.41],[205000.0],[115000.0],[85000.0],[295000.0],[106000.0],[210000.0],[115000.0],[165000.0],[79000.0],[170000.0],[120000.0],[150000.0],[120000.0],[64900.0],[94000.0],[84000.0],[78400.0],[259000.0],[132900.0],[180000.0],[89000.0],[112000.0],[145000.0],[180000.0],[119500.0],[266078.94]],\"hovertemplate\":\"lat=%{lat}<br>lon=%{lon}<br>price_aprox_usd=%{customdata[0]}<br>price=%{marker.color}<extra></extra>\",\"lat\":[-34.5846508988,-34.6389789,-34.615847,-34.6252219,-34.6106102,-34.6038236,-34.586103,-34.6265182557,-34.5620844,-34.648143,-34.596715,-34.599722,-34.616182,-34.6034659,-34.6136992,-34.5475074,-34.6087015,-34.5975665,-34.5670929999,-34.645401,-34.6198687,-34.618545,-34.5933599,-34.620556,-34.552129,-34.5620844,-34.5892291,-34.6206701,-34.617869,-34.5972390007,-34.6044029,-34.5628985,-34.6171601,-34.624943,-34.5995053,-34.61098,-34.554535,-34.6266557,-34.6076122891,-34.603367,-34.5987952,-34.546801,-34.5607997,-34.5990818,-34.6085660579,null,-34.6055653,-34.6050835,-34.586177,null,-34.5493135,-34.6200825,-34.556844,-34.5413289,-34.582627,-34.663879,-34.5832049,-34.6603056,-34.616845,-34.570611,-34.6315375,-34.6220775573,-34.56123,-34.5760976609,-34.6254543,-34.5675671,-34.6188022,-34.599277,-34.6039192,-34.618893,-34.6148993692,-34.567984,-34.583263,-34.5750392,-34.5526272,-34.5707228,-34.6114169,-34.6006047,-34.5751543197,-34.5881967,-34.605237,-34.622597,-34.606622,-34.5893031,-34.606709,-34.624235218,-34.5961219,-34.572892,-34.6231484,-34.602288,-34.6416277,-34.6325264,-34.6207818,-34.56404,-34.6001061,-34.615972,-34.574731,-34.5981092,-34.602148,-34.6335163,-34.6285036,-34.5413289,-34.636739,-34.603933,-34.5990666,-34.6421604,null,-34.6036844,-34.643906,-34.6176481,-34.5973156703,-34.5731012,-34.5583606,-34.586418,-34.5801265,-34.61098,-34.5978249,-34.5988783,-34.626917,-34.576241,-34.6015602,-34.6207509,-34.6267687,-34.623771,null,-34.5688712,-34.590836,-34.555221,-34.6146153,-34.5877285,-34.5631975,-34.6119413,-34.60808733,-34.5831329,-34.6132035,-34.584814,-34.5889201,-34.6385261,-34.6055229,-34.5817888,-34.5427503,-34.5870824,-34.6120655,-34.600257,-34.5444571,-34.6256447,-34.6429903,-34.5774559,-34.569348,-34.545956,-34.6066665,-34.536471,-34.6300503,-34.573337,-34.6177447,-34.5783681,-34.6182787,-34.5746861,-34.5977228,-34.5469954989,-34.6044676,-34.5992637343,-34.685112,-34.5822701,-34.5538467,-34.578295,-34.601908,-34.601122,-34.6344407,-34.5814285,-34.6123096302,-34.573226,-34.565895,-34.5688712,-34.6240354,-34.5901166454,null,-34.5933674,-34.6037137392,-34.556396,-34.56822,-34.571953,-34.596653,-34.61747,-34.6205608,-34.6162229,-34.5519084,-34.6204532,-34.6118061,-34.658557,-34.6026363624,-34.5599543233,-34.6125486,-34.6252894049,-34.6001483,-34.5992438171,-34.6013646,-34.6267858,-34.615582,-34.604215,-34.637261,-34.597101,-34.549608,-34.6017006,-34.6038236,-34.6176481,-34.6023526,-34.5976419,-34.5443763617,-34.5974114,-34.604641,-34.6147916,-34.6253319,-34.5620844,-34.567984,-34.586557,-34.5907652,-34.5864871,-34.6054382,-34.6235,-34.6097224,-34.6264374,-34.6045568,-34.5972063,-34.597769,-34.634709,null,-34.5595420674,-34.597769,-34.5760392,-34.5742412,-34.600433,-34.6112232,-34.5692257148,-34.557808,-34.59741,-34.632917,-34.5691963,-34.651762,-34.6028196,-34.6022019,-34.56822,-34.5848617389,-34.6209278,-34.623771,-34.5597901,-34.582649,-34.6037137392,-34.5688504,-34.6738382,-34.6261244,-34.5862322,-34.593848,-34.5585253,-34.6086522,-34.5963329,-34.574537,null,-34.6316435,null,-34.622756,-34.5500232,-34.5602098434,-34.570884,-34.588369,-34.6037137392,-34.620195,-34.6039994,-34.6121896,-34.6160275,null,-34.637834,-34.573723,-34.6184962081,-34.5660741,-34.6149042601,-34.5720545,-34.6226764,-34.62818,-34.6074047747,-34.6374837,-34.6266172,-34.633464,-34.647382,-34.55826,-34.5999764,null,-34.5780621,-34.6135876,-34.5528589,-34.5435062,-34.5468894557,-34.556809,-34.6070921,-34.5856221,-34.5777784,-34.5817176348,-34.601282,-34.6205971,-34.627625,-34.6177615,-34.6037137392,-34.621321,-34.636179,-34.578362,-34.6085504575,-34.602153,-34.566885,-34.561966,-34.60808733,-34.6000747136,-34.617228,-34.603438,-34.5771094737,-34.602623,-34.5848012,-34.5917085,-34.622681,-34.601017,-34.622512,-34.6108831,-34.5596446354,-34.6038236,null,-34.6042164,-34.6307325,-34.554161,-34.6186349,-34.6507766,-34.56822,-34.6223398871,-34.629478,-34.6833842,-34.6063946,-34.6045779,-34.5706322,-34.583784587,-34.6087786,-34.6144978,-34.6119155,-34.5645773032,-34.5938779,-34.592467,-34.6261244,-34.607026,-34.602823,-34.5636949,-34.5624033,-34.6321116,-34.621654,-34.5757551,-34.6010624,-34.6213002,-34.5687875,-34.56822,-34.60662,-34.604293,-34.5966202515,-34.5894701,-34.618015,null,-34.605719,-34.5605705,-34.6392412,-34.5653042899,-34.626001,-34.5861558174,-34.5671171991,-34.6349102655,-34.552745,-34.621433,-34.6087862,-34.557199,-34.6222103,-34.613041,-34.558046,-34.6004038,-34.6037137392,-34.613702,-34.5766379926,-34.6156378,-34.6143545,-34.622264,-34.5975105,-34.5782727,-34.63099,-34.5742806,-34.604941,-34.58625,-34.6204532,-34.6000429,-34.5608555,-34.597255,-34.591999,-34.6073418,-34.5936389,-34.5688712,-34.604515,-34.574527,-34.600998,-34.6153103,-34.62818,-34.5915663,-34.6430209603,-34.6442238986,-34.562909,-34.555416,-34.6119796,-34.569335,-34.5731507,-34.56822,-34.643737,-34.631591,-34.562909,-34.611289,-34.6058536,-34.5675474818,-34.63099,-34.5714065,-34.589875,-34.6173477,-34.6157145,-34.5798552,-34.6244303,-34.6197085691,-34.63259,-34.6269253507,null,-34.597769,-34.5541654,-34.6047969,-34.577367,-34.5685575,-34.602432,-34.5707547,-34.6086686,-34.6315375,-34.6025011,-34.5549509,null,-34.5881967,-34.6321116,-34.6288131,-34.57304,-34.627792,-34.5684201,-34.6051279,-34.5884433,-34.5708216,-34.562803,-34.5658889,-34.631901,-34.5978398,-34.5881852,-34.5889201,-34.5451249855,-34.573034,-34.558509,-34.60808733,-34.632413,-34.6072023,-34.6057005,-34.6045547,-34.6076122891,-34.632656,-34.6226547,-34.6036844,-34.6112232,-34.5790338,-34.6215943543,-34.585554,-34.6185065,-34.572265,-34.5669885,null,-34.597713,-34.589548,null,-34.587097,-34.625307,-34.54179,-34.633021,-34.597769,-34.6206226,null,-34.5937992,-34.603514,-34.6302698,-34.6248691,null,-34.6223398871,-34.6177615,-34.5711496,-34.5613049,-34.598331,-34.6036844,-34.609929,-34.595955,-34.6027679,-34.600022,-34.6539485,-34.6200663,-34.586033,-34.5820910144,-34.598107,-34.6221405894,-34.5686264737,-34.5500517,-34.6100246,-34.5981047382,-34.6097193,-34.597769,-34.6186349,-34.5636408,-34.607587,-34.5907652,-34.5550983,-34.625227,-34.60144,-34.5538467,-34.619895,-34.5688712,-34.604459,-34.624942,-34.599565,-34.623337,-34.5681113,-34.5994246,-34.6177615,-34.616151,-34.63099,-34.5594061,-34.58489,-34.564511,-34.619474,-34.6177225707,null,-34.6401322,-34.5911955,-34.595787,-34.5696558,-34.6390703966,-34.6256602055,-34.584685,-34.6125,-34.590515,-34.6283,-34.6076685,-34.612872,-34.617073,-34.5987301,-34.6223362,-34.557199,-34.6036844,-34.598681,-34.5961213,-34.5905992,-34.610953,-34.5718369,null,-34.5933,-34.5816538,-34.6031379,-34.5625468307,-34.579783,-34.618893,-34.6027301,-34.5868037398,-34.6105529,-34.6214652,-34.5818853,-34.6123648,-34.60801,-34.5582269,-34.616431,null,-34.579968,-34.5989208629,-34.5636498,-34.610826,-34.5361079,-34.6187943,-34.60613,-34.5720808,-34.570884,null,-34.589548,-34.6014275,-34.6206226,-34.6285441,-34.6210893,-34.5832669927,-34.584164,-34.5813995,-34.6035545017,-34.6033089,-34.5708449,-34.5546708,-34.5614675664,-34.6264359,-34.5958969,-34.633333,-34.566505,-34.570884,-34.5893050405,-34.608668,-34.6000876,-34.582036,-34.601351,-34.557199,-34.6321116,-34.5907572,-34.6207377,-34.5938779,-34.5688712,-34.6264374,-34.60751283,-34.5605920994,-34.58423,-34.6244303,-34.5957547,-34.572721,-34.6162229,-34.584399,-34.5962954517,-34.6109202,null,-34.61335,-34.5741034,-34.544171,-34.5986211,-34.6031799,-34.6073418,-34.573917,-34.593335,-34.5775880586,-34.61174,-34.589809,-34.5536629526,-34.6111409182,-34.55982,-34.6014487472,-34.5986461,null,-34.5915663,-34.609502,-34.63003,-34.61321,-34.573525,-34.5548123,-34.5818364,-34.544171,-34.60171,-34.5829764,-34.609508,null,-34.5929249,-34.56537,-34.5611709,-34.6140891,-34.577044,-34.575922,null,-34.588209,-34.6172737911,-34.5701065701,-34.6130232,-34.597769,-34.5930858,-34.54179,-34.61601,-34.6153103,-34.6476061,-34.5898226,-34.6088594,-34.6268136,-34.6212444,-34.6177722,-34.621696,-34.616489,-34.6186575,-34.5537706,-34.5700969,-34.59793,-34.5991142,-34.6132199,-34.6132024,-34.6037137392,-34.5875191,-34.620318,-34.6227163,-34.6148839,-34.561036,-34.6096454,-34.5806183,-34.5495458,-34.6095979,-34.593335,-34.6063416,-34.599477,-34.6110666,-34.617048,-34.5746052,-34.619789,-34.6177615,-34.629398,-34.5900642,-34.5391519,-34.546659,-34.572721,null,-34.60672,-34.5925561,-34.58625,-34.5981394,-34.6244303,-34.586138,-34.606967,-34.6133619,-34.620698,-34.6070697666,-34.6127235,-34.6189485,-34.620556,-34.620043,-34.6148053,-34.576864,-34.617975,-34.609251,-34.61901,-34.5716907995,-34.596662,-34.6340028063,-34.6121231,-34.572721,-34.638122,-34.605735,-34.6233306,-34.6313393607,-34.5976889,-34.5861553,-34.5966566,-34.639048,-34.559446,-34.554374,-34.5553119,-34.58751,-34.5888889,-34.63295,-34.623868,-34.578237,-34.577857,-34.6118917,-34.592068,-34.6113922,-34.599055,-34.6033997612,-34.637834,-34.632076,-34.607036,-34.6378706,-34.6174473,-34.5677019,-34.6195076,-34.6107644,-34.5804014042,-34.6246107,-34.5898479,-34.5968099043,-34.6313504,-34.5560058,-34.5512502,-34.5514604244,-34.629394,-34.6535155,-34.6381014,-34.568528,-34.5859727,-34.6050004,-34.62818,-34.633449,-34.553811,-34.6031267,-34.5715462,-34.6316459,null,-34.567026,-34.610635,-34.6243555704,-34.5972185,-34.5602381374,-34.5495227,-34.549461,-34.5830691,-34.5620246,null,-34.6306674,-34.5786879,-34.595346,-34.6235,-34.5719003943,-34.5933706,-34.58751,-34.5843603,-34.593335,-34.5758276,-34.60615,-34.5663095,-34.595916,-34.560245,-34.6173646,-34.6414216,-34.5783349,-34.5493342,-34.6125496,-34.6234204,-34.5729256,-34.6312846,-34.583376,-34.602763873,null,-34.623632,-34.620556,-34.6148483,-34.5989732,-34.607026,null,-34.637261,-34.637834,-34.632917,-34.5564958379,-34.5742368234,-34.6046743299,-34.562086,-34.5936671,-34.6288527962,-34.6213248919,-34.598987,-34.596431,-34.578829,-34.6225465508,-34.5970138957,-34.6303559,-34.5627120494,-34.6251184,-34.6627068247,-34.5942724,-34.6168109,-34.6062543713,-34.6371937,-34.6304352,-34.623511,-34.602018189,-34.623749,-34.6036554,-34.571477,-34.6031267,-34.588209,-34.59475,-34.5572395,-34.5804119,-34.605789,-34.6150122,-34.6130871,-34.599703,-34.598107,-34.628105,-34.6256063,-34.605963,-34.5608635,-34.606182,-34.5538375,-34.625153,-34.6414041336,-34.5537438,-34.5978249,-34.5519973086,-34.5614806844,-34.643274,-34.5677584,-34.6116423,-34.5572395,-34.6331221,-34.587874,-34.593335,-34.648355,-34.613259,null,-34.578705,-34.594393,-34.5782365,-34.6025109,-34.6045835,-34.5609681,-34.5975665,-34.6206092,-34.5824698,-34.6210349,-34.6035293,-34.6072245,-34.623395,-34.5843603,-34.6296861,-34.6134686,-34.5838899,-34.5868243,-34.5990819676,-34.6243382284,-34.5942200865,-34.595311,-34.5909274,-34.579447,-34.636891,-34.6264374,-34.5961309,-34.5976786,-34.616328,-34.5632157,-34.5991285,-34.6140311,-34.6299244,-34.579164,-34.616027,-34.6444745,-34.617634,-34.631813,-34.5443763617,-34.620556,-34.5650308,-34.5972096913,-34.5658015878,-34.564511,-34.5953532,-34.6166811,-34.583705,-34.6005215,-34.6492032,-34.6120151,-34.5979106,-34.6244262,-34.5551536,-34.5492098,-34.5518,-34.5945010166,-34.5925,-34.62421,-34.6572422,-34.5862396,-34.6260802,-34.565648,-34.5529126,-34.5597901,-34.6455229,-34.607026,-34.564942,-34.5832446,-34.631255,-34.6044772,-34.5711476,-34.555317,-34.604524,-34.5796587,-34.6174533,-34.5893829666,-34.5814909,-34.615974,-34.6268056,-34.6031267,-34.599627,-34.5719528,-34.6135374,-34.5762386,-34.6195076,-34.597836,-34.62106,-34.6239658,-34.595587,-34.6117395,-34.6030744969,-34.60746,-34.6037137392,-34.626128,-34.6067575077,null,-34.5915564,-34.579282,-34.5998659,-34.5595205148,-34.6022218,-34.591568,-34.583374,-34.5985436,-34.5897591,-34.621749,-34.5787149,-34.60015,-34.5575196,-34.5446865,-34.627876,-34.5961219,-34.6120655,-34.6182787,-34.610376,-34.5611136,-34.620698,-34.5502714,-34.556652,-34.5883642,-34.6451582,-34.596812,-34.6212351809,-34.5904622,-34.6138007421,-34.572721,-34.5921362,-34.5600767,-34.599762,-34.600837,-34.5475074,-34.6176481,-34.6262815,-34.5620844,-34.600186,-34.609251,-34.5671066,-34.5515084,-34.5900264,-34.6220775573,-34.5998773,-34.597982,null,-34.6405283,-34.5562882,-34.6025627,-34.6120974507,-34.5982067,-34.6094846,-34.607709,-34.546881,null,-34.5680671,-34.6130871,-34.5706156,-34.5535295,-34.612287,-34.601017,-34.644418,-34.56365,-34.546659,-34.5546708,-34.551423,-34.637834,-34.6235515,-34.597982,-34.6545286023,-34.6169685,-34.62005,-34.6187853,-34.6014274,-34.5693072,-34.609224,-34.6223362,-34.617078,-34.6004652,-34.599703,null,-34.612287,-34.5848,-34.5945882,-34.5893636826,-34.5941029,-34.626103,-34.6054036854,-34.5764518,-34.6230511,-34.621886,-34.613793,-34.587185,-34.5708844,-34.6100367846,-34.566657,-34.5478587198,-34.5965218,-34.56822,-34.629394,-34.6022819,-34.6092240381,-34.631591,-34.588027,-34.6405283,-34.5681025805,-34.571868,-34.5773765152,-34.6363467,-34.6402929,-34.5504713308,-34.612256,-34.6011254,-34.6214357,-34.5817888,-34.5444571,-34.5915396158,-34.6529308,-34.5393691,-34.6162229,-34.62818,-34.6173646,-34.6404629,-34.6077796,-34.6295585,-34.617942,-34.5990666,-34.6266735,-34.5611737057,-34.597679,-34.5730996,-34.5834927888,-34.6482522,-34.5891506,-34.5519911111,-34.632174,-34.5661706,-34.5988783,-34.613475,-34.5985905,-34.609181,-34.588651,-34.6120655,-34.607622,-34.569129,-34.5849758,-34.5763161,-34.6487541,-34.574731,-34.570949,-34.595688,-34.5911764502,-34.6386217,-34.569335,-34.5429830084,-34.566673,-34.6123042,-34.5729833,-34.5806225,-34.58751,-34.6132024,-34.544171,-34.5451249855,-34.622464,-34.5413646,-34.6128601,-34.6202466,-34.5830769724,-34.6153103,-34.5574837,-34.640296,-34.6472257,-34.597769,-34.600022,-34.612413,null,-34.5525338,-34.5427503,-34.6116686,-34.556252,-34.5879217,-34.6032728,-34.609443,-34.5546333,-34.5594986,-34.573086,-34.5626326646,-34.5589976,-34.636481,-34.6405283,-34.5989832,-34.6215068,-34.634126,-34.627075,-34.615941,-34.6405283,-34.5768387,-34.5827642,-34.6109152181,-34.59043628,-34.6254543,-34.6321116,-34.544171,null,-34.628006345,-34.576762,-34.614854,-34.5900635,-34.609475,-34.595202,-34.5995784,-34.5653209202,-34.5978249,-34.6392656,-34.571326,-34.5425158316,-34.6450454708,-34.6181838,-34.6034481,-34.619859,-34.618324,-34.5784942,-34.6223398871,-34.6006829885,-34.5601975,-34.62868,-34.6288802,-34.5412087746,-34.6129863,-34.5755336,-34.6089061005,-34.6355627,-34.616182,-34.6076673,-34.5678925061,-34.599703,-34.6186588,-34.6044647,-34.5976607,-34.5829764,null,-34.633333,-34.568216,-34.6067327,-34.6322076,-34.610871,-34.6035914,-34.6172782,-34.5804062,-34.553164,-34.5900864,-34.5779844,-34.6405283,-34.662484,-34.637834,-34.6362315,-34.5716554,null,-34.6094812,-34.5897986,-34.6037137392,-34.6418117,-34.6320749,null,-34.6195604498,-34.6371994,-34.6028565,-34.62818,-34.5572596,-34.6212158,-34.634138,-34.573233,-34.6184458,-34.5897253,-34.611683,-34.59744,-34.576642,-34.5948568,-34.6214167,-34.5960788124,-34.61330943,-34.633744,-34.553225,-34.6355261,-34.5533369,-34.6244303,-34.5904622,-34.6366276954,-34.5652742,-34.6264093998,-34.5993957,-34.6154675138,-34.579799,-34.6377975,-34.5437117,-34.616495,-34.622597,-34.602799,-34.557431,-34.563863,-34.592378,-34.5496870424,-34.6011653,-34.621,-34.6037137392,-34.6186349,-34.636179,-34.6227163,-34.6153103,-34.6113322,-34.5931172,-34.5574754877,-34.5936142,-34.5889694,-34.614835,-34.6156698,-34.618459,-34.6324708,-34.577176,-34.586461,-34.5895459,-34.560857,-34.579844,-34.5943354,-34.5911545,null,-34.634408,-34.632079,-34.603444,-34.6157142,-34.5564985,-34.5884229,-34.636179,-34.6023228,-34.6050835,-34.6072776,-34.6383938,-34.547724,-34.6196851,-34.6031950994,-34.5892799682,-34.5989208629,-34.6036844,-34.602012,-34.6133497,-34.6159391,-34.5861207,-34.5930858,-34.6356025347,-34.626861,-34.6392588,-34.6119729,-34.592822,-34.631591,-34.6045547,-34.6240024,-34.601455,null,-34.5889927,-34.5880437,-34.6233199695,-34.553897,-34.6288131,-34.590144,-34.6177126,-34.583754,-34.553292,null,-34.6103271,-34.6031545441,-34.6101223,-34.5835376,-34.6060331,-34.6207821,-34.5741034,-34.6782802,-34.564892,-34.631591,-34.5848,-34.58233,-34.604548,-34.603506,-34.5879608444,-34.61088,null,-34.6166442,-34.5817888,-34.5958969,-34.6305666,-34.615587,-34.5538973,-34.62818,null,-34.573425,-34.590518,-34.5977692,-34.5768933,-34.5993371549,-34.5983728,-34.6001596,-34.637834,-34.6037137392,-34.6321116,-34.6246256,-34.5951698271,-34.557199,-34.6264398,-34.6040941,-34.6412473,-34.5917998504,-34.611471,-34.5600767,-34.5780621,-34.5674017,-34.586582,-34.5828157,-34.6116145,-34.592716,-34.5475074,-34.597769,-34.6207414,-34.6287756455,-34.6206226,-34.5910899,-34.577168,-34.607673,-34.5965341,-34.5958704,-34.554763,-34.6388382,-34.629853,-34.5675735,-34.614032,-34.624797,-34.6392485,-34.606301,-34.6031837,-34.583899,-34.60808733,-34.591831,-34.6200825,-34.6128601,-34.5495227,-34.5957216,null,-34.631591,-34.632364,null,-34.6173477,-34.5744172,-34.6214295,-34.572199,-34.6027891,-34.61335,-34.6176481,-34.556809,-34.6067737,-34.6286026,-34.6212894,-34.5789278,-34.588505,-34.598296,-34.58751,-34.5711807,-34.5566182,-34.6352242,-34.5729942,-34.6037137392,-34.5647507,-34.5688186,-34.6063416,-34.578139,-34.631591,null,-34.573846,-34.6134875,-34.6244303,-34.635741,-34.622597,-34.6244303,null,-34.5630282576,-34.6145386963,-34.62518,-34.6164426,-34.6148218,-34.597289,-34.6299244,-34.6168016,-34.5984584,-34.588316,-34.632304,-34.6034502,-34.5973812,-34.5618075,-34.602701,-34.5854783,-34.5772084,-34.6174612,-34.6267877662,-34.6105899,-34.607268,-34.602605,-34.5871429,-34.575532,-34.5583853,-34.6265359,-34.6270753,-34.6107904311,-34.607317,-34.5963928985,-34.628706,-34.6351461824,-34.5704605,-34.574537,-34.5849069,-34.5642834,null,null,-34.5674802,-34.6156378,-34.63335,-34.593335,-34.5969175,-34.6166189862,-34.5904622,-34.685292,-34.5979435834,-34.5982154569,-34.59475,-34.5896225,-34.593335,-34.6188615,-34.578929,-34.5548123,-34.6007308,-34.585106,-34.609903,-34.6306898,-34.572721,-34.624362,-34.608854,-34.5666787241,-34.5939737,-34.6277946,-34.5994747627,-34.5515484854,-34.575485,-34.6322572341,-34.5688712,-34.5747633,-34.6153103,-34.6302777,-34.5502004,-34.6073064,-34.6227163,-34.6130871,-34.6260531,-34.5961311,-34.605272,-34.6288596,-34.5733709,-34.5508362,-34.6166402,-34.602641,-34.5889045,-34.5599793922,-34.6232916,-34.603367,-34.6247442,-34.5469102,-34.6045189,-34.6266736631,-34.6132024,-34.597769,-34.569129,-34.6036554,-34.6220446,-34.632961,-34.6322381672,-34.595688,null,-34.610593,-34.6508775,-34.6248755,-34.6039262,-34.597824,-34.5818163,-34.6338838,-34.6207818,-34.5631948,-34.6077391,-34.5829813,-34.602941,-34.606676,-34.6299244,-34.5854115,-34.6256074,-34.6279,-34.578518,-34.6324789,-34.5939737,-34.627876,-34.6234917,-34.6046683,-34.6233348,-34.5496066482,-34.6210252,-34.6425051,-34.6233906,-34.554763,-34.5833867,-34.577168,-34.629896,-34.6165504,-34.6150121,-34.5861164713,-34.6223398871,-34.597769,-34.6194965,-34.5730139407,-34.6047969,-34.5915339,-34.595916,-34.63099,-34.6323335,-34.570884,-34.6150732,-34.6333237,-34.5972965,-34.5671066,null,-34.5729054,-34.557199,-34.5982525,-34.5947219,-34.6699098,-34.570884,-34.582317,-34.547829,-34.6264398,-34.62818,-34.570884,-34.637701,-34.6162622,-34.6107501,-34.6317798,-34.6083588,-34.5817888,-34.5825981444,-34.5859299,-34.631591,-34.6269408,-34.598084,-34.5879341,-34.6318743,-34.6207414,-34.631585,-34.62301,-34.638999,-34.5818364,-34.6095289,-34.6223398871,-34.629478,-34.5859985,-34.6303192,-34.6232754889,null,null,-34.5635682,-34.597769,-34.6371994,-34.612234,null,-34.633062,-34.6158915,-34.5797009,-34.61903,-34.5824961,-34.619727433,-34.6083004601,-34.6096418,null,-34.5939782586,-34.577504,-34.5731507,-34.5762788577,-34.570833,-34.5971971,-34.5829764,-34.567095,-34.601051,-34.6037137392,-34.561743,-34.616034713,-34.62664,-34.5851,-34.596441,-34.580146,-34.6281162,-34.5945508,-34.631591,null,-34.5949108,-34.54179,-34.5851531,-34.584179,-34.5819649,-34.6256447,-34.598486,-34.6389662,-34.6186349,-34.5856221,-34.637145,-34.616486,-34.6021531,-34.6856698,-34.625884,-34.5664873409,-34.597769,-34.6234793,-34.6003579,-34.598076,-34.5840778,-34.6205573,-34.5605032026,-34.585554,-34.5462698,-34.5789941431,-34.616821,-34.5965341,-34.5538467,-34.577168,-34.5683283,-34.5679842,-34.5953421021,-34.5877864,-34.632413,-34.639925,-34.5525338,-34.6137933,-34.598958,-34.56822,-34.625227,-34.5931886,-34.544171,-34.546435,-34.6223398871,-34.5709649,-34.6014487472,-34.553811,-34.6212158,-34.6045433,-34.5600767,-34.6122578,-34.563649,-34.5944575,-34.6266960708,-34.617005,-34.6343737,null,-34.5679696,-34.6230076441,-34.5963907,-34.617228,-34.597824,-34.633021,-34.6321116,-34.6295084,-34.620683,-34.6177506,-34.61121,-34.5854115,-34.5790338,-34.5735299,-34.616667,-34.5632097749,-34.570595,-34.590165,-34.62969,-34.5965586611,-34.6062505,-34.5934993495,-34.62408,-34.600927,-34.595587744,-34.5940365,-34.6023874,-34.621484,-34.6292137602,-34.596667,-34.5576080248,-34.6099028,-34.6117395,-34.6197904055,-34.54962,-34.544171,-34.586191,-34.6037137392,-34.6230978,-34.609251,null,-34.5720808,-34.631546,-34.6049101,-34.6105130552,-34.6308205,-34.6323606,-34.5644917,-34.572641,null,-34.627564,-34.5982958,-34.6240354,-34.626917,-34.559658,-34.60808733,-34.5686083,-34.5861553,null,-34.6244262,-34.5723206,-34.6212284,-34.5846738536,-34.5673888,-34.6039694,null,-34.6183879468,-34.549965,-34.6295865181,-34.639032,-34.5976128,-34.6087082126,-34.5687846,-34.5402985,-34.6233348,-34.607282,-34.620947,-34.5718525,-34.58478,-34.54435,-34.6256447,-34.63289,-34.5895313,-34.584411,-34.6072023,-34.6068242058,-34.6002337,-34.5528154546,null,-34.5718762094,-34.587953,-34.6109658,-34.6157105,-34.6161011,-34.6321335,null,-34.559524,-34.555898,-34.6202466,-34.6108194634,-34.5817888,-34.556862,-34.6016125,-34.610198,-34.596756,-34.611701,-34.5502415,null,-34.5562825,-34.616433,-34.648885,-34.6317516923,-34.6308299,-34.54179,-34.6103745,-34.582143,-34.5596996,-34.5541654,-34.5710926,-34.6037137392,-34.5923159302,-34.577097,-34.631255,-34.547057,-34.6067314268,-34.621434,-34.620866,-34.597769,-34.625268,-34.600269,-34.6118423,-34.5653209202,-34.6135876,-34.6113848,-34.624235218,-34.603207,-34.5848438,-34.5495516,-34.6213780165,-34.62818,-34.567609,-34.5655338,-34.618305,-34.572804,-34.6095064089,-34.589676,-34.5478587198,-34.5574837,-34.6156413442,-34.5525338,-34.628888,-34.6278223,-34.58934,-34.625837,-34.6029395377,-34.559393,-34.595929,-34.6372552,-34.5978249,-34.6045526,-34.6233199695,-34.599627,-34.6114442,-34.6072012,-34.573743,-34.636172,-34.5907409831,-34.5711377804,-34.635621,-34.572721,-34.5474472,-34.5958168,-34.62385,-34.563687,-34.5867085,-34.5538454266,-34.5712553,-34.5520265,-34.61183,-34.6503613594,-34.5629049,-34.6132205,-34.5878027,-34.60831,-34.5938512,-34.605957,-34.6090427855,-34.5432969,-34.6028068148,-34.623697,-34.6049169,-34.6354828,-34.595231,-34.6134704,-34.6244303,-34.5832367,-34.552745,-34.623205,-34.5565631,-34.643737,-34.5804863,-34.5687092,-34.6223398871,-34.5569188,-34.597773,-34.573193,-34.5514317,-34.611573,-34.6039992,-34.6116565,-34.6037137392,-34.5895602106,-34.6167403,-34.612372,-34.5986787,-34.5992793,-34.6318660806,-34.5638912,-34.6341464064,-34.6188983,-34.6736537,-34.5647343,-34.6127414,-34.5994381313,-34.623337,-34.617171,-34.6148483,-34.574391,-34.545497,-34.629523,-34.6045547,-34.591193355,-34.6057129,-34.616222,-34.5688102,-34.5920907,-34.607684,null,-34.63912,-34.5607738,-34.5845607,-34.5888413,-34.5818298,-34.6204532,-34.6321116,-34.631467,-34.5582269,-34.596979,-34.6152197,-34.641047,-34.5784942,-34.583758,-34.607924,-34.6244303,-34.563121,-34.6048035431,-34.5623519501,-34.577985,-34.61382,-34.647382,-34.605749,-34.5688712,-34.6073418,-34.5993371549,-34.5942724,-34.5997314,-34.597144,-34.632079,-34.5812589,-34.6404629,-34.6177615,-34.5895459,-34.597769,-34.624212,-34.5814957,-34.612796,-34.617321,-34.606305,-34.5731507,null,-34.549608,-34.5992343801,-34.645224,-34.609387,-34.5617098,-34.5764801,-34.6208009427,-34.602209,-34.5432969,-34.5985571,-34.631599,-34.5517599934,-34.59770557,-34.5577461,-34.625357,-34.5776851,-34.6496586,-34.5972556,-34.599709,-34.562909,-34.5538467,-34.5971308,-34.5773229,-34.60746,-34.6182578,-34.5719003943,-34.6321116,-34.5959115,-34.563497,-34.616592,-34.5546255,-34.604495,-34.6063416,-34.625227,-34.552185,null,-34.56293,-34.5632252422,-34.639636,-34.5632047,-34.6212158,null,-34.5693357,-34.6275935,-34.623771,-34.5961219,-34.59947,-34.593335,-34.569682,-34.6003888,-34.6946641,-34.6154117,-34.60315215,-34.590836,-34.600917,-34.6206226,-34.6116145,-34.616004,null,-34.6177615,-34.6027644,-34.6077796,-34.60662,-34.6008099,-34.5991285,-34.5940489212,-34.5714065,-34.637913,-34.5763528162,-34.5971598,-34.6006145,-34.6212158,-34.543593,-34.613199,-34.5392019,-34.637375,-34.603478,-34.586418,-34.6012812,-34.6274952,-34.5977228,-34.6582101,-34.6429726,null,-34.63099,-34.595328,-34.597769,-34.644323,-34.57174,-34.5859299,-34.5962592253,-34.569588,-34.5742364,-34.6036844,-34.586921,-34.601017,-34.609502,-34.5596631,-34.6153103,-34.6277787,-34.56822,-34.5546524,-34.626394,-34.5543389,-34.628026,-34.5538467,-34.6087573,-34.61607,-34.542957,-34.5936432,-34.620947,-34.59793,-34.6047969,-34.5600393,null,-34.563779,-34.6848640466,-34.5963548,-34.61973,-34.597605,-34.5542681,-34.598243,-34.6036844,-34.6087654,-34.589945,-34.6053211,-34.5591487,-34.6360226,-34.613661,-34.6076122891,-34.6139909,-34.5835498,-34.5545189,-34.5849069,-34.6332853,-34.5642911,-34.632184,-34.6344407,-34.6120144,-34.5613457644,-34.5768402,-34.6276019,-34.555328,-34.574589,-34.598701,-34.5475074,-34.604141,-34.5848,-34.6152061,-34.5911669,-34.601051,-34.613167,-34.634099,-34.6110095,-34.613579,-34.553292,-34.570083,-34.5696558,-34.6021965,null,-34.6086216494,-34.6157627423,-34.6022466,-34.5994116372,-34.6082575,-34.600133,-34.6010624,-34.556809,-34.616703,-34.5957503,-34.597769,-34.6132205,-34.6032772,-34.6353314,-34.6325443,-34.6116276934,-34.570884,-34.589711,-34.640305,-34.5507282,-34.556375,-34.5732041293,-34.589376,-34.6145577,-34.5574934,-34.5865453,-34.563251,-34.617465,-34.5513172382,-34.6212158,-34.5907002936,-34.620901,-34.5638911,-34.638352,null,-34.5656582,-34.60357429,-34.592985,-34.5843603,-34.6200259,-34.6087781,-34.5952199443,-34.5648243,-34.6057838,-34.637834,-34.631054,null,-34.602826,-34.5784951,-34.570884,-34.59585,-34.5586136,-34.6354230552,-34.5681247,-34.6030578,-34.5888921828,-34.6008099,-34.628264,-34.5841775,-34.591884,-34.561036,-34.5864460547,-34.6233199695,-34.583457,-34.6582271,-34.6161132,-34.597773,-34.6073418,-34.5895459,-34.624943,-34.5945746,-34.6244301,-34.602215,-34.553048,-34.6433814,-34.6071483846,-34.5951698271,-34.5985537,-34.602694,-34.6830375,null,-34.6186,-34.5393347,-34.60613,-34.633471,-34.597255,-34.5746086,-34.582397,-34.5571834,-34.597769,-34.5536629526,-34.6178424,-34.6227163,-34.5894171,-34.567711,-34.5590314,-34.5834561,-34.5776851,-34.6173396,-34.5405219193,-34.601977,-34.566256,-34.571497,-34.562147,-34.6087587,-34.593335,-34.5638912,-34.587475,null,-34.601692,-34.5756791994,-34.597769,-34.5590677,-34.6177615,-34.552083,null,-34.609052,-34.61747,-34.6371322,-34.6209278,-34.6103048,-34.6508555,-34.6094731,-34.56822,-34.575693,-34.6076685,-34.6007058,-34.5427503,-34.6040432,-34.555938,-34.5587987,-34.5695975,-34.6186349,-34.6066456757,-34.62818,-34.5941112,-34.6209368,-34.6177615,-34.631518,-34.633349,-34.6075585,-34.5403345,null,-34.612287,-34.5469102,-34.578811,-34.5421771,-34.5719003943,-34.6261244,-34.5974744,null,-34.5966426,-34.6103909378,-34.577168,-34.553195,-34.6265067739,-34.54384,-34.6320559051,-34.6371994,-34.6303785,-34.5620844,-34.6442699,-34.596759,-34.6186125,-34.5785999,null,-34.6049303,-34.5505304539,-34.5770261,-34.6084291073,-34.5719303,-34.5687846,-34.5828954116,-34.5446865,-34.62754,-34.6075261771,-34.5495227,-34.5607742,-34.5981394,-34.5756331,-34.5619726,-34.6405489,-34.5496870424,-34.574284,-34.6009149,-34.6289962,-34.6036844,-34.596822,-34.6052587,-34.6208623412,-34.5504713308,-34.581244,-34.6092776,-34.59083,-34.5574837,-34.6044977,-34.612127,-34.63093,-34.6182685716,-34.6429808,-34.6208255,-34.5903724,-34.5788631,-34.597255,-34.5730996,-34.637039,-34.55729,-34.6018927328,-34.5644796,-34.6467533,-34.5516347,-34.6047969,-34.642333,-34.5821239628,-34.6082699,-34.5777784,-34.5570206,-34.594729,-34.565454,-34.566969,-34.6097224,-34.601024,-34.6068792,-34.6014487472,-34.6037137392,-34.590091,-34.5962869,-34.5820865,-34.604318,-34.621483,-34.665052,-34.610796,-34.5735686461,-34.632719,-34.6019437,-34.6202466,-34.6230444207,-34.6289478818,null,-34.5665883987,-34.577324,-34.631163,-34.5769911,-34.616445,-34.557199,-34.6448698,-34.5776682268,-34.597205,-34.6256447,null,-34.6185262584,-34.5915663,-34.6101819118,-34.6036844,-34.6186037,-34.5817888,-34.598843,-34.5686398,-34.5542242,-34.5607997,-34.6213841573,-34.5673743,-34.590741,-34.62784,-34.6212158,-34.6043364801,-34.6486593,-34.5698914309,-34.60537,-34.651143,-34.6020637,-34.627724,-34.5607738,-34.575966,-34.5712553,-34.6037137392,-34.6186349,-34.552165,-34.5413289,-34.570048,-34.5589314,-34.6236,-34.540447,-34.6206226,-34.5443774,-34.5849069,-34.6037137392,-34.574613,-34.5942200865,-34.6047969,null,-34.564492,-34.6264093998,-34.5535083,-34.5596702,-34.6111519,-34.5571189,-34.61335,-34.6005818,-34.596269,-34.6037137392,-34.604265,-34.587156,-34.5995352,-34.626109,-34.62468,-34.6186349,-34.6036844,-34.6321116,-34.6253806,-34.5907572,-34.588677,-34.5441874,-34.6046722,-34.558751,-34.597769,-34.6196831,-34.6132024,-34.551488,-34.5945508,-34.6073563,-34.5900864,-34.6380573,-34.5849876,-34.58751,-34.616075,-34.571436,null,null,-34.647382,-34.613767,-34.601996,-34.6473525,-34.601799,-34.6315575,-34.6327951,-34.6244303,-34.628026,-34.5532325,-34.589548,-34.6362315,-34.637834,-34.581244,-34.5982393,-34.6033015,-34.5731507,-34.608557,-34.6230792,-34.6118022511,-34.5830542765,-34.6087862,-34.5745068,-34.6131267465,-34.615533,-34.618862,-34.6157142,-34.550716,-34.5705687,-34.611630054,-34.615229,-34.611050492,-34.6145386963,-34.5577492288,-34.5667705,-34.5582269,null,-34.6172737911,-34.5666702,-34.5678672598,-34.5847516,-34.63099,null,-34.591707,-34.577168,-34.6044653,-34.62048,-34.583298,-34.567821,-34.6014395,-34.6060978493,-34.60582,-34.613932,-34.5809943,-34.609251,-34.6072575,-34.5817888,-34.5843603,null,-34.60315215,-34.55319,-34.564492,-34.6086026,-34.5582269,-34.597824,-34.5427503,-34.6105808,-34.5961791,-34.617356,-34.5641673,-34.5785366,-34.5827599505,-34.5902136647,-34.5545156,null,-34.616571,-34.5731507,-34.5605292054,null,-34.5711496,-34.6344727,-34.5825736,-34.6277278,-34.6361792,-34.5731507,null,-34.595169,-34.5963526477,-34.5694484,-34.6342368,-34.5759375,-34.6211623743,-34.540334,-34.595916,-34.6238725,-34.5773676815,-34.6177615,-34.5687846,-34.563811,-34.546589,null,-34.610315,-34.6452033784,-34.5518,-34.604689,null,-34.5894036279,-34.6469378,-34.599902,-34.628967,-34.602798,-34.5789278,-34.6204532,-34.639448,-34.577539,-34.5600507604,-34.631591,-34.5403345,-34.616257,-34.6170597,-34.6065152,-34.6361792,-34.6211671,-34.5983544,-34.5851389,null,-34.550157,-34.6251642417,-34.5661089469,-34.630264,-34.626,-34.553796,-34.598365,-34.586557,-34.543664,-34.617228,-34.5855076,-34.6109658,-34.626138,-34.590708,-34.5378512,-34.596715,-34.574537],\"legendgroup\":\"\",\"lon\":[-58.4546932614,-58.500115,-58.459957,-58.3823825,-58.4125107,-58.4272911,-58.423963,-58.4724630529,-58.4566864,-58.524277,-58.444045,-58.430668,-58.3926968,-58.4159718,-58.3897597,-58.4842066,-58.4039197,-58.4410115,-58.4470949374,-58.4931185,-58.4242176,-58.443838,-58.4124669,-58.371667,-58.46838,-58.4566864,-58.3909376,-58.4280921,-58.422687,-58.3975515537,-58.418703,-58.4652556,-58.4566753,-58.416152,-58.4019575,-58.417856,-58.455713,-58.4562243,-58.4401524326,-58.4095145,-58.431148,-58.478304,-58.4661541,-58.3791226,-58.39925557,null,-58.4042304,-58.4608111,-58.395407,null,-58.4646149,-58.3895203,-58.457941,-58.473409,-58.451825,-58.51298,-58.4444227,-58.5235778,-58.428002,-58.447624,-58.4541557,-58.4040959459,-58.465719,-58.4707613149,-58.4161104,-58.4733152,-58.3876241,-58.420179,-58.4556556,-58.461994,-58.4096918347,-58.4337562,-58.431945,-58.4717864,-58.4546542,-58.4801833,-58.3833629,-58.4313315,-58.4383160847,-58.5014288,-58.424402,-58.4637637,-58.384362,-58.5050324,-58.466095,-58.3696383829,-58.4255006,-58.482349,-58.4471452,-58.45364,-58.5010498,-58.4095956,-58.3985397,-58.43864,-58.3793374,-58.430083,-58.478951,-58.4975629,-58.426806,-58.4229282,-58.4271703,-58.473409,-58.498882,-58.376359,-58.4134843,-58.423024,null,-58.3815591,-58.449025,-58.4619167,-58.3966103021,-58.4611833,-58.4481081,-58.504636,-58.425019,-58.417856,-58.416439,-58.4320965,-58.425295,-58.485449,-58.4343171,-58.4365858,-58.4252038,-58.440083,null,-58.4884216,-58.389015,-58.455583,-58.4040591,-58.4112605,-58.4642925,-58.4423251,-58.43089266,-58.4208369,-58.4120075,-58.481222,-58.4002698,-58.5058609,-58.4057152,-58.449509,-58.4601452,-58.408834,-58.4057337,-58.452734,-58.4790724,-58.4611155,-58.4386944,-58.4247302,-58.442799,-58.470246,-58.4661483,-58.4687,-58.4537324,-58.482207,-58.3830086,-58.4674728,-58.5005212,-58.4204026,-58.4304234,-58.4787410582,-58.4147628,-58.3944425,-58.462375,-58.4497051,-58.4920942,-58.449588,-58.46867,-58.398267,-58.4747469,-58.4336199,-58.4054908953,-58.424131,-58.489151,-58.4884216,-58.4042052,-58.3940806918,null,-58.3918794,-58.3815808896,-58.442307,-58.458337,-58.474451,-58.429563,-58.418382,-58.3945161,-58.4184465,-58.4685759,-58.4029587,-58.43886,-58.510823,-58.4264703397,-58.4529212466,-58.4329775,-58.4803381387,-58.4350161,-58.4251966841,-58.4348718,-58.4253358,-58.458885,-58.383689,-58.36907,-58.437714,-58.474142,-58.388562,-58.4272911,-58.4619167,-58.4344367,-58.4887663,-58.4591152317,-58.4473135,-58.392341,-58.4061783,-58.4446144,-58.4566864,-58.4337562,-58.477121,-58.4172571,-58.401926,-58.413499,-58.3977,-58.430979,-58.4598574,-58.4297968,-58.4416496,-58.42644,-58.480246,null,-58.4640609983,-58.42644,-58.4569527,-58.4882355,-58.393042,-58.41567,-58.4890352239,-58.4519581,-58.375055,-58.370265,-58.4453972,-58.50547,-58.4050207,-58.3976113,-58.458337,-58.4892838222,-58.4458736,-58.440083,-58.4600378,-58.432937,-58.3815808896,-58.4550232,-58.5115799,-58.3859524,-58.4491936,-58.40036,-58.4513614,-58.4193876,-58.3748272,-58.4554388,null,-58.5192618,null,-58.443138,-58.4634115,-58.4438492037,-58.488694,-58.483862,-58.3815808896,-58.40405,-58.4557835,-58.4779525,-58.4673425,null,-58.503098,-58.489966,-58.4064497116,-58.4372368,-58.3981135774,-58.4745649,-58.3898616,-58.429483,-58.3907823249,-58.4601452,-58.4599658,-58.368463,-58.4772734,-58.478587,-58.4037104,null,-58.4952915,-58.4107896,-58.4702918,-58.4821436,-58.4786123121,-58.457834,-58.4306168,-58.4409353,-58.4351583,-58.4486236993,-58.418141,-58.4608572,-58.360648,-58.383662,-58.3815808896,-58.3982505,-58.439476,-58.449633,-58.4506525716,-58.412067,-58.451021,-58.46373,-58.43089266,-58.4032361233,-58.457265,-58.4364402,-58.4456268033,-58.440056,-58.4115472,-58.3969821,-58.395551,-58.4313746,-58.388768,-58.4003678,-58.4543498558,-58.4272911,null,-58.4351228,-58.4815962,-58.4905798,-58.478887,-58.5155958,-58.458337,-58.4085322312,-58.45214,-58.4750427,-58.4632121,-58.4231909,-58.4314264,-58.455382866,-58.430114,-58.38456,-58.411536,-58.4574136772,-58.429594,-58.410649,-58.3859524,-58.442438,-58.36824,-58.4581944,-58.4667165,-58.3703982,-58.440164,-58.4345373,-58.4376694,-58.4384732,-58.4966697,-58.458337,-58.4304928,-58.4063222,-58.3806085715,-58.4078757,-58.460499,null,-58.431068,-58.4590119,-58.478673,-58.4379652889,-58.462254,-58.4150055376,-58.4578875283,-58.4732609116,-58.462983,-58.390041,-58.4304906,-58.480847,-58.4043385,-58.43307,-58.460923,-58.4954328,-58.3815808896,-58.414297,-58.5080122948,-58.3904158,-58.3789342,-58.462749,-58.424968,-58.4305343,-58.4201892,-58.4346696,-58.468401,-58.504783,-58.4029587,-58.3782438,-58.4871561,-58.447667,-58.389566,-58.3907693,-58.5061652,-58.4884216,-58.437133,-58.4343949,-58.396175,-58.3619834,-58.429483,-58.5068965,-58.5109811153,-58.4573940742,-58.465303,-58.471774,-58.4222431,-58.4348693,-58.482362,-58.458337,-58.496761,-58.370191,-58.465303,-58.407316,-58.4384072,-58.4323055182,-58.4201892,-58.481306,-58.4771736,-58.4494039,-58.4170203,-58.4916429,-58.3741828,-58.3744502855,-58.468766,-58.3724840391,null,-58.42644,-58.4655168,-58.454126,-58.424845,-58.4534297,-58.395866,-58.5414898,-58.3976941,-58.4541557,-58.4663309,-58.4671186,null,-58.5014288,-58.3703982,-58.4722301,-58.479785,-58.360443,-58.4532923,-58.4394663,-58.4193632,-58.4487136,-58.487628,-58.4827765,-58.363538,-58.4249739,-58.4189702,-58.4002698,-58.4787020744,-58.479323,-58.451793,-58.43089266,-58.370082,-58.4035194,-58.3779666,-58.3802473,-58.4401524326,-58.461124,-58.3953694,-58.3815591,-58.41567,-58.438252,-58.388909319,-58.416574,-58.3797127,-58.494987,-58.4579254,null,-58.424199,-58.4193856,null,-58.412139,-58.415024,-58.476815,-58.370341,-58.42644,-58.3684327,null,-58.4128129,-58.4086976,-58.3743465,-58.4627352,null,-58.4085322312,-58.383662,-58.4232966,-58.4601782,-58.403728,-58.3815591,-58.415977,-58.447416,-58.4568995,-58.4175858,-58.393004,-58.3888229,-58.41367,-58.4133710234,-58.410285,-58.4587847804,-58.4496581554,-58.482934,-58.4239755,-58.4342551947,-58.4018129,-58.42644,-58.478887,-58.4903092,-58.4306631,-58.4172571,-58.4618776,-58.457758,-58.426881,-58.4920942,-58.430003,-58.4884216,-58.4067658,-58.4121112,-58.428431,-58.3977098,-58.4334831,-58.4079749,-58.383662,-58.50121,-58.4201892,-58.4559962,-58.419,-58.464647,-58.370813,-58.384115696,null,-58.4780661,-58.5080558,-58.43482,-58.4329632,-58.3693349267,-58.4318008844,-58.443003,-58.3833333,-58.4139364,-58.429794,-58.449767,-58.430264,-58.503334,-58.4352229,-58.4348699,-58.480847,-58.3815591,-58.4824163,-58.4460326,-58.4329758,-58.417757,-58.479947,null,-58.4921,-58.4684523,-58.4574031,-58.4444345762,-58.450549,-58.461994,-58.3969938,-58.4149373391,-58.4117165,-58.4045115,-58.495122,-58.4245924,-58.414779,-58.4583569,-58.500434,null,-58.432235,-58.4458254638,-58.4653792,-58.384776,-58.4671889,-58.3874589,-58.4741353,-58.4825026,-58.488694,null,-58.4193856,-58.4163254,-58.3684327,-58.3599534,-58.418407,-58.4445015453,-58.422439,-58.4493192,-58.4181036625,-58.3971897,-58.440518,-58.4673571,-58.4674706534,-58.3767255,-58.4715637,-58.466667,-58.450619,-58.4886936,-58.4092220489,-58.521697,-58.4195682,-58.451877,-58.396668,-58.480847,-58.3703982,-58.4354142,-58.4669447,-58.429594,-58.4884216,-58.4598574,-58.44421337,-58.4439501857,-58.4787009,-58.3741828,-58.3960642,-58.483565,-58.4184465,-58.425724,-58.4385510091,-58.416863,null,-58.38465,-58.4419019,-58.478875,-58.3714222,-58.394565,-58.3907693,-58.489945,-58.442214,-58.4963752416,-58.431977,-58.4463145,-58.4555330697,-58.3948150344,-58.481434,-58.3971252862,-58.39644,null,-58.5068965,-58.411796,-58.481137,-58.405661,-58.442896,-58.4396756,-58.4512878,-58.478875,-58.406754,-58.4208597,-58.51432,null,-58.4031336,-58.440363,-58.4658404,-58.4113361,-58.447738,-58.436826,null,-58.430014,-58.4154084613,-58.4762481502,-58.4403397,-58.42644,-58.4047026,-58.476815,-58.411101,-58.3619834,-58.4983902,-58.4176726,-58.4697774,-58.3742088,-58.4203257,-58.406557,-58.409414,-58.418777,-58.4011917,-58.4555007,-58.4323015,-58.3882455,-58.3945029,-58.4249296,-58.4330886,-58.3815808896,-58.4090566,-58.377252,-58.3915063,-58.363056,-58.465955,-58.4186777,-58.442037,-58.4541288,-58.4189946,-58.442214,-58.4464868,-58.430738,-58.4871486,-58.460831,-58.437618,-58.375994,-58.383662,-58.39985,-58.3919863,-58.4648529,-58.479767,-58.483565,null,-58.42761,-58.4309181,-58.504783,-58.486145,-58.3741828,-58.438585,-58.5157689,-58.38541,-58.4284928,-58.4445573958,-58.3927514,-58.5069368,-58.371667,-58.462678,-58.4769393,-58.448797,-58.460451,-58.431375,-58.377319,-58.4774176961,-58.407247,-58.5291707087,-58.3672281,-58.483565,-58.363254,-58.404241,-58.461768,-58.3739196904,-58.3795044,-58.4300609,-58.4381344,-58.521131,-58.468637,-58.46323,-58.4405232,-58.510665,-58.4305556,-58.373844,-58.369812,-58.433597,-58.495352,-58.3970302,-58.4334936,-58.373383,-58.478508,-58.3984088548,-58.503098,-58.3630584,-58.3667729,-58.3602495,-58.3752695,-58.4863498,-58.4780504,-58.4289207,-58.4418550761,-58.4513613,-58.4074028,-58.4419467474,-58.487992,-58.4779032,-58.4523873,-58.4677296433,-58.506856,-58.5229925,-58.4319068,-58.472028,-58.4148281,-58.4591789,-58.429483,-58.36955,-58.453759,-58.4410494,-58.4832391,-58.3629581,null,-58.438361,-58.443855,-58.4080709784,-58.3918557,-58.4436559523,-58.4692294,-58.471556,-58.4481004,-58.4580944,null,-58.4534846,-58.4573579,-58.441408,-58.404180217,-58.4744939153,-58.4422322,-58.510665,-58.453461,-58.442214,-58.4951948,-58.379495,-58.4703235,-58.408314,-58.44525,-58.4620706,-58.5276695,-58.4235097,-58.4543951,-58.4329772,-58.4122482,-58.4799238,-58.4679579,-58.4729872,-58.4331898201,null,-58.378348,-58.371667,-58.4604643,-58.4290863,-58.442438,null,-58.36907,-58.503098,-58.370265,-58.4890118641,-58.4725524607,-58.4019804129,-58.448357,-58.4452762,-58.4677935278,-58.3741378784,-58.376997,-58.379939,-58.479238,-58.4614326603,-58.4341279413,-58.4516335321,-58.4576464929,-58.3767435,-58.4704475068,-58.4949974,-58.4258977,-58.4028183069,-58.4391081,-58.4265762,-58.509718,-58.4312446717,-58.502625,-58.4167791,-58.4813,-58.4410494,-58.420379,-58.4398737,-58.4649269,-58.4295334,-58.419346,-58.4421941,-58.3813599,-58.407118,-58.410285,-58.4372342,-58.4535639,-58.429451,-58.4618463,-58.430659,-58.4403684,-58.38359,-58.3707143353,-58.4367477,-58.4164389,-58.4587302629,-58.4642091688,-58.373569,-58.4751802,-58.4465187,-58.4649269,-58.3610542,-58.439841,-58.442214,-58.456364,-58.441166,null,-58.489044,-58.3976095,-58.4234705,-58.4291235,-58.374937,-58.4758459,-58.4410115,-58.4608419,-58.4232882,-58.4175258,-58.4426917,-58.4299827,-58.483639,-58.453461,-58.4663085,-58.3624207,-58.446205,-58.4709285,-58.421941084,-58.4584291873,-58.4034886949,-58.441558,-58.394947,-58.440635,-58.488803,-58.4598574,-58.4388536,-58.4430195,-58.391476,-58.4749849,-58.4449945,-58.4248489,-58.4098381,-58.429177,-58.387466,-58.4959441,-58.418534,-58.461385,-58.4591152317,-58.371667,-58.4641786,-58.3975115243,-58.4373694328,-58.464647,-58.4361049,-58.3869394,-58.433254,-58.386201,-58.5101665,-58.3982749,-58.405999,-58.3973636,-58.4811299,-58.4622706,-58.490947,-58.397051867,-58.403827,-58.443412,-58.5029706,-58.387691,-58.4624526,-58.489172,-58.4575992,-58.4600378,-58.465639,-58.442438,-58.451742,-58.4557785,-58.370463,-58.4066461,-58.4808834,-58.4571433,-58.399445,-58.4766458,-58.4378953,-58.5113893259,-58.4483922,-58.438168,-58.4604629,-58.4410494,-58.430716,-58.4744428,-58.3875606,-58.4199784,-58.4780504,-58.430271,-58.377957,-58.3656092,-58.439307,-58.4739117,-58.452836385,-58.43891555,-58.3815808896,-58.377914,-58.4878228624,null,-58.4178288,-58.48918,-58.4489357,-58.4451138624,-58.3989723,-58.4135803,-58.494235,-58.5013981,-58.3938115,-58.384373,-58.4339876,-58.39287,-58.4741215,-58.4659096,-58.494816,-58.4255006,-58.4057337,-58.5005212,-58.443425,-58.4575457,-58.4284928,-58.4531919,-58.456717,-58.3900662,-58.4907929,-58.413727,-58.3610688508,-58.370987,-58.3924221222,-58.483565,-58.4118019,-58.4463618,-58.42598,-58.401234,-58.4842066,-58.4619167,-58.4538101,-58.4566864,-58.468359,-58.431375,-58.4723916,-58.4647326,-58.3939516,-58.4040959459,-58.4813819,-58.426876,null,-58.5294588,-58.4614498,-58.4419902,-58.4238887621,-58.4220727,-58.4186866,-58.392334,-58.478594,null,-58.4334097,-58.3813599,-58.4314047,-58.4495668,-58.422895,-58.4313746,-58.484017,-58.4653795,-58.479767,-58.4673571,-58.470333,-58.503098,-58.3740817,-58.426876,-58.4752734264,-58.3617114,-58.38813,-58.4791827,-58.4163257,-58.4872507,-58.434428,-58.4348699,-58.445013,-58.4425664,-58.407118,null,-58.422895,-58.44321,-58.4053642,-58.412877293,-58.4411813,-58.475046,-58.4056561914,-58.4844934,-58.3914916,-58.440034,-58.372411,-58.42378,-58.433121,-58.4787115886,-58.4806542,-58.4482092853,-58.3805667032,-58.458337,-58.506856,-58.4461524,-58.3914085034,-58.370191,-58.4064124,-58.5294588,-58.4715230625,-58.479967,-58.4323916563,-58.4738401,-58.5110887,-58.4668325353,-58.442176,-58.4059164,-58.4242883,-58.449509,-58.4790724,-58.3956232492,-58.5140048,-58.4660016,-58.4184465,-58.429483,-58.4620706,-58.5290105,-58.4687339,-58.4517693,-58.460455,-58.4134843,-58.3725333,-58.4518164111,-58.443019,-58.4389143,-58.4041347403,-58.4927109,-58.4501196,-58.482248988,-58.363038,-58.4491151,-58.4320965,-58.368732,-58.3726591,-58.502638,-58.430142,-58.4057337,-58.463009,-58.477082,-58.4156455,-58.4711951,-58.5002128,-58.478951,-58.434584,-58.4031864,-58.5083326486,-58.496227,-58.4348693,-58.4812108375,-58.479431,-58.4032943,-58.4388579,-58.41111,-58.510665,-58.4330886,-58.478875,-58.4787020744,-58.398128,-58.4633598,-58.4922702,-58.4165902,-58.422257979,-58.3619834,-58.4806697,-58.378665,-58.4923125,-58.42644,-58.4175858,-58.419328,null,-58.4512771,-58.4601452,-58.4115275,-58.468616,-58.3980672,-58.3961414,-58.362868,-58.4673952,-58.4451978,-58.432064,-58.4870649408,-58.4444811,-58.487153,-58.5294588,-58.4203432,-58.4464664,-58.3632,-58.42001,-58.439588,-58.5294588,-58.4291267,-58.4236582,-58.4299869233,-58.388643473,-58.4161104,-58.3703982,-58.478875,null,-58.4559750422,-58.446944,-58.373895,-58.4202297,-58.430443,-58.385799,-58.3714273,-58.4716025037,-58.4164389,-58.4786935,-58.4443183,-58.4764863962,-58.3734789316,-58.439478,-58.4243303,-58.397484,-58.436443,-58.4345008,-58.4085322312,-58.3965625594,-58.4583332,-58.460248,-58.3782469,-58.4656731747,-58.4328709,-58.433189,-58.4401600888,-58.4097415,-58.3926968,-58.4419894,-58.4433589619,-58.407118,-58.3859275,-58.4064736,-58.4304366,-58.4208597,null,-58.4,-58.459075,-58.4000164,-58.4851448,-58.38433,-58.440711,-58.3787392,-58.4811368,-58.473842,-58.4202008,-58.4493434,-58.5294588,-58.474313,-58.503098,-58.3755151,-58.5020382,null,-58.3957247,-58.4395131,-58.3815808896,-58.3683936,-58.363104,null,-58.4639646475,-58.4391556,-58.398429,-58.429483,-58.464972,-58.4035735,-58.462539,-58.479865,-58.4980726,-58.3936066,-58.407784,-58.433286,-58.431618,-58.3958389,-58.4103941,-58.4398719788,-58.4679249898,-58.448826,-58.475847,-58.3876425,-58.4573332,-58.3741828,-58.370987,-58.4884093545,-58.4715823,-58.4593235105,-58.4280986,-58.3843696368,-58.4296297,-58.5020085,-58.4621378,-58.367363,-58.4637637,-58.39699,-58.45778,-58.465312,-58.401003,-58.467528104,-58.4009468,-58.446765,-58.3815808896,-58.478887,-58.439476,-58.3915063,-58.3619834,-58.4210553,-58.4455382,-58.4805920344,-58.3800404,-58.3952626,-58.466307,-58.390599,-58.445054,-58.3620253,-58.43399,-58.450034,-58.3973636,-58.46749,-58.434225,-58.4404535,-58.5101735,null,-58.4504145,-58.3703766,-58.405713,-58.4170204,-58.4655923,-58.3864376,-58.439476,-58.4294044,-58.4608111,-58.4276358,-58.5058889,-58.477376,-58.4451096,-58.4215840161,-58.4367102754,-58.4458254638,-58.3815591,-58.496032,-58.38465,-58.4585423,-58.4143458,-58.4047026,-58.4401697804,-58.365227,-58.512946,-58.4072179,-58.3847959,-58.370191,-58.4182063,-58.3905883,-58.378132,null,-58.4001326,-58.3980657,-58.3974607122,-58.451939,-58.4722301,-58.504588,-58.4217103,-58.425947,-58.457291,null,-58.4260507,-58.3932320736,-58.4059406,-58.4053183,-58.398382,-58.3759225,-58.4419019,-58.4882456,-58.469132,-58.370191,-58.44321,-58.4735425,-58.410187,-58.45572,-58.4068188999,-58.483035,null,-58.4109634,-58.449509,-58.4715637,-58.3716514,-58.491019,-58.4519393,-58.429483,null,-58.494445,-58.388665,-58.3753957,-58.4306228,-58.485000192,-58.3973356,-58.4191305,-58.503098,-58.3815808896,-58.3703982,-58.4531908,-58.3900615127,-58.480847,-58.4594193,-58.3923691,-58.5185294,-58.4265886534,-58.416066,-58.4463618,-58.4952915,-58.4424865,-58.4710108,-58.4219256,-58.4056064,-58.403428,-58.4842066,-58.42644,-58.4047617,-58.3658953037,-58.3684327,-58.4008309,-58.538654,-58.389289,-58.3809608,-58.3919534,-58.453853,-58.5290425,-58.446472,-58.4711972,-58.419043,-58.429758,-58.497526,-58.43106,-58.4074928,-58.473468,-58.43089266,-58.422868,-58.3895203,-58.4922702,-58.4692294,-58.4307706,null,-58.370191,-58.467568,null,-58.4494039,-58.4374328,-58.3756926,-58.447411,-58.4250133,-58.38465,-58.4619167,-58.457834,-58.4097289,-58.4669149,-58.420993,-58.4559767,-58.383029,-58.387828,-58.510665,-58.4348804,-58.4793743,-58.4676975,-58.454319,-58.3815808896,-58.4891059,-58.4360816,-58.4464868,-58.433336,-58.370191,null,-58.489902,-58.4428593,-58.3741828,-58.434139,-58.4637637,-58.3741828,null,-58.4398375372,-58.4762577092,-58.463618,-58.4002948,-58.362074,-58.489645,-58.4098381,-58.4480741,-58.4123565,-58.483926,-58.373396,-58.43508,-58.3798478,-58.4674306,-58.4049474,-58.4418691,-58.4230345,-58.4711826,-58.4184618574,-58.4126561,-58.437159,-58.443768,-58.4361649,-58.443266,-58.452925,-58.3930741,-58.42001,-58.3802715265,-58.4200017,-58.4230445653,-58.391025,-58.4071500959,-58.451504,-58.4554388,-58.4430006,-58.4395493,null,null,-58.4323654,-58.3904158,-58.377469,-58.442214,-58.4021054,-58.3851364503,-58.370987,-58.464229,-58.415852535,-58.4272289729,-58.4398737,-58.4326904,-58.442214,-58.3885322,-58.4838433,-58.4396756,-58.4300086,-58.462549,-58.386964,-58.479597,-58.483565,-58.404243,-58.469611,-58.4793809703,-58.4925931,-58.3590976,-58.4155515307,-58.4825581312,-58.4437822,-58.3702987529,-58.4884216,-58.4828695,-58.3619834,-58.3994391,-58.4535346,-58.4305691,-58.3915063,-58.3813599,-58.4202372,-58.3737459,-58.382936,-58.4747612,-58.4781172,-58.4895904,-58.435817,-58.404908,-58.5065126,-58.4461906259,-58.4356934,-58.4095145,-58.4874628,-58.47859,-58.4584262,-58.4239639696,-58.4330886,-58.42644,-58.477082,-58.4167791,-58.3782511,-58.47667,-58.4693725804,-58.4031864,null,-58.4122703,-58.505965,-58.4177943,-58.3763769,-58.416438,-58.4434509,-58.447429,-58.3985397,-58.4399963,-58.4465012,-58.4208496,-58.464217,-58.406957,-58.4098381,-58.4434737,-58.4558554,-58.360859,-58.4374779,-58.4792631,-58.4925931,-58.44306,-58.3770467,-58.4579128,-58.3748384,-58.4691811202,-58.4332695,-58.504856,-58.3981259,-58.453853,-58.4516194,-58.538654,-58.437438,-58.3838114,-58.3790009,-58.4145060006,-58.4085322312,-58.42644,-58.4640892,-58.4295100815,-58.454126,-58.398222,-58.408314,-58.4201892,-58.475645,-58.4886936,-58.3792849,-58.3600617,-58.4308423,-58.4723916,null,-58.4517992,-58.480847,-58.4303011,-58.3939969,-58.5023489,-58.488694,-58.4057003,-58.471529,-58.4594193,-58.429483,-58.4886936,-58.400216,-58.4044354,-58.4746933,-58.3714702,-58.3977644,-58.449509,-58.4223095471,-58.4404055,-58.370191,-58.3725301,-58.41701,-58.4144257,-58.4839401,-58.4047617,-58.362934,-58.3954919,-58.50423,-58.4512878,-58.4245895,-58.4085322312,-58.45214,-58.4544363,-58.4008815,-58.3740855051,null,null,-58.4916086,-58.42644,-58.4391556,-58.386136,null,-58.35832,-58.4957847,-58.4340915,-58.5033054,-58.4102772,-58.4242390577,-58.442084868,-58.418654,null,-58.4409590949,-58.422289,-58.482362,-58.4351516166,-58.4803271,-58.3901412,-58.4208597,-58.4522701,-58.416345,-58.3815808896,-58.491511,-58.3618516418,-58.425786,-58.441343,-58.440303,-58.4648168,-58.461324,-58.4421781,-58.370191,null,-58.4078106,-58.476815,-58.4632501,-58.440216,-58.406838,-58.4611155,-58.38414,-58.3590032,-58.478887,-58.4409353,-58.411732,-58.375979,-58.4342998,-58.4817763,-58.4342905,-58.4893800725,-58.42644,-58.37716,-58.4372479,-58.491578,-58.4228061,-58.4650952,-58.46487789,-58.416574,-58.4710585,-58.4255711132,-58.361728,-58.3809608,-58.4920942,-58.538654,-58.4719439,-58.4337564,-58.405410881,-58.5110465,-58.370082,-58.438406,-58.4512771,-58.4831803,-58.379758,-58.458337,-58.457758,-58.4246144,-58.478875,-58.468949,-58.4085322312,-58.4403013,-58.3971252862,-58.453759,-58.4035735,-58.4182362,-58.4463618,-58.4149356,-58.465379,-58.4432275,-58.4248563897,-58.387558,-58.3712215,null,-58.4487838,-58.3913563408,-58.4116606,-58.457265,-58.416438,-58.370341,-58.3703982,-58.4347383,-58.396645,-58.3829977,-58.430751,-58.4434737,-58.438252,-58.4409786,-58.45,-58.4690852765,-58.484173,-58.400558,-58.370891,-58.4198318965,-58.4415822,-58.3976831057,-58.4307,-58.437438,-58.4410885784,-58.4438046,-58.429063,-58.360963,-58.3998250693,-58.381232,-58.4805825768,-58.431512,-58.4739117,-58.4343878888,-58.454711,-58.478875,-58.440431,-58.3815808896,-58.466323,-58.431375,null,-58.4825026,-58.441433,-58.4154542,-58.3943872138,-58.4695944,-58.3732828,-58.4723786,-58.474684,null,-58.4109898,-58.4173784,-58.4042052,-58.425295,-58.461664,-58.43089266,-58.4677387,-58.4300609,null,-58.3973636,-58.4335469,-58.3683401,-58.4002593786,-58.4480445,-58.4383643,null,-58.4256533906,-58.4659,-58.4413401079,-58.503277,-58.4440083,-58.4256268241,-58.4768939,-58.4692078,-58.3748384,-58.40135,-58.449528,-58.4471998,-58.477444,-58.47946,-58.4611155,-58.361928,-58.4095194,-58.507025,-58.4035194,-58.416649276,-58.4527474,-58.4681001518,null,-58.4877971841,-58.414446,-58.4179627,-58.3916741,-58.4110759,-58.4690249,null,-58.455898,-58.479251,-58.4165902,-58.4164492749,-58.449509,-58.457876,-58.3874235,-58.441065,-58.381452,-58.438747,-58.4676781,null,-58.4790126,-58.477478,-58.484774,-58.4848871652,-58.459903,-58.476815,-58.399023,-58.448764,-58.4468228,-58.4655168,-58.4846052,-58.3815808896,-58.4338175662,-58.452137,-58.370463,-58.460419,-58.4006620127,-58.390198,-58.509493,-58.42644,-58.454082,-58.4090862,-58.4116076,-58.4716025037,-58.4107896,-58.4073279,-58.3696383829,-58.434161,-58.5041771,-58.4541462,-58.4469826183,-58.429483,-58.472414,-58.4788297,-58.394136,-58.420937,-58.3956532164,-58.490095,-58.4482092853,-58.4806697,-58.4363698922,-58.4512771,-58.365579,-58.3605432,-58.42761,-58.372437,-58.3983918577,-58.460462,-58.444068,-58.501144,-58.4164389,-58.4168577,-58.3974607122,-58.428249,-58.4078192,-58.4191852,-58.440605,-58.361978,-58.4487530794,-58.480766781,-58.35884,-58.483565,-58.4588252,-58.4474666,-58.377764,-58.474474,-58.4190988,-58.4919050998,-58.4810658,-58.453537,-58.396822,-58.505256527,-58.4697507,-58.4412194,-58.4225687,-58.418727,-58.434005,-58.396555,-58.4848156603,-58.46141,-58.4887469933,-58.439687,-58.4903979,-58.4524269,-58.433864,-58.4799462,-58.3741828,-58.4114151,-58.462983,-58.397709,-58.4683603,-58.496761,-58.4708779,-58.4509432,-58.4085322312,-58.4652614,-58.448669,-58.489264,-58.4646535,-58.363668,-58.4557837,-58.4196847,-58.3815808896,-58.3947492433,-58.4430273,-58.402741,-58.3963347,-58.4196508,-58.4259152412,-58.4454157,-58.480147299,-58.4064858,-58.4060897,-58.4359178,-58.4205789,-58.4851559433,-58.3977098,-58.369716,-58.4604643,-58.459483,-58.478525,-58.4650154,-58.3802473,-58.3936256476,-58.4308693,-58.39345,-58.4576087,-58.4055977,-58.399239,null,-58.521075,-58.4606282,-58.4167391,-58.3849987,-58.4720836,-58.4029587,-58.3703982,-58.416577,-58.4583569,-58.40663,-58.4983578,-58.431323,-58.4345008,-58.434155,-58.374815,-58.3741828,-58.468037,-58.3779693438,-58.4687782122,-58.428099,-58.494344,-58.4772734,-58.488293,-58.4884216,-58.3907693,-58.485000192,-58.4949974,-58.4427098,-58.379851,-58.3703766,-58.4563141,-58.5290105,-58.383662,-58.3973636,-58.42644,-58.404307,-58.4484175,-58.406968,-58.439614,-58.431656,-58.482362,null,-58.474142,-58.3860588202,-58.436024,-58.441622,-58.4434293,-58.4944286,-58.4365968034,-58.399969,-58.46141,-58.3840818,-58.362898,-58.491019798,-58.4166613563,-58.4830254,-58.3666195,-58.4243307,-58.4606052,-58.4454984,-58.469431,-58.465303,-58.4920942,-58.4417361,-58.4240065,-58.43891555,-58.4279297,-58.4744939153,-58.3703982,-58.3920496,-58.465215,-58.386776,-58.4559584,-58.45602,-58.4464868,-58.457758,-58.485683,null,-58.456739,-58.4491468686,-58.507959,-58.4513922,-58.4035735,null,-58.485331,-58.4396836,-58.440083,-58.4255006,-58.364042,-58.442214,-58.4557581,-58.4307536,-58.4676446,-58.4754707,-58.4092647,-58.389015,-58.442108,-58.3684327,-58.4056064,-58.470506,null,-58.383662,-58.4360764,-58.4687339,-58.4304928,-58.4109401,-58.4449945,-58.4437891643,-58.481306,-58.48546,-58.4415270386,-58.425678,-58.4176768,-58.4035735,-58.463359,-58.44123,-58.4649179508,-58.4989178,-58.517055,-58.504636,-58.379607,-58.4392333,-58.4304234,-58.5109039,-58.3737295,null,-58.4201892,-58.441536,-58.42644,-58.493925,-58.475877,-58.4404055,-58.3741856989,-58.451257,-58.4882788,-58.3815591,-58.4187803,-58.4313746,-58.411796,-58.4623963,-58.3619834,-58.4324062,-58.458337,-58.4936437,-58.4594467,-58.4603122,-58.360072,-58.4920942,-58.4298324,-58.43392,-58.46235,-58.4034955,-58.449528,-58.3882455,-58.454126,-58.4667932,null,-58.450937,-58.4611011534,-58.4091008,-58.400558,-58.444272,-58.4576474,-58.498828,-58.3815591,-58.4390479,-58.422418,-58.4740494,-58.4562072,-58.3581979,-58.385339,-58.4401524326,-58.5251083,-58.427017,-58.4854197,-58.4430006,-58.3620255,-58.4562083,-58.408535,-58.4747469,-58.398354,-58.4736812401,-58.4221209,-58.5043329,-58.494451,-58.455591,-58.429799,-58.4842066,-58.4102441,-58.441966,-58.4983692,-58.3984045,-58.412161,-58.414597,-58.375622,-58.4006314,-58.3720875,-58.457291,-58.476073,-58.4329632,-58.3976573,null,-58.4194307376,-58.5007833163,-58.4301607,-58.4851988587,-58.4852234,-58.374696,-58.4376694,-58.457834,-58.4570045,-58.3814548,-58.42644,-58.4412194,-58.4280128,-58.3607084,-58.4538717,-58.4155312677,-58.4886936,-58.393643,-58.522947,-58.465326,-58.468466,-58.4825707884,-58.419041,-58.4038018,-58.4740705,-58.4105558,-58.461207,-58.361767,-58.4893517227,-58.4035735,-58.4193201484,-58.44387,-58.4454154,-58.413797,null,-58.4652041,-58.4075603452,-58.44606,-58.453461,-58.4092105,-58.4309507,-58.3904300809,-58.4390592,-58.459192,-58.503098,-58.504558,null,-58.3682693,-58.4375603,-58.4886936,-58.440675,-58.4460439,-58.3642364336,-58.4779329,-58.3915939,-58.4075992892,-58.4109401,-58.436236,-58.4191918,-58.439262,-58.465955,-58.4042301108,-58.3974607122,-58.450063,-58.5109507,-58.4110941,-58.448669,-58.3907693,-58.3973636,-58.416152,-58.4296409,-58.3741828,-58.436474,-58.474045,-58.503667,-58.3950737908,-58.3900615127,-58.3973457,-58.427846,-58.3960241,null,-58.3781,-58.4660263,-58.4741353,-58.361686,-58.447667,-58.5013599,-58.422568,-58.4808592,-58.42644,-58.4555330697,-58.414139,-58.3915063,-58.4018627,-58.4328,-58.456366,-58.4280968,-58.4243307,-58.4493817,-58.4675968952,-58.432479,-58.482418,-58.44395,-58.484806,-58.4044547,-58.442214,-58.4454157,-58.398707,null,-58.372539,-58.4305388774,-58.42644,-58.4444804,-58.383662,-58.476375,null,-58.4400304,-58.418382,-58.4055961,-58.4458736,-58.4081857,-58.5151685,-58.4803833,-58.458337,-58.422512,-58.449767,-58.3895931,-58.4601452,-58.3635071,-58.477285,-58.4645989,-58.4904251,-58.478887,-58.4490806646,-58.429483,-58.4410557,-58.4446544,-58.383662,-58.376436,-58.358281,-58.499773,-58.4734852,null,-58.422895,-58.47859,-58.456535,-58.4766418,-58.4744939153,-58.3859524,-58.4871867,null,-58.4349834,-58.3910482884,-58.538654,-58.456167,-58.4251654936,-58.480901,-58.4708167619,-58.4391556,-58.4683497,-58.4566864,-58.5025351,-58.379846,-58.4633363,-58.410066,null,-58.4067975,-58.4970536653,-58.4840109,-58.4012107535,-58.4838642,-58.4768939,-58.4207549159,-58.4659096,-58.430979,-58.5118789309,-58.4692294,-58.4606278,-58.486145,-58.4363043,-58.463709,-58.5299296,-58.467528104,-58.48177,-58.4050038,-58.4587265,-58.3815591,-58.4129729,-58.4555204,-58.4548664796,-58.4668325353,-58.442786,-58.4059185,-58.407902,-58.4806697,-58.4243713,-58.428647,-58.468101,-58.3613907159,-58.4943971,-58.4293098,-58.4314768,-58.4907625,-58.447667,-58.4389143,-58.472886,-58.450212,-58.4327067207,-58.4722969,-58.4994608,-58.4824993,-58.454126,-58.373266,-58.4267797891,-58.4423974,-58.4351583,-58.4458093,-58.404908,-58.47375,-58.478875,-58.430979,-58.390883,-58.4088284,-58.3971252862,-58.3815808896,-58.3711168,-58.3760423,-58.4506784,-58.50827,-58.390128,-58.443081,-58.380515,-58.4384177187,-58.475386,-58.4095732,-58.4165902,-58.3974440676,-58.4680768001,null,-58.4516240558,-58.471314,-58.362063,-58.4514747,-58.374543,-58.480847,-58.4083774,-58.4326811349,-58.417149,-58.4611155,null,-58.4646919784,-58.5068965,-58.3947372437,-58.3815591,-58.44344,-58.449509,-58.415723,-58.4438344,-58.4678339,-58.4661541,-58.4044539951,-58.4727656,-58.416323,-58.43231,-58.4035735,-58.3730819646,-58.3755346,-58.4720665497,-58.443333,-58.504233,-58.411252,-58.4317953,-58.4606282,-58.430007,-58.4810658,-58.3815808896,-58.478887,-58.468723,-58.473409,-58.450184,-58.4441875,-58.378645,-58.473573,-58.3684327,-58.4795553,-58.4430006,-58.3815808896,-58.488958,-58.4034886949,-58.454126,null,-58.4723806,-58.4593235105,-58.4540023,-58.4544156,-58.4870799,-58.4903117,-58.38465,-58.4045072,-58.497952,-58.3815808896,-58.460655,-58.3966617,-58.4302201,-58.366447,-58.435206,-58.478887,-58.3815591,-58.3703982,-58.481217,-58.4354142,-58.4137973,-58.4789795,-58.4044552,-58.451675,-58.42644,-58.3757822,-58.4330886,-58.463507,-58.4421781,-58.387814,-58.4202008,-58.3634811,-58.4129571,-58.510665,-58.501434,-58.482973,null,null,-58.4772734,-58.418684,-58.390628,-58.4576157,-58.490956,-58.4436023,-58.4876292,-58.3741828,-58.360072,-58.4786497,-58.4193856,-58.3755151,-58.503098,-58.442786,-58.4250113,-58.4059201,-58.482362,-58.401282,-58.4090293,-58.3982710524,-58.4241328351,-58.4304906,-58.458131,-58.3996658011,-58.394541,-58.382945,-58.4170204,-58.45499,-58.448536,-58.4013462067,-58.435214,-58.4430183058,-58.4762577092,-58.4518146515,-58.4718696,-58.4583569,null,-58.4154084613,-58.4533539,-58.4722804869,-58.4150253,-58.4201892,null,-58.425593,-58.538654,-58.4274665,-58.411564,-58.422503,-58.493614,-58.4373077,-58.3987216635,-58.402162,-58.386225,-58.4908182,-58.431375,-58.4206254,-58.449509,-58.453461,null,-58.4092647,-58.47589,-58.4723806,-58.4214929,-58.4583569,-58.416438,-58.4601452,-58.4796249,-58.4141145,-58.461357,-58.4741508,-58.4574938,-58.4047213022,-58.4491363,-58.4831569,null,-58.3675043,-58.482362,-58.4663250096,null,-58.4232966,-58.5241961,-58.4520313,-58.4634637,-58.4394757,-58.482362,null,-58.407269,-58.3760261536,-58.4514911,-58.48704,-58.4197776,-58.4022280693,-58.473485,-58.408314,-58.3865046,-58.4324453005,-58.383662,-58.4768939,-58.466804,-58.463674,null,-58.408449,-58.4521270586,-58.490947,-58.494072,null,-58.3928584221,-58.4683046,-58.376893,-58.384341,-58.425008,-58.4559767,-58.4029587,-58.4769238,-58.484302,-58.4853089188,-58.370191,-58.4734852,-58.444176,-58.5090007,-58.4414368,-58.4394757,-58.4604855,-58.415585,-58.4123152,null,-58.474418,-58.4694669995,-58.4560875555,-58.4411428,-58.39331,-58.4568112,-58.4423446,-58.477121,-58.48074,-58.457265,-58.3882428,-58.4179627,-58.440472,-58.415568,-58.4707306,-58.444045,-58.4554388],\"marker\":{\"color\":[129000.0,87000.0,118000.0,57000.0,90000.0,138000.0,114000.0,82000.0,166000.0,136500.0,75000.0,68000.0,80000.0,125000.0,120000.0,145000.0,95000.0,155000.0,300000.0,95000.0,82000.0,129000.0,280000.0,1902884.0,1568270.0,118885.0,190000.0,157000.0,119000.0,290000.0,149000.0,199000.0,74400.0,130000.0,140000.0,179869.0,89000.0,80000.0,619000.0,84000.0,110000.0,115000.0,137500.0,88000.0,115000.0,83000.0,107000.0,129500.0,160000.0,97000.0,84000.0,85000.0,90000.0,27279.0,230000.0,64900.0,90000.0,142200.0,140000.0,114000.0,122000.0,1520000.0,80000.0,120000.0,112000.0,85000.0,150000.0,86500.0,92400.0,110000.0,122000.0,271000.0,170000.0,235000.0,165000.0,170000.0,84000.0,90000.0,140000.0,99000.0,95000.0,155000.0,147000.0,156000.0,79000.0,110000.0,158000.0,249000.0,146000.0,158000.0,92000.0,92000.0,99000.0,250000.0,112000.0,120000.0,189000.0,95000.0,116000.0,85000.0,71500.0,37983.0,110000.0,120000.0,90000.0,85000.0,95000.0,105000.0,58000.0,1648669.0,250000.0,265000.0,79000.0,81360.0,108000.0,128260.0,136000.0,210000.0,1987700.0,166000.0,156000.0,165000.0,1157000.0,184000.0,133000.0,94635.0,184150.0,179500.0,64000.0,280000.0,106000.0,99000.0,105500.0,165000.0,120000.0,93000.0,149000.0,185000.0,57000.0,122000.0,181000.0,330000.0,150000.0,130000.0,115000.0,83850.0,2972713.0,107000.0,189000.0,139500.0,92000.0,128000.0,230000.0,226000.0,107000.0,134000.0,97000.0,370000.0,1252757.0,66605.0,110000.0,100000.0,52000.0,213000.0,3273780.0,245000.0,124900.0,150000.0,122000.0,120000.0,84800.0,189900.0,128000.0,95164.0,125000.0,122000.0,60000.0,255000.0,99538.0,230000.0,110000.0,80000.0,133000.0,89500.0,175000.0,94300.0,2466700.0,1748500.0,199500.0,94000.0,125900.0,178000.0,152000.0,98000.0,125000.0,158000.0,150277.0,1396000.0,195000.0,72000.0,1278138.0,64900.0,131000.0,137000.0,138000.0,1695774.0,159500.0,175000.0,309000.0,95000.0,73000.0,87000.0,73000.0,105485.0,382015.0,95700.0,174000.0,120000.0,120000.0,67000.0,122000.0,1388000.0,83000.0,130000.0,139000.0,120000.0,111000.0,95000.0,221700.0,205000.0,90000.0,220000.0,125000.0,99000.0,132000.0,197900.0,78000.0,114000.0,100000.0,108600.0,157000.0,5487000.0,60000.0,97000.0,136000.0,240000.0,142000.0,310000.0,103018.0,107000.0,1545000.0,135000.0,119000.0,220000.0,185000.0,170000.0,3458648.0,85000.0,150000.0,130000.0,175000.0,180000.0,331000.0,92000.0,93900.0,140000.0,78800.0,95000.0,155000.0,68000.0,145000.0,98000.0,94500.0,67600.0,195000.0,77000.0,298000.0,85000.0,109000.0,133000.0,72000.0,1419000.0,63000.0,87000.0,983006.0,195000.0,260000.0,169500.0,129000.0,119000.0,88000.0,100306.0,97000.0,86000.0,90000.0,112677.0,145000.0,150000.0,210000.0,100000.0,76000.0,95568.0,175000.0,94000.0,195000.0,145000.0,159000.0,120000.0,350000.0,84500.0,115000.0,73800.0,130000.0,110000.0,132000.0,169000.0,189000.0,78000.0,138000.0,90000.0,62000.0,157000.0,138000.0,84000.0,88000.0,140000.0,198000.0,61770.0,92000.0,1586000.0,157000.0,91606.0,85000.0,145000.0,120000.0,275000.0,75000.0,99500.0,53000.0,65000.0,210000.0,160000.0,85900.0,103000.0,137000.0,135000.0,119900.0,193000.0,1556000.0,139000.0,290000.0,158000.0,140000.0,95800.0,3547000.0,200000.0,75000.0,145000.0,295000.0,79500.0,123000.0,91500.0,135000.0,83000.0,180000.0,85000.0,380000.0,180000.0,137000.0,107500.0,143000.0,118000.0,176000.0,1192000.0,230500.0,158000.0,165000.0,138000.0,152000.0,165000.0,78000.0,153000.0,105000.0,170000.0,140000.0,69458.0,110000.0,84000.0,105100.0,1581000.0,160000.0,105000.0,73800.0,248000.0,133000.0,88000.0,112419.0,137000.0,200000.0,160000.0,174250.0,105700.0,268000.0,135000.0,84280.0,92304.0,220000.0,90000.0,265000.0,189302.0,4777000.0,240000.0,1562000.0,152638.0,78000.0,70000.0,205000.0,102000.0,145000.0,95000.0,73000.0,95000.0,90000.0,107720.0,105000.0,149900.0,299000.0,129900.0,222500.0,98000.0,109500.0,270000.0,99000.0,98900.0,1346360.0,148000.0,174000.0,70000.0,149500.0,99000.0,94000.0,1501000.0,83840.0,165000.0,125000.0,289000.0,119000.0,85000.0,142000.0,117000.0,78000.0,52000.0,92000.0,150000.0,135000.0,115000.0,115000.0,140000.0,105500.0,85000.0,99000.0,114000.0,79000.0,600000.0,115000.0,112000.0,91000.0,125000.0,138000.0,150000.0,157000.0,85000.0,80000.0,127000.0,74000.0,85800.0,202616.0,80000.0,279900.0,165700.0,146076.0,82000.0,154500.0,135000.0,170000.0,95000.0,95000.0,90000.0,240000.0,75000.0,255000.0,82000.0,127000.0,340000.0,124999.0,138000.0,160000.0,71900.0,115000.0,89000.0,90000.0,70000.0,210000.0,190000.0,140000.0,119000.0,187000.0,125000.0,75000.0,220000.0,150000.0,146000.0,55000.0,99500.0,123000.0,112000.0,195000.0,78000.0,72000.0,2767881.0,187000.0,131216.0,130000.0,79000.0,105000.0,1645500.0,205000.0,195000.0,1230000.0,65900.0,66458.0,239000.0,95000.0,281170.0,93000.0,104400.0,1464176.0,130000.0,95000.0,158000.0,290000.0,185000.0,130000.0,120000.0,85000.0,87000.0,88517.0,125000.0,145000.0,72000.0,152000.0,219235.0,158000.0,98000.0,148000.0,75000.0,199000.0,88498.0,99800.0,94000.0,87000.0,78000.0,88500.0,230000.0,87000.0,145000.0,119000.0,169000.0,67500.0,1395500.0,80000.0,75000.0,81000.0,105000.0,130000.0,95000.0,183000.0,125000.0,162000.0,96000.0,109000.0,122000.0,120000.0,126800.0,89000.0,97000.0,190729.0,95000.0,118000.0,98000.0,130000.0,130000.0,177000.0,225000.0,245000.0,94000.0,152000.0,196000.0,142000.0,120000.0,141780.0,185000.0,105000.0,1534516.0,279000.0,104999.0,76000.0,115000.0,90000.0,125000.0,1284000.0,155000.0,130000.0,143000.0,89035.0,2321000.0,70000.0,249900.0,124267.0,115079.0,120000.0,236132.0,92800.0,84000.0,160000.0,110000.0,98000.0,83500.0,130000.0,110760.0,145000.0,84000.0,133000.0,147000.0,93653.0,70000.0,115000.0,285000.0,150000.0,96000.0,205000.0,92107.0,142000.0,78800.0,210000.0,98500.0,85000.0,69000.0,90000.0,117000.0,170000.0,154112.0,86000.0,175000.0,95000.0,95000.0,190000.0,165000.0,85000.0,95000.0,98000.0,260000.0,215100.0,88000.0,90000.0,118000.0,154000.0,233200.0,245000.0,191134.0,114000.0,205095.0,123000.0,208000.0,190000.0,220000.0,140000.0,66458.0,199000.0,97000.0,88000.0,160000.0,279000.0,165000.0,99000.0,85000.0,1825000.0,100000.0,280000.0,130000.0,73600.0,325000.0,79400.0,85000.0,330000.0,125000.0,119000.0,71899.0,88060.0,70000.0,85000.0,95000.0,285000.0,135000.0,1700000.0,72900.0,230000.0,124000.0,130000.0,96189.0,190000.0,86000.0,135000.0,81500.0,110940.0,111359.0,140000.0,125000.0,84000.0,127000.0,79500.0,90000.0,105000.0,2050000.0,98000.0,130000.0,220000.0,86400.0,90000.0,99000.0,220000.0,87000.0,82000.0,105000.0,226063.0,108000.0,83000.0,67000.0,75500.0,90000.0,120000.0,115000.0,91500.0,132000.0,145000.0,130000.0,114000.0,909464.0,220000.0,94900.0,189000.0,170000.0,125000.0,107000.0,203000.0,75000.0,70000.0,100000.0,80000.0,395000.0,85000.0,90000.0,1085000.0,99300.0,129000.0,122000.0,98000.0,245000.0,215000.0,135000.0,97000.0,155000.0,2763000.0,135000.0,65000.0,92500.0,149000.0,225000.0,109000.0,105300.0,125000.0,135500.0,95000.0,94000.0,82000.0,1449000.0,150000.0,176000.0,70000.0,108000.0,185000.0,191000.0,179000.0,90000.0,180000.0,129000.0,145000.0,88000.0,276500.0,1443000.0,183300.0,78100.0,146000.0,125000.0,76184.0,80000.0,84500.0,93000.0,93975.0,127000.0,1610559.0,125000.0,104000.0,118000.0,148847.0,144000.0,149000.0,73000.0,75000.0,135000.0,146000.0,110000.0,1193200.0,101808.0,105000.0,137000.0,80000.0,1370290.0,165000.0,127000.0,100200.0,115000.0,120000.0,270000.0,75000.0,1348000.0,69000.0,85000.0,165000.0,99800.0,135000.0,184000.0,84000.0,159000.0,95000.0,60000.0,110000.0,75000.0,99000.0,115000.0,230000.0,84500.0,92000.0,75600.0,109000.0,205000.0,93500.0,159900.0,154500.0,118000.0,197000.0,80000.0,177000.0,83000.0,85000.0,131500.0,130000.0,95000.0,118000.0,148000.0,1771027.0,138000.0,74900.0,150000.0,155000.0,136000.0,175000.0,190000.0,68000.0,120000.0,85000.0,92000.0,110000.0,138500.0,74676.0,62000.0,135000.0,82000.0,235000.0,240000.0,190000.0,149500.0,73000.0,96000.0,165000.0,160000.0,91200.0,89000.0,93000.0,110000.0,79000.0,140000.0,84900.0,390000.0,145000.0,89000.0,85000.0,185000.0,135000.0,99900.0,272000.0,275000.0,170000.0,2200000.0,159500.0,149000.0,80000.0,74500.0,125000.0,183000.0,169500.0,132000.0,65000.0,729405.0,89000.0,112000.0,309000.0,1165600.0,180000.0,175000.0,114000.0,109472.0,129000.0,115000.0,115000.0,75000.0,130000.0,145000.0,185000.0,122000.0,120000.0,250000.0,1297422.0,260000.0,175000.0,176000.0,87000.0,320000.0,120000.0,93000.0,241900.0,240000.0,90000.0,143000.0,138000.0,115000.0,158356.0,150000.0,190000.0,350000.0,75000.0,159000.0,175000.0,119000.0,210000.0,79800.0,176000.0,97500.0,75000.0,85000.0,160000.0,185000.0,92200.0,165000.0,167000.0,151800.0,149900.0,155000.0,85000.0,81900.0,240000.0,80000.0,105000.0,85000.0,102500.0,115000.0,148000.0,359950.0,85000.0,95000.0,151000.0,74000.0,300000.0,65000.0,185000.0,250000.0,239000.0,180000.0,92000.0,148000.0,150000.0,72000.0,128000.0,136000.0,120000.0,220000.0,166000.0,330000.0,92500.0,112000.0,180000.0,102921.0,135000.0,99306.0,190000.0,340000.0,86900.0,92000.0,145000.0,1834248.0,125000.0,149000.0,173000.0,156000.0,110207.0,143000.0,125000.0,1420000.0,145000.0,165000.0,60000.0,145000.0,168500.0,139500.0,155000.0,120000.0,70000.0,70000.0,93000.0,115400.0,195000.0,95000.0,175000.0,320000.0,214073.0,138000.0,77500.0,189500.0,148000.0,193000.0,130000.0,165000.0,138159.0,157000.0,105000.0,352000.0,75000.0,85000.0,94700.0,300000.0,123200.0,220000.0,145000.0,155000.0,85000.0,69000.0,102167.0,85000.0,102000.0,158000.0,135000.0,95000.0,135000.0,90000.0,84500.0,89000.0,63000.0,185000.0,260000.0,75050.0,95000.0,115000.0,79500.0,3547000.0,185000.0,119000.0,124000.0,1665000.0,150000.0,150000.0,110000.0,195000.0,166793.0,95000.0,165000.0,153000.0,169900.0,78900.0,89900.0,121000.0,125000.0,290000.0,175000.0,268000.0,84900.0,123400.0,1655297.0,260000.0,71000.0,180000.0,84500.0,90000.0,160000.0,180000.0,74800.0,1575000.0,270000.0,72000.0,73000.0,300000.0,140000.0,115000.0,210000.0,115000.0,105000.0,90000.0,175000.0,150000.0,70000.0,105000.0,232000.0,200000.0,92625.0,131000.0,245000.0,235000.0,123000.0,98000.0,178000.0,92000.0,120000.0,100000.0,165000.0,208000.0,146000.0,2477000.0,113360.0,115000.0,105000.0,158000.0,97000.0,89500.0,210000.0,179375.0,165000.0,172000.0,88000.0,216500.0,89000.0,188000.0,395000.0,106000.0,220000.0,130000.0,179500.0,239000.0,1868761.0,319000.0,265000.0,125000.0,140000.0,115000.0,197000.0,150000.0,200000.0,82500.0,80000.0,58000.0,1261800.0,179000.0,145000.0,165000.0,193000.0,117500.0,193500.0,112000.0,1353000.0,110760.0,73900.0,144900.0,155000.0,162000.0,195000.0,105000.0,95000.0,82500.0,80000.0,143000.0,110000.0,139000.0,96500.0,150000.0,80000.0,125000.0,108000.0,164900.0,150000.0,149000.0,68000.0,330000.0,135000.0,110000.0,149000.0,149000.0,179500.0,63500.0,120000.0,80000.0,105000.0,240000.0,85000.0,60000.0,112000.0,90000.0,176900.0,112677.0,72000.0,130000.0,125000.0,69000.0,138000.0,93000.0,99000.0,225000.0,123000.0,265000.0,134000.0,150000.0,59000.0,165000.0,145000.0,87000.0,55000.0,169000.0,135000.0,137000.0,65000.0,89000.0,141300.0,125000.0,106250.0,126000.0,97500.0,120000.0,71361.0,115000.0,82000.0,155000.0,170000.0,110000.0,190000.0,178000.0,235000.0,85000.0,130000.0,90000.0,120000.0,105000.0,90000.0,120000.0,126446.0,79447.0,550000.0,224000.0,2200000.0,140000.0,75000.0,134000.0,164000.0,147000.0,175000.0,155000.0,89000.0,168000.0,85000.0,156000.0,149000.0,59000.0,138000.0,185000.0,59640.0,100000.0,73600.0,205095.0,215000.0,77000.0,168000.0,160000.0,315000.0,95000.0,115000.0,100000.0,170000.0,215000.0,120000.0,310000.0,158000.0,175000.0,200000.0,117620.0,210000.0,140000.0,147733.0,149500.0,95100.0,170000.0,350000.0,98000.0,195000.0,129500.0,75000.0,185000.0,99000.0,249000.0,230000.0,105000.0,125000.0,104000.0,90000.0,84500.0,125000.0,210000.0,245000.0,171900.0,78000.0,63000.0,135000.0,143100.0,1118100.0,119000.0,62000.0,125000.0,78000.0,215000.0,341550.0,1386000.0,105000.0,89681.0,99000.0,72000.0,116000.0,87000.0,80000.0,90000.0,145000.0,130000.0,149000.0,124000.0,80000.0,140000.0,78000.0,159000.0,1393000.0,125000.0,99120.0,158000.0,75500.0,250000.0,108000.0,80000.0,133000.0,156000.0,122000.0,80000.0,85000.0,90000.0,109000.0,87000.0,112000.0,183000.0,126000.0,210000.0,103000.0,210000.0,95000.0,165000.0,110000.0,1467000.0,120000.0,270000.0,120000.0,2296000.0,105000.0,67000.0,115000.0,115000.0,195000.0,97800.0,249000.0,105000.0,165000.0,149000.0,160000.0,145000.0,115000.0,84000.0,85000.0,120000.0,200000.0,68000.0,84000.0,144500.0,200000.0,114000.0,58000.0,135000.0,155000.0,77900.0,92000.0,99000.0,80000.0,180000.0,78000.0,125000.0,142000.0,120000.0,94900.0,146000.0,143000.0,59200.0,1118100.0,115000.0,4667667.0,73000.0,192000.0,90000.0,179000.0,189500.0,78000.0,1700035.0,102000.0,105000.0,100000.0,110000.0,120000.0,310000.0,149900.0,151000.0,96000.0,110000.0,139000.0,140000.0,75000.0,189000.0,259000.0,91200.0,95000.0,1267100.0,119636.0,95000.0,110000.0,119930.0,98000.0,155000.0,118110.0,105000.0,123000.0,90000.0,240000.0,64000.0,295000.0,78500.0,129500.0,82000.0,197000.0,174900.0,280000.0,84000.0,94000.0,115100.0,88000.0,109000.0,158000.0,84000.0,1851000.0,120000.0,95000.0,81000.0,110000.0,138000.0,109800.0,77000.0,1725000.0,105000.0,91800.0,110000.0,954000.0,67000.0,235000.0,3041593.0,85000.0,128000.0,139900.0,85000.0,200000.0,146000.0,149000.0,101443.0,330000.0,115000.0,108576.0,43000.0,126000.0,185000.0,196500.0,300000.0,73190.0,62000.0,170000.0,117000.0,81000.0,80000.0,144900.0,110000.0,232726.0,179500.0,115000.0,153000.0,190000.0,65000.0,83500.0,318000.0,99000.0,85900.0,108633.0,90000.0,182000.0,99000.0,210000.0,88000.0,1050000.0,79000.0,2761500.0,65000.0,84000.0,139000.0,159000.0,140000.0,250000.0,95000.0,182000.0,180000.0,158000.0,78800.0,90000.0,109000.0,120000.0,1898000.0,2427000.0,154500.0,105000.0,109000.0,91574.0,82000.0,117000.0,235000.0,65000.0,135000.0,70000.0,2003000.0,82000.0,139000.0,118000.0,87000.0,99000.0,130000.0,139000.0,167000.0,71000.0,86900.0,255500.0,183500.0,94900.0,68000.0,90000.0,105000.0,190000.0,84900.0,89000.0,82000.0,80600.0,97000.0,80000.0,75000.0,1409000.0,128000.0,214000.0,71500.0,99500.0,143000.0,101000.0,210000.0,146000.0,233200.0,112700.0,160000.0,95000.0,259000.0,93583.0,89000.0,825578.0,124267.0,85000.0,140000.0,210000.0,168781.0,115000.0,125000.0,165000.0,85000.0,360000.0,62000.0,173080.0,142000.0,132000.0,2514000.0,217500.0,107192.0,62636.0,70000.0,175000.0,72000.0,170000.0,100000.0,340000.0,98000.0,1294200.0,365000.0,105000.0,165000.0,106000.0,84000.0,90000.0,85000.0,75000.0,85000.0,225000.0,153000.0,101750.0,71194.0,95000.0,135000.0,123000.0,70000.0,90000.0,222700.0,93425.0,85000.0,121163.0,57000.0,64000.0,156400.0,99900.0,270000.0,125000.0,149000.0,115000.0,118110.0,120000.0,290000.0,193853.0,122000.0,249000.0,105000.0,176900.0,129000.0,79900.0,97000.0,109500.0,240000.0,74000.0,135200.0,1642816.0,137000.0,76000.0,100000.0,1455000.0,111000.0,149000.0,204000.0,70000.0,164000.0,255000.0,81480.0,220000.0,55000.0,55000.0,90000.0,125000.0,110000.0,112000.0,90000.0,195000.0,98000.0,154500.0,92000.0,150000.0,73900.0,93000.0,170000.0,129000.0,152000.0,70000.0,140000.0,255000.0,145000.0,1149055.0,189000.0,200000.0,271000.0,250000.0,127000.0,60000.0,92000.0,116533.0,94000.0,125000.0,4056000.0,70000.0,125000.0,113360.0,155000.0,169000.0,125000.0,94830.0,147000.0,105302.0,142500.0,375000.0,70000.0,206000.0,92000.0,407040.0,78900.0,175000.0,110000.0,209000.0,79700.0,145000.0,72800.0,136000.0,82500.0,1210000.0,182000.0,984750.0,108000.0,185000.0,183500.0,150000.0,237000.0,107000.0,129000.0,135000.0,125000.0,99000.0,96000.0,130000.0,175000.0,126900.0,89900.0,159500.0,139500.0,260000.0,260000.0,82000.0,109500.0,132000.0,198000.0,155000.0,249000.0,135000.0,112320.0,93600.0,149000.0,135000.0,70000.0,150000.0,194100.0,119000.0,70000.0,98000.0,79900.0,120000.0,82400.0,203000.0,112700.0,85000.0,207700.0,125000.0,1987700.0,210000.0,105500.0,153000.0,155000.0,65000.0,84500.0,209990.0,300000.0,235000.0,275000.0,225000.0,156000.0,118000.0,85000.0,1250000.0,85000.0,74500.0,180000.0,99975.0,165000.0,93468.0,75000.0,100000.0,170000.0,95000.0,50000.0,83160.0,165000.0,280000.0,110000.0,99000.0,80000.0,125000.0,105000.0,84000.0,180000.0,187000.0,85000.0,90000.0,110000.0,135000.0,145000.0,248000.0,92000.0,89500.0,160000.0,123000.0,105000.0,104000.0,155000.0,158000.0,97000.0,98000.0,58000.0,107000.0,78000.0,64000.0,125000.0,85000.0,191134.0,112000.0,177000.0,120000.0,140000.0,126360.0,85500.0,88000.0,88500.0,58904.0,170000.0,115000.0,75000.0,69500.0,139000.0,98000.0,130000.0,148000.0,74000.0,129000.0,78000.0,130000.0,135000.0,115000.0,125000.0,132000.0,369500.0,155000.0,77000.0,69000.0,269000.0,159000.0,71400.0,120000.0,162000.0,105000.0,297638.0,75000.0,120000.0,170000.0,169000.0,115000.0,240000.0,110000.0,85000.0,128000.0,138000.0,1136000.0,95000.0,65000.0,165000.0,158000.0,112000.0,70000.0,145000.0,65000.0,219596.0,205000.0,74000.0,81000.0,235000.0,380000.0,91000.0,156000.0,147000.0,129000.0,117800.0,179000.0,235705.0,115000.0,85000.0,135000.0,108000.0,149000.0,158000.0,85000.0,99000.0,130000.0,120000.0,82000.0,112000.0,116996.0,115000.0,112000.0,59500.0,145000.0,85000.0,135000.0,158500.0,169000.0,160000.0,73800.0,92000.0,135000.0,224000.0,95000.0,99000.0,98000.0,330000.0,164959.0,75000.0,190000.0,135000.0,121500.0,159900.0,139900.0,105000.0,73000.0,200000.0,65000.0,125000.0,1519300.0,103000.0,99360.0,144000.0,137400.0,145000.0,82000.0,215000.0,105000.0,85500.0,90000.0,189000.0,115000.0,72000.0,87500.0,330000.0,290000.0,170000.0,135000.0,1612000.0,1353000.0,115000.0,95000.0,185000.0,67000.0,93000.0,150000.0,82000.0,139000.0,118974.0,225000.0,290000.0,129000.0,89500.0,122000.0,89000.0,125000.0,98577.0,133000.0,99000.0,110000.0,102500.0,118000.0,142067.0,125000.0,130000.0,1207500.0,189000.0,313000.0,174900.0,145000.0,109990.0,179000.0,125000.0,166394.0,91500.0,133000.0,170000.0,57900.0,79000.0,215000.0,198000.0,170000.0,139000.0,170000.0,100000.0,72000.0,117600.0,126000.0,150000.0,93500.0,252000.0,85500.0,69920.0,98000.0,101244.0,2680303.0,97000.0,180000.0,87000.0,89000.0,259000.0,2216000.0,232000.0,130000.0,149000.0,180000.0,82000.0,99875.0,85000.0,95000.0,134000.0,99000.0,178000.0,225390.0,115000.0,69670.0,75000.0,110000.0,165000.0,180000.0,148000.0,368000.0,102458.0,230000.0,88000.0,100000.0,144000.0,78500.0,173350.0,165000.0,122000.0,149000.0,120000.0,145000.0,76000.0,83000.0,112400.0,200000.0,106630.0,125000.0,139500.0,190000.0,73000.0,130000.0,120000.0,61000.0,109489.0,240000.0,205200.0,290000.0,110000.0,140000.0,111400.0,159000.0,129500.0,1597132.0,90500.0,114000.0,101185.0,66600.0,196500.0,169000.0,98000.0,105000.0,106000.0,180000.0,92000.0,92000.0,259000.0,265000.0,138000.0,70000.0,250000.0,231495.0,105625.0,4056000.0,89412.0,1218000.0,178000.0,1286644.0,1466803.0,99500.0,68000.0,99000.0,170000.0,150000.0,165000.0,81500.0,120000.0,105000.0,210000.0,60000.0,260000.0,184300.0,100000.0,154000.0,135000.0,162000.0,135000.0,195000.0,79500.0,248000.0,65000.0,69000.0,621000.0,180000.0,120000.0,114500.0,100000.0,165000.0,168000.0,85000.0,149000.0,110000.0,120000.0,290000.0,120000.0,74000.0,1710000.0,168000.0,180000.0,140000.0,165800.0,75000.0,250000.0,159000.0,135000.0,93000.0,117000.0,89000.0,94000.0,92860.0,290000.0,138000.0,116996.0,140000.0,64500.0,260000.0,119000.0,137000.0,129000.0,158000.0,96000.0,89500.0,105000.0,153700.0,206675.0,78000.0,89000.0,180000.0,117000.0,1900840.0,108000.0,134000.0,225000.0,214000.0,175000.0,110000.0,110000.0,68000.0,166000.0,158000.0,245000.0,140000.0,67138.0,80000.0,165000.0,172000.0,118400.0,125000.0,132000.0,84500.0,148000.0,78000.0,987400.0,113000.0,738000.0,165000.0,73000.0,98000.0,70000.0,58000.0,89900.0,249000.0,1618605.0,2169000.0,89000.0,155000.0,135000.0,85000.0,210000.0,84313.0,76000.0,295000.0,90000.0,99000.0,98000.0,1274000.0,79000.0,90600.0,86200.0,75900.0,133000.0,250000.0,105000.0,96135.0,108962.0,145000.0,119900.0,172000.0,130000.0,205000.0,233000.0,115000.0,72500.0,75000.0,149000.0,220000.0,120000.0,105000.0,98400.0,144000.0,107000.0,213850.0,109700.0,150000.0,67500.0,73000.0,285000.0,120000.0,85000.0,220000.0,267000.0,72000.0,179000.0,175000.0,115000.0,79000.0,220000.0,155000.0,99445.0,365000.0,136000.0,135000.0,87000.0,110000.0,338900.0,115000.0,1700000.0,205000.0,76000.0,180000.0,87600.0,85000.0,144196.0,155000.0,79000.0,98000.0,6057740.0,115000.0,125000.0,62000.0,255500.0,330000.0,138000.0,249000.0,95000.0,58333.0,125000.0,127400.0,135935.0,168000.0,101000.0,270000.0,60000.0,165000.0,2005000.0,4420000.0,171593.0,119800.0,136900.0,123000.0,166300.0,82000.0,67000.0,160000.0,118000.0,75000.0,148000.0,225000.0,1927000.0,94000.0,135000.0,83500.0,125000.0,127000.0,175000.0,100000.0,42900.0,320000.0,150000.0,68000.0,112000.0,169000.0,117000.0,105000.0,99696.0,175000.0,180000.0,155000.0,152000.0,254000.0,330000.0,94923.0,115000.0,237000.0,239000.0,175000.0,92000.0,120000.0,230000.0,103000.0,118000.0,1506898.0,197000.0,84000.0,240000.0,112000.0,320000.0,176000.0,118000.0,123000.0,79395.0,295000.0,89000.0,94000.0,115000.0,170000.0,73800.0,1593700.0,115000.0,175000.0,89900.0,80000.0,139000.0,340000.0,108000.0,95000.0,290000.0,71500.0,116929.0,95000.0,98000.0,93000.0,100000.0,128500.0,95000.0,140000.0,91189.0,285000.0,78000.0,365000.0,93000.0,195000.0,145000.0,950000.0,165000.0,181000.0,79500.0,150000.0,89500.0,1150000.0,2387000.0,74000.0,185000.0,140000.0,78000.0,105000.0,149500.0,164000.0,130000.0,105000.0,120000.0,81900.0,105000.0,117000.0,260000.0,138000.0,78000.0,115000.0,136000.0,95000.0,210000.0,157350.0,85000.0,1699000.0,86000.0,185000.0,170000.0,75806.0,114000.0,110000.0,115000.0,60000.0,80000.0,100000.0,58000.0,330000.0,160000.0,205000.0,105000.0,61415.0,107000.0,47543.0,155000.0,129000.0,175000.0,205000.0,148000.0,380000.0,90000.0,119000.0,119000.0,85000.0,136000.0,55000.0,170000.0,2171000.0,170000.0,165000.0,107000.0,125000.0,84000.0,123000.0,75180.0,150000.0,90000.0,155000.0,120000.0,145000.0,109900.0,59031.0,83000.0,1531000.0,70000.0,155000.0,149900.0,125000.0,90000.0,125000.0,249000.0,164000.0,1718000.0,259000.0,95000.0,85000.0,188500.0,98000.0,215000.0,109000.0,86000.0,110000.0,128000.0,129000.0,89000.0,85000.0,94000.0,45000.0,84500.0,180000.0,118000.0,121515.0,1386346.0,105000.0,238036.0,103000.0,100000.0,285000.0,94800.0,155000.0,101510.0,105000.0,145000.0,110000.0,220000.0,106000.0,160000.0,72000.0,158000.0,105000.0,100800.0,140000.0,138000.0,56900.0,85000.0,110000.0,93000.0,205000.0,165000.0,95000.0,92000.0,62300.0,210000.0,85000.0,300000.0,69458.0,84000.0,97000.0,120000.0,135000.0,105000.0,180000.0,120000.0,77500.0,280000.0,105000.0,99000.0,89600.0,84000.0,92000.0,158000.0,73000.0,92000.0,78500.0,120000.0,156000.0,179000.0,95000.0,150000.0,195000.0,95000.0,115000.0,106000.0,205000.0,109000.0,235000.0,87611.0,120000.0,114803.0,160000.0,90450.0,330000.0,225208.0,135000.0,75000.0,82000.0,158000.0,99000.0,173359.0,126024.0,97000.0,130000.0,128000.0,98000.0,145000.0,115000.0,250000.0,93975.0,75000.0,148975.0,76000.0,131400.0,100000.0,155000.0,225000.0,65000.0,115000.0,2502171.0,125400.0,152800.0,220000.0,75000.0,79900.0,89000.0,179000.0,125000.0,1843500.0,1505707.0,245000.0,210000.0,1100500.0,205000.0,115000.0,85000.0,295000.0,106000.0,210000.0,115000.0,165000.0,79000.0,170000.0,120000.0,150000.0,120000.0,64900.0,94000.0,84000.0,78400.0,259000.0,132900.0,180000.0,89000.0,112000.0,145000.0,180000.0,119500.0,4045624.0],\"coloraxis\":\"coloraxis\"},\"mode\":\"markers\",\"name\":\"\",\"showlegend\":false,\"subplot\":\"mapbox\",\"type\":\"scattermapbox\"}],                        {\"template\":{\"data\":{\"bar\":[{\"error_x\":{\"color\":\"#2a3f5f\"},\"error_y\":{\"color\":\"#2a3f5f\"},\"marker\":{\"line\":{\"color\":\"#E5ECF6\",\"width\":0.5},\"pattern\":{\"fillmode\":\"overlay\",\"size\":10,\"solidity\":0.2}},\"type\":\"bar\"}],\"barpolar\":[{\"marker\":{\"line\":{\"color\":\"#E5ECF6\",\"width\":0.5},\"pattern\":{\"fillmode\":\"overlay\",\"size\":10,\"solidity\":0.2}},\"type\":\"barpolar\"}],\"carpet\":[{\"aaxis\":{\"endlinecolor\":\"#2a3f5f\",\"gridcolor\":\"white\",\"linecolor\":\"white\",\"minorgridcolor\":\"white\",\"startlinecolor\":\"#2a3f5f\"},\"baxis\":{\"endlinecolor\":\"#2a3f5f\",\"gridcolor\":\"white\",\"linecolor\":\"white\",\"minorgridcolor\":\"white\",\"startlinecolor\":\"#2a3f5f\"},\"type\":\"carpet\"}],\"choropleth\":[{\"colorbar\":{\"outlinewidth\":0,\"ticks\":\"\"},\"type\":\"choropleth\"}],\"contour\":[{\"colorbar\":{\"outlinewidth\":0,\"ticks\":\"\"},\"colorscale\":[[0.0,\"#0d0887\"],[0.1111111111111111,\"#46039f\"],[0.2222222222222222,\"#7201a8\"],[0.3333333333333333,\"#9c179e\"],[0.4444444444444444,\"#bd3786\"],[0.5555555555555556,\"#d8576b\"],[0.6666666666666666,\"#ed7953\"],[0.7777777777777778,\"#fb9f3a\"],[0.8888888888888888,\"#fdca26\"],[1.0,\"#f0f921\"]],\"type\":\"contour\"}],\"contourcarpet\":[{\"colorbar\":{\"outlinewidth\":0,\"ticks\":\"\"},\"type\":\"contourcarpet\"}],\"heatmap\":[{\"colorbar\":{\"outlinewidth\":0,\"ticks\":\"\"},\"colorscale\":[[0.0,\"#0d0887\"],[0.1111111111111111,\"#46039f\"],[0.2222222222222222,\"#7201a8\"],[0.3333333333333333,\"#9c179e\"],[0.4444444444444444,\"#bd3786\"],[0.5555555555555556,\"#d8576b\"],[0.6666666666666666,\"#ed7953\"],[0.7777777777777778,\"#fb9f3a\"],[0.8888888888888888,\"#fdca26\"],[1.0,\"#f0f921\"]],\"type\":\"heatmap\"}],\"heatmapgl\":[{\"colorbar\":{\"outlinewidth\":0,\"ticks\":\"\"},\"colorscale\":[[0.0,\"#0d0887\"],[0.1111111111111111,\"#46039f\"],[0.2222222222222222,\"#7201a8\"],[0.3333333333333333,\"#9c179e\"],[0.4444444444444444,\"#bd3786\"],[0.5555555555555556,\"#d8576b\"],[0.6666666666666666,\"#ed7953\"],[0.7777777777777778,\"#fb9f3a\"],[0.8888888888888888,\"#fdca26\"],[1.0,\"#f0f921\"]],\"type\":\"heatmapgl\"}],\"histogram\":[{\"marker\":{\"pattern\":{\"fillmode\":\"overlay\",\"size\":10,\"solidity\":0.2}},\"type\":\"histogram\"}],\"histogram2d\":[{\"colorbar\":{\"outlinewidth\":0,\"ticks\":\"\"},\"colorscale\":[[0.0,\"#0d0887\"],[0.1111111111111111,\"#46039f\"],[0.2222222222222222,\"#7201a8\"],[0.3333333333333333,\"#9c179e\"],[0.4444444444444444,\"#bd3786\"],[0.5555555555555556,\"#d8576b\"],[0.6666666666666666,\"#ed7953\"],[0.7777777777777778,\"#fb9f3a\"],[0.8888888888888888,\"#fdca26\"],[1.0,\"#f0f921\"]],\"type\":\"histogram2d\"}],\"histogram2dcontour\":[{\"colorbar\":{\"outlinewidth\":0,\"ticks\":\"\"},\"colorscale\":[[0.0,\"#0d0887\"],[0.1111111111111111,\"#46039f\"],[0.2222222222222222,\"#7201a8\"],[0.3333333333333333,\"#9c179e\"],[0.4444444444444444,\"#bd3786\"],[0.5555555555555556,\"#d8576b\"],[0.6666666666666666,\"#ed7953\"],[0.7777777777777778,\"#fb9f3a\"],[0.8888888888888888,\"#fdca26\"],[1.0,\"#f0f921\"]],\"type\":\"histogram2dcontour\"}],\"mesh3d\":[{\"colorbar\":{\"outlinewidth\":0,\"ticks\":\"\"},\"type\":\"mesh3d\"}],\"parcoords\":[{\"line\":{\"colorbar\":{\"outlinewidth\":0,\"ticks\":\"\"}},\"type\":\"parcoords\"}],\"pie\":[{\"automargin\":true,\"type\":\"pie\"}],\"scatter\":[{\"marker\":{\"colorbar\":{\"outlinewidth\":0,\"ticks\":\"\"}},\"type\":\"scatter\"}],\"scatter3d\":[{\"line\":{\"colorbar\":{\"outlinewidth\":0,\"ticks\":\"\"}},\"marker\":{\"colorbar\":{\"outlinewidth\":0,\"ticks\":\"\"}},\"type\":\"scatter3d\"}],\"scattercarpet\":[{\"marker\":{\"colorbar\":{\"outlinewidth\":0,\"ticks\":\"\"}},\"type\":\"scattercarpet\"}],\"scattergeo\":[{\"marker\":{\"colorbar\":{\"outlinewidth\":0,\"ticks\":\"\"}},\"type\":\"scattergeo\"}],\"scattergl\":[{\"marker\":{\"colorbar\":{\"outlinewidth\":0,\"ticks\":\"\"}},\"type\":\"scattergl\"}],\"scattermapbox\":[{\"marker\":{\"colorbar\":{\"outlinewidth\":0,\"ticks\":\"\"}},\"type\":\"scattermapbox\"}],\"scatterpolar\":[{\"marker\":{\"colorbar\":{\"outlinewidth\":0,\"ticks\":\"\"}},\"type\":\"scatterpolar\"}],\"scatterpolargl\":[{\"marker\":{\"colorbar\":{\"outlinewidth\":0,\"ticks\":\"\"}},\"type\":\"scatterpolargl\"}],\"scatterternary\":[{\"marker\":{\"colorbar\":{\"outlinewidth\":0,\"ticks\":\"\"}},\"type\":\"scatterternary\"}],\"surface\":[{\"colorbar\":{\"outlinewidth\":0,\"ticks\":\"\"},\"colorscale\":[[0.0,\"#0d0887\"],[0.1111111111111111,\"#46039f\"],[0.2222222222222222,\"#7201a8\"],[0.3333333333333333,\"#9c179e\"],[0.4444444444444444,\"#bd3786\"],[0.5555555555555556,\"#d8576b\"],[0.6666666666666666,\"#ed7953\"],[0.7777777777777778,\"#fb9f3a\"],[0.8888888888888888,\"#fdca26\"],[1.0,\"#f0f921\"]],\"type\":\"surface\"}],\"table\":[{\"cells\":{\"fill\":{\"color\":\"#EBF0F8\"},\"line\":{\"color\":\"white\"}},\"header\":{\"fill\":{\"color\":\"#C8D4E3\"},\"line\":{\"color\":\"white\"}},\"type\":\"table\"}]},\"layout\":{\"annotationdefaults\":{\"arrowcolor\":\"#2a3f5f\",\"arrowhead\":0,\"arrowwidth\":1},\"autotypenumbers\":\"strict\",\"coloraxis\":{\"colorbar\":{\"outlinewidth\":0,\"ticks\":\"\"}},\"colorscale\":{\"diverging\":[[0,\"#8e0152\"],[0.1,\"#c51b7d\"],[0.2,\"#de77ae\"],[0.3,\"#f1b6da\"],[0.4,\"#fde0ef\"],[0.5,\"#f7f7f7\"],[0.6,\"#e6f5d0\"],[0.7,\"#b8e186\"],[0.8,\"#7fbc41\"],[0.9,\"#4d9221\"],[1,\"#276419\"]],\"sequential\":[[0.0,\"#0d0887\"],[0.1111111111111111,\"#46039f\"],[0.2222222222222222,\"#7201a8\"],[0.3333333333333333,\"#9c179e\"],[0.4444444444444444,\"#bd3786\"],[0.5555555555555556,\"#d8576b\"],[0.6666666666666666,\"#ed7953\"],[0.7777777777777778,\"#fb9f3a\"],[0.8888888888888888,\"#fdca26\"],[1.0,\"#f0f921\"]],\"sequentialminus\":[[0.0,\"#0d0887\"],[0.1111111111111111,\"#46039f\"],[0.2222222222222222,\"#7201a8\"],[0.3333333333333333,\"#9c179e\"],[0.4444444444444444,\"#bd3786\"],[0.5555555555555556,\"#d8576b\"],[0.6666666666666666,\"#ed7953\"],[0.7777777777777778,\"#fb9f3a\"],[0.8888888888888888,\"#fdca26\"],[1.0,\"#f0f921\"]]},\"colorway\":[\"#636efa\",\"#EF553B\",\"#00cc96\",\"#ab63fa\",\"#FFA15A\",\"#19d3f3\",\"#FF6692\",\"#B6E880\",\"#FF97FF\",\"#FECB52\"],\"font\":{\"color\":\"#2a3f5f\"},\"geo\":{\"bgcolor\":\"white\",\"lakecolor\":\"white\",\"landcolor\":\"#E5ECF6\",\"showlakes\":true,\"showland\":true,\"subunitcolor\":\"white\"},\"hoverlabel\":{\"align\":\"left\"},\"hovermode\":\"closest\",\"mapbox\":{\"style\":\"light\"},\"paper_bgcolor\":\"white\",\"plot_bgcolor\":\"#E5ECF6\",\"polar\":{\"angularaxis\":{\"gridcolor\":\"white\",\"linecolor\":\"white\",\"ticks\":\"\"},\"bgcolor\":\"#E5ECF6\",\"radialaxis\":{\"gridcolor\":\"white\",\"linecolor\":\"white\",\"ticks\":\"\"}},\"scene\":{\"xaxis\":{\"backgroundcolor\":\"#E5ECF6\",\"gridcolor\":\"white\",\"gridwidth\":2,\"linecolor\":\"white\",\"showbackground\":true,\"ticks\":\"\",\"zerolinecolor\":\"white\"},\"yaxis\":{\"backgroundcolor\":\"#E5ECF6\",\"gridcolor\":\"white\",\"gridwidth\":2,\"linecolor\":\"white\",\"showbackground\":true,\"ticks\":\"\",\"zerolinecolor\":\"white\"},\"zaxis\":{\"backgroundcolor\":\"#E5ECF6\",\"gridcolor\":\"white\",\"gridwidth\":2,\"linecolor\":\"white\",\"showbackground\":true,\"ticks\":\"\",\"zerolinecolor\":\"white\"}},\"shapedefaults\":{\"line\":{\"color\":\"#2a3f5f\"}},\"ternary\":{\"aaxis\":{\"gridcolor\":\"white\",\"linecolor\":\"white\",\"ticks\":\"\"},\"baxis\":{\"gridcolor\":\"white\",\"linecolor\":\"white\",\"ticks\":\"\"},\"bgcolor\":\"#E5ECF6\",\"caxis\":{\"gridcolor\":\"white\",\"linecolor\":\"white\",\"ticks\":\"\"}},\"title\":{\"x\":0.05},\"xaxis\":{\"automargin\":true,\"gridcolor\":\"white\",\"linecolor\":\"white\",\"ticks\":\"\",\"title\":{\"standoff\":15},\"zerolinecolor\":\"white\",\"zerolinewidth\":2},\"yaxis\":{\"automargin\":true,\"gridcolor\":\"white\",\"linecolor\":\"white\",\"ticks\":\"\",\"title\":{\"standoff\":15},\"zerolinecolor\":\"white\",\"zerolinewidth\":2}}},\"mapbox\":{\"domain\":{\"x\":[0.0,1.0],\"y\":[0.0,1.0]},\"center\":{\"lat\":-34.5982859113428,\"lon\":-58.43656524777385},\"zoom\":8,\"style\":\"open-street-map\"},\"coloraxis\":{\"colorbar\":{\"title\":{\"text\":\"price\"}},\"colorscale\":[[0.0,\"#0d0887\"],[0.1111111111111111,\"#46039f\"],[0.2222222222222222,\"#7201a8\"],[0.3333333333333333,\"#9c179e\"],[0.4444444444444444,\"#bd3786\"],[0.5555555555555556,\"#d8576b\"],[0.6666666666666666,\"#ed7953\"],[0.7777777777777778,\"#fb9f3a\"],[0.8888888888888888,\"#fdca26\"],[1.0,\"#f0f921\"]]},\"legend\":{\"tracegroupgap\":0},\"margin\":{\"t\":60},\"height\":600,\"width\":600},                        {\"responsive\": true}                    ).then(function(){\n",
              "                            \n",
              "var gd = document.getElementById('16336ff2-a10a-4cfc-bcbe-35c7c791ff84');\n",
              "var x = new MutationObserver(function (mutations, observer) {{\n",
              "        var display = window.getComputedStyle(gd).display;\n",
              "        if (!display || display === 'none') {{\n",
              "            console.log([gd, 'removed!']);\n",
              "            Plotly.purge(gd);\n",
              "            observer.disconnect();\n",
              "        }}\n",
              "}});\n",
              "\n",
              "// Listen for the removal of the full notebook cells\n",
              "var notebookContainer = gd.closest('#notebook-container');\n",
              "if (notebookContainer) {{\n",
              "    x.observe(notebookContainer, {childList: true});\n",
              "}}\n",
              "\n",
              "// Listen for the clearing of the current output cell\n",
              "var outputEl = gd.closest('.output');\n",
              "if (outputEl) {{\n",
              "    x.observe(outputEl, {childList: true});\n",
              "}}\n",
              "\n",
              "                        })                };                            </script>        </div>\n",
              "</body>\n",
              "</html>"
            ]
          },
          "metadata": {}
        }
      ]
    },
    {
      "cell_type": "markdown",
      "source": [
        "Another option is to add a third dimension to our scatter plot. We can plot longitude on the x-axis and latitude on the y-axis (like we do in the map above), and then add a z-axis with price.\n",
        "\n",
        "Complete the code below to create a 3D scatter plot, with `\"lon\"` on the x-axis, `\"lat\"` on the y-axis, and `\"price_aprox_usd\"` on the z-axis."
      ],
      "metadata": {
        "id": "M8jEXkEBEVoo"
      }
    },
    {
      "cell_type": "code",
      "source": [
        "# Create 3D scatter plot\n",
        "fig = px.scatter_3d(\n",
        "    df,\n",
        "    x=\"lon\",\n",
        "    y=\"lat\",\n",
        "    z=\"price\",\n",
        "    labels={\"lon\": \"longitude\", \"lat\": \"latitude\", \"price_aprox_usd\": \"price\"},\n",
        "    width=600,\n",
        "    height=500,\n",
        ")\n",
        "\n",
        "# Refine formatting\n",
        "fig.update_traces(\n",
        "    marker={\"size\": 4, \"line\": {\"width\": 2, \"color\": \"DarkSlateGrey\"}},\n",
        "    selector={\"mode\": \"markers\"},\n",
        ")\n",
        "\n",
        "# Display figure\n",
        "fig.show()"
      ],
      "metadata": {
        "colab": {
          "base_uri": "https://localhost:8080/",
          "height": 0
        },
        "id": "L14Z6j7JEWXX",
        "outputId": "a3e66482-88b1-48e2-b7a0-6577fac5382e"
      },
      "execution_count": 83,
      "outputs": [
        {
          "output_type": "display_data",
          "data": {
            "text/html": [
              "<html>\n",
              "<head><meta charset=\"utf-8\" /></head>\n",
              "<body>\n",
              "    <div>            <script src=\"https://cdnjs.cloudflare.com/ajax/libs/mathjax/2.7.5/MathJax.js?config=TeX-AMS-MML_SVG\"></script><script type=\"text/javascript\">if (window.MathJax) {MathJax.Hub.Config({SVG: {font: \"STIX-Web\"}});}</script>                <script type=\"text/javascript\">window.PlotlyConfig = {MathJaxConfig: 'local'};</script>\n",
              "        <script src=\"https://cdn.plot.ly/plotly-2.8.3.min.js\"></script>                <div id=\"b43a5ff2-c7e4-440a-aca6-f7f644c48c1b\" class=\"plotly-graph-div\" style=\"height:500px; width:600px;\"></div>            <script type=\"text/javascript\">                                    window.PLOTLYENV=window.PLOTLYENV || {};                                    if (document.getElementById(\"b43a5ff2-c7e4-440a-aca6-f7f644c48c1b\")) {                    Plotly.newPlot(                        \"b43a5ff2-c7e4-440a-aca6-f7f644c48c1b\",                        [{\"hovertemplate\":\"longitude=%{x}<br>latitude=%{y}<br>price=%{z}<extra></extra>\",\"legendgroup\":\"\",\"marker\":{\"color\":\"#636efa\",\"symbol\":\"circle\",\"line\":{\"color\":\"DarkSlateGrey\",\"width\":2},\"size\":4},\"mode\":\"markers\",\"name\":\"\",\"scene\":\"scene\",\"showlegend\":false,\"x\":[-58.4546932614,-58.500115,-58.459957,-58.3823825,-58.4125107,-58.4272911,-58.423963,-58.4724630529,-58.4566864,-58.524277,-58.444045,-58.430668,-58.3926968,-58.4159718,-58.3897597,-58.4842066,-58.4039197,-58.4410115,-58.4470949374,-58.4931185,-58.4242176,-58.443838,-58.4124669,-58.371667,-58.46838,-58.4566864,-58.3909376,-58.4280921,-58.422687,-58.3975515537,-58.418703,-58.4652556,-58.4566753,-58.416152,-58.4019575,-58.417856,-58.455713,-58.4562243,-58.4401524326,-58.4095145,-58.431148,-58.478304,-58.4661541,-58.3791226,-58.39925557,null,-58.4042304,-58.4608111,-58.395407,null,-58.4646149,-58.3895203,-58.457941,-58.473409,-58.451825,-58.51298,-58.4444227,-58.5235778,-58.428002,-58.447624,-58.4541557,-58.4040959459,-58.465719,-58.4707613149,-58.4161104,-58.4733152,-58.3876241,-58.420179,-58.4556556,-58.461994,-58.4096918347,-58.4337562,-58.431945,-58.4717864,-58.4546542,-58.4801833,-58.3833629,-58.4313315,-58.4383160847,-58.5014288,-58.424402,-58.4637637,-58.384362,-58.5050324,-58.466095,-58.3696383829,-58.4255006,-58.482349,-58.4471452,-58.45364,-58.5010498,-58.4095956,-58.3985397,-58.43864,-58.3793374,-58.430083,-58.478951,-58.4975629,-58.426806,-58.4229282,-58.4271703,-58.473409,-58.498882,-58.376359,-58.4134843,-58.423024,null,-58.3815591,-58.449025,-58.4619167,-58.3966103021,-58.4611833,-58.4481081,-58.504636,-58.425019,-58.417856,-58.416439,-58.4320965,-58.425295,-58.485449,-58.4343171,-58.4365858,-58.4252038,-58.440083,null,-58.4884216,-58.389015,-58.455583,-58.4040591,-58.4112605,-58.4642925,-58.4423251,-58.43089266,-58.4208369,-58.4120075,-58.481222,-58.4002698,-58.5058609,-58.4057152,-58.449509,-58.4601452,-58.408834,-58.4057337,-58.452734,-58.4790724,-58.4611155,-58.4386944,-58.4247302,-58.442799,-58.470246,-58.4661483,-58.4687,-58.4537324,-58.482207,-58.3830086,-58.4674728,-58.5005212,-58.4204026,-58.4304234,-58.4787410582,-58.4147628,-58.3944425,-58.462375,-58.4497051,-58.4920942,-58.449588,-58.46867,-58.398267,-58.4747469,-58.4336199,-58.4054908953,-58.424131,-58.489151,-58.4884216,-58.4042052,-58.3940806918,null,-58.3918794,-58.3815808896,-58.442307,-58.458337,-58.474451,-58.429563,-58.418382,-58.3945161,-58.4184465,-58.4685759,-58.4029587,-58.43886,-58.510823,-58.4264703397,-58.4529212466,-58.4329775,-58.4803381387,-58.4350161,-58.4251966841,-58.4348718,-58.4253358,-58.458885,-58.383689,-58.36907,-58.437714,-58.474142,-58.388562,-58.4272911,-58.4619167,-58.4344367,-58.4887663,-58.4591152317,-58.4473135,-58.392341,-58.4061783,-58.4446144,-58.4566864,-58.4337562,-58.477121,-58.4172571,-58.401926,-58.413499,-58.3977,-58.430979,-58.4598574,-58.4297968,-58.4416496,-58.42644,-58.480246,null,-58.4640609983,-58.42644,-58.4569527,-58.4882355,-58.393042,-58.41567,-58.4890352239,-58.4519581,-58.375055,-58.370265,-58.4453972,-58.50547,-58.4050207,-58.3976113,-58.458337,-58.4892838222,-58.4458736,-58.440083,-58.4600378,-58.432937,-58.3815808896,-58.4550232,-58.5115799,-58.3859524,-58.4491936,-58.40036,-58.4513614,-58.4193876,-58.3748272,-58.4554388,null,-58.5192618,null,-58.443138,-58.4634115,-58.4438492037,-58.488694,-58.483862,-58.3815808896,-58.40405,-58.4557835,-58.4779525,-58.4673425,null,-58.503098,-58.489966,-58.4064497116,-58.4372368,-58.3981135774,-58.4745649,-58.3898616,-58.429483,-58.3907823249,-58.4601452,-58.4599658,-58.368463,-58.4772734,-58.478587,-58.4037104,null,-58.4952915,-58.4107896,-58.4702918,-58.4821436,-58.4786123121,-58.457834,-58.4306168,-58.4409353,-58.4351583,-58.4486236993,-58.418141,-58.4608572,-58.360648,-58.383662,-58.3815808896,-58.3982505,-58.439476,-58.449633,-58.4506525716,-58.412067,-58.451021,-58.46373,-58.43089266,-58.4032361233,-58.457265,-58.4364402,-58.4456268033,-58.440056,-58.4115472,-58.3969821,-58.395551,-58.4313746,-58.388768,-58.4003678,-58.4543498558,-58.4272911,null,-58.4351228,-58.4815962,-58.4905798,-58.478887,-58.5155958,-58.458337,-58.4085322312,-58.45214,-58.4750427,-58.4632121,-58.4231909,-58.4314264,-58.455382866,-58.430114,-58.38456,-58.411536,-58.4574136772,-58.429594,-58.410649,-58.3859524,-58.442438,-58.36824,-58.4581944,-58.4667165,-58.3703982,-58.440164,-58.4345373,-58.4376694,-58.4384732,-58.4966697,-58.458337,-58.4304928,-58.4063222,-58.3806085715,-58.4078757,-58.460499,null,-58.431068,-58.4590119,-58.478673,-58.4379652889,-58.462254,-58.4150055376,-58.4578875283,-58.4732609116,-58.462983,-58.390041,-58.4304906,-58.480847,-58.4043385,-58.43307,-58.460923,-58.4954328,-58.3815808896,-58.414297,-58.5080122948,-58.3904158,-58.3789342,-58.462749,-58.424968,-58.4305343,-58.4201892,-58.4346696,-58.468401,-58.504783,-58.4029587,-58.3782438,-58.4871561,-58.447667,-58.389566,-58.3907693,-58.5061652,-58.4884216,-58.437133,-58.4343949,-58.396175,-58.3619834,-58.429483,-58.5068965,-58.5109811153,-58.4573940742,-58.465303,-58.471774,-58.4222431,-58.4348693,-58.482362,-58.458337,-58.496761,-58.370191,-58.465303,-58.407316,-58.4384072,-58.4323055182,-58.4201892,-58.481306,-58.4771736,-58.4494039,-58.4170203,-58.4916429,-58.3741828,-58.3744502855,-58.468766,-58.3724840391,null,-58.42644,-58.4655168,-58.454126,-58.424845,-58.4534297,-58.395866,-58.5414898,-58.3976941,-58.4541557,-58.4663309,-58.4671186,null,-58.5014288,-58.3703982,-58.4722301,-58.479785,-58.360443,-58.4532923,-58.4394663,-58.4193632,-58.4487136,-58.487628,-58.4827765,-58.363538,-58.4249739,-58.4189702,-58.4002698,-58.4787020744,-58.479323,-58.451793,-58.43089266,-58.370082,-58.4035194,-58.3779666,-58.3802473,-58.4401524326,-58.461124,-58.3953694,-58.3815591,-58.41567,-58.438252,-58.388909319,-58.416574,-58.3797127,-58.494987,-58.4579254,null,-58.424199,-58.4193856,null,-58.412139,-58.415024,-58.476815,-58.370341,-58.42644,-58.3684327,null,-58.4128129,-58.4086976,-58.3743465,-58.4627352,null,-58.4085322312,-58.383662,-58.4232966,-58.4601782,-58.403728,-58.3815591,-58.415977,-58.447416,-58.4568995,-58.4175858,-58.393004,-58.3888229,-58.41367,-58.4133710234,-58.410285,-58.4587847804,-58.4496581554,-58.482934,-58.4239755,-58.4342551947,-58.4018129,-58.42644,-58.478887,-58.4903092,-58.4306631,-58.4172571,-58.4618776,-58.457758,-58.426881,-58.4920942,-58.430003,-58.4884216,-58.4067658,-58.4121112,-58.428431,-58.3977098,-58.4334831,-58.4079749,-58.383662,-58.50121,-58.4201892,-58.4559962,-58.419,-58.464647,-58.370813,-58.384115696,null,-58.4780661,-58.5080558,-58.43482,-58.4329632,-58.3693349267,-58.4318008844,-58.443003,-58.3833333,-58.4139364,-58.429794,-58.449767,-58.430264,-58.503334,-58.4352229,-58.4348699,-58.480847,-58.3815591,-58.4824163,-58.4460326,-58.4329758,-58.417757,-58.479947,null,-58.4921,-58.4684523,-58.4574031,-58.4444345762,-58.450549,-58.461994,-58.3969938,-58.4149373391,-58.4117165,-58.4045115,-58.495122,-58.4245924,-58.414779,-58.4583569,-58.500434,null,-58.432235,-58.4458254638,-58.4653792,-58.384776,-58.4671889,-58.3874589,-58.4741353,-58.4825026,-58.488694,null,-58.4193856,-58.4163254,-58.3684327,-58.3599534,-58.418407,-58.4445015453,-58.422439,-58.4493192,-58.4181036625,-58.3971897,-58.440518,-58.4673571,-58.4674706534,-58.3767255,-58.4715637,-58.466667,-58.450619,-58.4886936,-58.4092220489,-58.521697,-58.4195682,-58.451877,-58.396668,-58.480847,-58.3703982,-58.4354142,-58.4669447,-58.429594,-58.4884216,-58.4598574,-58.44421337,-58.4439501857,-58.4787009,-58.3741828,-58.3960642,-58.483565,-58.4184465,-58.425724,-58.4385510091,-58.416863,null,-58.38465,-58.4419019,-58.478875,-58.3714222,-58.394565,-58.3907693,-58.489945,-58.442214,-58.4963752416,-58.431977,-58.4463145,-58.4555330697,-58.3948150344,-58.481434,-58.3971252862,-58.39644,null,-58.5068965,-58.411796,-58.481137,-58.405661,-58.442896,-58.4396756,-58.4512878,-58.478875,-58.406754,-58.4208597,-58.51432,null,-58.4031336,-58.440363,-58.4658404,-58.4113361,-58.447738,-58.436826,null,-58.430014,-58.4154084613,-58.4762481502,-58.4403397,-58.42644,-58.4047026,-58.476815,-58.411101,-58.3619834,-58.4983902,-58.4176726,-58.4697774,-58.3742088,-58.4203257,-58.406557,-58.409414,-58.418777,-58.4011917,-58.4555007,-58.4323015,-58.3882455,-58.3945029,-58.4249296,-58.4330886,-58.3815808896,-58.4090566,-58.377252,-58.3915063,-58.363056,-58.465955,-58.4186777,-58.442037,-58.4541288,-58.4189946,-58.442214,-58.4464868,-58.430738,-58.4871486,-58.460831,-58.437618,-58.375994,-58.383662,-58.39985,-58.3919863,-58.4648529,-58.479767,-58.483565,null,-58.42761,-58.4309181,-58.504783,-58.486145,-58.3741828,-58.438585,-58.5157689,-58.38541,-58.4284928,-58.4445573958,-58.3927514,-58.5069368,-58.371667,-58.462678,-58.4769393,-58.448797,-58.460451,-58.431375,-58.377319,-58.4774176961,-58.407247,-58.5291707087,-58.3672281,-58.483565,-58.363254,-58.404241,-58.461768,-58.3739196904,-58.3795044,-58.4300609,-58.4381344,-58.521131,-58.468637,-58.46323,-58.4405232,-58.510665,-58.4305556,-58.373844,-58.369812,-58.433597,-58.495352,-58.3970302,-58.4334936,-58.373383,-58.478508,-58.3984088548,-58.503098,-58.3630584,-58.3667729,-58.3602495,-58.3752695,-58.4863498,-58.4780504,-58.4289207,-58.4418550761,-58.4513613,-58.4074028,-58.4419467474,-58.487992,-58.4779032,-58.4523873,-58.4677296433,-58.506856,-58.5229925,-58.4319068,-58.472028,-58.4148281,-58.4591789,-58.429483,-58.36955,-58.453759,-58.4410494,-58.4832391,-58.3629581,null,-58.438361,-58.443855,-58.4080709784,-58.3918557,-58.4436559523,-58.4692294,-58.471556,-58.4481004,-58.4580944,null,-58.4534846,-58.4573579,-58.441408,-58.404180217,-58.4744939153,-58.4422322,-58.510665,-58.453461,-58.442214,-58.4951948,-58.379495,-58.4703235,-58.408314,-58.44525,-58.4620706,-58.5276695,-58.4235097,-58.4543951,-58.4329772,-58.4122482,-58.4799238,-58.4679579,-58.4729872,-58.4331898201,null,-58.378348,-58.371667,-58.4604643,-58.4290863,-58.442438,null,-58.36907,-58.503098,-58.370265,-58.4890118641,-58.4725524607,-58.4019804129,-58.448357,-58.4452762,-58.4677935278,-58.3741378784,-58.376997,-58.379939,-58.479238,-58.4614326603,-58.4341279413,-58.4516335321,-58.4576464929,-58.3767435,-58.4704475068,-58.4949974,-58.4258977,-58.4028183069,-58.4391081,-58.4265762,-58.509718,-58.4312446717,-58.502625,-58.4167791,-58.4813,-58.4410494,-58.420379,-58.4398737,-58.4649269,-58.4295334,-58.419346,-58.4421941,-58.3813599,-58.407118,-58.410285,-58.4372342,-58.4535639,-58.429451,-58.4618463,-58.430659,-58.4403684,-58.38359,-58.3707143353,-58.4367477,-58.4164389,-58.4587302629,-58.4642091688,-58.373569,-58.4751802,-58.4465187,-58.4649269,-58.3610542,-58.439841,-58.442214,-58.456364,-58.441166,null,-58.489044,-58.3976095,-58.4234705,-58.4291235,-58.374937,-58.4758459,-58.4410115,-58.4608419,-58.4232882,-58.4175258,-58.4426917,-58.4299827,-58.483639,-58.453461,-58.4663085,-58.3624207,-58.446205,-58.4709285,-58.421941084,-58.4584291873,-58.4034886949,-58.441558,-58.394947,-58.440635,-58.488803,-58.4598574,-58.4388536,-58.4430195,-58.391476,-58.4749849,-58.4449945,-58.4248489,-58.4098381,-58.429177,-58.387466,-58.4959441,-58.418534,-58.461385,-58.4591152317,-58.371667,-58.4641786,-58.3975115243,-58.4373694328,-58.464647,-58.4361049,-58.3869394,-58.433254,-58.386201,-58.5101665,-58.3982749,-58.405999,-58.3973636,-58.4811299,-58.4622706,-58.490947,-58.397051867,-58.403827,-58.443412,-58.5029706,-58.387691,-58.4624526,-58.489172,-58.4575992,-58.4600378,-58.465639,-58.442438,-58.451742,-58.4557785,-58.370463,-58.4066461,-58.4808834,-58.4571433,-58.399445,-58.4766458,-58.4378953,-58.5113893259,-58.4483922,-58.438168,-58.4604629,-58.4410494,-58.430716,-58.4744428,-58.3875606,-58.4199784,-58.4780504,-58.430271,-58.377957,-58.3656092,-58.439307,-58.4739117,-58.452836385,-58.43891555,-58.3815808896,-58.377914,-58.4878228624,null,-58.4178288,-58.48918,-58.4489357,-58.4451138624,-58.3989723,-58.4135803,-58.494235,-58.5013981,-58.3938115,-58.384373,-58.4339876,-58.39287,-58.4741215,-58.4659096,-58.494816,-58.4255006,-58.4057337,-58.5005212,-58.443425,-58.4575457,-58.4284928,-58.4531919,-58.456717,-58.3900662,-58.4907929,-58.413727,-58.3610688508,-58.370987,-58.3924221222,-58.483565,-58.4118019,-58.4463618,-58.42598,-58.401234,-58.4842066,-58.4619167,-58.4538101,-58.4566864,-58.468359,-58.431375,-58.4723916,-58.4647326,-58.3939516,-58.4040959459,-58.4813819,-58.426876,null,-58.5294588,-58.4614498,-58.4419902,-58.4238887621,-58.4220727,-58.4186866,-58.392334,-58.478594,null,-58.4334097,-58.3813599,-58.4314047,-58.4495668,-58.422895,-58.4313746,-58.484017,-58.4653795,-58.479767,-58.4673571,-58.470333,-58.503098,-58.3740817,-58.426876,-58.4752734264,-58.3617114,-58.38813,-58.4791827,-58.4163257,-58.4872507,-58.434428,-58.4348699,-58.445013,-58.4425664,-58.407118,null,-58.422895,-58.44321,-58.4053642,-58.412877293,-58.4411813,-58.475046,-58.4056561914,-58.4844934,-58.3914916,-58.440034,-58.372411,-58.42378,-58.433121,-58.4787115886,-58.4806542,-58.4482092853,-58.3805667032,-58.458337,-58.506856,-58.4461524,-58.3914085034,-58.370191,-58.4064124,-58.5294588,-58.4715230625,-58.479967,-58.4323916563,-58.4738401,-58.5110887,-58.4668325353,-58.442176,-58.4059164,-58.4242883,-58.449509,-58.4790724,-58.3956232492,-58.5140048,-58.4660016,-58.4184465,-58.429483,-58.4620706,-58.5290105,-58.4687339,-58.4517693,-58.460455,-58.4134843,-58.3725333,-58.4518164111,-58.443019,-58.4389143,-58.4041347403,-58.4927109,-58.4501196,-58.482248988,-58.363038,-58.4491151,-58.4320965,-58.368732,-58.3726591,-58.502638,-58.430142,-58.4057337,-58.463009,-58.477082,-58.4156455,-58.4711951,-58.5002128,-58.478951,-58.434584,-58.4031864,-58.5083326486,-58.496227,-58.4348693,-58.4812108375,-58.479431,-58.4032943,-58.4388579,-58.41111,-58.510665,-58.4330886,-58.478875,-58.4787020744,-58.398128,-58.4633598,-58.4922702,-58.4165902,-58.422257979,-58.3619834,-58.4806697,-58.378665,-58.4923125,-58.42644,-58.4175858,-58.419328,null,-58.4512771,-58.4601452,-58.4115275,-58.468616,-58.3980672,-58.3961414,-58.362868,-58.4673952,-58.4451978,-58.432064,-58.4870649408,-58.4444811,-58.487153,-58.5294588,-58.4203432,-58.4464664,-58.3632,-58.42001,-58.439588,-58.5294588,-58.4291267,-58.4236582,-58.4299869233,-58.388643473,-58.4161104,-58.3703982,-58.478875,null,-58.4559750422,-58.446944,-58.373895,-58.4202297,-58.430443,-58.385799,-58.3714273,-58.4716025037,-58.4164389,-58.4786935,-58.4443183,-58.4764863962,-58.3734789316,-58.439478,-58.4243303,-58.397484,-58.436443,-58.4345008,-58.4085322312,-58.3965625594,-58.4583332,-58.460248,-58.3782469,-58.4656731747,-58.4328709,-58.433189,-58.4401600888,-58.4097415,-58.3926968,-58.4419894,-58.4433589619,-58.407118,-58.3859275,-58.4064736,-58.4304366,-58.4208597,null,-58.4,-58.459075,-58.4000164,-58.4851448,-58.38433,-58.440711,-58.3787392,-58.4811368,-58.473842,-58.4202008,-58.4493434,-58.5294588,-58.474313,-58.503098,-58.3755151,-58.5020382,null,-58.3957247,-58.4395131,-58.3815808896,-58.3683936,-58.363104,null,-58.4639646475,-58.4391556,-58.398429,-58.429483,-58.464972,-58.4035735,-58.462539,-58.479865,-58.4980726,-58.3936066,-58.407784,-58.433286,-58.431618,-58.3958389,-58.4103941,-58.4398719788,-58.4679249898,-58.448826,-58.475847,-58.3876425,-58.4573332,-58.3741828,-58.370987,-58.4884093545,-58.4715823,-58.4593235105,-58.4280986,-58.3843696368,-58.4296297,-58.5020085,-58.4621378,-58.367363,-58.4637637,-58.39699,-58.45778,-58.465312,-58.401003,-58.467528104,-58.4009468,-58.446765,-58.3815808896,-58.478887,-58.439476,-58.3915063,-58.3619834,-58.4210553,-58.4455382,-58.4805920344,-58.3800404,-58.3952626,-58.466307,-58.390599,-58.445054,-58.3620253,-58.43399,-58.450034,-58.3973636,-58.46749,-58.434225,-58.4404535,-58.5101735,null,-58.4504145,-58.3703766,-58.405713,-58.4170204,-58.4655923,-58.3864376,-58.439476,-58.4294044,-58.4608111,-58.4276358,-58.5058889,-58.477376,-58.4451096,-58.4215840161,-58.4367102754,-58.4458254638,-58.3815591,-58.496032,-58.38465,-58.4585423,-58.4143458,-58.4047026,-58.4401697804,-58.365227,-58.512946,-58.4072179,-58.3847959,-58.370191,-58.4182063,-58.3905883,-58.378132,null,-58.4001326,-58.3980657,-58.3974607122,-58.451939,-58.4722301,-58.504588,-58.4217103,-58.425947,-58.457291,null,-58.4260507,-58.3932320736,-58.4059406,-58.4053183,-58.398382,-58.3759225,-58.4419019,-58.4882456,-58.469132,-58.370191,-58.44321,-58.4735425,-58.410187,-58.45572,-58.4068188999,-58.483035,null,-58.4109634,-58.449509,-58.4715637,-58.3716514,-58.491019,-58.4519393,-58.429483,null,-58.494445,-58.388665,-58.3753957,-58.4306228,-58.485000192,-58.3973356,-58.4191305,-58.503098,-58.3815808896,-58.3703982,-58.4531908,-58.3900615127,-58.480847,-58.4594193,-58.3923691,-58.5185294,-58.4265886534,-58.416066,-58.4463618,-58.4952915,-58.4424865,-58.4710108,-58.4219256,-58.4056064,-58.403428,-58.4842066,-58.42644,-58.4047617,-58.3658953037,-58.3684327,-58.4008309,-58.538654,-58.389289,-58.3809608,-58.3919534,-58.453853,-58.5290425,-58.446472,-58.4711972,-58.419043,-58.429758,-58.497526,-58.43106,-58.4074928,-58.473468,-58.43089266,-58.422868,-58.3895203,-58.4922702,-58.4692294,-58.4307706,null,-58.370191,-58.467568,null,-58.4494039,-58.4374328,-58.3756926,-58.447411,-58.4250133,-58.38465,-58.4619167,-58.457834,-58.4097289,-58.4669149,-58.420993,-58.4559767,-58.383029,-58.387828,-58.510665,-58.4348804,-58.4793743,-58.4676975,-58.454319,-58.3815808896,-58.4891059,-58.4360816,-58.4464868,-58.433336,-58.370191,null,-58.489902,-58.4428593,-58.3741828,-58.434139,-58.4637637,-58.3741828,null,-58.4398375372,-58.4762577092,-58.463618,-58.4002948,-58.362074,-58.489645,-58.4098381,-58.4480741,-58.4123565,-58.483926,-58.373396,-58.43508,-58.3798478,-58.4674306,-58.4049474,-58.4418691,-58.4230345,-58.4711826,-58.4184618574,-58.4126561,-58.437159,-58.443768,-58.4361649,-58.443266,-58.452925,-58.3930741,-58.42001,-58.3802715265,-58.4200017,-58.4230445653,-58.391025,-58.4071500959,-58.451504,-58.4554388,-58.4430006,-58.4395493,null,null,-58.4323654,-58.3904158,-58.377469,-58.442214,-58.4021054,-58.3851364503,-58.370987,-58.464229,-58.415852535,-58.4272289729,-58.4398737,-58.4326904,-58.442214,-58.3885322,-58.4838433,-58.4396756,-58.4300086,-58.462549,-58.386964,-58.479597,-58.483565,-58.404243,-58.469611,-58.4793809703,-58.4925931,-58.3590976,-58.4155515307,-58.4825581312,-58.4437822,-58.3702987529,-58.4884216,-58.4828695,-58.3619834,-58.3994391,-58.4535346,-58.4305691,-58.3915063,-58.3813599,-58.4202372,-58.3737459,-58.382936,-58.4747612,-58.4781172,-58.4895904,-58.435817,-58.404908,-58.5065126,-58.4461906259,-58.4356934,-58.4095145,-58.4874628,-58.47859,-58.4584262,-58.4239639696,-58.4330886,-58.42644,-58.477082,-58.4167791,-58.3782511,-58.47667,-58.4693725804,-58.4031864,null,-58.4122703,-58.505965,-58.4177943,-58.3763769,-58.416438,-58.4434509,-58.447429,-58.3985397,-58.4399963,-58.4465012,-58.4208496,-58.464217,-58.406957,-58.4098381,-58.4434737,-58.4558554,-58.360859,-58.4374779,-58.4792631,-58.4925931,-58.44306,-58.3770467,-58.4579128,-58.3748384,-58.4691811202,-58.4332695,-58.504856,-58.3981259,-58.453853,-58.4516194,-58.538654,-58.437438,-58.3838114,-58.3790009,-58.4145060006,-58.4085322312,-58.42644,-58.4640892,-58.4295100815,-58.454126,-58.398222,-58.408314,-58.4201892,-58.475645,-58.4886936,-58.3792849,-58.3600617,-58.4308423,-58.4723916,null,-58.4517992,-58.480847,-58.4303011,-58.3939969,-58.5023489,-58.488694,-58.4057003,-58.471529,-58.4594193,-58.429483,-58.4886936,-58.400216,-58.4044354,-58.4746933,-58.3714702,-58.3977644,-58.449509,-58.4223095471,-58.4404055,-58.370191,-58.3725301,-58.41701,-58.4144257,-58.4839401,-58.4047617,-58.362934,-58.3954919,-58.50423,-58.4512878,-58.4245895,-58.4085322312,-58.45214,-58.4544363,-58.4008815,-58.3740855051,null,null,-58.4916086,-58.42644,-58.4391556,-58.386136,null,-58.35832,-58.4957847,-58.4340915,-58.5033054,-58.4102772,-58.4242390577,-58.442084868,-58.418654,null,-58.4409590949,-58.422289,-58.482362,-58.4351516166,-58.4803271,-58.3901412,-58.4208597,-58.4522701,-58.416345,-58.3815808896,-58.491511,-58.3618516418,-58.425786,-58.441343,-58.440303,-58.4648168,-58.461324,-58.4421781,-58.370191,null,-58.4078106,-58.476815,-58.4632501,-58.440216,-58.406838,-58.4611155,-58.38414,-58.3590032,-58.478887,-58.4409353,-58.411732,-58.375979,-58.4342998,-58.4817763,-58.4342905,-58.4893800725,-58.42644,-58.37716,-58.4372479,-58.491578,-58.4228061,-58.4650952,-58.46487789,-58.416574,-58.4710585,-58.4255711132,-58.361728,-58.3809608,-58.4920942,-58.538654,-58.4719439,-58.4337564,-58.405410881,-58.5110465,-58.370082,-58.438406,-58.4512771,-58.4831803,-58.379758,-58.458337,-58.457758,-58.4246144,-58.478875,-58.468949,-58.4085322312,-58.4403013,-58.3971252862,-58.453759,-58.4035735,-58.4182362,-58.4463618,-58.4149356,-58.465379,-58.4432275,-58.4248563897,-58.387558,-58.3712215,null,-58.4487838,-58.3913563408,-58.4116606,-58.457265,-58.416438,-58.370341,-58.3703982,-58.4347383,-58.396645,-58.3829977,-58.430751,-58.4434737,-58.438252,-58.4409786,-58.45,-58.4690852765,-58.484173,-58.400558,-58.370891,-58.4198318965,-58.4415822,-58.3976831057,-58.4307,-58.437438,-58.4410885784,-58.4438046,-58.429063,-58.360963,-58.3998250693,-58.381232,-58.4805825768,-58.431512,-58.4739117,-58.4343878888,-58.454711,-58.478875,-58.440431,-58.3815808896,-58.466323,-58.431375,null,-58.4825026,-58.441433,-58.4154542,-58.3943872138,-58.4695944,-58.3732828,-58.4723786,-58.474684,null,-58.4109898,-58.4173784,-58.4042052,-58.425295,-58.461664,-58.43089266,-58.4677387,-58.4300609,null,-58.3973636,-58.4335469,-58.3683401,-58.4002593786,-58.4480445,-58.4383643,null,-58.4256533906,-58.4659,-58.4413401079,-58.503277,-58.4440083,-58.4256268241,-58.4768939,-58.4692078,-58.3748384,-58.40135,-58.449528,-58.4471998,-58.477444,-58.47946,-58.4611155,-58.361928,-58.4095194,-58.507025,-58.4035194,-58.416649276,-58.4527474,-58.4681001518,null,-58.4877971841,-58.414446,-58.4179627,-58.3916741,-58.4110759,-58.4690249,null,-58.455898,-58.479251,-58.4165902,-58.4164492749,-58.449509,-58.457876,-58.3874235,-58.441065,-58.381452,-58.438747,-58.4676781,null,-58.4790126,-58.477478,-58.484774,-58.4848871652,-58.459903,-58.476815,-58.399023,-58.448764,-58.4468228,-58.4655168,-58.4846052,-58.3815808896,-58.4338175662,-58.452137,-58.370463,-58.460419,-58.4006620127,-58.390198,-58.509493,-58.42644,-58.454082,-58.4090862,-58.4116076,-58.4716025037,-58.4107896,-58.4073279,-58.3696383829,-58.434161,-58.5041771,-58.4541462,-58.4469826183,-58.429483,-58.472414,-58.4788297,-58.394136,-58.420937,-58.3956532164,-58.490095,-58.4482092853,-58.4806697,-58.4363698922,-58.4512771,-58.365579,-58.3605432,-58.42761,-58.372437,-58.3983918577,-58.460462,-58.444068,-58.501144,-58.4164389,-58.4168577,-58.3974607122,-58.428249,-58.4078192,-58.4191852,-58.440605,-58.361978,-58.4487530794,-58.480766781,-58.35884,-58.483565,-58.4588252,-58.4474666,-58.377764,-58.474474,-58.4190988,-58.4919050998,-58.4810658,-58.453537,-58.396822,-58.505256527,-58.4697507,-58.4412194,-58.4225687,-58.418727,-58.434005,-58.396555,-58.4848156603,-58.46141,-58.4887469933,-58.439687,-58.4903979,-58.4524269,-58.433864,-58.4799462,-58.3741828,-58.4114151,-58.462983,-58.397709,-58.4683603,-58.496761,-58.4708779,-58.4509432,-58.4085322312,-58.4652614,-58.448669,-58.489264,-58.4646535,-58.363668,-58.4557837,-58.4196847,-58.3815808896,-58.3947492433,-58.4430273,-58.402741,-58.3963347,-58.4196508,-58.4259152412,-58.4454157,-58.480147299,-58.4064858,-58.4060897,-58.4359178,-58.4205789,-58.4851559433,-58.3977098,-58.369716,-58.4604643,-58.459483,-58.478525,-58.4650154,-58.3802473,-58.3936256476,-58.4308693,-58.39345,-58.4576087,-58.4055977,-58.399239,null,-58.521075,-58.4606282,-58.4167391,-58.3849987,-58.4720836,-58.4029587,-58.3703982,-58.416577,-58.4583569,-58.40663,-58.4983578,-58.431323,-58.4345008,-58.434155,-58.374815,-58.3741828,-58.468037,-58.3779693438,-58.4687782122,-58.428099,-58.494344,-58.4772734,-58.488293,-58.4884216,-58.3907693,-58.485000192,-58.4949974,-58.4427098,-58.379851,-58.3703766,-58.4563141,-58.5290105,-58.383662,-58.3973636,-58.42644,-58.404307,-58.4484175,-58.406968,-58.439614,-58.431656,-58.482362,null,-58.474142,-58.3860588202,-58.436024,-58.441622,-58.4434293,-58.4944286,-58.4365968034,-58.399969,-58.46141,-58.3840818,-58.362898,-58.491019798,-58.4166613563,-58.4830254,-58.3666195,-58.4243307,-58.4606052,-58.4454984,-58.469431,-58.465303,-58.4920942,-58.4417361,-58.4240065,-58.43891555,-58.4279297,-58.4744939153,-58.3703982,-58.3920496,-58.465215,-58.386776,-58.4559584,-58.45602,-58.4464868,-58.457758,-58.485683,null,-58.456739,-58.4491468686,-58.507959,-58.4513922,-58.4035735,null,-58.485331,-58.4396836,-58.440083,-58.4255006,-58.364042,-58.442214,-58.4557581,-58.4307536,-58.4676446,-58.4754707,-58.4092647,-58.389015,-58.442108,-58.3684327,-58.4056064,-58.470506,null,-58.383662,-58.4360764,-58.4687339,-58.4304928,-58.4109401,-58.4449945,-58.4437891643,-58.481306,-58.48546,-58.4415270386,-58.425678,-58.4176768,-58.4035735,-58.463359,-58.44123,-58.4649179508,-58.4989178,-58.517055,-58.504636,-58.379607,-58.4392333,-58.4304234,-58.5109039,-58.3737295,null,-58.4201892,-58.441536,-58.42644,-58.493925,-58.475877,-58.4404055,-58.3741856989,-58.451257,-58.4882788,-58.3815591,-58.4187803,-58.4313746,-58.411796,-58.4623963,-58.3619834,-58.4324062,-58.458337,-58.4936437,-58.4594467,-58.4603122,-58.360072,-58.4920942,-58.4298324,-58.43392,-58.46235,-58.4034955,-58.449528,-58.3882455,-58.454126,-58.4667932,null,-58.450937,-58.4611011534,-58.4091008,-58.400558,-58.444272,-58.4576474,-58.498828,-58.3815591,-58.4390479,-58.422418,-58.4740494,-58.4562072,-58.3581979,-58.385339,-58.4401524326,-58.5251083,-58.427017,-58.4854197,-58.4430006,-58.3620255,-58.4562083,-58.408535,-58.4747469,-58.398354,-58.4736812401,-58.4221209,-58.5043329,-58.494451,-58.455591,-58.429799,-58.4842066,-58.4102441,-58.441966,-58.4983692,-58.3984045,-58.412161,-58.414597,-58.375622,-58.4006314,-58.3720875,-58.457291,-58.476073,-58.4329632,-58.3976573,null,-58.4194307376,-58.5007833163,-58.4301607,-58.4851988587,-58.4852234,-58.374696,-58.4376694,-58.457834,-58.4570045,-58.3814548,-58.42644,-58.4412194,-58.4280128,-58.3607084,-58.4538717,-58.4155312677,-58.4886936,-58.393643,-58.522947,-58.465326,-58.468466,-58.4825707884,-58.419041,-58.4038018,-58.4740705,-58.4105558,-58.461207,-58.361767,-58.4893517227,-58.4035735,-58.4193201484,-58.44387,-58.4454154,-58.413797,null,-58.4652041,-58.4075603452,-58.44606,-58.453461,-58.4092105,-58.4309507,-58.3904300809,-58.4390592,-58.459192,-58.503098,-58.504558,null,-58.3682693,-58.4375603,-58.4886936,-58.440675,-58.4460439,-58.3642364336,-58.4779329,-58.3915939,-58.4075992892,-58.4109401,-58.436236,-58.4191918,-58.439262,-58.465955,-58.4042301108,-58.3974607122,-58.450063,-58.5109507,-58.4110941,-58.448669,-58.3907693,-58.3973636,-58.416152,-58.4296409,-58.3741828,-58.436474,-58.474045,-58.503667,-58.3950737908,-58.3900615127,-58.3973457,-58.427846,-58.3960241,null,-58.3781,-58.4660263,-58.4741353,-58.361686,-58.447667,-58.5013599,-58.422568,-58.4808592,-58.42644,-58.4555330697,-58.414139,-58.3915063,-58.4018627,-58.4328,-58.456366,-58.4280968,-58.4243307,-58.4493817,-58.4675968952,-58.432479,-58.482418,-58.44395,-58.484806,-58.4044547,-58.442214,-58.4454157,-58.398707,null,-58.372539,-58.4305388774,-58.42644,-58.4444804,-58.383662,-58.476375,null,-58.4400304,-58.418382,-58.4055961,-58.4458736,-58.4081857,-58.5151685,-58.4803833,-58.458337,-58.422512,-58.449767,-58.3895931,-58.4601452,-58.3635071,-58.477285,-58.4645989,-58.4904251,-58.478887,-58.4490806646,-58.429483,-58.4410557,-58.4446544,-58.383662,-58.376436,-58.358281,-58.499773,-58.4734852,null,-58.422895,-58.47859,-58.456535,-58.4766418,-58.4744939153,-58.3859524,-58.4871867,null,-58.4349834,-58.3910482884,-58.538654,-58.456167,-58.4251654936,-58.480901,-58.4708167619,-58.4391556,-58.4683497,-58.4566864,-58.5025351,-58.379846,-58.4633363,-58.410066,null,-58.4067975,-58.4970536653,-58.4840109,-58.4012107535,-58.4838642,-58.4768939,-58.4207549159,-58.4659096,-58.430979,-58.5118789309,-58.4692294,-58.4606278,-58.486145,-58.4363043,-58.463709,-58.5299296,-58.467528104,-58.48177,-58.4050038,-58.4587265,-58.3815591,-58.4129729,-58.4555204,-58.4548664796,-58.4668325353,-58.442786,-58.4059185,-58.407902,-58.4806697,-58.4243713,-58.428647,-58.468101,-58.3613907159,-58.4943971,-58.4293098,-58.4314768,-58.4907625,-58.447667,-58.4389143,-58.472886,-58.450212,-58.4327067207,-58.4722969,-58.4994608,-58.4824993,-58.454126,-58.373266,-58.4267797891,-58.4423974,-58.4351583,-58.4458093,-58.404908,-58.47375,-58.478875,-58.430979,-58.390883,-58.4088284,-58.3971252862,-58.3815808896,-58.3711168,-58.3760423,-58.4506784,-58.50827,-58.390128,-58.443081,-58.380515,-58.4384177187,-58.475386,-58.4095732,-58.4165902,-58.3974440676,-58.4680768001,null,-58.4516240558,-58.471314,-58.362063,-58.4514747,-58.374543,-58.480847,-58.4083774,-58.4326811349,-58.417149,-58.4611155,null,-58.4646919784,-58.5068965,-58.3947372437,-58.3815591,-58.44344,-58.449509,-58.415723,-58.4438344,-58.4678339,-58.4661541,-58.4044539951,-58.4727656,-58.416323,-58.43231,-58.4035735,-58.3730819646,-58.3755346,-58.4720665497,-58.443333,-58.504233,-58.411252,-58.4317953,-58.4606282,-58.430007,-58.4810658,-58.3815808896,-58.478887,-58.468723,-58.473409,-58.450184,-58.4441875,-58.378645,-58.473573,-58.3684327,-58.4795553,-58.4430006,-58.3815808896,-58.488958,-58.4034886949,-58.454126,null,-58.4723806,-58.4593235105,-58.4540023,-58.4544156,-58.4870799,-58.4903117,-58.38465,-58.4045072,-58.497952,-58.3815808896,-58.460655,-58.3966617,-58.4302201,-58.366447,-58.435206,-58.478887,-58.3815591,-58.3703982,-58.481217,-58.4354142,-58.4137973,-58.4789795,-58.4044552,-58.451675,-58.42644,-58.3757822,-58.4330886,-58.463507,-58.4421781,-58.387814,-58.4202008,-58.3634811,-58.4129571,-58.510665,-58.501434,-58.482973,null,null,-58.4772734,-58.418684,-58.390628,-58.4576157,-58.490956,-58.4436023,-58.4876292,-58.3741828,-58.360072,-58.4786497,-58.4193856,-58.3755151,-58.503098,-58.442786,-58.4250113,-58.4059201,-58.482362,-58.401282,-58.4090293,-58.3982710524,-58.4241328351,-58.4304906,-58.458131,-58.3996658011,-58.394541,-58.382945,-58.4170204,-58.45499,-58.448536,-58.4013462067,-58.435214,-58.4430183058,-58.4762577092,-58.4518146515,-58.4718696,-58.4583569,null,-58.4154084613,-58.4533539,-58.4722804869,-58.4150253,-58.4201892,null,-58.425593,-58.538654,-58.4274665,-58.411564,-58.422503,-58.493614,-58.4373077,-58.3987216635,-58.402162,-58.386225,-58.4908182,-58.431375,-58.4206254,-58.449509,-58.453461,null,-58.4092647,-58.47589,-58.4723806,-58.4214929,-58.4583569,-58.416438,-58.4601452,-58.4796249,-58.4141145,-58.461357,-58.4741508,-58.4574938,-58.4047213022,-58.4491363,-58.4831569,null,-58.3675043,-58.482362,-58.4663250096,null,-58.4232966,-58.5241961,-58.4520313,-58.4634637,-58.4394757,-58.482362,null,-58.407269,-58.3760261536,-58.4514911,-58.48704,-58.4197776,-58.4022280693,-58.473485,-58.408314,-58.3865046,-58.4324453005,-58.383662,-58.4768939,-58.466804,-58.463674,null,-58.408449,-58.4521270586,-58.490947,-58.494072,null,-58.3928584221,-58.4683046,-58.376893,-58.384341,-58.425008,-58.4559767,-58.4029587,-58.4769238,-58.484302,-58.4853089188,-58.370191,-58.4734852,-58.444176,-58.5090007,-58.4414368,-58.4394757,-58.4604855,-58.415585,-58.4123152,null,-58.474418,-58.4694669995,-58.4560875555,-58.4411428,-58.39331,-58.4568112,-58.4423446,-58.477121,-58.48074,-58.457265,-58.3882428,-58.4179627,-58.440472,-58.415568,-58.4707306,-58.444045,-58.4554388],\"y\":[-34.5846508988,-34.6389789,-34.615847,-34.6252219,-34.6106102,-34.6038236,-34.586103,-34.6265182557,-34.5620844,-34.648143,-34.596715,-34.599722,-34.616182,-34.6034659,-34.6136992,-34.5475074,-34.6087015,-34.5975665,-34.5670929999,-34.645401,-34.6198687,-34.618545,-34.5933599,-34.620556,-34.552129,-34.5620844,-34.5892291,-34.6206701,-34.617869,-34.5972390007,-34.6044029,-34.5628985,-34.6171601,-34.624943,-34.5995053,-34.61098,-34.554535,-34.6266557,-34.6076122891,-34.603367,-34.5987952,-34.546801,-34.5607997,-34.5990818,-34.6085660579,null,-34.6055653,-34.6050835,-34.586177,null,-34.5493135,-34.6200825,-34.556844,-34.5413289,-34.582627,-34.663879,-34.5832049,-34.6603056,-34.616845,-34.570611,-34.6315375,-34.6220775573,-34.56123,-34.5760976609,-34.6254543,-34.5675671,-34.6188022,-34.599277,-34.6039192,-34.618893,-34.6148993692,-34.567984,-34.583263,-34.5750392,-34.5526272,-34.5707228,-34.6114169,-34.6006047,-34.5751543197,-34.5881967,-34.605237,-34.622597,-34.606622,-34.5893031,-34.606709,-34.624235218,-34.5961219,-34.572892,-34.6231484,-34.602288,-34.6416277,-34.6325264,-34.6207818,-34.56404,-34.6001061,-34.615972,-34.574731,-34.5981092,-34.602148,-34.6335163,-34.6285036,-34.5413289,-34.636739,-34.603933,-34.5990666,-34.6421604,null,-34.6036844,-34.643906,-34.6176481,-34.5973156703,-34.5731012,-34.5583606,-34.586418,-34.5801265,-34.61098,-34.5978249,-34.5988783,-34.626917,-34.576241,-34.6015602,-34.6207509,-34.6267687,-34.623771,null,-34.5688712,-34.590836,-34.555221,-34.6146153,-34.5877285,-34.5631975,-34.6119413,-34.60808733,-34.5831329,-34.6132035,-34.584814,-34.5889201,-34.6385261,-34.6055229,-34.5817888,-34.5427503,-34.5870824,-34.6120655,-34.600257,-34.5444571,-34.6256447,-34.6429903,-34.5774559,-34.569348,-34.545956,-34.6066665,-34.536471,-34.6300503,-34.573337,-34.6177447,-34.5783681,-34.6182787,-34.5746861,-34.5977228,-34.5469954989,-34.6044676,-34.5992637343,-34.685112,-34.5822701,-34.5538467,-34.578295,-34.601908,-34.601122,-34.6344407,-34.5814285,-34.6123096302,-34.573226,-34.565895,-34.5688712,-34.6240354,-34.5901166454,null,-34.5933674,-34.6037137392,-34.556396,-34.56822,-34.571953,-34.596653,-34.61747,-34.6205608,-34.6162229,-34.5519084,-34.6204532,-34.6118061,-34.658557,-34.6026363624,-34.5599543233,-34.6125486,-34.6252894049,-34.6001483,-34.5992438171,-34.6013646,-34.6267858,-34.615582,-34.604215,-34.637261,-34.597101,-34.549608,-34.6017006,-34.6038236,-34.6176481,-34.6023526,-34.5976419,-34.5443763617,-34.5974114,-34.604641,-34.6147916,-34.6253319,-34.5620844,-34.567984,-34.586557,-34.5907652,-34.5864871,-34.6054382,-34.6235,-34.6097224,-34.6264374,-34.6045568,-34.5972063,-34.597769,-34.634709,null,-34.5595420674,-34.597769,-34.5760392,-34.5742412,-34.600433,-34.6112232,-34.5692257148,-34.557808,-34.59741,-34.632917,-34.5691963,-34.651762,-34.6028196,-34.6022019,-34.56822,-34.5848617389,-34.6209278,-34.623771,-34.5597901,-34.582649,-34.6037137392,-34.5688504,-34.6738382,-34.6261244,-34.5862322,-34.593848,-34.5585253,-34.6086522,-34.5963329,-34.574537,null,-34.6316435,null,-34.622756,-34.5500232,-34.5602098434,-34.570884,-34.588369,-34.6037137392,-34.620195,-34.6039994,-34.6121896,-34.6160275,null,-34.637834,-34.573723,-34.6184962081,-34.5660741,-34.6149042601,-34.5720545,-34.6226764,-34.62818,-34.6074047747,-34.6374837,-34.6266172,-34.633464,-34.647382,-34.55826,-34.5999764,null,-34.5780621,-34.6135876,-34.5528589,-34.5435062,-34.5468894557,-34.556809,-34.6070921,-34.5856221,-34.5777784,-34.5817176348,-34.601282,-34.6205971,-34.627625,-34.6177615,-34.6037137392,-34.621321,-34.636179,-34.578362,-34.6085504575,-34.602153,-34.566885,-34.561966,-34.60808733,-34.6000747136,-34.617228,-34.603438,-34.5771094737,-34.602623,-34.5848012,-34.5917085,-34.622681,-34.601017,-34.622512,-34.6108831,-34.5596446354,-34.6038236,null,-34.6042164,-34.6307325,-34.554161,-34.6186349,-34.6507766,-34.56822,-34.6223398871,-34.629478,-34.6833842,-34.6063946,-34.6045779,-34.5706322,-34.583784587,-34.6087786,-34.6144978,-34.6119155,-34.5645773032,-34.5938779,-34.592467,-34.6261244,-34.607026,-34.602823,-34.5636949,-34.5624033,-34.6321116,-34.621654,-34.5757551,-34.6010624,-34.6213002,-34.5687875,-34.56822,-34.60662,-34.604293,-34.5966202515,-34.5894701,-34.618015,null,-34.605719,-34.5605705,-34.6392412,-34.5653042899,-34.626001,-34.5861558174,-34.5671171991,-34.6349102655,-34.552745,-34.621433,-34.6087862,-34.557199,-34.6222103,-34.613041,-34.558046,-34.6004038,-34.6037137392,-34.613702,-34.5766379926,-34.6156378,-34.6143545,-34.622264,-34.5975105,-34.5782727,-34.63099,-34.5742806,-34.604941,-34.58625,-34.6204532,-34.6000429,-34.5608555,-34.597255,-34.591999,-34.6073418,-34.5936389,-34.5688712,-34.604515,-34.574527,-34.600998,-34.6153103,-34.62818,-34.5915663,-34.6430209603,-34.6442238986,-34.562909,-34.555416,-34.6119796,-34.569335,-34.5731507,-34.56822,-34.643737,-34.631591,-34.562909,-34.611289,-34.6058536,-34.5675474818,-34.63099,-34.5714065,-34.589875,-34.6173477,-34.6157145,-34.5798552,-34.6244303,-34.6197085691,-34.63259,-34.6269253507,null,-34.597769,-34.5541654,-34.6047969,-34.577367,-34.5685575,-34.602432,-34.5707547,-34.6086686,-34.6315375,-34.6025011,-34.5549509,null,-34.5881967,-34.6321116,-34.6288131,-34.57304,-34.627792,-34.5684201,-34.6051279,-34.5884433,-34.5708216,-34.562803,-34.5658889,-34.631901,-34.5978398,-34.5881852,-34.5889201,-34.5451249855,-34.573034,-34.558509,-34.60808733,-34.632413,-34.6072023,-34.6057005,-34.6045547,-34.6076122891,-34.632656,-34.6226547,-34.6036844,-34.6112232,-34.5790338,-34.6215943543,-34.585554,-34.6185065,-34.572265,-34.5669885,null,-34.597713,-34.589548,null,-34.587097,-34.625307,-34.54179,-34.633021,-34.597769,-34.6206226,null,-34.5937992,-34.603514,-34.6302698,-34.6248691,null,-34.6223398871,-34.6177615,-34.5711496,-34.5613049,-34.598331,-34.6036844,-34.609929,-34.595955,-34.6027679,-34.600022,-34.6539485,-34.6200663,-34.586033,-34.5820910144,-34.598107,-34.6221405894,-34.5686264737,-34.5500517,-34.6100246,-34.5981047382,-34.6097193,-34.597769,-34.6186349,-34.5636408,-34.607587,-34.5907652,-34.5550983,-34.625227,-34.60144,-34.5538467,-34.619895,-34.5688712,-34.604459,-34.624942,-34.599565,-34.623337,-34.5681113,-34.5994246,-34.6177615,-34.616151,-34.63099,-34.5594061,-34.58489,-34.564511,-34.619474,-34.6177225707,null,-34.6401322,-34.5911955,-34.595787,-34.5696558,-34.6390703966,-34.6256602055,-34.584685,-34.6125,-34.590515,-34.6283,-34.6076685,-34.612872,-34.617073,-34.5987301,-34.6223362,-34.557199,-34.6036844,-34.598681,-34.5961213,-34.5905992,-34.610953,-34.5718369,null,-34.5933,-34.5816538,-34.6031379,-34.5625468307,-34.579783,-34.618893,-34.6027301,-34.5868037398,-34.6105529,-34.6214652,-34.5818853,-34.6123648,-34.60801,-34.5582269,-34.616431,null,-34.579968,-34.5989208629,-34.5636498,-34.610826,-34.5361079,-34.6187943,-34.60613,-34.5720808,-34.570884,null,-34.589548,-34.6014275,-34.6206226,-34.6285441,-34.6210893,-34.5832669927,-34.584164,-34.5813995,-34.6035545017,-34.6033089,-34.5708449,-34.5546708,-34.5614675664,-34.6264359,-34.5958969,-34.633333,-34.566505,-34.570884,-34.5893050405,-34.608668,-34.6000876,-34.582036,-34.601351,-34.557199,-34.6321116,-34.5907572,-34.6207377,-34.5938779,-34.5688712,-34.6264374,-34.60751283,-34.5605920994,-34.58423,-34.6244303,-34.5957547,-34.572721,-34.6162229,-34.584399,-34.5962954517,-34.6109202,null,-34.61335,-34.5741034,-34.544171,-34.5986211,-34.6031799,-34.6073418,-34.573917,-34.593335,-34.5775880586,-34.61174,-34.589809,-34.5536629526,-34.6111409182,-34.55982,-34.6014487472,-34.5986461,null,-34.5915663,-34.609502,-34.63003,-34.61321,-34.573525,-34.5548123,-34.5818364,-34.544171,-34.60171,-34.5829764,-34.609508,null,-34.5929249,-34.56537,-34.5611709,-34.6140891,-34.577044,-34.575922,null,-34.588209,-34.6172737911,-34.5701065701,-34.6130232,-34.597769,-34.5930858,-34.54179,-34.61601,-34.6153103,-34.6476061,-34.5898226,-34.6088594,-34.6268136,-34.6212444,-34.6177722,-34.621696,-34.616489,-34.6186575,-34.5537706,-34.5700969,-34.59793,-34.5991142,-34.6132199,-34.6132024,-34.6037137392,-34.5875191,-34.620318,-34.6227163,-34.6148839,-34.561036,-34.6096454,-34.5806183,-34.5495458,-34.6095979,-34.593335,-34.6063416,-34.599477,-34.6110666,-34.617048,-34.5746052,-34.619789,-34.6177615,-34.629398,-34.5900642,-34.5391519,-34.546659,-34.572721,null,-34.60672,-34.5925561,-34.58625,-34.5981394,-34.6244303,-34.586138,-34.606967,-34.6133619,-34.620698,-34.6070697666,-34.6127235,-34.6189485,-34.620556,-34.620043,-34.6148053,-34.576864,-34.617975,-34.609251,-34.61901,-34.5716907995,-34.596662,-34.6340028063,-34.6121231,-34.572721,-34.638122,-34.605735,-34.6233306,-34.6313393607,-34.5976889,-34.5861553,-34.5966566,-34.639048,-34.559446,-34.554374,-34.5553119,-34.58751,-34.5888889,-34.63295,-34.623868,-34.578237,-34.577857,-34.6118917,-34.592068,-34.6113922,-34.599055,-34.6033997612,-34.637834,-34.632076,-34.607036,-34.6378706,-34.6174473,-34.5677019,-34.6195076,-34.6107644,-34.5804014042,-34.6246107,-34.5898479,-34.5968099043,-34.6313504,-34.5560058,-34.5512502,-34.5514604244,-34.629394,-34.6535155,-34.6381014,-34.568528,-34.5859727,-34.6050004,-34.62818,-34.633449,-34.553811,-34.6031267,-34.5715462,-34.6316459,null,-34.567026,-34.610635,-34.6243555704,-34.5972185,-34.5602381374,-34.5495227,-34.549461,-34.5830691,-34.5620246,null,-34.6306674,-34.5786879,-34.595346,-34.6235,-34.5719003943,-34.5933706,-34.58751,-34.5843603,-34.593335,-34.5758276,-34.60615,-34.5663095,-34.595916,-34.560245,-34.6173646,-34.6414216,-34.5783349,-34.5493342,-34.6125496,-34.6234204,-34.5729256,-34.6312846,-34.583376,-34.602763873,null,-34.623632,-34.620556,-34.6148483,-34.5989732,-34.607026,null,-34.637261,-34.637834,-34.632917,-34.5564958379,-34.5742368234,-34.6046743299,-34.562086,-34.5936671,-34.6288527962,-34.6213248919,-34.598987,-34.596431,-34.578829,-34.6225465508,-34.5970138957,-34.6303559,-34.5627120494,-34.6251184,-34.6627068247,-34.5942724,-34.6168109,-34.6062543713,-34.6371937,-34.6304352,-34.623511,-34.602018189,-34.623749,-34.6036554,-34.571477,-34.6031267,-34.588209,-34.59475,-34.5572395,-34.5804119,-34.605789,-34.6150122,-34.6130871,-34.599703,-34.598107,-34.628105,-34.6256063,-34.605963,-34.5608635,-34.606182,-34.5538375,-34.625153,-34.6414041336,-34.5537438,-34.5978249,-34.5519973086,-34.5614806844,-34.643274,-34.5677584,-34.6116423,-34.5572395,-34.6331221,-34.587874,-34.593335,-34.648355,-34.613259,null,-34.578705,-34.594393,-34.5782365,-34.6025109,-34.6045835,-34.5609681,-34.5975665,-34.6206092,-34.5824698,-34.6210349,-34.6035293,-34.6072245,-34.623395,-34.5843603,-34.6296861,-34.6134686,-34.5838899,-34.5868243,-34.5990819676,-34.6243382284,-34.5942200865,-34.595311,-34.5909274,-34.579447,-34.636891,-34.6264374,-34.5961309,-34.5976786,-34.616328,-34.5632157,-34.5991285,-34.6140311,-34.6299244,-34.579164,-34.616027,-34.6444745,-34.617634,-34.631813,-34.5443763617,-34.620556,-34.5650308,-34.5972096913,-34.5658015878,-34.564511,-34.5953532,-34.6166811,-34.583705,-34.6005215,-34.6492032,-34.6120151,-34.5979106,-34.6244262,-34.5551536,-34.5492098,-34.5518,-34.5945010166,-34.5925,-34.62421,-34.6572422,-34.5862396,-34.6260802,-34.565648,-34.5529126,-34.5597901,-34.6455229,-34.607026,-34.564942,-34.5832446,-34.631255,-34.6044772,-34.5711476,-34.555317,-34.604524,-34.5796587,-34.6174533,-34.5893829666,-34.5814909,-34.615974,-34.6268056,-34.6031267,-34.599627,-34.5719528,-34.6135374,-34.5762386,-34.6195076,-34.597836,-34.62106,-34.6239658,-34.595587,-34.6117395,-34.6030744969,-34.60746,-34.6037137392,-34.626128,-34.6067575077,null,-34.5915564,-34.579282,-34.5998659,-34.5595205148,-34.6022218,-34.591568,-34.583374,-34.5985436,-34.5897591,-34.621749,-34.5787149,-34.60015,-34.5575196,-34.5446865,-34.627876,-34.5961219,-34.6120655,-34.6182787,-34.610376,-34.5611136,-34.620698,-34.5502714,-34.556652,-34.5883642,-34.6451582,-34.596812,-34.6212351809,-34.5904622,-34.6138007421,-34.572721,-34.5921362,-34.5600767,-34.599762,-34.600837,-34.5475074,-34.6176481,-34.6262815,-34.5620844,-34.600186,-34.609251,-34.5671066,-34.5515084,-34.5900264,-34.6220775573,-34.5998773,-34.597982,null,-34.6405283,-34.5562882,-34.6025627,-34.6120974507,-34.5982067,-34.6094846,-34.607709,-34.546881,null,-34.5680671,-34.6130871,-34.5706156,-34.5535295,-34.612287,-34.601017,-34.644418,-34.56365,-34.546659,-34.5546708,-34.551423,-34.637834,-34.6235515,-34.597982,-34.6545286023,-34.6169685,-34.62005,-34.6187853,-34.6014274,-34.5693072,-34.609224,-34.6223362,-34.617078,-34.6004652,-34.599703,null,-34.612287,-34.5848,-34.5945882,-34.5893636826,-34.5941029,-34.626103,-34.6054036854,-34.5764518,-34.6230511,-34.621886,-34.613793,-34.587185,-34.5708844,-34.6100367846,-34.566657,-34.5478587198,-34.5965218,-34.56822,-34.629394,-34.6022819,-34.6092240381,-34.631591,-34.588027,-34.6405283,-34.5681025805,-34.571868,-34.5773765152,-34.6363467,-34.6402929,-34.5504713308,-34.612256,-34.6011254,-34.6214357,-34.5817888,-34.5444571,-34.5915396158,-34.6529308,-34.5393691,-34.6162229,-34.62818,-34.6173646,-34.6404629,-34.6077796,-34.6295585,-34.617942,-34.5990666,-34.6266735,-34.5611737057,-34.597679,-34.5730996,-34.5834927888,-34.6482522,-34.5891506,-34.5519911111,-34.632174,-34.5661706,-34.5988783,-34.613475,-34.5985905,-34.609181,-34.588651,-34.6120655,-34.607622,-34.569129,-34.5849758,-34.5763161,-34.6487541,-34.574731,-34.570949,-34.595688,-34.5911764502,-34.6386217,-34.569335,-34.5429830084,-34.566673,-34.6123042,-34.5729833,-34.5806225,-34.58751,-34.6132024,-34.544171,-34.5451249855,-34.622464,-34.5413646,-34.6128601,-34.6202466,-34.5830769724,-34.6153103,-34.5574837,-34.640296,-34.6472257,-34.597769,-34.600022,-34.612413,null,-34.5525338,-34.5427503,-34.6116686,-34.556252,-34.5879217,-34.6032728,-34.609443,-34.5546333,-34.5594986,-34.573086,-34.5626326646,-34.5589976,-34.636481,-34.6405283,-34.5989832,-34.6215068,-34.634126,-34.627075,-34.615941,-34.6405283,-34.5768387,-34.5827642,-34.6109152181,-34.59043628,-34.6254543,-34.6321116,-34.544171,null,-34.628006345,-34.576762,-34.614854,-34.5900635,-34.609475,-34.595202,-34.5995784,-34.5653209202,-34.5978249,-34.6392656,-34.571326,-34.5425158316,-34.6450454708,-34.6181838,-34.6034481,-34.619859,-34.618324,-34.5784942,-34.6223398871,-34.6006829885,-34.5601975,-34.62868,-34.6288802,-34.5412087746,-34.6129863,-34.5755336,-34.6089061005,-34.6355627,-34.616182,-34.6076673,-34.5678925061,-34.599703,-34.6186588,-34.6044647,-34.5976607,-34.5829764,null,-34.633333,-34.568216,-34.6067327,-34.6322076,-34.610871,-34.6035914,-34.6172782,-34.5804062,-34.553164,-34.5900864,-34.5779844,-34.6405283,-34.662484,-34.637834,-34.6362315,-34.5716554,null,-34.6094812,-34.5897986,-34.6037137392,-34.6418117,-34.6320749,null,-34.6195604498,-34.6371994,-34.6028565,-34.62818,-34.5572596,-34.6212158,-34.634138,-34.573233,-34.6184458,-34.5897253,-34.611683,-34.59744,-34.576642,-34.5948568,-34.6214167,-34.5960788124,-34.61330943,-34.633744,-34.553225,-34.6355261,-34.5533369,-34.6244303,-34.5904622,-34.6366276954,-34.5652742,-34.6264093998,-34.5993957,-34.6154675138,-34.579799,-34.6377975,-34.5437117,-34.616495,-34.622597,-34.602799,-34.557431,-34.563863,-34.592378,-34.5496870424,-34.6011653,-34.621,-34.6037137392,-34.6186349,-34.636179,-34.6227163,-34.6153103,-34.6113322,-34.5931172,-34.5574754877,-34.5936142,-34.5889694,-34.614835,-34.6156698,-34.618459,-34.6324708,-34.577176,-34.586461,-34.5895459,-34.560857,-34.579844,-34.5943354,-34.5911545,null,-34.634408,-34.632079,-34.603444,-34.6157142,-34.5564985,-34.5884229,-34.636179,-34.6023228,-34.6050835,-34.6072776,-34.6383938,-34.547724,-34.6196851,-34.6031950994,-34.5892799682,-34.5989208629,-34.6036844,-34.602012,-34.6133497,-34.6159391,-34.5861207,-34.5930858,-34.6356025347,-34.626861,-34.6392588,-34.6119729,-34.592822,-34.631591,-34.6045547,-34.6240024,-34.601455,null,-34.5889927,-34.5880437,-34.6233199695,-34.553897,-34.6288131,-34.590144,-34.6177126,-34.583754,-34.553292,null,-34.6103271,-34.6031545441,-34.6101223,-34.5835376,-34.6060331,-34.6207821,-34.5741034,-34.6782802,-34.564892,-34.631591,-34.5848,-34.58233,-34.604548,-34.603506,-34.5879608444,-34.61088,null,-34.6166442,-34.5817888,-34.5958969,-34.6305666,-34.615587,-34.5538973,-34.62818,null,-34.573425,-34.590518,-34.5977692,-34.5768933,-34.5993371549,-34.5983728,-34.6001596,-34.637834,-34.6037137392,-34.6321116,-34.6246256,-34.5951698271,-34.557199,-34.6264398,-34.6040941,-34.6412473,-34.5917998504,-34.611471,-34.5600767,-34.5780621,-34.5674017,-34.586582,-34.5828157,-34.6116145,-34.592716,-34.5475074,-34.597769,-34.6207414,-34.6287756455,-34.6206226,-34.5910899,-34.577168,-34.607673,-34.5965341,-34.5958704,-34.554763,-34.6388382,-34.629853,-34.5675735,-34.614032,-34.624797,-34.6392485,-34.606301,-34.6031837,-34.583899,-34.60808733,-34.591831,-34.6200825,-34.6128601,-34.5495227,-34.5957216,null,-34.631591,-34.632364,null,-34.6173477,-34.5744172,-34.6214295,-34.572199,-34.6027891,-34.61335,-34.6176481,-34.556809,-34.6067737,-34.6286026,-34.6212894,-34.5789278,-34.588505,-34.598296,-34.58751,-34.5711807,-34.5566182,-34.6352242,-34.5729942,-34.6037137392,-34.5647507,-34.5688186,-34.6063416,-34.578139,-34.631591,null,-34.573846,-34.6134875,-34.6244303,-34.635741,-34.622597,-34.6244303,null,-34.5630282576,-34.6145386963,-34.62518,-34.6164426,-34.6148218,-34.597289,-34.6299244,-34.6168016,-34.5984584,-34.588316,-34.632304,-34.6034502,-34.5973812,-34.5618075,-34.602701,-34.5854783,-34.5772084,-34.6174612,-34.6267877662,-34.6105899,-34.607268,-34.602605,-34.5871429,-34.575532,-34.5583853,-34.6265359,-34.6270753,-34.6107904311,-34.607317,-34.5963928985,-34.628706,-34.6351461824,-34.5704605,-34.574537,-34.5849069,-34.5642834,null,null,-34.5674802,-34.6156378,-34.63335,-34.593335,-34.5969175,-34.6166189862,-34.5904622,-34.685292,-34.5979435834,-34.5982154569,-34.59475,-34.5896225,-34.593335,-34.6188615,-34.578929,-34.5548123,-34.6007308,-34.585106,-34.609903,-34.6306898,-34.572721,-34.624362,-34.608854,-34.5666787241,-34.5939737,-34.6277946,-34.5994747627,-34.5515484854,-34.575485,-34.6322572341,-34.5688712,-34.5747633,-34.6153103,-34.6302777,-34.5502004,-34.6073064,-34.6227163,-34.6130871,-34.6260531,-34.5961311,-34.605272,-34.6288596,-34.5733709,-34.5508362,-34.6166402,-34.602641,-34.5889045,-34.5599793922,-34.6232916,-34.603367,-34.6247442,-34.5469102,-34.6045189,-34.6266736631,-34.6132024,-34.597769,-34.569129,-34.6036554,-34.6220446,-34.632961,-34.6322381672,-34.595688,null,-34.610593,-34.6508775,-34.6248755,-34.6039262,-34.597824,-34.5818163,-34.6338838,-34.6207818,-34.5631948,-34.6077391,-34.5829813,-34.602941,-34.606676,-34.6299244,-34.5854115,-34.6256074,-34.6279,-34.578518,-34.6324789,-34.5939737,-34.627876,-34.6234917,-34.6046683,-34.6233348,-34.5496066482,-34.6210252,-34.6425051,-34.6233906,-34.554763,-34.5833867,-34.577168,-34.629896,-34.6165504,-34.6150121,-34.5861164713,-34.6223398871,-34.597769,-34.6194965,-34.5730139407,-34.6047969,-34.5915339,-34.595916,-34.63099,-34.6323335,-34.570884,-34.6150732,-34.6333237,-34.5972965,-34.5671066,null,-34.5729054,-34.557199,-34.5982525,-34.5947219,-34.6699098,-34.570884,-34.582317,-34.547829,-34.6264398,-34.62818,-34.570884,-34.637701,-34.6162622,-34.6107501,-34.6317798,-34.6083588,-34.5817888,-34.5825981444,-34.5859299,-34.631591,-34.6269408,-34.598084,-34.5879341,-34.6318743,-34.6207414,-34.631585,-34.62301,-34.638999,-34.5818364,-34.6095289,-34.6223398871,-34.629478,-34.5859985,-34.6303192,-34.6232754889,null,null,-34.5635682,-34.597769,-34.6371994,-34.612234,null,-34.633062,-34.6158915,-34.5797009,-34.61903,-34.5824961,-34.619727433,-34.6083004601,-34.6096418,null,-34.5939782586,-34.577504,-34.5731507,-34.5762788577,-34.570833,-34.5971971,-34.5829764,-34.567095,-34.601051,-34.6037137392,-34.561743,-34.616034713,-34.62664,-34.5851,-34.596441,-34.580146,-34.6281162,-34.5945508,-34.631591,null,-34.5949108,-34.54179,-34.5851531,-34.584179,-34.5819649,-34.6256447,-34.598486,-34.6389662,-34.6186349,-34.5856221,-34.637145,-34.616486,-34.6021531,-34.6856698,-34.625884,-34.5664873409,-34.597769,-34.6234793,-34.6003579,-34.598076,-34.5840778,-34.6205573,-34.5605032026,-34.585554,-34.5462698,-34.5789941431,-34.616821,-34.5965341,-34.5538467,-34.577168,-34.5683283,-34.5679842,-34.5953421021,-34.5877864,-34.632413,-34.639925,-34.5525338,-34.6137933,-34.598958,-34.56822,-34.625227,-34.5931886,-34.544171,-34.546435,-34.6223398871,-34.5709649,-34.6014487472,-34.553811,-34.6212158,-34.6045433,-34.5600767,-34.6122578,-34.563649,-34.5944575,-34.6266960708,-34.617005,-34.6343737,null,-34.5679696,-34.6230076441,-34.5963907,-34.617228,-34.597824,-34.633021,-34.6321116,-34.6295084,-34.620683,-34.6177506,-34.61121,-34.5854115,-34.5790338,-34.5735299,-34.616667,-34.5632097749,-34.570595,-34.590165,-34.62969,-34.5965586611,-34.6062505,-34.5934993495,-34.62408,-34.600927,-34.595587744,-34.5940365,-34.6023874,-34.621484,-34.6292137602,-34.596667,-34.5576080248,-34.6099028,-34.6117395,-34.6197904055,-34.54962,-34.544171,-34.586191,-34.6037137392,-34.6230978,-34.609251,null,-34.5720808,-34.631546,-34.6049101,-34.6105130552,-34.6308205,-34.6323606,-34.5644917,-34.572641,null,-34.627564,-34.5982958,-34.6240354,-34.626917,-34.559658,-34.60808733,-34.5686083,-34.5861553,null,-34.6244262,-34.5723206,-34.6212284,-34.5846738536,-34.5673888,-34.6039694,null,-34.6183879468,-34.549965,-34.6295865181,-34.639032,-34.5976128,-34.6087082126,-34.5687846,-34.5402985,-34.6233348,-34.607282,-34.620947,-34.5718525,-34.58478,-34.54435,-34.6256447,-34.63289,-34.5895313,-34.584411,-34.6072023,-34.6068242058,-34.6002337,-34.5528154546,null,-34.5718762094,-34.587953,-34.6109658,-34.6157105,-34.6161011,-34.6321335,null,-34.559524,-34.555898,-34.6202466,-34.6108194634,-34.5817888,-34.556862,-34.6016125,-34.610198,-34.596756,-34.611701,-34.5502415,null,-34.5562825,-34.616433,-34.648885,-34.6317516923,-34.6308299,-34.54179,-34.6103745,-34.582143,-34.5596996,-34.5541654,-34.5710926,-34.6037137392,-34.5923159302,-34.577097,-34.631255,-34.547057,-34.6067314268,-34.621434,-34.620866,-34.597769,-34.625268,-34.600269,-34.6118423,-34.5653209202,-34.6135876,-34.6113848,-34.624235218,-34.603207,-34.5848438,-34.5495516,-34.6213780165,-34.62818,-34.567609,-34.5655338,-34.618305,-34.572804,-34.6095064089,-34.589676,-34.5478587198,-34.5574837,-34.6156413442,-34.5525338,-34.628888,-34.6278223,-34.58934,-34.625837,-34.6029395377,-34.559393,-34.595929,-34.6372552,-34.5978249,-34.6045526,-34.6233199695,-34.599627,-34.6114442,-34.6072012,-34.573743,-34.636172,-34.5907409831,-34.5711377804,-34.635621,-34.572721,-34.5474472,-34.5958168,-34.62385,-34.563687,-34.5867085,-34.5538454266,-34.5712553,-34.5520265,-34.61183,-34.6503613594,-34.5629049,-34.6132205,-34.5878027,-34.60831,-34.5938512,-34.605957,-34.6090427855,-34.5432969,-34.6028068148,-34.623697,-34.6049169,-34.6354828,-34.595231,-34.6134704,-34.6244303,-34.5832367,-34.552745,-34.623205,-34.5565631,-34.643737,-34.5804863,-34.5687092,-34.6223398871,-34.5569188,-34.597773,-34.573193,-34.5514317,-34.611573,-34.6039992,-34.6116565,-34.6037137392,-34.5895602106,-34.6167403,-34.612372,-34.5986787,-34.5992793,-34.6318660806,-34.5638912,-34.6341464064,-34.6188983,-34.6736537,-34.5647343,-34.6127414,-34.5994381313,-34.623337,-34.617171,-34.6148483,-34.574391,-34.545497,-34.629523,-34.6045547,-34.591193355,-34.6057129,-34.616222,-34.5688102,-34.5920907,-34.607684,null,-34.63912,-34.5607738,-34.5845607,-34.5888413,-34.5818298,-34.6204532,-34.6321116,-34.631467,-34.5582269,-34.596979,-34.6152197,-34.641047,-34.5784942,-34.583758,-34.607924,-34.6244303,-34.563121,-34.6048035431,-34.5623519501,-34.577985,-34.61382,-34.647382,-34.605749,-34.5688712,-34.6073418,-34.5993371549,-34.5942724,-34.5997314,-34.597144,-34.632079,-34.5812589,-34.6404629,-34.6177615,-34.5895459,-34.597769,-34.624212,-34.5814957,-34.612796,-34.617321,-34.606305,-34.5731507,null,-34.549608,-34.5992343801,-34.645224,-34.609387,-34.5617098,-34.5764801,-34.6208009427,-34.602209,-34.5432969,-34.5985571,-34.631599,-34.5517599934,-34.59770557,-34.5577461,-34.625357,-34.5776851,-34.6496586,-34.5972556,-34.599709,-34.562909,-34.5538467,-34.5971308,-34.5773229,-34.60746,-34.6182578,-34.5719003943,-34.6321116,-34.5959115,-34.563497,-34.616592,-34.5546255,-34.604495,-34.6063416,-34.625227,-34.552185,null,-34.56293,-34.5632252422,-34.639636,-34.5632047,-34.6212158,null,-34.5693357,-34.6275935,-34.623771,-34.5961219,-34.59947,-34.593335,-34.569682,-34.6003888,-34.6946641,-34.6154117,-34.60315215,-34.590836,-34.600917,-34.6206226,-34.6116145,-34.616004,null,-34.6177615,-34.6027644,-34.6077796,-34.60662,-34.6008099,-34.5991285,-34.5940489212,-34.5714065,-34.637913,-34.5763528162,-34.5971598,-34.6006145,-34.6212158,-34.543593,-34.613199,-34.5392019,-34.637375,-34.603478,-34.586418,-34.6012812,-34.6274952,-34.5977228,-34.6582101,-34.6429726,null,-34.63099,-34.595328,-34.597769,-34.644323,-34.57174,-34.5859299,-34.5962592253,-34.569588,-34.5742364,-34.6036844,-34.586921,-34.601017,-34.609502,-34.5596631,-34.6153103,-34.6277787,-34.56822,-34.5546524,-34.626394,-34.5543389,-34.628026,-34.5538467,-34.6087573,-34.61607,-34.542957,-34.5936432,-34.620947,-34.59793,-34.6047969,-34.5600393,null,-34.563779,-34.6848640466,-34.5963548,-34.61973,-34.597605,-34.5542681,-34.598243,-34.6036844,-34.6087654,-34.589945,-34.6053211,-34.5591487,-34.6360226,-34.613661,-34.6076122891,-34.6139909,-34.5835498,-34.5545189,-34.5849069,-34.6332853,-34.5642911,-34.632184,-34.6344407,-34.6120144,-34.5613457644,-34.5768402,-34.6276019,-34.555328,-34.574589,-34.598701,-34.5475074,-34.604141,-34.5848,-34.6152061,-34.5911669,-34.601051,-34.613167,-34.634099,-34.6110095,-34.613579,-34.553292,-34.570083,-34.5696558,-34.6021965,null,-34.6086216494,-34.6157627423,-34.6022466,-34.5994116372,-34.6082575,-34.600133,-34.6010624,-34.556809,-34.616703,-34.5957503,-34.597769,-34.6132205,-34.6032772,-34.6353314,-34.6325443,-34.6116276934,-34.570884,-34.589711,-34.640305,-34.5507282,-34.556375,-34.5732041293,-34.589376,-34.6145577,-34.5574934,-34.5865453,-34.563251,-34.617465,-34.5513172382,-34.6212158,-34.5907002936,-34.620901,-34.5638911,-34.638352,null,-34.5656582,-34.60357429,-34.592985,-34.5843603,-34.6200259,-34.6087781,-34.5952199443,-34.5648243,-34.6057838,-34.637834,-34.631054,null,-34.602826,-34.5784951,-34.570884,-34.59585,-34.5586136,-34.6354230552,-34.5681247,-34.6030578,-34.5888921828,-34.6008099,-34.628264,-34.5841775,-34.591884,-34.561036,-34.5864460547,-34.6233199695,-34.583457,-34.6582271,-34.6161132,-34.597773,-34.6073418,-34.5895459,-34.624943,-34.5945746,-34.6244301,-34.602215,-34.553048,-34.6433814,-34.6071483846,-34.5951698271,-34.5985537,-34.602694,-34.6830375,null,-34.6186,-34.5393347,-34.60613,-34.633471,-34.597255,-34.5746086,-34.582397,-34.5571834,-34.597769,-34.5536629526,-34.6178424,-34.6227163,-34.5894171,-34.567711,-34.5590314,-34.5834561,-34.5776851,-34.6173396,-34.5405219193,-34.601977,-34.566256,-34.571497,-34.562147,-34.6087587,-34.593335,-34.5638912,-34.587475,null,-34.601692,-34.5756791994,-34.597769,-34.5590677,-34.6177615,-34.552083,null,-34.609052,-34.61747,-34.6371322,-34.6209278,-34.6103048,-34.6508555,-34.6094731,-34.56822,-34.575693,-34.6076685,-34.6007058,-34.5427503,-34.6040432,-34.555938,-34.5587987,-34.5695975,-34.6186349,-34.6066456757,-34.62818,-34.5941112,-34.6209368,-34.6177615,-34.631518,-34.633349,-34.6075585,-34.5403345,null,-34.612287,-34.5469102,-34.578811,-34.5421771,-34.5719003943,-34.6261244,-34.5974744,null,-34.5966426,-34.6103909378,-34.577168,-34.553195,-34.6265067739,-34.54384,-34.6320559051,-34.6371994,-34.6303785,-34.5620844,-34.6442699,-34.596759,-34.6186125,-34.5785999,null,-34.6049303,-34.5505304539,-34.5770261,-34.6084291073,-34.5719303,-34.5687846,-34.5828954116,-34.5446865,-34.62754,-34.6075261771,-34.5495227,-34.5607742,-34.5981394,-34.5756331,-34.5619726,-34.6405489,-34.5496870424,-34.574284,-34.6009149,-34.6289962,-34.6036844,-34.596822,-34.6052587,-34.6208623412,-34.5504713308,-34.581244,-34.6092776,-34.59083,-34.5574837,-34.6044977,-34.612127,-34.63093,-34.6182685716,-34.6429808,-34.6208255,-34.5903724,-34.5788631,-34.597255,-34.5730996,-34.637039,-34.55729,-34.6018927328,-34.5644796,-34.6467533,-34.5516347,-34.6047969,-34.642333,-34.5821239628,-34.6082699,-34.5777784,-34.5570206,-34.594729,-34.565454,-34.566969,-34.6097224,-34.601024,-34.6068792,-34.6014487472,-34.6037137392,-34.590091,-34.5962869,-34.5820865,-34.604318,-34.621483,-34.665052,-34.610796,-34.5735686461,-34.632719,-34.6019437,-34.6202466,-34.6230444207,-34.6289478818,null,-34.5665883987,-34.577324,-34.631163,-34.5769911,-34.616445,-34.557199,-34.6448698,-34.5776682268,-34.597205,-34.6256447,null,-34.6185262584,-34.5915663,-34.6101819118,-34.6036844,-34.6186037,-34.5817888,-34.598843,-34.5686398,-34.5542242,-34.5607997,-34.6213841573,-34.5673743,-34.590741,-34.62784,-34.6212158,-34.6043364801,-34.6486593,-34.5698914309,-34.60537,-34.651143,-34.6020637,-34.627724,-34.5607738,-34.575966,-34.5712553,-34.6037137392,-34.6186349,-34.552165,-34.5413289,-34.570048,-34.5589314,-34.6236,-34.540447,-34.6206226,-34.5443774,-34.5849069,-34.6037137392,-34.574613,-34.5942200865,-34.6047969,null,-34.564492,-34.6264093998,-34.5535083,-34.5596702,-34.6111519,-34.5571189,-34.61335,-34.6005818,-34.596269,-34.6037137392,-34.604265,-34.587156,-34.5995352,-34.626109,-34.62468,-34.6186349,-34.6036844,-34.6321116,-34.6253806,-34.5907572,-34.588677,-34.5441874,-34.6046722,-34.558751,-34.597769,-34.6196831,-34.6132024,-34.551488,-34.5945508,-34.6073563,-34.5900864,-34.6380573,-34.5849876,-34.58751,-34.616075,-34.571436,null,null,-34.647382,-34.613767,-34.601996,-34.6473525,-34.601799,-34.6315575,-34.6327951,-34.6244303,-34.628026,-34.5532325,-34.589548,-34.6362315,-34.637834,-34.581244,-34.5982393,-34.6033015,-34.5731507,-34.608557,-34.6230792,-34.6118022511,-34.5830542765,-34.6087862,-34.5745068,-34.6131267465,-34.615533,-34.618862,-34.6157142,-34.550716,-34.5705687,-34.611630054,-34.615229,-34.611050492,-34.6145386963,-34.5577492288,-34.5667705,-34.5582269,null,-34.6172737911,-34.5666702,-34.5678672598,-34.5847516,-34.63099,null,-34.591707,-34.577168,-34.6044653,-34.62048,-34.583298,-34.567821,-34.6014395,-34.6060978493,-34.60582,-34.613932,-34.5809943,-34.609251,-34.6072575,-34.5817888,-34.5843603,null,-34.60315215,-34.55319,-34.564492,-34.6086026,-34.5582269,-34.597824,-34.5427503,-34.6105808,-34.5961791,-34.617356,-34.5641673,-34.5785366,-34.5827599505,-34.5902136647,-34.5545156,null,-34.616571,-34.5731507,-34.5605292054,null,-34.5711496,-34.6344727,-34.5825736,-34.6277278,-34.6361792,-34.5731507,null,-34.595169,-34.5963526477,-34.5694484,-34.6342368,-34.5759375,-34.6211623743,-34.540334,-34.595916,-34.6238725,-34.5773676815,-34.6177615,-34.5687846,-34.563811,-34.546589,null,-34.610315,-34.6452033784,-34.5518,-34.604689,null,-34.5894036279,-34.6469378,-34.599902,-34.628967,-34.602798,-34.5789278,-34.6204532,-34.639448,-34.577539,-34.5600507604,-34.631591,-34.5403345,-34.616257,-34.6170597,-34.6065152,-34.6361792,-34.6211671,-34.5983544,-34.5851389,null,-34.550157,-34.6251642417,-34.5661089469,-34.630264,-34.626,-34.553796,-34.598365,-34.586557,-34.543664,-34.617228,-34.5855076,-34.6109658,-34.626138,-34.590708,-34.5378512,-34.596715,-34.574537],\"z\":[129000.0,87000.0,118000.0,57000.0,90000.0,138000.0,114000.0,82000.0,166000.0,136500.0,75000.0,68000.0,80000.0,125000.0,120000.0,145000.0,95000.0,155000.0,300000.0,95000.0,82000.0,129000.0,280000.0,1902884.0,1568270.0,118885.0,190000.0,157000.0,119000.0,290000.0,149000.0,199000.0,74400.0,130000.0,140000.0,179869.0,89000.0,80000.0,619000.0,84000.0,110000.0,115000.0,137500.0,88000.0,115000.0,83000.0,107000.0,129500.0,160000.0,97000.0,84000.0,85000.0,90000.0,27279.0,230000.0,64900.0,90000.0,142200.0,140000.0,114000.0,122000.0,1520000.0,80000.0,120000.0,112000.0,85000.0,150000.0,86500.0,92400.0,110000.0,122000.0,271000.0,170000.0,235000.0,165000.0,170000.0,84000.0,90000.0,140000.0,99000.0,95000.0,155000.0,147000.0,156000.0,79000.0,110000.0,158000.0,249000.0,146000.0,158000.0,92000.0,92000.0,99000.0,250000.0,112000.0,120000.0,189000.0,95000.0,116000.0,85000.0,71500.0,37983.0,110000.0,120000.0,90000.0,85000.0,95000.0,105000.0,58000.0,1648669.0,250000.0,265000.0,79000.0,81360.0,108000.0,128260.0,136000.0,210000.0,1987700.0,166000.0,156000.0,165000.0,1157000.0,184000.0,133000.0,94635.0,184150.0,179500.0,64000.0,280000.0,106000.0,99000.0,105500.0,165000.0,120000.0,93000.0,149000.0,185000.0,57000.0,122000.0,181000.0,330000.0,150000.0,130000.0,115000.0,83850.0,2972713.0,107000.0,189000.0,139500.0,92000.0,128000.0,230000.0,226000.0,107000.0,134000.0,97000.0,370000.0,1252757.0,66605.0,110000.0,100000.0,52000.0,213000.0,3273780.0,245000.0,124900.0,150000.0,122000.0,120000.0,84800.0,189900.0,128000.0,95164.0,125000.0,122000.0,60000.0,255000.0,99538.0,230000.0,110000.0,80000.0,133000.0,89500.0,175000.0,94300.0,2466700.0,1748500.0,199500.0,94000.0,125900.0,178000.0,152000.0,98000.0,125000.0,158000.0,150277.0,1396000.0,195000.0,72000.0,1278138.0,64900.0,131000.0,137000.0,138000.0,1695774.0,159500.0,175000.0,309000.0,95000.0,73000.0,87000.0,73000.0,105485.0,382015.0,95700.0,174000.0,120000.0,120000.0,67000.0,122000.0,1388000.0,83000.0,130000.0,139000.0,120000.0,111000.0,95000.0,221700.0,205000.0,90000.0,220000.0,125000.0,99000.0,132000.0,197900.0,78000.0,114000.0,100000.0,108600.0,157000.0,5487000.0,60000.0,97000.0,136000.0,240000.0,142000.0,310000.0,103018.0,107000.0,1545000.0,135000.0,119000.0,220000.0,185000.0,170000.0,3458648.0,85000.0,150000.0,130000.0,175000.0,180000.0,331000.0,92000.0,93900.0,140000.0,78800.0,95000.0,155000.0,68000.0,145000.0,98000.0,94500.0,67600.0,195000.0,77000.0,298000.0,85000.0,109000.0,133000.0,72000.0,1419000.0,63000.0,87000.0,983006.0,195000.0,260000.0,169500.0,129000.0,119000.0,88000.0,100306.0,97000.0,86000.0,90000.0,112677.0,145000.0,150000.0,210000.0,100000.0,76000.0,95568.0,175000.0,94000.0,195000.0,145000.0,159000.0,120000.0,350000.0,84500.0,115000.0,73800.0,130000.0,110000.0,132000.0,169000.0,189000.0,78000.0,138000.0,90000.0,62000.0,157000.0,138000.0,84000.0,88000.0,140000.0,198000.0,61770.0,92000.0,1586000.0,157000.0,91606.0,85000.0,145000.0,120000.0,275000.0,75000.0,99500.0,53000.0,65000.0,210000.0,160000.0,85900.0,103000.0,137000.0,135000.0,119900.0,193000.0,1556000.0,139000.0,290000.0,158000.0,140000.0,95800.0,3547000.0,200000.0,75000.0,145000.0,295000.0,79500.0,123000.0,91500.0,135000.0,83000.0,180000.0,85000.0,380000.0,180000.0,137000.0,107500.0,143000.0,118000.0,176000.0,1192000.0,230500.0,158000.0,165000.0,138000.0,152000.0,165000.0,78000.0,153000.0,105000.0,170000.0,140000.0,69458.0,110000.0,84000.0,105100.0,1581000.0,160000.0,105000.0,73800.0,248000.0,133000.0,88000.0,112419.0,137000.0,200000.0,160000.0,174250.0,105700.0,268000.0,135000.0,84280.0,92304.0,220000.0,90000.0,265000.0,189302.0,4777000.0,240000.0,1562000.0,152638.0,78000.0,70000.0,205000.0,102000.0,145000.0,95000.0,73000.0,95000.0,90000.0,107720.0,105000.0,149900.0,299000.0,129900.0,222500.0,98000.0,109500.0,270000.0,99000.0,98900.0,1346360.0,148000.0,174000.0,70000.0,149500.0,99000.0,94000.0,1501000.0,83840.0,165000.0,125000.0,289000.0,119000.0,85000.0,142000.0,117000.0,78000.0,52000.0,92000.0,150000.0,135000.0,115000.0,115000.0,140000.0,105500.0,85000.0,99000.0,114000.0,79000.0,600000.0,115000.0,112000.0,91000.0,125000.0,138000.0,150000.0,157000.0,85000.0,80000.0,127000.0,74000.0,85800.0,202616.0,80000.0,279900.0,165700.0,146076.0,82000.0,154500.0,135000.0,170000.0,95000.0,95000.0,90000.0,240000.0,75000.0,255000.0,82000.0,127000.0,340000.0,124999.0,138000.0,160000.0,71900.0,115000.0,89000.0,90000.0,70000.0,210000.0,190000.0,140000.0,119000.0,187000.0,125000.0,75000.0,220000.0,150000.0,146000.0,55000.0,99500.0,123000.0,112000.0,195000.0,78000.0,72000.0,2767881.0,187000.0,131216.0,130000.0,79000.0,105000.0,1645500.0,205000.0,195000.0,1230000.0,65900.0,66458.0,239000.0,95000.0,281170.0,93000.0,104400.0,1464176.0,130000.0,95000.0,158000.0,290000.0,185000.0,130000.0,120000.0,85000.0,87000.0,88517.0,125000.0,145000.0,72000.0,152000.0,219235.0,158000.0,98000.0,148000.0,75000.0,199000.0,88498.0,99800.0,94000.0,87000.0,78000.0,88500.0,230000.0,87000.0,145000.0,119000.0,169000.0,67500.0,1395500.0,80000.0,75000.0,81000.0,105000.0,130000.0,95000.0,183000.0,125000.0,162000.0,96000.0,109000.0,122000.0,120000.0,126800.0,89000.0,97000.0,190729.0,95000.0,118000.0,98000.0,130000.0,130000.0,177000.0,225000.0,245000.0,94000.0,152000.0,196000.0,142000.0,120000.0,141780.0,185000.0,105000.0,1534516.0,279000.0,104999.0,76000.0,115000.0,90000.0,125000.0,1284000.0,155000.0,130000.0,143000.0,89035.0,2321000.0,70000.0,249900.0,124267.0,115079.0,120000.0,236132.0,92800.0,84000.0,160000.0,110000.0,98000.0,83500.0,130000.0,110760.0,145000.0,84000.0,133000.0,147000.0,93653.0,70000.0,115000.0,285000.0,150000.0,96000.0,205000.0,92107.0,142000.0,78800.0,210000.0,98500.0,85000.0,69000.0,90000.0,117000.0,170000.0,154112.0,86000.0,175000.0,95000.0,95000.0,190000.0,165000.0,85000.0,95000.0,98000.0,260000.0,215100.0,88000.0,90000.0,118000.0,154000.0,233200.0,245000.0,191134.0,114000.0,205095.0,123000.0,208000.0,190000.0,220000.0,140000.0,66458.0,199000.0,97000.0,88000.0,160000.0,279000.0,165000.0,99000.0,85000.0,1825000.0,100000.0,280000.0,130000.0,73600.0,325000.0,79400.0,85000.0,330000.0,125000.0,119000.0,71899.0,88060.0,70000.0,85000.0,95000.0,285000.0,135000.0,1700000.0,72900.0,230000.0,124000.0,130000.0,96189.0,190000.0,86000.0,135000.0,81500.0,110940.0,111359.0,140000.0,125000.0,84000.0,127000.0,79500.0,90000.0,105000.0,2050000.0,98000.0,130000.0,220000.0,86400.0,90000.0,99000.0,220000.0,87000.0,82000.0,105000.0,226063.0,108000.0,83000.0,67000.0,75500.0,90000.0,120000.0,115000.0,91500.0,132000.0,145000.0,130000.0,114000.0,909464.0,220000.0,94900.0,189000.0,170000.0,125000.0,107000.0,203000.0,75000.0,70000.0,100000.0,80000.0,395000.0,85000.0,90000.0,1085000.0,99300.0,129000.0,122000.0,98000.0,245000.0,215000.0,135000.0,97000.0,155000.0,2763000.0,135000.0,65000.0,92500.0,149000.0,225000.0,109000.0,105300.0,125000.0,135500.0,95000.0,94000.0,82000.0,1449000.0,150000.0,176000.0,70000.0,108000.0,185000.0,191000.0,179000.0,90000.0,180000.0,129000.0,145000.0,88000.0,276500.0,1443000.0,183300.0,78100.0,146000.0,125000.0,76184.0,80000.0,84500.0,93000.0,93975.0,127000.0,1610559.0,125000.0,104000.0,118000.0,148847.0,144000.0,149000.0,73000.0,75000.0,135000.0,146000.0,110000.0,1193200.0,101808.0,105000.0,137000.0,80000.0,1370290.0,165000.0,127000.0,100200.0,115000.0,120000.0,270000.0,75000.0,1348000.0,69000.0,85000.0,165000.0,99800.0,135000.0,184000.0,84000.0,159000.0,95000.0,60000.0,110000.0,75000.0,99000.0,115000.0,230000.0,84500.0,92000.0,75600.0,109000.0,205000.0,93500.0,159900.0,154500.0,118000.0,197000.0,80000.0,177000.0,83000.0,85000.0,131500.0,130000.0,95000.0,118000.0,148000.0,1771027.0,138000.0,74900.0,150000.0,155000.0,136000.0,175000.0,190000.0,68000.0,120000.0,85000.0,92000.0,110000.0,138500.0,74676.0,62000.0,135000.0,82000.0,235000.0,240000.0,190000.0,149500.0,73000.0,96000.0,165000.0,160000.0,91200.0,89000.0,93000.0,110000.0,79000.0,140000.0,84900.0,390000.0,145000.0,89000.0,85000.0,185000.0,135000.0,99900.0,272000.0,275000.0,170000.0,2200000.0,159500.0,149000.0,80000.0,74500.0,125000.0,183000.0,169500.0,132000.0,65000.0,729405.0,89000.0,112000.0,309000.0,1165600.0,180000.0,175000.0,114000.0,109472.0,129000.0,115000.0,115000.0,75000.0,130000.0,145000.0,185000.0,122000.0,120000.0,250000.0,1297422.0,260000.0,175000.0,176000.0,87000.0,320000.0,120000.0,93000.0,241900.0,240000.0,90000.0,143000.0,138000.0,115000.0,158356.0,150000.0,190000.0,350000.0,75000.0,159000.0,175000.0,119000.0,210000.0,79800.0,176000.0,97500.0,75000.0,85000.0,160000.0,185000.0,92200.0,165000.0,167000.0,151800.0,149900.0,155000.0,85000.0,81900.0,240000.0,80000.0,105000.0,85000.0,102500.0,115000.0,148000.0,359950.0,85000.0,95000.0,151000.0,74000.0,300000.0,65000.0,185000.0,250000.0,239000.0,180000.0,92000.0,148000.0,150000.0,72000.0,128000.0,136000.0,120000.0,220000.0,166000.0,330000.0,92500.0,112000.0,180000.0,102921.0,135000.0,99306.0,190000.0,340000.0,86900.0,92000.0,145000.0,1834248.0,125000.0,149000.0,173000.0,156000.0,110207.0,143000.0,125000.0,1420000.0,145000.0,165000.0,60000.0,145000.0,168500.0,139500.0,155000.0,120000.0,70000.0,70000.0,93000.0,115400.0,195000.0,95000.0,175000.0,320000.0,214073.0,138000.0,77500.0,189500.0,148000.0,193000.0,130000.0,165000.0,138159.0,157000.0,105000.0,352000.0,75000.0,85000.0,94700.0,300000.0,123200.0,220000.0,145000.0,155000.0,85000.0,69000.0,102167.0,85000.0,102000.0,158000.0,135000.0,95000.0,135000.0,90000.0,84500.0,89000.0,63000.0,185000.0,260000.0,75050.0,95000.0,115000.0,79500.0,3547000.0,185000.0,119000.0,124000.0,1665000.0,150000.0,150000.0,110000.0,195000.0,166793.0,95000.0,165000.0,153000.0,169900.0,78900.0,89900.0,121000.0,125000.0,290000.0,175000.0,268000.0,84900.0,123400.0,1655297.0,260000.0,71000.0,180000.0,84500.0,90000.0,160000.0,180000.0,74800.0,1575000.0,270000.0,72000.0,73000.0,300000.0,140000.0,115000.0,210000.0,115000.0,105000.0,90000.0,175000.0,150000.0,70000.0,105000.0,232000.0,200000.0,92625.0,131000.0,245000.0,235000.0,123000.0,98000.0,178000.0,92000.0,120000.0,100000.0,165000.0,208000.0,146000.0,2477000.0,113360.0,115000.0,105000.0,158000.0,97000.0,89500.0,210000.0,179375.0,165000.0,172000.0,88000.0,216500.0,89000.0,188000.0,395000.0,106000.0,220000.0,130000.0,179500.0,239000.0,1868761.0,319000.0,265000.0,125000.0,140000.0,115000.0,197000.0,150000.0,200000.0,82500.0,80000.0,58000.0,1261800.0,179000.0,145000.0,165000.0,193000.0,117500.0,193500.0,112000.0,1353000.0,110760.0,73900.0,144900.0,155000.0,162000.0,195000.0,105000.0,95000.0,82500.0,80000.0,143000.0,110000.0,139000.0,96500.0,150000.0,80000.0,125000.0,108000.0,164900.0,150000.0,149000.0,68000.0,330000.0,135000.0,110000.0,149000.0,149000.0,179500.0,63500.0,120000.0,80000.0,105000.0,240000.0,85000.0,60000.0,112000.0,90000.0,176900.0,112677.0,72000.0,130000.0,125000.0,69000.0,138000.0,93000.0,99000.0,225000.0,123000.0,265000.0,134000.0,150000.0,59000.0,165000.0,145000.0,87000.0,55000.0,169000.0,135000.0,137000.0,65000.0,89000.0,141300.0,125000.0,106250.0,126000.0,97500.0,120000.0,71361.0,115000.0,82000.0,155000.0,170000.0,110000.0,190000.0,178000.0,235000.0,85000.0,130000.0,90000.0,120000.0,105000.0,90000.0,120000.0,126446.0,79447.0,550000.0,224000.0,2200000.0,140000.0,75000.0,134000.0,164000.0,147000.0,175000.0,155000.0,89000.0,168000.0,85000.0,156000.0,149000.0,59000.0,138000.0,185000.0,59640.0,100000.0,73600.0,205095.0,215000.0,77000.0,168000.0,160000.0,315000.0,95000.0,115000.0,100000.0,170000.0,215000.0,120000.0,310000.0,158000.0,175000.0,200000.0,117620.0,210000.0,140000.0,147733.0,149500.0,95100.0,170000.0,350000.0,98000.0,195000.0,129500.0,75000.0,185000.0,99000.0,249000.0,230000.0,105000.0,125000.0,104000.0,90000.0,84500.0,125000.0,210000.0,245000.0,171900.0,78000.0,63000.0,135000.0,143100.0,1118100.0,119000.0,62000.0,125000.0,78000.0,215000.0,341550.0,1386000.0,105000.0,89681.0,99000.0,72000.0,116000.0,87000.0,80000.0,90000.0,145000.0,130000.0,149000.0,124000.0,80000.0,140000.0,78000.0,159000.0,1393000.0,125000.0,99120.0,158000.0,75500.0,250000.0,108000.0,80000.0,133000.0,156000.0,122000.0,80000.0,85000.0,90000.0,109000.0,87000.0,112000.0,183000.0,126000.0,210000.0,103000.0,210000.0,95000.0,165000.0,110000.0,1467000.0,120000.0,270000.0,120000.0,2296000.0,105000.0,67000.0,115000.0,115000.0,195000.0,97800.0,249000.0,105000.0,165000.0,149000.0,160000.0,145000.0,115000.0,84000.0,85000.0,120000.0,200000.0,68000.0,84000.0,144500.0,200000.0,114000.0,58000.0,135000.0,155000.0,77900.0,92000.0,99000.0,80000.0,180000.0,78000.0,125000.0,142000.0,120000.0,94900.0,146000.0,143000.0,59200.0,1118100.0,115000.0,4667667.0,73000.0,192000.0,90000.0,179000.0,189500.0,78000.0,1700035.0,102000.0,105000.0,100000.0,110000.0,120000.0,310000.0,149900.0,151000.0,96000.0,110000.0,139000.0,140000.0,75000.0,189000.0,259000.0,91200.0,95000.0,1267100.0,119636.0,95000.0,110000.0,119930.0,98000.0,155000.0,118110.0,105000.0,123000.0,90000.0,240000.0,64000.0,295000.0,78500.0,129500.0,82000.0,197000.0,174900.0,280000.0,84000.0,94000.0,115100.0,88000.0,109000.0,158000.0,84000.0,1851000.0,120000.0,95000.0,81000.0,110000.0,138000.0,109800.0,77000.0,1725000.0,105000.0,91800.0,110000.0,954000.0,67000.0,235000.0,3041593.0,85000.0,128000.0,139900.0,85000.0,200000.0,146000.0,149000.0,101443.0,330000.0,115000.0,108576.0,43000.0,126000.0,185000.0,196500.0,300000.0,73190.0,62000.0,170000.0,117000.0,81000.0,80000.0,144900.0,110000.0,232726.0,179500.0,115000.0,153000.0,190000.0,65000.0,83500.0,318000.0,99000.0,85900.0,108633.0,90000.0,182000.0,99000.0,210000.0,88000.0,1050000.0,79000.0,2761500.0,65000.0,84000.0,139000.0,159000.0,140000.0,250000.0,95000.0,182000.0,180000.0,158000.0,78800.0,90000.0,109000.0,120000.0,1898000.0,2427000.0,154500.0,105000.0,109000.0,91574.0,82000.0,117000.0,235000.0,65000.0,135000.0,70000.0,2003000.0,82000.0,139000.0,118000.0,87000.0,99000.0,130000.0,139000.0,167000.0,71000.0,86900.0,255500.0,183500.0,94900.0,68000.0,90000.0,105000.0,190000.0,84900.0,89000.0,82000.0,80600.0,97000.0,80000.0,75000.0,1409000.0,128000.0,214000.0,71500.0,99500.0,143000.0,101000.0,210000.0,146000.0,233200.0,112700.0,160000.0,95000.0,259000.0,93583.0,89000.0,825578.0,124267.0,85000.0,140000.0,210000.0,168781.0,115000.0,125000.0,165000.0,85000.0,360000.0,62000.0,173080.0,142000.0,132000.0,2514000.0,217500.0,107192.0,62636.0,70000.0,175000.0,72000.0,170000.0,100000.0,340000.0,98000.0,1294200.0,365000.0,105000.0,165000.0,106000.0,84000.0,90000.0,85000.0,75000.0,85000.0,225000.0,153000.0,101750.0,71194.0,95000.0,135000.0,123000.0,70000.0,90000.0,222700.0,93425.0,85000.0,121163.0,57000.0,64000.0,156400.0,99900.0,270000.0,125000.0,149000.0,115000.0,118110.0,120000.0,290000.0,193853.0,122000.0,249000.0,105000.0,176900.0,129000.0,79900.0,97000.0,109500.0,240000.0,74000.0,135200.0,1642816.0,137000.0,76000.0,100000.0,1455000.0,111000.0,149000.0,204000.0,70000.0,164000.0,255000.0,81480.0,220000.0,55000.0,55000.0,90000.0,125000.0,110000.0,112000.0,90000.0,195000.0,98000.0,154500.0,92000.0,150000.0,73900.0,93000.0,170000.0,129000.0,152000.0,70000.0,140000.0,255000.0,145000.0,1149055.0,189000.0,200000.0,271000.0,250000.0,127000.0,60000.0,92000.0,116533.0,94000.0,125000.0,4056000.0,70000.0,125000.0,113360.0,155000.0,169000.0,125000.0,94830.0,147000.0,105302.0,142500.0,375000.0,70000.0,206000.0,92000.0,407040.0,78900.0,175000.0,110000.0,209000.0,79700.0,145000.0,72800.0,136000.0,82500.0,1210000.0,182000.0,984750.0,108000.0,185000.0,183500.0,150000.0,237000.0,107000.0,129000.0,135000.0,125000.0,99000.0,96000.0,130000.0,175000.0,126900.0,89900.0,159500.0,139500.0,260000.0,260000.0,82000.0,109500.0,132000.0,198000.0,155000.0,249000.0,135000.0,112320.0,93600.0,149000.0,135000.0,70000.0,150000.0,194100.0,119000.0,70000.0,98000.0,79900.0,120000.0,82400.0,203000.0,112700.0,85000.0,207700.0,125000.0,1987700.0,210000.0,105500.0,153000.0,155000.0,65000.0,84500.0,209990.0,300000.0,235000.0,275000.0,225000.0,156000.0,118000.0,85000.0,1250000.0,85000.0,74500.0,180000.0,99975.0,165000.0,93468.0,75000.0,100000.0,170000.0,95000.0,50000.0,83160.0,165000.0,280000.0,110000.0,99000.0,80000.0,125000.0,105000.0,84000.0,180000.0,187000.0,85000.0,90000.0,110000.0,135000.0,145000.0,248000.0,92000.0,89500.0,160000.0,123000.0,105000.0,104000.0,155000.0,158000.0,97000.0,98000.0,58000.0,107000.0,78000.0,64000.0,125000.0,85000.0,191134.0,112000.0,177000.0,120000.0,140000.0,126360.0,85500.0,88000.0,88500.0,58904.0,170000.0,115000.0,75000.0,69500.0,139000.0,98000.0,130000.0,148000.0,74000.0,129000.0,78000.0,130000.0,135000.0,115000.0,125000.0,132000.0,369500.0,155000.0,77000.0,69000.0,269000.0,159000.0,71400.0,120000.0,162000.0,105000.0,297638.0,75000.0,120000.0,170000.0,169000.0,115000.0,240000.0,110000.0,85000.0,128000.0,138000.0,1136000.0,95000.0,65000.0,165000.0,158000.0,112000.0,70000.0,145000.0,65000.0,219596.0,205000.0,74000.0,81000.0,235000.0,380000.0,91000.0,156000.0,147000.0,129000.0,117800.0,179000.0,235705.0,115000.0,85000.0,135000.0,108000.0,149000.0,158000.0,85000.0,99000.0,130000.0,120000.0,82000.0,112000.0,116996.0,115000.0,112000.0,59500.0,145000.0,85000.0,135000.0,158500.0,169000.0,160000.0,73800.0,92000.0,135000.0,224000.0,95000.0,99000.0,98000.0,330000.0,164959.0,75000.0,190000.0,135000.0,121500.0,159900.0,139900.0,105000.0,73000.0,200000.0,65000.0,125000.0,1519300.0,103000.0,99360.0,144000.0,137400.0,145000.0,82000.0,215000.0,105000.0,85500.0,90000.0,189000.0,115000.0,72000.0,87500.0,330000.0,290000.0,170000.0,135000.0,1612000.0,1353000.0,115000.0,95000.0,185000.0,67000.0,93000.0,150000.0,82000.0,139000.0,118974.0,225000.0,290000.0,129000.0,89500.0,122000.0,89000.0,125000.0,98577.0,133000.0,99000.0,110000.0,102500.0,118000.0,142067.0,125000.0,130000.0,1207500.0,189000.0,313000.0,174900.0,145000.0,109990.0,179000.0,125000.0,166394.0,91500.0,133000.0,170000.0,57900.0,79000.0,215000.0,198000.0,170000.0,139000.0,170000.0,100000.0,72000.0,117600.0,126000.0,150000.0,93500.0,252000.0,85500.0,69920.0,98000.0,101244.0,2680303.0,97000.0,180000.0,87000.0,89000.0,259000.0,2216000.0,232000.0,130000.0,149000.0,180000.0,82000.0,99875.0,85000.0,95000.0,134000.0,99000.0,178000.0,225390.0,115000.0,69670.0,75000.0,110000.0,165000.0,180000.0,148000.0,368000.0,102458.0,230000.0,88000.0,100000.0,144000.0,78500.0,173350.0,165000.0,122000.0,149000.0,120000.0,145000.0,76000.0,83000.0,112400.0,200000.0,106630.0,125000.0,139500.0,190000.0,73000.0,130000.0,120000.0,61000.0,109489.0,240000.0,205200.0,290000.0,110000.0,140000.0,111400.0,159000.0,129500.0,1597132.0,90500.0,114000.0,101185.0,66600.0,196500.0,169000.0,98000.0,105000.0,106000.0,180000.0,92000.0,92000.0,259000.0,265000.0,138000.0,70000.0,250000.0,231495.0,105625.0,4056000.0,89412.0,1218000.0,178000.0,1286644.0,1466803.0,99500.0,68000.0,99000.0,170000.0,150000.0,165000.0,81500.0,120000.0,105000.0,210000.0,60000.0,260000.0,184300.0,100000.0,154000.0,135000.0,162000.0,135000.0,195000.0,79500.0,248000.0,65000.0,69000.0,621000.0,180000.0,120000.0,114500.0,100000.0,165000.0,168000.0,85000.0,149000.0,110000.0,120000.0,290000.0,120000.0,74000.0,1710000.0,168000.0,180000.0,140000.0,165800.0,75000.0,250000.0,159000.0,135000.0,93000.0,117000.0,89000.0,94000.0,92860.0,290000.0,138000.0,116996.0,140000.0,64500.0,260000.0,119000.0,137000.0,129000.0,158000.0,96000.0,89500.0,105000.0,153700.0,206675.0,78000.0,89000.0,180000.0,117000.0,1900840.0,108000.0,134000.0,225000.0,214000.0,175000.0,110000.0,110000.0,68000.0,166000.0,158000.0,245000.0,140000.0,67138.0,80000.0,165000.0,172000.0,118400.0,125000.0,132000.0,84500.0,148000.0,78000.0,987400.0,113000.0,738000.0,165000.0,73000.0,98000.0,70000.0,58000.0,89900.0,249000.0,1618605.0,2169000.0,89000.0,155000.0,135000.0,85000.0,210000.0,84313.0,76000.0,295000.0,90000.0,99000.0,98000.0,1274000.0,79000.0,90600.0,86200.0,75900.0,133000.0,250000.0,105000.0,96135.0,108962.0,145000.0,119900.0,172000.0,130000.0,205000.0,233000.0,115000.0,72500.0,75000.0,149000.0,220000.0,120000.0,105000.0,98400.0,144000.0,107000.0,213850.0,109700.0,150000.0,67500.0,73000.0,285000.0,120000.0,85000.0,220000.0,267000.0,72000.0,179000.0,175000.0,115000.0,79000.0,220000.0,155000.0,99445.0,365000.0,136000.0,135000.0,87000.0,110000.0,338900.0,115000.0,1700000.0,205000.0,76000.0,180000.0,87600.0,85000.0,144196.0,155000.0,79000.0,98000.0,6057740.0,115000.0,125000.0,62000.0,255500.0,330000.0,138000.0,249000.0,95000.0,58333.0,125000.0,127400.0,135935.0,168000.0,101000.0,270000.0,60000.0,165000.0,2005000.0,4420000.0,171593.0,119800.0,136900.0,123000.0,166300.0,82000.0,67000.0,160000.0,118000.0,75000.0,148000.0,225000.0,1927000.0,94000.0,135000.0,83500.0,125000.0,127000.0,175000.0,100000.0,42900.0,320000.0,150000.0,68000.0,112000.0,169000.0,117000.0,105000.0,99696.0,175000.0,180000.0,155000.0,152000.0,254000.0,330000.0,94923.0,115000.0,237000.0,239000.0,175000.0,92000.0,120000.0,230000.0,103000.0,118000.0,1506898.0,197000.0,84000.0,240000.0,112000.0,320000.0,176000.0,118000.0,123000.0,79395.0,295000.0,89000.0,94000.0,115000.0,170000.0,73800.0,1593700.0,115000.0,175000.0,89900.0,80000.0,139000.0,340000.0,108000.0,95000.0,290000.0,71500.0,116929.0,95000.0,98000.0,93000.0,100000.0,128500.0,95000.0,140000.0,91189.0,285000.0,78000.0,365000.0,93000.0,195000.0,145000.0,950000.0,165000.0,181000.0,79500.0,150000.0,89500.0,1150000.0,2387000.0,74000.0,185000.0,140000.0,78000.0,105000.0,149500.0,164000.0,130000.0,105000.0,120000.0,81900.0,105000.0,117000.0,260000.0,138000.0,78000.0,115000.0,136000.0,95000.0,210000.0,157350.0,85000.0,1699000.0,86000.0,185000.0,170000.0,75806.0,114000.0,110000.0,115000.0,60000.0,80000.0,100000.0,58000.0,330000.0,160000.0,205000.0,105000.0,61415.0,107000.0,47543.0,155000.0,129000.0,175000.0,205000.0,148000.0,380000.0,90000.0,119000.0,119000.0,85000.0,136000.0,55000.0,170000.0,2171000.0,170000.0,165000.0,107000.0,125000.0,84000.0,123000.0,75180.0,150000.0,90000.0,155000.0,120000.0,145000.0,109900.0,59031.0,83000.0,1531000.0,70000.0,155000.0,149900.0,125000.0,90000.0,125000.0,249000.0,164000.0,1718000.0,259000.0,95000.0,85000.0,188500.0,98000.0,215000.0,109000.0,86000.0,110000.0,128000.0,129000.0,89000.0,85000.0,94000.0,45000.0,84500.0,180000.0,118000.0,121515.0,1386346.0,105000.0,238036.0,103000.0,100000.0,285000.0,94800.0,155000.0,101510.0,105000.0,145000.0,110000.0,220000.0,106000.0,160000.0,72000.0,158000.0,105000.0,100800.0,140000.0,138000.0,56900.0,85000.0,110000.0,93000.0,205000.0,165000.0,95000.0,92000.0,62300.0,210000.0,85000.0,300000.0,69458.0,84000.0,97000.0,120000.0,135000.0,105000.0,180000.0,120000.0,77500.0,280000.0,105000.0,99000.0,89600.0,84000.0,92000.0,158000.0,73000.0,92000.0,78500.0,120000.0,156000.0,179000.0,95000.0,150000.0,195000.0,95000.0,115000.0,106000.0,205000.0,109000.0,235000.0,87611.0,120000.0,114803.0,160000.0,90450.0,330000.0,225208.0,135000.0,75000.0,82000.0,158000.0,99000.0,173359.0,126024.0,97000.0,130000.0,128000.0,98000.0,145000.0,115000.0,250000.0,93975.0,75000.0,148975.0,76000.0,131400.0,100000.0,155000.0,225000.0,65000.0,115000.0,2502171.0,125400.0,152800.0,220000.0,75000.0,79900.0,89000.0,179000.0,125000.0,1843500.0,1505707.0,245000.0,210000.0,1100500.0,205000.0,115000.0,85000.0,295000.0,106000.0,210000.0,115000.0,165000.0,79000.0,170000.0,120000.0,150000.0,120000.0,64900.0,94000.0,84000.0,78400.0,259000.0,132900.0,180000.0,89000.0,112000.0,145000.0,180000.0,119500.0,4045624.0],\"type\":\"scatter3d\"}],                        {\"template\":{\"data\":{\"bar\":[{\"error_x\":{\"color\":\"#2a3f5f\"},\"error_y\":{\"color\":\"#2a3f5f\"},\"marker\":{\"line\":{\"color\":\"#E5ECF6\",\"width\":0.5},\"pattern\":{\"fillmode\":\"overlay\",\"size\":10,\"solidity\":0.2}},\"type\":\"bar\"}],\"barpolar\":[{\"marker\":{\"line\":{\"color\":\"#E5ECF6\",\"width\":0.5},\"pattern\":{\"fillmode\":\"overlay\",\"size\":10,\"solidity\":0.2}},\"type\":\"barpolar\"}],\"carpet\":[{\"aaxis\":{\"endlinecolor\":\"#2a3f5f\",\"gridcolor\":\"white\",\"linecolor\":\"white\",\"minorgridcolor\":\"white\",\"startlinecolor\":\"#2a3f5f\"},\"baxis\":{\"endlinecolor\":\"#2a3f5f\",\"gridcolor\":\"white\",\"linecolor\":\"white\",\"minorgridcolor\":\"white\",\"startlinecolor\":\"#2a3f5f\"},\"type\":\"carpet\"}],\"choropleth\":[{\"colorbar\":{\"outlinewidth\":0,\"ticks\":\"\"},\"type\":\"choropleth\"}],\"contour\":[{\"colorbar\":{\"outlinewidth\":0,\"ticks\":\"\"},\"colorscale\":[[0.0,\"#0d0887\"],[0.1111111111111111,\"#46039f\"],[0.2222222222222222,\"#7201a8\"],[0.3333333333333333,\"#9c179e\"],[0.4444444444444444,\"#bd3786\"],[0.5555555555555556,\"#d8576b\"],[0.6666666666666666,\"#ed7953\"],[0.7777777777777778,\"#fb9f3a\"],[0.8888888888888888,\"#fdca26\"],[1.0,\"#f0f921\"]],\"type\":\"contour\"}],\"contourcarpet\":[{\"colorbar\":{\"outlinewidth\":0,\"ticks\":\"\"},\"type\":\"contourcarpet\"}],\"heatmap\":[{\"colorbar\":{\"outlinewidth\":0,\"ticks\":\"\"},\"colorscale\":[[0.0,\"#0d0887\"],[0.1111111111111111,\"#46039f\"],[0.2222222222222222,\"#7201a8\"],[0.3333333333333333,\"#9c179e\"],[0.4444444444444444,\"#bd3786\"],[0.5555555555555556,\"#d8576b\"],[0.6666666666666666,\"#ed7953\"],[0.7777777777777778,\"#fb9f3a\"],[0.8888888888888888,\"#fdca26\"],[1.0,\"#f0f921\"]],\"type\":\"heatmap\"}],\"heatmapgl\":[{\"colorbar\":{\"outlinewidth\":0,\"ticks\":\"\"},\"colorscale\":[[0.0,\"#0d0887\"],[0.1111111111111111,\"#46039f\"],[0.2222222222222222,\"#7201a8\"],[0.3333333333333333,\"#9c179e\"],[0.4444444444444444,\"#bd3786\"],[0.5555555555555556,\"#d8576b\"],[0.6666666666666666,\"#ed7953\"],[0.7777777777777778,\"#fb9f3a\"],[0.8888888888888888,\"#fdca26\"],[1.0,\"#f0f921\"]],\"type\":\"heatmapgl\"}],\"histogram\":[{\"marker\":{\"pattern\":{\"fillmode\":\"overlay\",\"size\":10,\"solidity\":0.2}},\"type\":\"histogram\"}],\"histogram2d\":[{\"colorbar\":{\"outlinewidth\":0,\"ticks\":\"\"},\"colorscale\":[[0.0,\"#0d0887\"],[0.1111111111111111,\"#46039f\"],[0.2222222222222222,\"#7201a8\"],[0.3333333333333333,\"#9c179e\"],[0.4444444444444444,\"#bd3786\"],[0.5555555555555556,\"#d8576b\"],[0.6666666666666666,\"#ed7953\"],[0.7777777777777778,\"#fb9f3a\"],[0.8888888888888888,\"#fdca26\"],[1.0,\"#f0f921\"]],\"type\":\"histogram2d\"}],\"histogram2dcontour\":[{\"colorbar\":{\"outlinewidth\":0,\"ticks\":\"\"},\"colorscale\":[[0.0,\"#0d0887\"],[0.1111111111111111,\"#46039f\"],[0.2222222222222222,\"#7201a8\"],[0.3333333333333333,\"#9c179e\"],[0.4444444444444444,\"#bd3786\"],[0.5555555555555556,\"#d8576b\"],[0.6666666666666666,\"#ed7953\"],[0.7777777777777778,\"#fb9f3a\"],[0.8888888888888888,\"#fdca26\"],[1.0,\"#f0f921\"]],\"type\":\"histogram2dcontour\"}],\"mesh3d\":[{\"colorbar\":{\"outlinewidth\":0,\"ticks\":\"\"},\"type\":\"mesh3d\"}],\"parcoords\":[{\"line\":{\"colorbar\":{\"outlinewidth\":0,\"ticks\":\"\"}},\"type\":\"parcoords\"}],\"pie\":[{\"automargin\":true,\"type\":\"pie\"}],\"scatter\":[{\"marker\":{\"colorbar\":{\"outlinewidth\":0,\"ticks\":\"\"}},\"type\":\"scatter\"}],\"scatter3d\":[{\"line\":{\"colorbar\":{\"outlinewidth\":0,\"ticks\":\"\"}},\"marker\":{\"colorbar\":{\"outlinewidth\":0,\"ticks\":\"\"}},\"type\":\"scatter3d\"}],\"scattercarpet\":[{\"marker\":{\"colorbar\":{\"outlinewidth\":0,\"ticks\":\"\"}},\"type\":\"scattercarpet\"}],\"scattergeo\":[{\"marker\":{\"colorbar\":{\"outlinewidth\":0,\"ticks\":\"\"}},\"type\":\"scattergeo\"}],\"scattergl\":[{\"marker\":{\"colorbar\":{\"outlinewidth\":0,\"ticks\":\"\"}},\"type\":\"scattergl\"}],\"scattermapbox\":[{\"marker\":{\"colorbar\":{\"outlinewidth\":0,\"ticks\":\"\"}},\"type\":\"scattermapbox\"}],\"scatterpolar\":[{\"marker\":{\"colorbar\":{\"outlinewidth\":0,\"ticks\":\"\"}},\"type\":\"scatterpolar\"}],\"scatterpolargl\":[{\"marker\":{\"colorbar\":{\"outlinewidth\":0,\"ticks\":\"\"}},\"type\":\"scatterpolargl\"}],\"scatterternary\":[{\"marker\":{\"colorbar\":{\"outlinewidth\":0,\"ticks\":\"\"}},\"type\":\"scatterternary\"}],\"surface\":[{\"colorbar\":{\"outlinewidth\":0,\"ticks\":\"\"},\"colorscale\":[[0.0,\"#0d0887\"],[0.1111111111111111,\"#46039f\"],[0.2222222222222222,\"#7201a8\"],[0.3333333333333333,\"#9c179e\"],[0.4444444444444444,\"#bd3786\"],[0.5555555555555556,\"#d8576b\"],[0.6666666666666666,\"#ed7953\"],[0.7777777777777778,\"#fb9f3a\"],[0.8888888888888888,\"#fdca26\"],[1.0,\"#f0f921\"]],\"type\":\"surface\"}],\"table\":[{\"cells\":{\"fill\":{\"color\":\"#EBF0F8\"},\"line\":{\"color\":\"white\"}},\"header\":{\"fill\":{\"color\":\"#C8D4E3\"},\"line\":{\"color\":\"white\"}},\"type\":\"table\"}]},\"layout\":{\"annotationdefaults\":{\"arrowcolor\":\"#2a3f5f\",\"arrowhead\":0,\"arrowwidth\":1},\"autotypenumbers\":\"strict\",\"coloraxis\":{\"colorbar\":{\"outlinewidth\":0,\"ticks\":\"\"}},\"colorscale\":{\"diverging\":[[0,\"#8e0152\"],[0.1,\"#c51b7d\"],[0.2,\"#de77ae\"],[0.3,\"#f1b6da\"],[0.4,\"#fde0ef\"],[0.5,\"#f7f7f7\"],[0.6,\"#e6f5d0\"],[0.7,\"#b8e186\"],[0.8,\"#7fbc41\"],[0.9,\"#4d9221\"],[1,\"#276419\"]],\"sequential\":[[0.0,\"#0d0887\"],[0.1111111111111111,\"#46039f\"],[0.2222222222222222,\"#7201a8\"],[0.3333333333333333,\"#9c179e\"],[0.4444444444444444,\"#bd3786\"],[0.5555555555555556,\"#d8576b\"],[0.6666666666666666,\"#ed7953\"],[0.7777777777777778,\"#fb9f3a\"],[0.8888888888888888,\"#fdca26\"],[1.0,\"#f0f921\"]],\"sequentialminus\":[[0.0,\"#0d0887\"],[0.1111111111111111,\"#46039f\"],[0.2222222222222222,\"#7201a8\"],[0.3333333333333333,\"#9c179e\"],[0.4444444444444444,\"#bd3786\"],[0.5555555555555556,\"#d8576b\"],[0.6666666666666666,\"#ed7953\"],[0.7777777777777778,\"#fb9f3a\"],[0.8888888888888888,\"#fdca26\"],[1.0,\"#f0f921\"]]},\"colorway\":[\"#636efa\",\"#EF553B\",\"#00cc96\",\"#ab63fa\",\"#FFA15A\",\"#19d3f3\",\"#FF6692\",\"#B6E880\",\"#FF97FF\",\"#FECB52\"],\"font\":{\"color\":\"#2a3f5f\"},\"geo\":{\"bgcolor\":\"white\",\"lakecolor\":\"white\",\"landcolor\":\"#E5ECF6\",\"showlakes\":true,\"showland\":true,\"subunitcolor\":\"white\"},\"hoverlabel\":{\"align\":\"left\"},\"hovermode\":\"closest\",\"mapbox\":{\"style\":\"light\"},\"paper_bgcolor\":\"white\",\"plot_bgcolor\":\"#E5ECF6\",\"polar\":{\"angularaxis\":{\"gridcolor\":\"white\",\"linecolor\":\"white\",\"ticks\":\"\"},\"bgcolor\":\"#E5ECF6\",\"radialaxis\":{\"gridcolor\":\"white\",\"linecolor\":\"white\",\"ticks\":\"\"}},\"scene\":{\"xaxis\":{\"backgroundcolor\":\"#E5ECF6\",\"gridcolor\":\"white\",\"gridwidth\":2,\"linecolor\":\"white\",\"showbackground\":true,\"ticks\":\"\",\"zerolinecolor\":\"white\"},\"yaxis\":{\"backgroundcolor\":\"#E5ECF6\",\"gridcolor\":\"white\",\"gridwidth\":2,\"linecolor\":\"white\",\"showbackground\":true,\"ticks\":\"\",\"zerolinecolor\":\"white\"},\"zaxis\":{\"backgroundcolor\":\"#E5ECF6\",\"gridcolor\":\"white\",\"gridwidth\":2,\"linecolor\":\"white\",\"showbackground\":true,\"ticks\":\"\",\"zerolinecolor\":\"white\"}},\"shapedefaults\":{\"line\":{\"color\":\"#2a3f5f\"}},\"ternary\":{\"aaxis\":{\"gridcolor\":\"white\",\"linecolor\":\"white\",\"ticks\":\"\"},\"baxis\":{\"gridcolor\":\"white\",\"linecolor\":\"white\",\"ticks\":\"\"},\"bgcolor\":\"#E5ECF6\",\"caxis\":{\"gridcolor\":\"white\",\"linecolor\":\"white\",\"ticks\":\"\"}},\"title\":{\"x\":0.05},\"xaxis\":{\"automargin\":true,\"gridcolor\":\"white\",\"linecolor\":\"white\",\"ticks\":\"\",\"title\":{\"standoff\":15},\"zerolinecolor\":\"white\",\"zerolinewidth\":2},\"yaxis\":{\"automargin\":true,\"gridcolor\":\"white\",\"linecolor\":\"white\",\"ticks\":\"\",\"title\":{\"standoff\":15},\"zerolinecolor\":\"white\",\"zerolinewidth\":2}}},\"scene\":{\"domain\":{\"x\":[0.0,1.0],\"y\":[0.0,1.0]},\"xaxis\":{\"title\":{\"text\":\"longitude\"}},\"yaxis\":{\"title\":{\"text\":\"latitude\"}},\"zaxis\":{\"title\":{\"text\":\"price\"}}},\"legend\":{\"tracegroupgap\":0},\"margin\":{\"t\":60},\"height\":500,\"width\":600},                        {\"responsive\": true}                    ).then(function(){\n",
              "                            \n",
              "var gd = document.getElementById('b43a5ff2-c7e4-440a-aca6-f7f644c48c1b');\n",
              "var x = new MutationObserver(function (mutations, observer) {{\n",
              "        var display = window.getComputedStyle(gd).display;\n",
              "        if (!display || display === 'none') {{\n",
              "            console.log([gd, 'removed!']);\n",
              "            Plotly.purge(gd);\n",
              "            observer.disconnect();\n",
              "        }}\n",
              "}});\n",
              "\n",
              "// Listen for the removal of the full notebook cells\n",
              "var notebookContainer = gd.closest('#notebook-container');\n",
              "if (notebookContainer) {{\n",
              "    x.observe(notebookContainer, {childList: true});\n",
              "}}\n",
              "\n",
              "// Listen for the clearing of the current output cell\n",
              "var outputEl = gd.closest('.output');\n",
              "if (outputEl) {{\n",
              "    x.observe(outputEl, {childList: true});\n",
              "}}\n",
              "\n",
              "                        })                };                            </script>        </div>\n",
              "</body>\n",
              "</html>"
            ]
          },
          "metadata": {}
        }
      ]
    },
    {
      "cell_type": "markdown",
      "source": [
        "## Split"
      ],
      "metadata": {
        "id": "rQ1jaUT7MZGy"
      }
    },
    {
      "cell_type": "markdown",
      "source": [
        " Create the feature matrix named `X_train`. It should contain two features: `[\"lon\", \"lat\"]`. \n"
      ],
      "metadata": {
        "id": "dTg60rHiMaYA"
      }
    },
    {
      "cell_type": "code",
      "source": [
        "features = [\"lon\", \"lat\"]\n",
        "X_train = df[features]"
      ],
      "metadata": {
        "id": "JucGvQwjMekW"
      },
      "execution_count": 86,
      "outputs": []
    },
    {
      "cell_type": "markdown",
      "source": [
        " Create the target vector named `y_train`, which you'll use to train your model. Your target should be `\"price_aprox_usd\"`. Remember that, in most cases, your target vector should be one-dimensional."
      ],
      "metadata": {
        "id": "dipwc_D8MmkZ"
      }
    },
    {
      "cell_type": "code",
      "source": [
        "target = \"price_aprox_usd\"\n",
        "y_train = df[target]"
      ],
      "metadata": {
        "id": "oPzwiIfqMnGy"
      },
      "execution_count": 87,
      "outputs": []
    },
    {
      "cell_type": "markdown",
      "source": [
        "# Build Model"
      ],
      "metadata": {
        "id": "b6uXJ1SoMwXZ"
      }
    },
    {
      "cell_type": "markdown",
      "source": [
        "## Baseline"
      ],
      "metadata": {
        "id": "yes-CTu-MxfW"
      }
    },
    {
      "cell_type": "markdown",
      "source": [
        "Calculate the mean of your target vector `y_train` and assign it to the variable `y_mean`."
      ],
      "metadata": {
        "id": "EfIDGvn1Mz4v"
      }
    },
    {
      "cell_type": "code",
      "source": [
        "y_mean = y_train.mean()\n",
        "y_mean"
      ],
      "metadata": {
        "colab": {
          "base_uri": "https://localhost:8080/"
        },
        "id": "2cbi6V6sMpF9",
        "outputId": "faf20361-625d-448c-d17b-d4cfc0ef4894"
      },
      "execution_count": 88,
      "outputs": [
        {
          "output_type": "execute_result",
          "data": {
            "text/plain": [
              "134732.9734048155"
            ]
          },
          "metadata": {},
          "execution_count": 88
        }
      ]
    },
    {
      "cell_type": "markdown",
      "source": [
        "Create a list named `y_pred_baseline` that contains the value of `y_mean` repeated so that it's the same length at `y_train`."
      ],
      "metadata": {
        "id": "0h_o-0zvNLWR"
      }
    },
    {
      "cell_type": "code",
      "source": [
        "y_pred_baseline = []\n",
        "for i in range(len(y_train)):\n",
        "    y_pred_baseline.append(y_mean)"
      ],
      "metadata": {
        "id": "wUC-ATetNORz"
      },
      "execution_count": 89,
      "outputs": []
    },
    {
      "cell_type": "markdown",
      "source": [
        "Calculate the baseline mean absolute error for your predictions in `y_pred_baseline` as compared to the true targets in `y_train`."
      ],
      "metadata": {
        "id": "5yFszaP3NdbP"
      }
    },
    {
      "cell_type": "code",
      "source": [
        "from sklearn.metrics import mean_absolute_error\n",
        "mae_baseline = mean_absolute_error(y_pred_baseline, y_train)\n",
        "print(\"Mean apt price\", round(y_mean, 2))\n",
        "print(\"Baseline MAE:\", round(mae_baseline, 2))"
      ],
      "metadata": {
        "colab": {
          "base_uri": "https://localhost:8080/"
        },
        "id": "m75pRHW4NgYJ",
        "outputId": "83607750-d49d-447d-e0d6-1cf491cde6e8"
      },
      "execution_count": 90,
      "outputs": [
        {
          "output_type": "stream",
          "name": "stdout",
          "text": [
            "Mean apt price 134732.97\n",
            "Baseline MAE: 45422.75\n"
          ]
        }
      ]
    },
    {
      "cell_type": "markdown",
      "source": [
        "##Imputation"
      ],
      "metadata": {
        "id": "LAFiVMNhN5Vy"
      }
    },
    {
      "cell_type": "markdown",
      "source": [
        "When you need to build a model using features that contain missing values, one helpful tool is the scikit-learn transformer [`SimpleImputer`](https://scikit-learn.org/stable/modules/generated/sklearn.impute.SimpleImputer.html). In order to use it, we need to start by instantiating the transformer. "
      ],
      "metadata": {
        "id": "stvuL6NBN8rq"
      }
    },
    {
      "cell_type": "code",
      "source": [
        "from sklearn.impute import SimpleImputer\n",
        "\n",
        "imputer = SimpleImputer()"
      ],
      "metadata": {
        "id": "0RtHawdfOCPm"
      },
      "execution_count": 91,
      "outputs": []
    },
    {
      "cell_type": "markdown",
      "source": [
        " Fit your transformer `imputer` to the feature matrix `X`."
      ],
      "metadata": {
        "id": "vSuXDtfkOViW"
      }
    },
    {
      "cell_type": "code",
      "source": [
        "imputer.fit(X_train)"
      ],
      "metadata": {
        "colab": {
          "base_uri": "https://localhost:8080/"
        },
        "id": "qisBRzKeOWQK",
        "outputId": "591d7c41-a3d5-4bc0-c934-7a44fe0816ae"
      },
      "execution_count": 92,
      "outputs": [
        {
          "output_type": "execute_result",
          "data": {
            "text/plain": [
              "SimpleImputer()"
            ]
          },
          "metadata": {},
          "execution_count": 92
        }
      ]
    },
    {
      "cell_type": "markdown",
      "source": [
        "Use your `imputer` to transform the feature matrix `X_train`. Assign the transformed data to the variable `XT_train`"
      ],
      "metadata": {
        "id": "wMM2vKHaOhYC"
      }
    },
    {
      "cell_type": "code",
      "source": [
        "XT_train = imputer.transform(X_train)\n",
        "pd.DataFrame(XT_train, columns=X_train.columns).info()"
      ],
      "metadata": {
        "colab": {
          "base_uri": "https://localhost:8080/"
        },
        "id": "gxgcaRS6OiP9",
        "outputId": "76524252-567d-4294-ece4-116a25586b71"
      },
      "execution_count": 93,
      "outputs": [
        {
          "output_type": "stream",
          "name": "stdout",
          "text": [
            "<class 'pandas.core.frame.DataFrame'>\n",
            "RangeIndex: 2658 entries, 0 to 2657\n",
            "Data columns (total 2 columns):\n",
            " #   Column  Non-Null Count  Dtype  \n",
            "---  ------  --------------  -----  \n",
            " 0   lon     2658 non-null   float64\n",
            " 1   lat     2658 non-null   float64\n",
            "dtypes: float64(2)\n",
            "memory usage: 41.7 KB\n"
          ]
        }
      ]
    },
    {
      "cell_type": "markdown",
      "source": [
        "Create a pipeline named `model` that contains a `SimpleImputer` transformer followed by a `LinearRegression` predictor."
      ],
      "metadata": {
        "id": "cBKeI-buO_ai"
      }
    },
    {
      "cell_type": "code",
      "source": [
        "from sklearn.pipeline import Pipeline\n",
        "from sklearn.linear_model import LinearRegression\n",
        "\n",
        "regression = LinearRegression()\n",
        "\n",
        "model = Pipeline([\n",
        "    (\"Imputer\", imputer),\n",
        "    (\"Linear Regression\", regression)\n",
        "])"
      ],
      "metadata": {
        "id": "--nMPUuSPAH8"
      },
      "execution_count": 94,
      "outputs": []
    },
    {
      "cell_type": "markdown",
      "source": [
        "Fit your model to the data, `X_train` and `y_train`."
      ],
      "metadata": {
        "id": "DFvMWJZAP8XB"
      }
    },
    {
      "cell_type": "code",
      "source": [
        "model.fit(X_train, y_train)"
      ],
      "metadata": {
        "colab": {
          "base_uri": "https://localhost:8080/"
        },
        "id": "kZk8hs8FP-g5",
        "outputId": "9a422464-ab43-4589-fb79-21520743797e"
      },
      "execution_count": 95,
      "outputs": [
        {
          "output_type": "execute_result",
          "data": {
            "text/plain": [
              "Pipeline(steps=[('Imputer', SimpleImputer()),\n",
              "                ('Linear Regression', LinearRegression())])"
            ]
          },
          "metadata": {},
          "execution_count": 95
        }
      ]
    },
    {
      "cell_type": "markdown",
      "source": [
        "## Evaluate"
      ],
      "metadata": {
        "id": "zEKw9GI0QZHm"
      }
    },
    {
      "cell_type": "code",
      "source": [
        "y_pred_training = model.predict(X_train)\n",
        "mae_training = mean_absolute_error(y_pred_training, y_train)\n",
        "print(\"Training MAE:\", round(mae_training, 2))"
      ],
      "metadata": {
        "colab": {
          "base_uri": "https://localhost:8080/"
        },
        "id": "0DZOgWdWQZvc",
        "outputId": "98544832-b420-4f4d-d323-fe0f8c773891"
      },
      "execution_count": 96,
      "outputs": [
        {
          "output_type": "stream",
          "name": "stdout",
          "text": [
            "Training MAE: 42962.72\n"
          ]
        }
      ]
    },
    {
      "cell_type": "markdown",
      "source": [
        "Extract the intercept and coefficients for your model. "
      ],
      "metadata": {
        "id": "YlpBXXCBU-I9"
      }
    },
    {
      "cell_type": "code",
      "source": [
        "intercept = model.named_steps[\"Linear Regression\"].intercept_\n",
        "coefficients = model.named_steps[\"Linear Regression\"].coef_"
      ],
      "metadata": {
        "id": "iH2ARiBdUs1D"
      },
      "execution_count": 97,
      "outputs": []
    },
    {
      "cell_type": "markdown",
      "source": [
        "<font size=\"+3\"><strong>Predicting Price with Neighborhood</strong></font>"
      ],
      "metadata": {
        "id": "-KeiwSAYVNuv"
      }
    },
    {
      "cell_type": "markdown",
      "source": [
        "Use [`glob`](https://docs.python.org/3/library/glob.html#glob.glob) to create a list that contains the filenames for all the Buenos Aires real estate CSV files in the `data` directory. Assign this list to the variable name `files`."
      ],
      "metadata": {
        "id": "qGDd68hKWovk"
      }
    },
    {
      "cell_type": "code",
      "source": [
        "from glob import glob\n",
        "\n",
        "files = glob(\"/content/buenos-aires-real-estate*\")\n",
        "files"
      ],
      "metadata": {
        "colab": {
          "base_uri": "https://localhost:8080/"
        },
        "id": "NsgexYEOVD1P",
        "outputId": "7608b3f3-f5a2-4071-b152-ee3d187d0e38"
      },
      "execution_count": 98,
      "outputs": [
        {
          "output_type": "execute_result",
          "data": {
            "text/plain": [
              "['/content/buenos-aires-real-estate-3.xlsx',\n",
              " '/content/buenos-aires-real-estate-2.xlsx',\n",
              " '/content/buenos-aires-real-estate-5.xlsx',\n",
              " '/content/buenos-aires-real-estate-1.xlsx',\n",
              " '/content/buenos-aires-real-estate-4.xlsx']"
            ]
          },
          "metadata": {},
          "execution_count": 98
        }
      ]
    },
    {
      "cell_type": "markdown",
      "source": [
        "Modify your `wrangle` function to create a new feature `\"neighborhood\"`. You can find the neighborhood for each property in the `\"place_with_parent_names\"` column. For example, a property with the place name `\"|Argentina|Capital Federal|Palermo|\"` is located in the neighborhood is `\"Palermo\"`. Also, your function should drop the `\"place_with_parent_names\"` column."
      ],
      "metadata": {
        "id": "b7Ug811RiNlY"
      }
    },
    {
      "cell_type": "code",
      "source": [
        "def wrangle(filepath):\n",
        "    # Read Excel file\n",
        "    df = pd.read_excel(filepath)\n",
        "\n",
        "    # Subset data: Apartments in \"Capital Federal\", less than 400,000\n",
        "    mask_ba = df[\"place_with_parent_names\"].str.contains(\"Capital Federal\")\n",
        "    mask_apt = df[\"property_type\"] == \"apartment\"\n",
        "    mask_price = df[\"price_aprox_usd\"] < 400_000\n",
        "    df = df[mask_ba & mask_apt & mask_price]\n",
        "\n",
        "    # Subset data: Remove outliers for \"surface_covered_in_m2\"\n",
        "    low, high = df[\"surface_covered_in_m2\"].quantile([0.1, 0.9])\n",
        "    mask_area = df[\"surface_covered_in_m2\"].between(low, high)\n",
        "    df = df[mask_area]\n",
        "\n",
        "    # Split \"lat-lon\" column\n",
        "    df[[\"lat\", \"lon\"]] = df[\"lat-lon\"].str.split(\",\", expand=True).astype(float)\n",
        "    df.drop(columns=\"lat-lon\", inplace=True)\n",
        "\n",
        "    new_df = df[\"place_with_parent_names\"].str.split(\"|\", expand=True)\n",
        "    new_df.head(5)\n",
        "    df['neighborhood'] = new_df[3]\n",
        "    df.drop(columns=\"place_with_parent_names\", inplace=True)\n",
        "\n",
        "    return df"
      ],
      "metadata": {
        "id": "hKQJKzuciSCo"
      },
      "execution_count": 99,
      "outputs": []
    },
    {
      "cell_type": "markdown",
      "source": [
        "Use your `wrangle` function in a `for` loop to create a list named `frames`. The list should the cleaned DataFrames created from the CSV filenames your collected in `files`."
      ],
      "metadata": {
        "id": "QtN3vXf3Wv2A"
      }
    },
    {
      "cell_type": "code",
      "source": [
        "frames = []\n",
        "for i in range(len(files)):\n",
        "    frames.append(wrangle(files[i]))"
      ],
      "metadata": {
        "id": "XpubK8zDWwkU"
      },
      "execution_count": 100,
      "outputs": []
    },
    {
      "cell_type": "markdown",
      "source": [
        "Use [`pd.concat`](https://pandas.pydata.org/docs/reference/api/pandas.concat.html) to concatenate the items in `frames` into a single DataFrame `df`. Make sure you set the `ignore_index` argument to `True`."
      ],
      "metadata": {
        "id": "znnsLCbXXWhU"
      }
    },
    {
      "cell_type": "code",
      "source": [
        "df = pd.concat([frames[0], frames[1], frames[2], frames[3], frames[4]], ignore_index= True)\n",
        "df.info"
      ],
      "metadata": {
        "colab": {
          "base_uri": "https://localhost:8080/"
        },
        "id": "kV3yi-w_XiDM",
        "outputId": "25699f92-dae4-40f8-c7cb-4fe46ee3b4d5"
      },
      "execution_count": 101,
      "outputs": [
        {
          "output_type": "execute_result",
          "data": {
            "text/plain": [
              "<bound method DataFrame.info of       Unnamed: 0 operation property_type      price currency  \\\n",
              "0              8      sell     apartment   120000.0      USD   \n",
              "1             21      sell     apartment    89000.0      USD   \n",
              "2             22      sell     apartment   183495.0      USD   \n",
              "3             42      sell     apartment    95000.0      USD   \n",
              "4             44      sell     apartment    95000.0      USD   \n",
              "...          ...       ...           ...        ...      ...   \n",
              "6577        8595      sell     apartment   227000.0      USD   \n",
              "6578        8601      sell     apartment    85267.0      USD   \n",
              "6579        8602      sell     apartment  1200000.0      ARS   \n",
              "6580        8603      sell     apartment   240000.0      USD   \n",
              "6581        8604      sell     apartment   844779.0      ARS   \n",
              "\n",
              "      price_aprox_local_currency  price_aprox_usd  surface_total_in_m2  \\\n",
              "0                     1819488.00        120000.00                  NaN   \n",
              "1                     1349453.60         89000.00                  NaN   \n",
              "2                     2782224.58        183495.00                 92.0   \n",
              "3                     1440428.00         95000.00                 53.0   \n",
              "4                     1440428.00         95000.00                  0.0   \n",
              "...                          ...              ...                  ...   \n",
              "6577                  3441864.80        227000.00                126.0   \n",
              "6578                  1292852.36         85267.00                 40.0   \n",
              "6579                  1196669.37         78923.48                  NaN   \n",
              "6580                  3638976.00        240000.00                 55.0   \n",
              "6581                   842434.31         55560.75                  0.0   \n",
              "\n",
              "      surface_covered_in_m2  price_usd_per_m2  price_per_m2  floor  rooms  \\\n",
              "0                      55.0               NaN   2181.818182    NaN    2.0   \n",
              "1                      37.0               NaN   2405.405405    7.0    2.0   \n",
              "2                      57.0       1994.510870   3219.210526    NaN    2.0   \n",
              "3                      47.0       1792.452830   2021.276596    NaN    2.0   \n",
              "4                      35.0               NaN   2714.285714    NaN    1.0   \n",
              "...                     ...               ...           ...    ...    ...   \n",
              "6577                   84.0       1801.587302   2702.380952    NaN    4.0   \n",
              "6578                   38.0       2131.675000   2243.868421    NaN    1.0   \n",
              "6579                   50.0               NaN  24000.000000    NaN    2.0   \n",
              "6580                   44.0       4363.636364   5454.545455    NaN    2.0   \n",
              "6581                   38.0               NaN  22231.026316    NaN    1.0   \n",
              "\n",
              "      expenses                                      properati_url        lat  \\\n",
              "0          NaN  http://villa-general-mitre.properati.com.ar/xx... -34.616004   \n",
              "1          NaN  http://palermo.properati.com.ar/ya5i_venta_dep... -34.584712   \n",
              "2          NaN  http://saavedra.properati.com.ar/12izq_venta_d... -34.554652   \n",
              "3          NaN  http://villa-del-parque.properati.com.ar/wy0n_... -34.610581   \n",
              "4          NaN  http://belgrano.properati.com.ar/xw9a_venta_de... -34.558227   \n",
              "...        ...                                                ...        ...   \n",
              "6577    3200.0  http://villa-general-mitre.properati.com.ar/vi... -34.614835   \n",
              "6578       NaN  http://san-telmo.properati.com.ar/vayv_venta_d... -34.623335   \n",
              "6579       NaN  http://barracas.properati.com.ar/11bzh_venta_d... -34.631213   \n",
              "6580       NaN  http://palermo.properati.com.ar/ounv_venta_dep... -34.562500   \n",
              "6581       NaN  http://villa-luro.properati.com.ar/sj8e_venta_... -34.644475   \n",
              "\n",
              "            lon         neighborhood  \n",
              "0    -58.470506  Villa General Mitre  \n",
              "1    -58.444927              Palermo  \n",
              "2    -58.493644             Saavedra  \n",
              "3    -58.479625     Villa del Parque  \n",
              "4    -58.458357             Belgrano  \n",
              "...         ...                  ...  \n",
              "6577 -58.466307  Villa General Mitre  \n",
              "6578 -58.374838            San Telmo  \n",
              "6579 -58.371545             Barracas  \n",
              "6580 -58.458333              Palermo  \n",
              "6581 -58.495944           Villa Luro  \n",
              "\n",
              "[6582 rows x 18 columns]>"
            ]
          },
          "metadata": {},
          "execution_count": 101
        }
      ]
    },
    {
      "cell_type": "markdown",
      "source": [
        "Create your feature matrix `X_train` and target vector `y_train`. `X_train` should contain one feature: `\"neighborhood\"`. Your target is `\"price_aprox_usd\"`."
      ],
      "metadata": {
        "id": "TFQgcY85aDjv"
      }
    },
    {
      "cell_type": "code",
      "source": [
        "target = \"price_aprox_usd\"\n",
        "features = [\"neighborhood\"]\n",
        "y_train = df[target]\n",
        "X_train = df[features]"
      ],
      "metadata": {
        "id": "EQg7PqJsaEHt"
      },
      "execution_count": 102,
      "outputs": []
    },
    {
      "cell_type": "markdown",
      "source": [
        "# Build Model"
      ],
      "metadata": {
        "id": "xsnm7VAtaOW1"
      }
    },
    {
      "cell_type": "markdown",
      "source": [
        "In order to create our model we need to **encode** that information so that it's represented numerically. The good news is that there are lots of transformers that can do this. Here, we'll use the one from the [Category Encoders](https://contrib.scikit-learn.org/category_encoders/index.html) library, called a [`OneHotEncoder`](https://contrib.scikit-learn.org/category_encoders/onehot.html)."
      ],
      "metadata": {
        "id": "O0DHBJqXafP8"
      }
    },
    {
      "cell_type": "markdown",
      "source": [
        "First, instantiate a `OneHotEncoder` named `ohe`. Make sure to set the `use_cat_names` argument to `True`. Next, fit your transformer to the feature matrix `X_train`. Finally, use your encoder to transform the feature matrix `X_train`, and assign the transformed data to the variable `XT_train`."
      ],
      "metadata": {
        "id": "PIvQAidIaoWd"
      }
    },
    {
      "cell_type": "code",
      "source": [
        "!pip install category_encoders"
      ],
      "metadata": {
        "colab": {
          "base_uri": "https://localhost:8080/"
        },
        "id": "a_N6Iw74Gs6D",
        "outputId": "1db18729-e4d6-4e38-ece2-c167a23c276a"
      },
      "execution_count": 103,
      "outputs": [
        {
          "output_type": "stream",
          "name": "stdout",
          "text": [
            "Requirement already satisfied: category_encoders in /usr/local/lib/python3.7/dist-packages (2.4.0)\n",
            "Requirement already satisfied: scipy>=1.0.0 in /usr/local/lib/python3.7/dist-packages (from category_encoders) (1.4.1)\n",
            "Requirement already satisfied: numpy>=1.14.0 in /usr/local/lib/python3.7/dist-packages (from category_encoders) (1.21.5)\n",
            "Requirement already satisfied: scikit-learn>=0.20.0 in /usr/local/lib/python3.7/dist-packages (from category_encoders) (1.0.2)\n",
            "Requirement already satisfied: patsy>=0.5.1 in /usr/local/lib/python3.7/dist-packages (from category_encoders) (0.5.2)\n",
            "Requirement already satisfied: statsmodels>=0.9.0 in /usr/local/lib/python3.7/dist-packages (from category_encoders) (0.10.2)\n",
            "Requirement already satisfied: pandas>=0.21.1 in /usr/local/lib/python3.7/dist-packages (from category_encoders) (1.3.5)\n",
            "Requirement already satisfied: python-dateutil>=2.7.3 in /usr/local/lib/python3.7/dist-packages (from pandas>=0.21.1->category_encoders) (2.8.2)\n",
            "Requirement already satisfied: pytz>=2017.3 in /usr/local/lib/python3.7/dist-packages (from pandas>=0.21.1->category_encoders) (2018.9)\n",
            "Requirement already satisfied: six in /usr/local/lib/python3.7/dist-packages (from patsy>=0.5.1->category_encoders) (1.15.0)\n",
            "Requirement already satisfied: joblib>=0.11 in /usr/local/lib/python3.7/dist-packages (from scikit-learn>=0.20.0->category_encoders) (1.1.0)\n",
            "Requirement already satisfied: threadpoolctl>=2.0.0 in /usr/local/lib/python3.7/dist-packages (from scikit-learn>=0.20.0->category_encoders) (3.1.0)\n"
          ]
        }
      ]
    },
    {
      "cell_type": "code",
      "source": [
        "from category_encoders import OneHotEncoder\n",
        "\n",
        "ohe = OneHotEncoder(use_cat_names=True)\n",
        "ohe.fit(X_train)\n",
        "XT_train = ohe.transform(X_train)\n",
        "print(XT_train.shape)\n",
        "XT_train.head()"
      ],
      "metadata": {
        "id": "Q80IZlSuaSZH",
        "colab": {
          "base_uri": "https://localhost:8080/",
          "height": 334
        },
        "outputId": "c8976267-33ff-450a-bc31-cc5d0ad9911e"
      },
      "execution_count": 104,
      "outputs": [
        {
          "output_type": "stream",
          "name": "stdout",
          "text": [
            "(6582, 57)\n"
          ]
        },
        {
          "output_type": "execute_result",
          "data": {
            "text/plain": [
              "   neighborhood_Villa General Mitre  neighborhood_Palermo  \\\n",
              "0                                 1                     0   \n",
              "1                                 0                     1   \n",
              "2                                 0                     0   \n",
              "3                                 0                     0   \n",
              "4                                 0                     0   \n",
              "\n",
              "   neighborhood_Saavedra  neighborhood_Villa del Parque  \\\n",
              "0                      0                              0   \n",
              "1                      0                              0   \n",
              "2                      1                              0   \n",
              "3                      0                              1   \n",
              "4                      0                              0   \n",
              "\n",
              "   neighborhood_Belgrano  neighborhood_Coghlan  neighborhood_Chacarita  \\\n",
              "0                      0                     0                       0   \n",
              "1                      0                     0                       0   \n",
              "2                      0                     0                       0   \n",
              "3                      0                     0                       0   \n",
              "4                      1                     0                       0   \n",
              "\n",
              "   neighborhood_Boedo  neighborhood_Caballito  neighborhood_Monserrat  ...  \\\n",
              "0                   0                       0                       0  ...   \n",
              "1                   0                       0                       0  ...   \n",
              "2                   0                       0                       0  ...   \n",
              "3                   0                       0                       0  ...   \n",
              "4                   0                       0                       0  ...   \n",
              "\n",
              "   neighborhood_Versalles  neighborhood_Villa Lugano  \\\n",
              "0                       0                          0   \n",
              "1                       0                          0   \n",
              "2                       0                          0   \n",
              "3                       0                          0   \n",
              "4                       0                          0   \n",
              "\n",
              "   neighborhood_Parque Avellaneda  neighborhood_Las Cañitas  \\\n",
              "0                               0                         0   \n",
              "1                               0                         0   \n",
              "2                               0                         0   \n",
              "3                               0                         0   \n",
              "4                               0                         0   \n",
              "\n",
              "   neighborhood_Villa Soldati  neighborhood_Parque Chas  \\\n",
              "0                           0                         0   \n",
              "1                           0                         0   \n",
              "2                           0                         0   \n",
              "3                           0                         0   \n",
              "4                           0                         0   \n",
              "\n",
              "   neighborhood_Velez Sarsfield  neighborhood_Pompeya  \\\n",
              "0                             0                     0   \n",
              "1                             0                     0   \n",
              "2                             0                     0   \n",
              "3                             0                     0   \n",
              "4                             0                     0   \n",
              "\n",
              "   neighborhood_Villa Real  neighborhood_Catalinas  \n",
              "0                        0                       0  \n",
              "1                        0                       0  \n",
              "2                        0                       0  \n",
              "3                        0                       0  \n",
              "4                        0                       0  \n",
              "\n",
              "[5 rows x 57 columns]"
            ],
            "text/html": [
              "\n",
              "  <div id=\"df-b227aa76-cd96-4caa-91dc-a37aa2a65f02\">\n",
              "    <div class=\"colab-df-container\">\n",
              "      <div>\n",
              "<style scoped>\n",
              "    .dataframe tbody tr th:only-of-type {\n",
              "        vertical-align: middle;\n",
              "    }\n",
              "\n",
              "    .dataframe tbody tr th {\n",
              "        vertical-align: top;\n",
              "    }\n",
              "\n",
              "    .dataframe thead th {\n",
              "        text-align: right;\n",
              "    }\n",
              "</style>\n",
              "<table border=\"1\" class=\"dataframe\">\n",
              "  <thead>\n",
              "    <tr style=\"text-align: right;\">\n",
              "      <th></th>\n",
              "      <th>neighborhood_Villa General Mitre</th>\n",
              "      <th>neighborhood_Palermo</th>\n",
              "      <th>neighborhood_Saavedra</th>\n",
              "      <th>neighborhood_Villa del Parque</th>\n",
              "      <th>neighborhood_Belgrano</th>\n",
              "      <th>neighborhood_Coghlan</th>\n",
              "      <th>neighborhood_Chacarita</th>\n",
              "      <th>neighborhood_Boedo</th>\n",
              "      <th>neighborhood_Caballito</th>\n",
              "      <th>neighborhood_Monserrat</th>\n",
              "      <th>...</th>\n",
              "      <th>neighborhood_Versalles</th>\n",
              "      <th>neighborhood_Villa Lugano</th>\n",
              "      <th>neighborhood_Parque Avellaneda</th>\n",
              "      <th>neighborhood_Las Cañitas</th>\n",
              "      <th>neighborhood_Villa Soldati</th>\n",
              "      <th>neighborhood_Parque Chas</th>\n",
              "      <th>neighborhood_Velez Sarsfield</th>\n",
              "      <th>neighborhood_Pompeya</th>\n",
              "      <th>neighborhood_Villa Real</th>\n",
              "      <th>neighborhood_Catalinas</th>\n",
              "    </tr>\n",
              "  </thead>\n",
              "  <tbody>\n",
              "    <tr>\n",
              "      <th>0</th>\n",
              "      <td>1</td>\n",
              "      <td>0</td>\n",
              "      <td>0</td>\n",
              "      <td>0</td>\n",
              "      <td>0</td>\n",
              "      <td>0</td>\n",
              "      <td>0</td>\n",
              "      <td>0</td>\n",
              "      <td>0</td>\n",
              "      <td>0</td>\n",
              "      <td>...</td>\n",
              "      <td>0</td>\n",
              "      <td>0</td>\n",
              "      <td>0</td>\n",
              "      <td>0</td>\n",
              "      <td>0</td>\n",
              "      <td>0</td>\n",
              "      <td>0</td>\n",
              "      <td>0</td>\n",
              "      <td>0</td>\n",
              "      <td>0</td>\n",
              "    </tr>\n",
              "    <tr>\n",
              "      <th>1</th>\n",
              "      <td>0</td>\n",
              "      <td>1</td>\n",
              "      <td>0</td>\n",
              "      <td>0</td>\n",
              "      <td>0</td>\n",
              "      <td>0</td>\n",
              "      <td>0</td>\n",
              "      <td>0</td>\n",
              "      <td>0</td>\n",
              "      <td>0</td>\n",
              "      <td>...</td>\n",
              "      <td>0</td>\n",
              "      <td>0</td>\n",
              "      <td>0</td>\n",
              "      <td>0</td>\n",
              "      <td>0</td>\n",
              "      <td>0</td>\n",
              "      <td>0</td>\n",
              "      <td>0</td>\n",
              "      <td>0</td>\n",
              "      <td>0</td>\n",
              "    </tr>\n",
              "    <tr>\n",
              "      <th>2</th>\n",
              "      <td>0</td>\n",
              "      <td>0</td>\n",
              "      <td>1</td>\n",
              "      <td>0</td>\n",
              "      <td>0</td>\n",
              "      <td>0</td>\n",
              "      <td>0</td>\n",
              "      <td>0</td>\n",
              "      <td>0</td>\n",
              "      <td>0</td>\n",
              "      <td>...</td>\n",
              "      <td>0</td>\n",
              "      <td>0</td>\n",
              "      <td>0</td>\n",
              "      <td>0</td>\n",
              "      <td>0</td>\n",
              "      <td>0</td>\n",
              "      <td>0</td>\n",
              "      <td>0</td>\n",
              "      <td>0</td>\n",
              "      <td>0</td>\n",
              "    </tr>\n",
              "    <tr>\n",
              "      <th>3</th>\n",
              "      <td>0</td>\n",
              "      <td>0</td>\n",
              "      <td>0</td>\n",
              "      <td>1</td>\n",
              "      <td>0</td>\n",
              "      <td>0</td>\n",
              "      <td>0</td>\n",
              "      <td>0</td>\n",
              "      <td>0</td>\n",
              "      <td>0</td>\n",
              "      <td>...</td>\n",
              "      <td>0</td>\n",
              "      <td>0</td>\n",
              "      <td>0</td>\n",
              "      <td>0</td>\n",
              "      <td>0</td>\n",
              "      <td>0</td>\n",
              "      <td>0</td>\n",
              "      <td>0</td>\n",
              "      <td>0</td>\n",
              "      <td>0</td>\n",
              "    </tr>\n",
              "    <tr>\n",
              "      <th>4</th>\n",
              "      <td>0</td>\n",
              "      <td>0</td>\n",
              "      <td>0</td>\n",
              "      <td>0</td>\n",
              "      <td>1</td>\n",
              "      <td>0</td>\n",
              "      <td>0</td>\n",
              "      <td>0</td>\n",
              "      <td>0</td>\n",
              "      <td>0</td>\n",
              "      <td>...</td>\n",
              "      <td>0</td>\n",
              "      <td>0</td>\n",
              "      <td>0</td>\n",
              "      <td>0</td>\n",
              "      <td>0</td>\n",
              "      <td>0</td>\n",
              "      <td>0</td>\n",
              "      <td>0</td>\n",
              "      <td>0</td>\n",
              "      <td>0</td>\n",
              "    </tr>\n",
              "  </tbody>\n",
              "</table>\n",
              "<p>5 rows × 57 columns</p>\n",
              "</div>\n",
              "      <button class=\"colab-df-convert\" onclick=\"convertToInteractive('df-b227aa76-cd96-4caa-91dc-a37aa2a65f02')\"\n",
              "              title=\"Convert this dataframe to an interactive table.\"\n",
              "              style=\"display:none;\">\n",
              "        \n",
              "  <svg xmlns=\"http://www.w3.org/2000/svg\" height=\"24px\"viewBox=\"0 0 24 24\"\n",
              "       width=\"24px\">\n",
              "    <path d=\"M0 0h24v24H0V0z\" fill=\"none\"/>\n",
              "    <path d=\"M18.56 5.44l.94 2.06.94-2.06 2.06-.94-2.06-.94-.94-2.06-.94 2.06-2.06.94zm-11 1L8.5 8.5l.94-2.06 2.06-.94-2.06-.94L8.5 2.5l-.94 2.06-2.06.94zm10 10l.94 2.06.94-2.06 2.06-.94-2.06-.94-.94-2.06-.94 2.06-2.06.94z\"/><path d=\"M17.41 7.96l-1.37-1.37c-.4-.4-.92-.59-1.43-.59-.52 0-1.04.2-1.43.59L10.3 9.45l-7.72 7.72c-.78.78-.78 2.05 0 2.83L4 21.41c.39.39.9.59 1.41.59.51 0 1.02-.2 1.41-.59l7.78-7.78 2.81-2.81c.8-.78.8-2.07 0-2.86zM5.41 20L4 18.59l7.72-7.72 1.47 1.35L5.41 20z\"/>\n",
              "  </svg>\n",
              "      </button>\n",
              "      \n",
              "  <style>\n",
              "    .colab-df-container {\n",
              "      display:flex;\n",
              "      flex-wrap:wrap;\n",
              "      gap: 12px;\n",
              "    }\n",
              "\n",
              "    .colab-df-convert {\n",
              "      background-color: #E8F0FE;\n",
              "      border: none;\n",
              "      border-radius: 50%;\n",
              "      cursor: pointer;\n",
              "      display: none;\n",
              "      fill: #1967D2;\n",
              "      height: 32px;\n",
              "      padding: 0 0 0 0;\n",
              "      width: 32px;\n",
              "    }\n",
              "\n",
              "    .colab-df-convert:hover {\n",
              "      background-color: #E2EBFA;\n",
              "      box-shadow: 0px 1px 2px rgba(60, 64, 67, 0.3), 0px 1px 3px 1px rgba(60, 64, 67, 0.15);\n",
              "      fill: #174EA6;\n",
              "    }\n",
              "\n",
              "    [theme=dark] .colab-df-convert {\n",
              "      background-color: #3B4455;\n",
              "      fill: #D2E3FC;\n",
              "    }\n",
              "\n",
              "    [theme=dark] .colab-df-convert:hover {\n",
              "      background-color: #434B5C;\n",
              "      box-shadow: 0px 1px 3px 1px rgba(0, 0, 0, 0.15);\n",
              "      filter: drop-shadow(0px 1px 2px rgba(0, 0, 0, 0.3));\n",
              "      fill: #FFFFFF;\n",
              "    }\n",
              "  </style>\n",
              "\n",
              "      <script>\n",
              "        const buttonEl =\n",
              "          document.querySelector('#df-b227aa76-cd96-4caa-91dc-a37aa2a65f02 button.colab-df-convert');\n",
              "        buttonEl.style.display =\n",
              "          google.colab.kernel.accessAllowed ? 'block' : 'none';\n",
              "\n",
              "        async function convertToInteractive(key) {\n",
              "          const element = document.querySelector('#df-b227aa76-cd96-4caa-91dc-a37aa2a65f02');\n",
              "          const dataTable =\n",
              "            await google.colab.kernel.invokeFunction('convertToInteractive',\n",
              "                                                     [key], {});\n",
              "          if (!dataTable) return;\n",
              "\n",
              "          const docLinkHtml = 'Like what you see? Visit the ' +\n",
              "            '<a target=\"_blank\" href=https://colab.research.google.com/notebooks/data_table.ipynb>data table notebook</a>'\n",
              "            + ' to learn more about interactive tables.';\n",
              "          element.innerHTML = '';\n",
              "          dataTable['output_type'] = 'display_data';\n",
              "          await google.colab.output.renderOutput(dataTable, element);\n",
              "          const docLink = document.createElement('div');\n",
              "          docLink.innerHTML = docLinkHtml;\n",
              "          element.appendChild(docLink);\n",
              "        }\n",
              "      </script>\n",
              "    </div>\n",
              "  </div>\n",
              "  "
            ]
          },
          "metadata": {},
          "execution_count": 104
        }
      ]
    },
    {
      "cell_type": "markdown",
      "source": [
        " Create a pipeline named `model` that contains a `OneHotEncoder` transformer and a `LinearRegression` predictor. Then fit your model to the training data. "
      ],
      "metadata": {
        "id": "0luOd9AndCYb"
      }
    },
    {
      "cell_type": "code",
      "source": [
        "from sklearn.pipeline import Pipeline\n",
        "regression = LinearRegression()\n",
        "\n",
        "model = Pipeline([\n",
        "    ('OneHotEncoder', ohe),\n",
        "    ('LinearRegression', regression)\n",
        "])\n",
        "model.fit(X_train, y_train)"
      ],
      "metadata": {
        "id": "lytF-uLUdDE1",
        "colab": {
          "base_uri": "https://localhost:8080/"
        },
        "outputId": "b0a2865a-bee9-4218-eb17-eacb044b5768"
      },
      "execution_count": 105,
      "outputs": [
        {
          "output_type": "execute_result",
          "data": {
            "text/plain": [
              "Pipeline(steps=[('OneHotEncoder',\n",
              "                 OneHotEncoder(cols=['neighborhood'], use_cat_names=True)),\n",
              "                ('LinearRegression', LinearRegression())])"
            ]
          },
          "metadata": {},
          "execution_count": 105
        }
      ]
    },
    {
      "cell_type": "markdown",
      "source": [
        "## Evaluate"
      ],
      "metadata": {
        "id": "uYD67VKFdMbj"
      }
    },
    {
      "cell_type": "markdown",
      "source": [
        " First, create a list of predictions for the observations in your feature matrix `X_train`. Name this list `y_pred_training`. Then calculate the training mean absolute error for your predictions in `y_pred_training` as compared to the true targets in `y_train`."
      ],
      "metadata": {
        "id": "JLXbbRrSdNCY"
      }
    },
    {
      "cell_type": "code",
      "source": [
        "y_pred_training = model.predict(X_train)\n",
        "mae_training = mean_absolute_error(y_pred_training, y_train)\n",
        "print(\"Training MAE:\", round(mae_training, 2))"
      ],
      "metadata": {
        "id": "Bspk6t0AdQXm",
        "colab": {
          "base_uri": "https://localhost:8080/"
        },
        "outputId": "85bce382-34ce-436b-def3-e4b2fcd7d03c"
      },
      "execution_count": 106,
      "outputs": [
        {
          "output_type": "stream",
          "name": "stdout",
          "text": [
            "Training MAE: 39337.0\n"
          ]
        }
      ]
    },
    {
      "cell_type": "markdown",
      "source": [
        "<font size=\"+3\"><strong>Predicting Price with Size, Location, and Neighborhood</strong></font>"
      ],
      "metadata": {
        "id": "cCMMPKz9beBV"
      }
    },
    {
      "cell_type": "markdown",
      "source": [
        "The first thing we need to consider when trying to use all the features `df` is **missing values**. While it's true you can impute missing values, there still needs to be enough data in a column to do a good imputation. A general rule is that, if more than half of the data in a column is missing, it's better to drop it then try imputing.\n",
        "\n",
        "Take a look at the output from `df.info()` above. Are there columns where more than half of the values are `NaN`? If so, those columns need to go! "
      ],
      "metadata": {
        "id": "Xpnv-ec1c21o"
      }
    },
    {
      "cell_type": "markdown",
      "source": [
        "Modify your `wrangle` function to drop any columns that are more than half `NaN` values. Be sure to rerun all the cells above before you continue."
      ],
      "metadata": {
        "id": "j55KCJbaeoZx"
      }
    },
    {
      "cell_type": "code",
      "source": [
        "def wrangle(filepath):\n",
        "    # Read Excel file\n",
        "    df = pd.read_excel(filepath)\n",
        "\n",
        "    # Subset data: Apartments in \"Capital Federal\", less than 400,000\n",
        "    mask_ba = df[\"place_with_parent_names\"].str.contains(\"Capital Federal\")\n",
        "    mask_apt = df[\"property_type\"] == \"apartment\"\n",
        "    mask_price = df[\"price_aprox_usd\"] < 400_000\n",
        "    df = df[mask_ba & mask_apt & mask_price]\n",
        "\n",
        "    # Subset data: Remove outliers for \"surface_covered_in_m2\"\n",
        "    low, high = df[\"surface_covered_in_m2\"].quantile([0.1, 0.9])\n",
        "    mask_area = df[\"surface_covered_in_m2\"].between(low, high)\n",
        "    df = df[mask_area]\n",
        "\n",
        "    # Split \"lat-lon\" column\n",
        "    df[[\"lat\", \"lon\"]] = df[\"lat-lon\"].str.split(\",\", expand=True).astype(float)\n",
        "    df.drop(columns=\"lat-lon\", inplace=True)\n",
        "\n",
        "    new_df = df[\"place_with_parent_names\"].str.split(\"|\", expand=True)\n",
        "    new_df.head(5)\n",
        "    df['neighborhood'] = new_df[3]\n",
        "    df.drop(columns=\"place_with_parent_names\", inplace=True)\n",
        "\n",
        "    missing = df.isnull().sum()/len(df)*100\n",
        "    col_list = list(missing.index)\n",
        "    for i in range(len(missing)):\n",
        "      if missing[i] > 50:\n",
        "        df.drop(columns=col_list[i], inplace=True)\n",
        "\n",
        "    check_cardinality(df)\n",
        "    df.drop(columns=[\"price_aprox_local_currency\", \"price\",\"price_usd_per_m2\",\"price_per_m2\", \"currency\"], inplace=True)\n",
        "    df.drop(columns=[\"surface_total_in_m2\", \"rooms\"], inplace=True)\n",
        "\n",
        "    return df"
      ],
      "metadata": {
        "id": "7YS_GFFWHtDm"
      },
      "execution_count": 123,
      "outputs": []
    },
    {
      "cell_type": "code",
      "source": [
        "files = glob(\"/content/buenos-aires-real-estate*\")\n",
        "files"
      ],
      "metadata": {
        "colab": {
          "base_uri": "https://localhost:8080/"
        },
        "id": "f2I03zZRiX1u",
        "outputId": "b0a9a905-73a5-431a-d8be-25e1f332d4fb"
      },
      "execution_count": 124,
      "outputs": [
        {
          "output_type": "execute_result",
          "data": {
            "text/plain": [
              "['/content/buenos-aires-real-estate-3.xlsx',\n",
              " '/content/buenos-aires-real-estate-2.xlsx',\n",
              " '/content/buenos-aires-real-estate-5.xlsx',\n",
              " '/content/buenos-aires-real-estate-1.xlsx',\n",
              " '/content/buenos-aires-real-estate-4.xlsx']"
            ]
          },
          "metadata": {},
          "execution_count": 124
        }
      ]
    },
    {
      "cell_type": "code",
      "source": [
        "frames = []\n",
        "for i in range(len(files)):\n",
        "    frames.append(wrangle(files[i]))\n",
        "df = pd.concat([frames[0], frames[1], frames[2], frames[3], frames[4]], ignore_index= True)\n",
        "print(df.info())\n",
        "df.head()"
      ],
      "metadata": {
        "id": "z50wMShyjUV_",
        "colab": {
          "base_uri": "https://localhost:8080/",
          "height": 449
        },
        "outputId": "00591c30-3073-4392-8cce-d46af336d990"
      },
      "execution_count": 125,
      "outputs": [
        {
          "output_type": "stream",
          "name": "stdout",
          "text": [
            "<class 'pandas.core.frame.DataFrame'>\n",
            "RangeIndex: 6582 entries, 0 to 6581\n",
            "Data columns (total 6 columns):\n",
            " #   Column                 Non-Null Count  Dtype  \n",
            "---  ------                 --------------  -----  \n",
            " 0   Unnamed: 0             6582 non-null   int64  \n",
            " 1   price_aprox_usd        6582 non-null   float64\n",
            " 2   surface_covered_in_m2  6582 non-null   float64\n",
            " 3   lat                    6316 non-null   float64\n",
            " 4   lon                    6316 non-null   float64\n",
            " 5   neighborhood           6582 non-null   object \n",
            "dtypes: float64(4), int64(1), object(1)\n",
            "memory usage: 308.7+ KB\n",
            "None\n"
          ]
        },
        {
          "output_type": "execute_result",
          "data": {
            "text/plain": [
              "   Unnamed: 0  price_aprox_usd  surface_covered_in_m2        lat        lon  \\\n",
              "0           8         120000.0                   55.0 -34.616004 -58.470506   \n",
              "1          21          89000.0                   37.0 -34.584712 -58.444927   \n",
              "2          22         183495.0                   57.0 -34.554652 -58.493644   \n",
              "3          42          95000.0                   47.0 -34.610581 -58.479625   \n",
              "4          44          95000.0                   35.0 -34.558227 -58.458357   \n",
              "\n",
              "          neighborhood  \n",
              "0  Villa General Mitre  \n",
              "1              Palermo  \n",
              "2             Saavedra  \n",
              "3     Villa del Parque  \n",
              "4             Belgrano  "
            ],
            "text/html": [
              "\n",
              "  <div id=\"df-7806fa88-5aa8-4d72-9235-bb92e47eec4a\">\n",
              "    <div class=\"colab-df-container\">\n",
              "      <div>\n",
              "<style scoped>\n",
              "    .dataframe tbody tr th:only-of-type {\n",
              "        vertical-align: middle;\n",
              "    }\n",
              "\n",
              "    .dataframe tbody tr th {\n",
              "        vertical-align: top;\n",
              "    }\n",
              "\n",
              "    .dataframe thead th {\n",
              "        text-align: right;\n",
              "    }\n",
              "</style>\n",
              "<table border=\"1\" class=\"dataframe\">\n",
              "  <thead>\n",
              "    <tr style=\"text-align: right;\">\n",
              "      <th></th>\n",
              "      <th>Unnamed: 0</th>\n",
              "      <th>price_aprox_usd</th>\n",
              "      <th>surface_covered_in_m2</th>\n",
              "      <th>lat</th>\n",
              "      <th>lon</th>\n",
              "      <th>neighborhood</th>\n",
              "    </tr>\n",
              "  </thead>\n",
              "  <tbody>\n",
              "    <tr>\n",
              "      <th>0</th>\n",
              "      <td>8</td>\n",
              "      <td>120000.0</td>\n",
              "      <td>55.0</td>\n",
              "      <td>-34.616004</td>\n",
              "      <td>-58.470506</td>\n",
              "      <td>Villa General Mitre</td>\n",
              "    </tr>\n",
              "    <tr>\n",
              "      <th>1</th>\n",
              "      <td>21</td>\n",
              "      <td>89000.0</td>\n",
              "      <td>37.0</td>\n",
              "      <td>-34.584712</td>\n",
              "      <td>-58.444927</td>\n",
              "      <td>Palermo</td>\n",
              "    </tr>\n",
              "    <tr>\n",
              "      <th>2</th>\n",
              "      <td>22</td>\n",
              "      <td>183495.0</td>\n",
              "      <td>57.0</td>\n",
              "      <td>-34.554652</td>\n",
              "      <td>-58.493644</td>\n",
              "      <td>Saavedra</td>\n",
              "    </tr>\n",
              "    <tr>\n",
              "      <th>3</th>\n",
              "      <td>42</td>\n",
              "      <td>95000.0</td>\n",
              "      <td>47.0</td>\n",
              "      <td>-34.610581</td>\n",
              "      <td>-58.479625</td>\n",
              "      <td>Villa del Parque</td>\n",
              "    </tr>\n",
              "    <tr>\n",
              "      <th>4</th>\n",
              "      <td>44</td>\n",
              "      <td>95000.0</td>\n",
              "      <td>35.0</td>\n",
              "      <td>-34.558227</td>\n",
              "      <td>-58.458357</td>\n",
              "      <td>Belgrano</td>\n",
              "    </tr>\n",
              "  </tbody>\n",
              "</table>\n",
              "</div>\n",
              "      <button class=\"colab-df-convert\" onclick=\"convertToInteractive('df-7806fa88-5aa8-4d72-9235-bb92e47eec4a')\"\n",
              "              title=\"Convert this dataframe to an interactive table.\"\n",
              "              style=\"display:none;\">\n",
              "        \n",
              "  <svg xmlns=\"http://www.w3.org/2000/svg\" height=\"24px\"viewBox=\"0 0 24 24\"\n",
              "       width=\"24px\">\n",
              "    <path d=\"M0 0h24v24H0V0z\" fill=\"none\"/>\n",
              "    <path d=\"M18.56 5.44l.94 2.06.94-2.06 2.06-.94-2.06-.94-.94-2.06-.94 2.06-2.06.94zm-11 1L8.5 8.5l.94-2.06 2.06-.94-2.06-.94L8.5 2.5l-.94 2.06-2.06.94zm10 10l.94 2.06.94-2.06 2.06-.94-2.06-.94-.94-2.06-.94 2.06-2.06.94z\"/><path d=\"M17.41 7.96l-1.37-1.37c-.4-.4-.92-.59-1.43-.59-.52 0-1.04.2-1.43.59L10.3 9.45l-7.72 7.72c-.78.78-.78 2.05 0 2.83L4 21.41c.39.39.9.59 1.41.59.51 0 1.02-.2 1.41-.59l7.78-7.78 2.81-2.81c.8-.78.8-2.07 0-2.86zM5.41 20L4 18.59l7.72-7.72 1.47 1.35L5.41 20z\"/>\n",
              "  </svg>\n",
              "      </button>\n",
              "      \n",
              "  <style>\n",
              "    .colab-df-container {\n",
              "      display:flex;\n",
              "      flex-wrap:wrap;\n",
              "      gap: 12px;\n",
              "    }\n",
              "\n",
              "    .colab-df-convert {\n",
              "      background-color: #E8F0FE;\n",
              "      border: none;\n",
              "      border-radius: 50%;\n",
              "      cursor: pointer;\n",
              "      display: none;\n",
              "      fill: #1967D2;\n",
              "      height: 32px;\n",
              "      padding: 0 0 0 0;\n",
              "      width: 32px;\n",
              "    }\n",
              "\n",
              "    .colab-df-convert:hover {\n",
              "      background-color: #E2EBFA;\n",
              "      box-shadow: 0px 1px 2px rgba(60, 64, 67, 0.3), 0px 1px 3px 1px rgba(60, 64, 67, 0.15);\n",
              "      fill: #174EA6;\n",
              "    }\n",
              "\n",
              "    [theme=dark] .colab-df-convert {\n",
              "      background-color: #3B4455;\n",
              "      fill: #D2E3FC;\n",
              "    }\n",
              "\n",
              "    [theme=dark] .colab-df-convert:hover {\n",
              "      background-color: #434B5C;\n",
              "      box-shadow: 0px 1px 3px 1px rgba(0, 0, 0, 0.15);\n",
              "      filter: drop-shadow(0px 1px 2px rgba(0, 0, 0, 0.3));\n",
              "      fill: #FFFFFF;\n",
              "    }\n",
              "  </style>\n",
              "\n",
              "      <script>\n",
              "        const buttonEl =\n",
              "          document.querySelector('#df-7806fa88-5aa8-4d72-9235-bb92e47eec4a button.colab-df-convert');\n",
              "        buttonEl.style.display =\n",
              "          google.colab.kernel.accessAllowed ? 'block' : 'none';\n",
              "\n",
              "        async function convertToInteractive(key) {\n",
              "          const element = document.querySelector('#df-7806fa88-5aa8-4d72-9235-bb92e47eec4a');\n",
              "          const dataTable =\n",
              "            await google.colab.kernel.invokeFunction('convertToInteractive',\n",
              "                                                     [key], {});\n",
              "          if (!dataTable) return;\n",
              "\n",
              "          const docLinkHtml = 'Like what you see? Visit the ' +\n",
              "            '<a target=\"_blank\" href=https://colab.research.google.com/notebooks/data_table.ipynb>data table notebook</a>'\n",
              "            + ' to learn more about interactive tables.';\n",
              "          element.innerHTML = '';\n",
              "          dataTable['output_type'] = 'display_data';\n",
              "          await google.colab.output.renderOutput(dataTable, element);\n",
              "          const docLink = document.createElement('div');\n",
              "          docLink.innerHTML = docLinkHtml;\n",
              "          element.appendChild(docLink);\n",
              "        }\n",
              "      </script>\n",
              "    </div>\n",
              "  </div>\n",
              "  "
            ]
          },
          "metadata": {},
          "execution_count": 125
        }
      ]
    },
    {
      "cell_type": "code",
      "source": [
        "df.drop(columns=\"Unnamed: 0\", inplace=True)\n",
        "df.head()"
      ],
      "metadata": {
        "colab": {
          "base_uri": "https://localhost:8080/",
          "height": 206
        },
        "id": "rRBxzIa_7w73",
        "outputId": "db2cbcc5-6e4a-491b-dd67-4b3761dd0f29"
      },
      "execution_count": 126,
      "outputs": [
        {
          "output_type": "execute_result",
          "data": {
            "text/plain": [
              "   price_aprox_usd  surface_covered_in_m2        lat        lon  \\\n",
              "0         120000.0                   55.0 -34.616004 -58.470506   \n",
              "1          89000.0                   37.0 -34.584712 -58.444927   \n",
              "2         183495.0                   57.0 -34.554652 -58.493644   \n",
              "3          95000.0                   47.0 -34.610581 -58.479625   \n",
              "4          95000.0                   35.0 -34.558227 -58.458357   \n",
              "\n",
              "          neighborhood  \n",
              "0  Villa General Mitre  \n",
              "1              Palermo  \n",
              "2             Saavedra  \n",
              "3     Villa del Parque  \n",
              "4             Belgrano  "
            ],
            "text/html": [
              "\n",
              "  <div id=\"df-6e0e89c4-6dfa-49b9-b136-57f315e5b29f\">\n",
              "    <div class=\"colab-df-container\">\n",
              "      <div>\n",
              "<style scoped>\n",
              "    .dataframe tbody tr th:only-of-type {\n",
              "        vertical-align: middle;\n",
              "    }\n",
              "\n",
              "    .dataframe tbody tr th {\n",
              "        vertical-align: top;\n",
              "    }\n",
              "\n",
              "    .dataframe thead th {\n",
              "        text-align: right;\n",
              "    }\n",
              "</style>\n",
              "<table border=\"1\" class=\"dataframe\">\n",
              "  <thead>\n",
              "    <tr style=\"text-align: right;\">\n",
              "      <th></th>\n",
              "      <th>price_aprox_usd</th>\n",
              "      <th>surface_covered_in_m2</th>\n",
              "      <th>lat</th>\n",
              "      <th>lon</th>\n",
              "      <th>neighborhood</th>\n",
              "    </tr>\n",
              "  </thead>\n",
              "  <tbody>\n",
              "    <tr>\n",
              "      <th>0</th>\n",
              "      <td>120000.0</td>\n",
              "      <td>55.0</td>\n",
              "      <td>-34.616004</td>\n",
              "      <td>-58.470506</td>\n",
              "      <td>Villa General Mitre</td>\n",
              "    </tr>\n",
              "    <tr>\n",
              "      <th>1</th>\n",
              "      <td>89000.0</td>\n",
              "      <td>37.0</td>\n",
              "      <td>-34.584712</td>\n",
              "      <td>-58.444927</td>\n",
              "      <td>Palermo</td>\n",
              "    </tr>\n",
              "    <tr>\n",
              "      <th>2</th>\n",
              "      <td>183495.0</td>\n",
              "      <td>57.0</td>\n",
              "      <td>-34.554652</td>\n",
              "      <td>-58.493644</td>\n",
              "      <td>Saavedra</td>\n",
              "    </tr>\n",
              "    <tr>\n",
              "      <th>3</th>\n",
              "      <td>95000.0</td>\n",
              "      <td>47.0</td>\n",
              "      <td>-34.610581</td>\n",
              "      <td>-58.479625</td>\n",
              "      <td>Villa del Parque</td>\n",
              "    </tr>\n",
              "    <tr>\n",
              "      <th>4</th>\n",
              "      <td>95000.0</td>\n",
              "      <td>35.0</td>\n",
              "      <td>-34.558227</td>\n",
              "      <td>-58.458357</td>\n",
              "      <td>Belgrano</td>\n",
              "    </tr>\n",
              "  </tbody>\n",
              "</table>\n",
              "</div>\n",
              "      <button class=\"colab-df-convert\" onclick=\"convertToInteractive('df-6e0e89c4-6dfa-49b9-b136-57f315e5b29f')\"\n",
              "              title=\"Convert this dataframe to an interactive table.\"\n",
              "              style=\"display:none;\">\n",
              "        \n",
              "  <svg xmlns=\"http://www.w3.org/2000/svg\" height=\"24px\"viewBox=\"0 0 24 24\"\n",
              "       width=\"24px\">\n",
              "    <path d=\"M0 0h24v24H0V0z\" fill=\"none\"/>\n",
              "    <path d=\"M18.56 5.44l.94 2.06.94-2.06 2.06-.94-2.06-.94-.94-2.06-.94 2.06-2.06.94zm-11 1L8.5 8.5l.94-2.06 2.06-.94-2.06-.94L8.5 2.5l-.94 2.06-2.06.94zm10 10l.94 2.06.94-2.06 2.06-.94-2.06-.94-.94-2.06-.94 2.06-2.06.94z\"/><path d=\"M17.41 7.96l-1.37-1.37c-.4-.4-.92-.59-1.43-.59-.52 0-1.04.2-1.43.59L10.3 9.45l-7.72 7.72c-.78.78-.78 2.05 0 2.83L4 21.41c.39.39.9.59 1.41.59.51 0 1.02-.2 1.41-.59l7.78-7.78 2.81-2.81c.8-.78.8-2.07 0-2.86zM5.41 20L4 18.59l7.72-7.72 1.47 1.35L5.41 20z\"/>\n",
              "  </svg>\n",
              "      </button>\n",
              "      \n",
              "  <style>\n",
              "    .colab-df-container {\n",
              "      display:flex;\n",
              "      flex-wrap:wrap;\n",
              "      gap: 12px;\n",
              "    }\n",
              "\n",
              "    .colab-df-convert {\n",
              "      background-color: #E8F0FE;\n",
              "      border: none;\n",
              "      border-radius: 50%;\n",
              "      cursor: pointer;\n",
              "      display: none;\n",
              "      fill: #1967D2;\n",
              "      height: 32px;\n",
              "      padding: 0 0 0 0;\n",
              "      width: 32px;\n",
              "    }\n",
              "\n",
              "    .colab-df-convert:hover {\n",
              "      background-color: #E2EBFA;\n",
              "      box-shadow: 0px 1px 2px rgba(60, 64, 67, 0.3), 0px 1px 3px 1px rgba(60, 64, 67, 0.15);\n",
              "      fill: #174EA6;\n",
              "    }\n",
              "\n",
              "    [theme=dark] .colab-df-convert {\n",
              "      background-color: #3B4455;\n",
              "      fill: #D2E3FC;\n",
              "    }\n",
              "\n",
              "    [theme=dark] .colab-df-convert:hover {\n",
              "      background-color: #434B5C;\n",
              "      box-shadow: 0px 1px 3px 1px rgba(0, 0, 0, 0.15);\n",
              "      filter: drop-shadow(0px 1px 2px rgba(0, 0, 0, 0.3));\n",
              "      fill: #FFFFFF;\n",
              "    }\n",
              "  </style>\n",
              "\n",
              "      <script>\n",
              "        const buttonEl =\n",
              "          document.querySelector('#df-6e0e89c4-6dfa-49b9-b136-57f315e5b29f button.colab-df-convert');\n",
              "        buttonEl.style.display =\n",
              "          google.colab.kernel.accessAllowed ? 'block' : 'none';\n",
              "\n",
              "        async function convertToInteractive(key) {\n",
              "          const element = document.querySelector('#df-6e0e89c4-6dfa-49b9-b136-57f315e5b29f');\n",
              "          const dataTable =\n",
              "            await google.colab.kernel.invokeFunction('convertToInteractive',\n",
              "                                                     [key], {});\n",
              "          if (!dataTable) return;\n",
              "\n",
              "          const docLinkHtml = 'Like what you see? Visit the ' +\n",
              "            '<a target=\"_blank\" href=https://colab.research.google.com/notebooks/data_table.ipynb>data table notebook</a>'\n",
              "            + ' to learn more about interactive tables.';\n",
              "          element.innerHTML = '';\n",
              "          dataTable['output_type'] = 'display_data';\n",
              "          await google.colab.output.renderOutput(dataTable, element);\n",
              "          const docLink = document.createElement('div');\n",
              "          docLink.innerHTML = docLinkHtml;\n",
              "          element.appendChild(docLink);\n",
              "        }\n",
              "      </script>\n",
              "    </div>\n",
              "  </div>\n",
              "  "
            ]
          },
          "metadata": {},
          "execution_count": 126
        }
      ]
    },
    {
      "cell_type": "markdown",
      "source": [
        "The next thing we need to look out for are categorical columns with **low or high cardinality**. If there's only one category in a column, it won't provide any unique information to our model. At the other extreme, columns where nearly every row has its own category won't help our model in identifying useful trends in the data.\n",
        "\n",
        "Let's take a look at the cardinality of our features."
      ],
      "metadata": {
        "id": "PhitWcVmj4Rp"
      }
    },
    {
      "cell_type": "code",
      "source": [
        "def check_cardinality(df):\n",
        "  df_categorical = df.select_dtypes(exclude=\"number\")\n",
        "  for i in df_categorical.columns:    \n",
        "     if len(df_categorical[i].unique())==1 or len(df_categorical[i].unique()) > 100:\n",
        "        df.drop(columns=i, inplace=True)\n",
        "\n",
        "  return df"
      ],
      "metadata": {
        "id": "6Icb5XcNjg2c"
      },
      "execution_count": 122,
      "outputs": []
    },
    {
      "cell_type": "markdown",
      "source": [
        " Modify your `wrangle` function to drop high- and low-cardinality categorical features."
      ],
      "metadata": {
        "id": "mZIKVGc_d8Su"
      }
    },
    {
      "cell_type": "markdown",
      "source": [
        "It's also important for us to drop any columns that would constitute **leakage**, that is, features that were created using our target or that would give our model information that it won't have access to when it's deployed. \n",
        "\n",
        " Modify your `wrangle` function to drop any features that would constitute leakage. "
      ],
      "metadata": {
        "id": "ZNqBhVcoeu6I"
      }
    },
    {
      "cell_type": "code",
      "source": [
        "#Add this code\n",
        "df.drop(columns=[\"price_aprox_local_currency\", \"price\",\"price_usd_per_m2\",\"price_per_m2\", \"currency\"], inplace=True)"
      ],
      "metadata": {
        "id": "bRvN0ExKcxWj"
      },
      "execution_count": null,
      "outputs": []
    },
    {
      "cell_type": "markdown",
      "source": [
        "Finally, the last issue we need to keep an eye out for is **multicollinearity**, that is, features in our feature matrix that are highly correlated with each other. A good way to detect this is to use a heatmap. Let's make one!"
      ],
      "metadata": {
        "id": "kHHOxoZ3ivnY"
      }
    },
    {
      "cell_type": "code",
      "source": [
        "test_df = df.copy().dropna(axis=0)\n",
        "test_df_numeric = test_df.select_dtypes(include=\"number\")\n",
        "corr = test_df_numeric.corr(method=\"pearson\")\n",
        "sns.heatmap(corr)"
      ],
      "metadata": {
        "id": "qzqZsNL8i3i2"
      },
      "execution_count": null,
      "outputs": []
    },
    {
      "cell_type": "markdown",
      "source": [
        "Modify your `wrangle` function to remove columns so that there are no strongly correlated features in your feature matrix."
      ],
      "metadata": {
        "id": "87NjhoQvjEOn"
      }
    },
    {
      "cell_type": "code",
      "source": [
        "#Add this code\n",
        "df.drop(columns=[\"surface_total_in_m2\", \"rooms\"], inplace=True)"
      ],
      "metadata": {
        "id": "KXDnhaGEjDMg"
      },
      "execution_count": null,
      "outputs": []
    },
    {
      "cell_type": "markdown",
      "source": [
        "Create your feature matrix `X_train` and target vector `y_train`. Your target is `\"price_aprox_usd\"`. Your features should be all the columns that remain in the DataFrame you cleaned above."
      ],
      "metadata": {
        "id": "fbR_Qwnz66nw"
      }
    },
    {
      "cell_type": "code",
      "source": [
        "y_train = df.pop(\"price_aprox_usd\")\n",
        "X_train = df"
      ],
      "metadata": {
        "id": "o6g9mxOI6-Zq"
      },
      "execution_count": 127,
      "outputs": []
    },
    {
      "cell_type": "code",
      "source": [
        "X_train.head()"
      ],
      "metadata": {
        "colab": {
          "base_uri": "https://localhost:8080/",
          "height": 206
        },
        "id": "hg7Z28wF8x4o",
        "outputId": "b169415e-acdd-4bea-9c0e-ebb8ef96f521"
      },
      "execution_count": 128,
      "outputs": [
        {
          "output_type": "execute_result",
          "data": {
            "text/plain": [
              "   surface_covered_in_m2        lat        lon         neighborhood\n",
              "0                   55.0 -34.616004 -58.470506  Villa General Mitre\n",
              "1                   37.0 -34.584712 -58.444927              Palermo\n",
              "2                   57.0 -34.554652 -58.493644             Saavedra\n",
              "3                   47.0 -34.610581 -58.479625     Villa del Parque\n",
              "4                   35.0 -34.558227 -58.458357             Belgrano"
            ],
            "text/html": [
              "\n",
              "  <div id=\"df-f5f6f097-1ce4-42c9-854b-b936866e01f1\">\n",
              "    <div class=\"colab-df-container\">\n",
              "      <div>\n",
              "<style scoped>\n",
              "    .dataframe tbody tr th:only-of-type {\n",
              "        vertical-align: middle;\n",
              "    }\n",
              "\n",
              "    .dataframe tbody tr th {\n",
              "        vertical-align: top;\n",
              "    }\n",
              "\n",
              "    .dataframe thead th {\n",
              "        text-align: right;\n",
              "    }\n",
              "</style>\n",
              "<table border=\"1\" class=\"dataframe\">\n",
              "  <thead>\n",
              "    <tr style=\"text-align: right;\">\n",
              "      <th></th>\n",
              "      <th>surface_covered_in_m2</th>\n",
              "      <th>lat</th>\n",
              "      <th>lon</th>\n",
              "      <th>neighborhood</th>\n",
              "    </tr>\n",
              "  </thead>\n",
              "  <tbody>\n",
              "    <tr>\n",
              "      <th>0</th>\n",
              "      <td>55.0</td>\n",
              "      <td>-34.616004</td>\n",
              "      <td>-58.470506</td>\n",
              "      <td>Villa General Mitre</td>\n",
              "    </tr>\n",
              "    <tr>\n",
              "      <th>1</th>\n",
              "      <td>37.0</td>\n",
              "      <td>-34.584712</td>\n",
              "      <td>-58.444927</td>\n",
              "      <td>Palermo</td>\n",
              "    </tr>\n",
              "    <tr>\n",
              "      <th>2</th>\n",
              "      <td>57.0</td>\n",
              "      <td>-34.554652</td>\n",
              "      <td>-58.493644</td>\n",
              "      <td>Saavedra</td>\n",
              "    </tr>\n",
              "    <tr>\n",
              "      <th>3</th>\n",
              "      <td>47.0</td>\n",
              "      <td>-34.610581</td>\n",
              "      <td>-58.479625</td>\n",
              "      <td>Villa del Parque</td>\n",
              "    </tr>\n",
              "    <tr>\n",
              "      <th>4</th>\n",
              "      <td>35.0</td>\n",
              "      <td>-34.558227</td>\n",
              "      <td>-58.458357</td>\n",
              "      <td>Belgrano</td>\n",
              "    </tr>\n",
              "  </tbody>\n",
              "</table>\n",
              "</div>\n",
              "      <button class=\"colab-df-convert\" onclick=\"convertToInteractive('df-f5f6f097-1ce4-42c9-854b-b936866e01f1')\"\n",
              "              title=\"Convert this dataframe to an interactive table.\"\n",
              "              style=\"display:none;\">\n",
              "        \n",
              "  <svg xmlns=\"http://www.w3.org/2000/svg\" height=\"24px\"viewBox=\"0 0 24 24\"\n",
              "       width=\"24px\">\n",
              "    <path d=\"M0 0h24v24H0V0z\" fill=\"none\"/>\n",
              "    <path d=\"M18.56 5.44l.94 2.06.94-2.06 2.06-.94-2.06-.94-.94-2.06-.94 2.06-2.06.94zm-11 1L8.5 8.5l.94-2.06 2.06-.94-2.06-.94L8.5 2.5l-.94 2.06-2.06.94zm10 10l.94 2.06.94-2.06 2.06-.94-2.06-.94-.94-2.06-.94 2.06-2.06.94z\"/><path d=\"M17.41 7.96l-1.37-1.37c-.4-.4-.92-.59-1.43-.59-.52 0-1.04.2-1.43.59L10.3 9.45l-7.72 7.72c-.78.78-.78 2.05 0 2.83L4 21.41c.39.39.9.59 1.41.59.51 0 1.02-.2 1.41-.59l7.78-7.78 2.81-2.81c.8-.78.8-2.07 0-2.86zM5.41 20L4 18.59l7.72-7.72 1.47 1.35L5.41 20z\"/>\n",
              "  </svg>\n",
              "      </button>\n",
              "      \n",
              "  <style>\n",
              "    .colab-df-container {\n",
              "      display:flex;\n",
              "      flex-wrap:wrap;\n",
              "      gap: 12px;\n",
              "    }\n",
              "\n",
              "    .colab-df-convert {\n",
              "      background-color: #E8F0FE;\n",
              "      border: none;\n",
              "      border-radius: 50%;\n",
              "      cursor: pointer;\n",
              "      display: none;\n",
              "      fill: #1967D2;\n",
              "      height: 32px;\n",
              "      padding: 0 0 0 0;\n",
              "      width: 32px;\n",
              "    }\n",
              "\n",
              "    .colab-df-convert:hover {\n",
              "      background-color: #E2EBFA;\n",
              "      box-shadow: 0px 1px 2px rgba(60, 64, 67, 0.3), 0px 1px 3px 1px rgba(60, 64, 67, 0.15);\n",
              "      fill: #174EA6;\n",
              "    }\n",
              "\n",
              "    [theme=dark] .colab-df-convert {\n",
              "      background-color: #3B4455;\n",
              "      fill: #D2E3FC;\n",
              "    }\n",
              "\n",
              "    [theme=dark] .colab-df-convert:hover {\n",
              "      background-color: #434B5C;\n",
              "      box-shadow: 0px 1px 3px 1px rgba(0, 0, 0, 0.15);\n",
              "      filter: drop-shadow(0px 1px 2px rgba(0, 0, 0, 0.3));\n",
              "      fill: #FFFFFF;\n",
              "    }\n",
              "  </style>\n",
              "\n",
              "      <script>\n",
              "        const buttonEl =\n",
              "          document.querySelector('#df-f5f6f097-1ce4-42c9-854b-b936866e01f1 button.colab-df-convert');\n",
              "        buttonEl.style.display =\n",
              "          google.colab.kernel.accessAllowed ? 'block' : 'none';\n",
              "\n",
              "        async function convertToInteractive(key) {\n",
              "          const element = document.querySelector('#df-f5f6f097-1ce4-42c9-854b-b936866e01f1');\n",
              "          const dataTable =\n",
              "            await google.colab.kernel.invokeFunction('convertToInteractive',\n",
              "                                                     [key], {});\n",
              "          if (!dataTable) return;\n",
              "\n",
              "          const docLinkHtml = 'Like what you see? Visit the ' +\n",
              "            '<a target=\"_blank\" href=https://colab.research.google.com/notebooks/data_table.ipynb>data table notebook</a>'\n",
              "            + ' to learn more about interactive tables.';\n",
              "          element.innerHTML = '';\n",
              "          dataTable['output_type'] = 'display_data';\n",
              "          await google.colab.output.renderOutput(dataTable, element);\n",
              "          const docLink = document.createElement('div');\n",
              "          docLink.innerHTML = docLinkHtml;\n",
              "          element.appendChild(docLink);\n",
              "        }\n",
              "      </script>\n",
              "    </div>\n",
              "  </div>\n",
              "  "
            ]
          },
          "metadata": {},
          "execution_count": 128
        }
      ]
    },
    {
      "cell_type": "markdown",
      "source": [
        "Create a pipeline named `model` that contains a `OneHotEncoder`, `SimpleImputer`, and `Ridge` predictor."
      ],
      "metadata": {
        "id": "ZY0hkZ077Ee6"
      }
    },
    {
      "cell_type": "code",
      "source": [
        "from sklearn.linear_model import Ridge\n",
        "from sklearn.pipeline import Pipeline\n",
        "\n",
        "ohe = OneHotEncoder(use_cat_names=True)\n",
        "imputer = SimpleImputer()\n",
        "ridge = Ridge()\n",
        "\n",
        "model = Pipeline([\n",
        "    (\"OneHotEncoder\", ohe),\n",
        "    (\"SimpleImputer\", imputer),\n",
        "    (\"Ridge\", ridge)\n",
        "])\n",
        "model.fit(X_train, y_train)"
      ],
      "metadata": {
        "colab": {
          "base_uri": "https://localhost:8080/"
        },
        "id": "l89CBXLZ7E_J",
        "outputId": "907b1bed-cfd2-466f-c48e-6f9f4a92e94e"
      },
      "execution_count": 129,
      "outputs": [
        {
          "output_type": "execute_result",
          "data": {
            "text/plain": [
              "Pipeline(steps=[('OneHotEncoder',\n",
              "                 OneHotEncoder(cols=['neighborhood'], use_cat_names=True)),\n",
              "                ('SimpleImputer', SimpleImputer()), ('Ridge', Ridge())])"
            ]
          },
          "metadata": {},
          "execution_count": 129
        }
      ]
    },
    {
      "cell_type": "markdown",
      "source": [
        "Calculate the training mean absolute error for your predictions as compared to the true targets in `y_train`."
      ],
      "metadata": {
        "id": "VI0JqqfO7KTO"
      }
    },
    {
      "cell_type": "code",
      "source": [
        "y_pred = model.predict(X_train)\n",
        "mae = mean_absolute_error(y_pred, y_train)\n",
        "print(\"Training MAE:\", mae)"
      ],
      "metadata": {
        "colab": {
          "base_uri": "https://localhost:8080/"
        },
        "id": "lMCGZoYb7K2G",
        "outputId": "01d6268c-3376-4a67-dd29-b3381620732f"
      },
      "execution_count": 130,
      "outputs": [
        {
          "output_type": "stream",
          "name": "stdout",
          "text": [
            "Training MAE: 24207.107190330295\n"
          ]
        }
      ]
    },
    {
      "cell_type": "markdown",
      "source": [
        "Create a function `make_prediction` that takes four arguments (`area`, `lat`, `lon`, and `neighborhood`) and returns your model's prediction for an apartment price."
      ],
      "metadata": {
        "id": "AQlndlUf7R4O"
      }
    },
    {
      "cell_type": "code",
      "source": [
        "def make_prediction(area, lat, lon, neighborhood):\n",
        "    columns = [\"surface_covered_in_m2\", \"lat\", \"lon\", \"neighborhood\"]\n",
        "    df = pd.DataFrame([[area, lat, lon, neighborhood]], columns=columns)\n",
        "    prediction = model.predict(df)\n",
        "    return f\"Predicted apartment price: ${prediction}\""
      ],
      "metadata": {
        "id": "29cqEtrH7SaG"
      },
      "execution_count": 131,
      "outputs": []
    },
    {
      "cell_type": "markdown",
      "source": [
        "Let's see if your function works. Run the cell below to find out!"
      ],
      "metadata": {
        "id": "ESUIPS147Wy_"
      }
    },
    {
      "cell_type": "code",
      "source": [
        "make_prediction(110, -34.60, -58.46, \"Villa Crespo\")"
      ],
      "metadata": {
        "colab": {
          "base_uri": "https://localhost:8080/",
          "height": 35
        },
        "id": "DmlGRYai7XYj",
        "outputId": "8127913d-17ad-409b-9233-37e61f2a8fd1"
      },
      "execution_count": 132,
      "outputs": [
        {
          "output_type": "execute_result",
          "data": {
            "text/plain": [
              "'Predicted apartment price: $[250775.11270377]'"
            ],
            "application/vnd.google.colaboratory.intrinsic+json": {
              "type": "string"
            }
          },
          "metadata": {},
          "execution_count": 132
        }
      ]
    },
    {
      "cell_type": "markdown",
      "source": [
        "Add your `make_prediction` to the interact widget below, run the cell, and then adjust the widget to see how predicted apartment price changes. \n",
        "\n",
        "- Create an interact function in Jupyter Widgets."
      ],
      "metadata": {
        "id": "MQtYY1Kz7ZRx"
      }
    },
    {
      "cell_type": "code",
      "source": [
        "from ipywidgets import Dropdown, FloatSlider, IntSlider, interact\n",
        "\n",
        "interact(\n",
        "    make_prediction,\n",
        "    area=IntSlider(\n",
        "        min=X_train[\"surface_covered_in_m2\"].min(),\n",
        "        max=X_train[\"surface_covered_in_m2\"].max(),\n",
        "        value=X_train[\"surface_covered_in_m2\"].mean(),\n",
        "    ),\n",
        "    lat=FloatSlider(\n",
        "        min=X_train[\"lat\"].min(),\n",
        "        max=X_train[\"lat\"].max(),\n",
        "        step=0.01,\n",
        "        value=X_train[\"lat\"].mean(),\n",
        "    ),\n",
        "    lon=FloatSlider(\n",
        "        min=X_train[\"lon\"].min(),\n",
        "        max=X_train[\"lon\"].max(),\n",
        "        step=0.01,\n",
        "        value=X_train[\"lon\"].mean(),\n",
        "    ),\n",
        "    neighborhood=Dropdown(options=sorted(X_train[\"neighborhood\"].unique())),\n",
        ");"
      ],
      "metadata": {
        "colab": {
          "base_uri": "https://localhost:8080/",
          "height": 163,
          "referenced_widgets": [
            "051f31efeb864d61893c9a3eaa3429ad",
            "813089ce858e4e63851e26e464180e80",
            "28a05ef412fb44c39a7cdb604fd86e34",
            "be30b5a992a14197a2fcd39c76048f25",
            "43ad6fac90064bea973e09459df9d9ce",
            "fc49b9adb47a488c985651be47c0932b",
            "507ee9c5103e4f4d8139b8667fda9d57",
            "e6725ebe0c8547a2ae75cf60a50ec7af",
            "58f17bf9d9f1414c973846f03d00a0d3",
            "1204c59bc7f145ea934b11cb6e244a66",
            "bd0edff8869346acac7f0e706f889db5",
            "b1afa9c2df154b6b84efaa2e1a05992c",
            "867ca05fe9124a3c981fcb9a093915a4",
            "1535e6c3bb8d4006841915b74a360a08",
            "c39fab1706a94445b7f50f8dcf2b985d",
            "fcc52a275b854005bcdc083331444a45"
          ]
        },
        "id": "tdEHAp7H7dou",
        "outputId": "42d5d2ac-0d8e-4c5b-eb29-22c0e3bd9569"
      },
      "execution_count": 134,
      "outputs": [
        {
          "output_type": "display_data",
          "data": {
            "text/plain": [
              "interactive(children=(IntSlider(value=53, description='area', max=101, min=30), FloatSlider(value=-34.59890626…"
            ],
            "application/vnd.jupyter.widget-view+json": {
              "version_major": 2,
              "version_minor": 0,
              "model_id": "051f31efeb864d61893c9a3eaa3429ad"
            }
          },
          "metadata": {}
        }
      ]
    }
  ]
}